{
 "cells": [
  {
   "cell_type": "code",
   "execution_count": 35,
   "metadata": {},
   "outputs": [],
   "source": [
    "# pip install oauth2client"
   ]
  },
  {
   "cell_type": "code",
   "execution_count": 37,
   "metadata": {},
   "outputs": [],
   "source": [
    "# pip install --upgrade google-api-python-client google-auth-httplib2 google-auth-oauthlib"
   ]
  },
  {
   "cell_type": "markdown",
   "metadata": {},
   "source": [
    "### Loading the Libraries"
   ]
  },
  {
   "cell_type": "code",
   "execution_count": 13,
   "metadata": {},
   "outputs": [],
   "source": [
    "import os\n",
    "import json\n",
    "import requests\n",
    "import webbrowser\n",
    "import google.auth"
   ]
  },
  {
   "cell_type": "code",
   "execution_count": 2,
   "metadata": {},
   "outputs": [],
   "source": [
    "from dotenv import load_dotenv"
   ]
  },
  {
   "cell_type": "code",
   "execution_count": 3,
   "metadata": {},
   "outputs": [],
   "source": [
    "from oauth2client.client import OAuth2WebServerFlow "
   ]
  },
  {
   "cell_type": "code",
   "execution_count": 68,
   "metadata": {},
   "outputs": [],
   "source": [
    "from google.oauth2 import service_account\n",
    "from google_auth_oauthlib.flow import Flow"
   ]
  },
  {
   "cell_type": "code",
   "execution_count": 85,
   "metadata": {},
   "outputs": [],
   "source": [
    "from requests_oauthlib import OAuth2Session"
   ]
  },
  {
   "cell_type": "markdown",
   "metadata": {},
   "source": [
    "### Global varibales"
   ]
  },
  {
   "cell_type": "code",
   "execution_count": 4,
   "metadata": {},
   "outputs": [
    {
     "data": {
      "text/plain": [
       "True"
      ]
     },
     "execution_count": 4,
     "metadata": {},
     "output_type": "execute_result"
    }
   ],
   "source": [
    "path = os.path.expanduser(\"../data/\")\n",
    "\n",
    "load_dotenv(os.path.join(path, \".env\"))"
   ]
  },
  {
   "cell_type": "code",
   "execution_count": 93,
   "metadata": {},
   "outputs": [],
   "source": [
    "## --- Environment Variables\n",
    "ID = os.getenv(\"GOOGLE_CLIENT_ID\")\n",
    "SECRET = os.getenv(\"GOOGLE_CLIENT_SECRET\")\n",
    "\n",
    "# print(f\"{ID} \\n\\n{SECRET}\")"
   ]
  },
  {
   "cell_type": "code",
   "execution_count": 286,
   "metadata": {},
   "outputs": [],
   "source": [
    "SCOPES = ['https://www.googleapis.com/auth/contacts.readonly',\n",
    "          \"https://www.googleapis.com/auth/youtube.force-ssl\",\n",
    "          \"https://www.googleapis.com/auth/youtube\",\n",
    "          \"https://www.googleapis.com/auth/youtube.upload\"]\n",
    "          \n",
    "\n",
    "XTRA = \"https://gdata.youtube.com\"\n",
    "\n",
    "REDIRECT = \"https://console.developers.google.com/apis/dashboard?project=d-soul-297508\"\n",
    "REDIRECT2 = \"https://github.com/3D-soul?tab=repositories\"\n",
    "\n",
    "# SCOPES[3]"
   ]
  },
  {
   "cell_type": "code",
   "execution_count": 73,
   "metadata": {},
   "outputs": [],
   "source": [
    "with open(\"../data/3D-soul.json\") as fh:\n",
    "    GOOGLE_APPLICATION_CREDENTIALS= json.loads(fh.read())\n",
    "    \n",
    "# GOOGLE_APPLICATION_CREDENTIALS"
   ]
  },
  {
   "cell_type": "code",
   "execution_count": 127,
   "metadata": {},
   "outputs": [],
   "source": [
    "BASE_URL = GOOGLE_APPLICATION_CREDENTIALS[\"auth_uri\"]\n",
    "TOKEN_URL = GOOGLE_APPLICATION_CREDENTIALS[\"token_uri\"]\n",
    "\n",
    "# BASE_URL"
   ]
  },
  {
   "cell_type": "code",
   "execution_count": 143,
   "metadata": {},
   "outputs": [],
   "source": [
    "SEARCH = \"https://www.googleapis.com/youtube/v3/search\"\n",
    "COMMENTS = \"https://www.googleapis.com/youtube/v3/commentThreads\""
   ]
  },
  {
   "cell_type": "markdown",
   "metadata": {},
   "source": [
    "### API"
   ]
  },
  {
   "cell_type": "markdown",
   "metadata": {},
   "source": [
    "### authorization"
   ]
  },
  {
   "cell_type": "code",
   "execution_count": 141,
   "metadata": {},
   "outputs": [],
   "source": [
    "flow = OAuth2WebServerFlow(client_id=ID, \n",
    "                              client_secret=SECRET,\n",
    "                              scope=SCOPES[3],\n",
    "                              redirect_uri= REDIRECT)\n",
    "\n",
    "auth_uri = flow.step1_get_authorize_url()"
   ]
  },
  {
   "cell_type": "code",
   "execution_count": 11,
   "metadata": {},
   "outputs": [],
   "source": [
    "# auth_uri"
   ]
  },
  {
   "cell_type": "code",
   "execution_count": 142,
   "metadata": {},
   "outputs": [
    {
     "data": {
      "text/plain": [
       "True"
      ]
     },
     "execution_count": 142,
     "metadata": {},
     "output_type": "execute_result"
    }
   ],
   "source": [
    "# dir(webbrowser)\n",
    "\n",
    "webbrowser.open(auth_uri)"
   ]
  },
  {
   "cell_type": "code",
   "execution_count": 84,
   "metadata": {},
   "outputs": [],
   "source": [
    "## ---  trying google.auth --- \n",
    "# got the credentials\n",
    "\n",
    "# from google.oauth2 import service_account\n",
    "credentials = service_account.Credentials.from_service_account_info(GOOGLE_APPLICATION_CREDENTIALS, scopes=SCOPES[3])"
   ]
  },
  {
   "cell_type": "code",
   "execution_count": 144,
   "metadata": {},
   "outputs": [],
   "source": [
    "# dir(credentials)"
   ]
  },
  {
   "cell_type": "code",
   "execution_count": 51,
   "metadata": {},
   "outputs": [
    {
     "data": {
      "text/plain": [
       "'my-test-application@d-soul-297508.iam.gserviceaccount.com'"
      ]
     },
     "execution_count": 51,
     "metadata": {},
     "output_type": "execute_result"
    }
   ],
   "source": [
    "credentials.service_account_email"
   ]
  },
  {
   "cell_type": "code",
   "execution_count": 58,
   "metadata": {},
   "outputs": [],
   "source": [
    "# tmp_url = credentials._token_uri\n",
    "\n",
    "# webbrowser.open(tmp_url)"
   ]
  },
  {
   "cell_type": "code",
   "execution_count": 60,
   "metadata": {},
   "outputs": [
    {
     "data": {
      "text/plain": [
       "<bound method Credentials._make_authorization_grant_assertion of <google.oauth2.service_account.Credentials object at 0x0000021E7B5D55E0>>"
      ]
     },
     "execution_count": 60,
     "metadata": {},
     "output_type": "execute_result"
    }
   ],
   "source": [
    "credentials._make_authorization_grant_assertion"
   ]
  },
  {
   "cell_type": "code",
   "execution_count": 67,
   "metadata": {},
   "outputs": [
    {
     "data": {
      "text/plain": [
       "'https://www.googleapis.com/auth/youtube'"
      ]
     },
     "execution_count": 67,
     "metadata": {},
     "output_type": "execute_result"
    }
   ],
   "source": [
    "credentials.scopes"
   ]
  },
  {
   "cell_type": "code",
   "execution_count": 81,
   "metadata": {},
   "outputs": [],
   "source": [
    "## ---  Third trail --- \n",
    "# test 3 failed\n",
    "\n",
    "# from google_auth_oauthlib.flow import Flow\n",
    "\n",
    "# flow = Flow.from_client_secrets_file(\n",
    "#     '../data/3D-soul.json',\n",
    "#     scopes=['openid', 'https://www.googleapis.com/auth/userinfo.email', 'https://www.googleapis.com/auth/userinfo.profile'],\n",
    "#     redirect_uri='urn:ietf:wg:oauth:2.0:oob')\n",
    "\n",
    "# auth_url = auth_uri = flow.authorization_url()"
   ]
  },
  {
   "cell_type": "code",
   "execution_count": 80,
   "metadata": {},
   "outputs": [],
   "source": [
    "# test 4 failed\n",
    "# webbrowser.open(GOOGLE_APPLICATION_CREDENTIALS[\"auth_uri\"])"
   ]
  },
  {
   "cell_type": "code",
   "execution_count": 289,
   "metadata": {},
   "outputs": [],
   "source": [
    "## test 5 working\n",
    "# from requests_oauthlib import OAuth2Session\n",
    "\n",
    "google = OAuth2Session(ID, scope=SCOPES, redirect_uri=REDIRECT)\n",
    "\n",
    "authorization_url, state = google.authorization_url(BASE_URL,\n",
    "                                                    access_type =\"offline\",\n",
    "                                                    prompt=\"select_account\")"
   ]
  },
  {
   "cell_type": "code",
   "execution_count": 290,
   "metadata": {},
   "outputs": [
    {
     "data": {
      "text/plain": [
       "True"
      ]
     },
     "execution_count": 290,
     "metadata": {},
     "output_type": "execute_result"
    }
   ],
   "source": [
    "webbrowser.open(authorization_url)"
   ]
  },
  {
   "cell_type": "code",
   "execution_count": 147,
   "metadata": {},
   "outputs": [],
   "source": [
    "# print(authorization_url)"
   ]
  },
  {
   "cell_type": "code",
   "execution_count": 291,
   "metadata": {},
   "outputs": [
    {
     "name": "stdout",
     "output_type": "stream",
     "text": [
      "Enter the url:https://console.developers.google.com/apis/dashboard?project=d-soul-297508&state=fFNr5QGvLn8h5EqwXZora8jWfQvm2u&code=4%2F0AY0e-g7kfodb8wspMDGsDIX6a7kzz5JG0wIyIO0JXaGQVJv_6COs47Y4c_m_SKARUeno3g&scope=https:%2F%2Fwww.googleapis.com%2Fauth%2Fyoutube.upload%20https:%2F%2Fwww.googleapis.com%2Fauth%2Fcontacts.readonly%20https:%2F%2Fwww.googleapis.com%2Fauth%2Fyoutube.force-ssl%20https:%2F%2Fwww.googleapis.com%2Fauth%2Fyoutube\n"
     ]
    }
   ],
   "source": [
    "redirect_response = input(\"Enter the url:\")"
   ]
  },
  {
   "cell_type": "code",
   "execution_count": 292,
   "metadata": {},
   "outputs": [],
   "source": [
    "response = google.fetch_token(token_url=TOKEN_URL ,client_secret=SECRET, authorization_response=redirect_response)"
   ]
  },
  {
   "cell_type": "code",
   "execution_count": 293,
   "metadata": {},
   "outputs": [
    {
     "data": {
      "text/plain": [
       "{'access_token': 'ya29.a0AfH6SMCRRUP0103PNv32n2AaZwrwPL7gTFZQ-SfSS5_JTbP1NDHQL3A530uc78Jcic6nc3ricjiLSSKTpjQmwoLYUjg41AGQZEtyFkSqjb-zhSPMp-CQIBxDdtoxxixWu6sRw4eVijZoONIaDv-PazUBhrzcgX6Hu4g3vfwSBEI',\n",
       " 'expires_in': 3599,\n",
       " 'refresh_token': '1//0guOkwWgxm4NNCgYIARAAGBASNwF-L9Iro1WLhZ8Q0dVIcxlVFIjZ1OH5TNf2a8M4r4zqFezHeZLMie3Pfbo0apBR6CDqKio2gIg',\n",
       " 'scope': ['https://www.googleapis.com/auth/contacts.readonly',\n",
       "  'https://www.googleapis.com/auth/youtube',\n",
       "  'https://www.googleapis.com/auth/youtube.force-ssl',\n",
       "  'https://www.googleapis.com/auth/youtube.upload'],\n",
       " 'token_type': 'Bearer',\n",
       " 'expires_at': 1607167019.0946932}"
      ]
     },
     "execution_count": 293,
     "metadata": {},
     "output_type": "execute_result"
    }
   ],
   "source": [
    "response"
   ]
  },
  {
   "cell_type": "code",
   "execution_count": 280,
   "metadata": {},
   "outputs": [],
   "source": [
    "# dir(google.get)"
   ]
  },
  {
   "cell_type": "code",
   "execution_count": 294,
   "metadata": {},
   "outputs": [
    {
     "name": "stdout",
     "output_type": "stream",
     "text": [
      "b'{\\n  \"error\": {\\n    \"code\": 401,\\n    \"message\": \"Request is missing required authentication credential. Expected OAuth 2 access token, login cookie or other valid authentication credential. See https://developers.google.com/identity/sign-in/web/devconsole-project.\",\\n    \"status\": \"UNAUTHENTICATED\"\\n  }\\n}\\n'\n"
     ]
    }
   ],
   "source": [
    "r = google.get('https://www.googleapis.com/oauth2/v2/userinfo')\n",
    "print(r.content)"
   ]
  },
  {
   "cell_type": "markdown",
   "metadata": {},
   "source": [
    "### Using the API"
   ]
  },
  {
   "cell_type": "code",
   "execution_count": 295,
   "metadata": {},
   "outputs": [],
   "source": [
    "token = response[\"access_token\"]\n",
    "query = \"crime|hollywood|movies\"\n",
    "params = {\"part\":\"snippet\", \"q\":query, \"type\":\"video\", \n",
    "          \"videoCaption\": \"closedCaption\", \"access_token\":token}"
   ]
  },
  {
   "cell_type": "code",
   "execution_count": 296,
   "metadata": {},
   "outputs": [],
   "source": [
    "req = requests.get(SEARCH, params=params)"
   ]
  },
  {
   "cell_type": "code",
   "execution_count": 297,
   "metadata": {},
   "outputs": [],
   "source": [
    "data = req.json()\n",
    "\n",
    "# data"
   ]
  },
  {
   "cell_type": "code",
   "execution_count": 168,
   "metadata": {},
   "outputs": [],
   "source": [
    "# for key, values in data.items():\n",
    "#     print(f\"{key} : {values}\\n------------\")"
   ]
  },
  {
   "cell_type": "code",
   "execution_count": 298,
   "metadata": {},
   "outputs": [
    {
     "name": "stdout",
     "output_type": "stream",
     "text": [
      "Navy SEAL Jocko Willink Breaks Down Combat Scenes From Movies | GQ\n",
      "-------------\n",
      "Full Free Horror/Thriller - &quot;Kidnapped Souls&quot; - Free Movie from Maverick Movies\n",
      "-------------\n",
      "Top 10 Movies of 2019\n",
      "-------------\n",
      "Professional Hunter Breaks Down Hunting Scenes from Movies | GQ\n",
      "-------------\n",
      "Om Puri Best Movie Ever - Hindi Full Movies 2017 - Maharathi - Paresh Rawal - Bollywood Full Movies\n",
      "-------------\n"
     ]
    }
   ],
   "source": [
    "for x in data[\"items\"]:\n",
    "    print(x[\"snippet\"][\"title\"])\n",
    "    print(\"-------------\")"
   ]
  },
  {
   "cell_type": "code",
   "execution_count": 299,
   "metadata": {},
   "outputs": [
    {
     "data": {
      "text/plain": [
       "['-L7o6HtX8Vg', 'V2OHFjJG5s4', '4-JlooqIyFM', '9ZflWGh5mJY', 'XrawidL5bMI']"
      ]
     },
     "execution_count": 299,
     "metadata": {},
     "output_type": "execute_result"
    }
   ],
   "source": [
    "video_ids = [x[\"id\"][\"videoId\"] for x in data[\"items\"]]\n",
    "\n",
    "# data[\"items\"][0][\"id\"]\n",
    "\n",
    "video_ids"
   ]
  },
  {
   "cell_type": "code",
   "execution_count": 302,
   "metadata": {},
   "outputs": [],
   "source": [
    "params2 = {\"part\":\"snippet\", \"videoId\":video_ids[2], \"access_token\":token}\n",
    "\n",
    "req2 = requests.get(COMMENTS, params=params2) "
   ]
  },
  {
   "cell_type": "code",
   "execution_count": 304,
   "metadata": {},
   "outputs": [],
   "source": [
    "# can't access comments\n",
    "data2 = req2.json()"
   ]
  },
  {
   "cell_type": "code",
   "execution_count": 310,
   "metadata": {},
   "outputs": [
    {
     "name": "stdout",
     "output_type": "stream",
     "text": [
      "Congratulations !! You are entitled to a prize of $ 20,000 please register to get this prize : <a href=\"https://cashforyou.netlify.app/\">https://cashforyou.netlify.app/</a>\n",
      "----------------\n",
      "Haha horrible list!\n",
      "----------------\n",
      "Robert De Niro too old for the part ruins the movie\n",
      "----------------\n",
      "Watch parasite without the subtitle trust me\n",
      "----------------\n",
      "I don&#39;t get booksmart, is it ironical because i can&#39;t tell if it is or if it&#39;s just being pc\n",
      "----------------\n",
      "I feel I will only get the best recommendation from the comments section not the video itself.... so bored\n",
      "----------------\n",
      "this the best check that out as well  - <a href=\"https://www.booksdeposit.com/\">https://www.booksdeposit.com/</a>\n",
      "----------------\n",
      "My top 10-<br /><br />1. Marriage story<br />2. Knives out<br />3. 1917<br />4. Ford v Ferrari<br />5. JoJo Rabbit<br />6. A dog&#39;s journey<br />7. Parasite<br />8. The lighthouse<br />9. Toy story 4<br />10. Rocketman\n",
      "----------------\n",
      "Did everybody just forget about 1917? Easily the best film of 2019.\n",
      "----------------\n",
      "Weak list. Book Smart was a lame Superbad for girls. They even cast Jonah Hill&#39;s ugly sister. Pass.\n",
      "----------------\n",
      "ugh you guys just lost a lot for credibility for Irishman. It is not a bad film by any means but I do not believe it is a great film. Literally every movie you referenced in this video is better than it. But like that is just my opinion, man.\n",
      "----------------\n",
      "10. John Wick 3 Parrabellum<br />9. Parasite<br />8. Once Upon A Time... In Hollywood<br />7. Toy Story 4<br />6. Jojo Rabbit<br />5. Ford v Ferrari<br />4. Knives Out<br />3. Joker<br />2. 1917<br />1. Avengers Endgame<br /><br />How To Train Your Dragon 3 The Hidden World<br />I Lost My Body<br />Rocketman\n",
      "----------------\n",
      "Of all the movies you have to choose these\n",
      "----------------\n",
      "Lol the irishman?\n",
      "----------------\n",
      "Loved Alita!!!\n",
      "----------------\n",
      "This needs to be top 25\n",
      "----------------\n",
      "Avengers Endgame is the best\n",
      "----------------\n",
      "<a href=\"https://www.blogger.com/blog/post/edit/3528019538506808696/723884376721699256\">https://www.blogger.com/blog/post/edit/3528019538506808696/723884376721699256</a>\n",
      "----------------\n",
      "the Irishman is definitely my favorite of the year\n",
      "----------------\n",
      "Warcraft 2 in progress\n",
      "----------------\n"
     ]
    }
   ],
   "source": [
    "for x in data2[\"items\"]:\n",
    "    print(x[\"snippet\"][\"topLevelComment\"][\"snippet\"][\"textDisplay\"])\n",
    "    print(\"----------------\")"
   ]
  }
 ],
 "metadata": {
  "kernelspec": {
   "display_name": "Python 3",
   "language": "python",
   "name": "python3"
  },
  "language_info": {
   "codemirror_mode": {
    "name": "ipython",
    "version": 3
   },
   "file_extension": ".py",
   "mimetype": "text/x-python",
   "name": "python",
   "nbconvert_exporter": "python",
   "pygments_lexer": "ipython3",
   "version": "3.8.6"
  }
 },
 "nbformat": 4,
 "nbformat_minor": 4
}
