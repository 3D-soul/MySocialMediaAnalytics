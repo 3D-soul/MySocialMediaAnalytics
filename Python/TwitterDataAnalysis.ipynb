{
 "cells": [
  {
   "cell_type": "markdown",
   "metadata": {},
   "source": [
    "### Loading the Libraries"
   ]
  },
  {
   "cell_type": "code",
   "execution_count": 22,
   "metadata": {},
   "outputs": [],
   "source": [
    "import os\n",
    "import json\n",
    "import requests\n",
    "import urllib\n",
    "import webbrowser"
   ]
  },
  {
   "cell_type": "code",
   "execution_count": 17,
   "metadata": {},
   "outputs": [],
   "source": [
    "import string"
   ]
  },
  {
   "cell_type": "code",
   "execution_count": 1,
   "metadata": {},
   "outputs": [],
   "source": [
    "import warnings\n",
    "\n",
    "warnings.filterwarnings('ignore')\n",
    "warnings.simplefilter('ignore')"
   ]
  },
  {
   "cell_type": "code",
   "execution_count": 2,
   "metadata": {},
   "outputs": [],
   "source": [
    "import tweepy"
   ]
  },
  {
   "cell_type": "code",
   "execution_count": 9,
   "metadata": {},
   "outputs": [],
   "source": [
    "import pandas as pd"
   ]
  },
  {
   "cell_type": "code",
   "execution_count": 111,
   "metadata": {},
   "outputs": [],
   "source": [
    "import matplotlib.pyplot as plt"
   ]
  },
  {
   "cell_type": "code",
   "execution_count": 3,
   "metadata": {},
   "outputs": [],
   "source": [
    "from requests_oauthlib import OAuth1\n",
    "from dotenv import load_dotenv, find_dotenv"
   ]
  },
  {
   "cell_type": "code",
   "execution_count": 1,
   "metadata": {},
   "outputs": [],
   "source": [
    "from pymongo import MongoClient"
   ]
  },
  {
   "cell_type": "code",
   "execution_count": 13,
   "metadata": {},
   "outputs": [],
   "source": [
    "from bs4 import BeautifulSoup as bs"
   ]
  },
  {
   "cell_type": "code",
   "execution_count": 48,
   "metadata": {},
   "outputs": [],
   "source": [
    "from nltk.tokenize import TweetTokenizer\n",
    "\n",
    "from nltk.corpus import stopwords"
   ]
  },
  {
   "cell_type": "code",
   "execution_count": 2,
   "metadata": {},
   "outputs": [],
   "source": [
    "from nltk.sentiment.vader import SentimentIntensityAnalyzer"
   ]
  },
  {
   "cell_type": "code",
   "execution_count": 2,
   "metadata": {},
   "outputs": [],
   "source": [
    "from nltk.tag import StanfordNERTagger"
   ]
  },
  {
   "cell_type": "code",
   "execution_count": 3,
   "metadata": {},
   "outputs": [],
   "source": [
    "from sklearn.feature_extraction.text import TfidfVectorizer\n",
    "from sklearn.naive_bayes import MultinomialNB"
   ]
  },
  {
   "cell_type": "code",
   "execution_count": 4,
   "metadata": {},
   "outputs": [],
   "source": [
    "from sklearn.metrics import classification_report, confusion_matrix, accuracy_score\n",
    "from sklearn.model_selection import cross_val_predict"
   ]
  },
  {
   "cell_type": "markdown",
   "metadata": {},
   "source": [
    "## Functions"
   ]
  },
  {
   "cell_type": "code",
   "execution_count": 13,
   "metadata": {},
   "outputs": [],
   "source": [
    "# string of list of strings to list and then join it\n",
    "def str_lst(sent):\n",
    "    return \"\".join([x for x in list(sent) if x not in string.punctuation])"
   ]
  },
  {
   "cell_type": "markdown",
   "metadata": {},
   "source": [
    "### Global Variables"
   ]
  },
  {
   "cell_type": "code",
   "execution_count": 23,
   "metadata": {},
   "outputs": [],
   "source": [
    "## Setting the path to java.exe for nltk\n",
    "java_path = \"F:/java/java/bin/java.exe\"\n",
    "class_path = #get the models jar file path here form https://stanfordnlp.github.io/CoreNLP/\n",
    "    \n",
    "os.environ['JAVAHOME'] = java_path\n",
    "os.environ[\"CLASSPATH\"] = class_path"
   ]
  },
  {
   "cell_type": "code",
   "execution_count": 5,
   "metadata": {},
   "outputs": [
    {
     "data": {
      "text/plain": [
       "True"
      ]
     },
     "execution_count": 5,
     "metadata": {},
     "output_type": "execute_result"
    }
   ],
   "source": [
    "folder_path = os.path.expanduser('../data/')  \n",
    "load_dotenv(os.path.join(folder_path, '.env'))"
   ]
  },
  {
   "cell_type": "code",
   "execution_count": 6,
   "metadata": {},
   "outputs": [],
   "source": [
    "consumer_key = os.environ.get(\"TWITTER_API_KEY\")\n",
    "consumer_secret = os.environ.get(\"TWITTER_API_SECRET\")"
   ]
  },
  {
   "cell_type": "code",
   "execution_count": 7,
   "metadata": {},
   "outputs": [],
   "source": [
    "callback_URL = \"oob\""
   ]
  },
  {
   "cell_type": "markdown",
   "metadata": {},
   "source": [
    "## Getting Data"
   ]
  },
  {
   "cell_type": "code",
   "execution_count": null,
   "metadata": {},
   "outputs": [],
   "source": [
    "## Variables\n",
    "# url's\n",
    "url = \"https://api.Twitter.com/1.1/search/tweets.json\"\n",
    "\n",
    "# parameters\n",
    "qry = \"premier league -filter:retweets AND -filter:replies\"\n",
    "pms = {\"q\" : qry, \"count\" : 100, \"lang\" : \"en\", \n",
    "       \"result_type\": \"recent\"}"
   ]
  },
  {
   "cell_type": "code",
   "execution_count": 8,
   "metadata": {},
   "outputs": [],
   "source": [
    "## ----- AUTHORIZATION -----\n",
    "\n",
    "oauth = tweepy.OAuthHandler(consumer_key, consumer_secret, callback_URL)\n",
    "\n",
    "redirect_URL = auth.get_authorization_url()"
   ]
  },
  {
   "cell_type": "code",
   "execution_count": 9,
   "metadata": {},
   "outputs": [
    {
     "data": {
      "text/plain": [
       "True"
      ]
     },
     "execution_count": 9,
     "metadata": {},
     "output_type": "execute_result"
    }
   ],
   "source": [
    "webbrowser.open(redirect_URL)"
   ]
  },
  {
   "cell_type": "code",
   "execution_count": 10,
   "metadata": {},
   "outputs": [
    {
     "name": "stdout",
     "output_type": "stream",
     "text": [
      "Enter the PIN :7773699\n"
     ]
    }
   ],
   "source": [
    "PIN = input(\"Enter the PIN :\")"
   ]
  },
  {
   "cell_type": "code",
   "execution_count": 11,
   "metadata": {},
   "outputs": [],
   "source": [
    "access_token, access_secret = auth.get_access_token(PIN)"
   ]
  },
  {
   "cell_type": "code",
   "execution_count": 13,
   "metadata": {},
   "outputs": [],
   "source": [
    "## --- REST API ---\n",
    "# getting data \n",
    "auth = OAuth1(consumer_key, consumer_secret, access_token, access_secret)\n",
    "\n",
    "res = requests.get(url, params = pms, auth=auth)"
   ]
  },
  {
   "cell_type": "code",
   "execution_count": 15,
   "metadata": {},
   "outputs": [],
   "source": [
    "tweets = res.json()"
   ]
  },
  {
   "cell_type": "code",
   "execution_count": 20,
   "metadata": {},
   "outputs": [],
   "source": [
    "# tweets[\"statuses\"][5]\n",
    "# tweets.keys()\n",
    "\n",
    "# for status in tweets[\"statuses\"]:\n",
    "#     print(status[\"text\"])\n",
    "#     print(\"--------------------------------\")"
   ]
  },
  {
   "cell_type": "code",
   "execution_count": 3,
   "metadata": {},
   "outputs": [],
   "source": [
    "## --- Connecting to  Mongo db ---\n",
    "client = MongoClient(\"mongodb://127.0.0.1:27017/\")"
   ]
  },
  {
   "cell_type": "code",
   "execution_count": 4,
   "metadata": {},
   "outputs": [],
   "source": [
    "db = client[\"Tweets\"]\n",
    "collection = db[\"saved\"]"
   ]
  },
  {
   "cell_type": "code",
   "execution_count": 25,
   "metadata": {},
   "outputs": [
    {
     "name": "stdout",
     "output_type": "stream",
     "text": [
      "Connection status : OK\n",
      "Connection status : OK\n",
      "Connection status : OK\n",
      "Connection status : OK\n",
      "Connection status : OK\n",
      "Connection status : OK\n",
      "Connection status : OK\n",
      "Connection status : OK\n",
      "Connection status : OK\n",
      "Connection status : OK\n",
      "Connection status : OK\n",
      "Connection status : OK\n",
      "Connection status : OK\n",
      "Connection status : OK\n",
      "Connection status : OK\n",
      "Connection status : OK\n",
      "Connection status : OK\n",
      "Connection status : OK\n",
      "Connection status : OK\n",
      "Connection status : OK\n",
      "Connection status : OK\n",
      "Connection status : OK\n",
      "Connection status : OK\n",
      "Connection status : OK\n",
      "Connection status : OK\n",
      "Connection status : OK\n",
      "Connection status : OK\n",
      "Connection status : OK\n",
      "Connection status : OK\n",
      "Connection status : OK\n",
      "Connection status : OK\n",
      "Connection status : OK\n",
      "Connection status : OK\n",
      "Connection status : OK\n",
      "Connection status : OK\n",
      "Connection status : OK\n",
      "Connection status : OK\n",
      "Connection status : OK\n",
      "Connection status : OK\n",
      "Connection status : OK\n",
      "Connection status : OK\n",
      "Connection status : OK\n",
      "Connection status : OK\n",
      "Connection status : OK\n",
      "Connection status : OK\n",
      "Connection status : OK\n",
      "Connection status : OK\n",
      "Connection status : OK\n",
      "Connection status : OK\n",
      "Connection status : OK\n",
      "Connection status : OK\n",
      "Connection status : OK\n",
      "Connection status : OK\n",
      "Connection status : OK\n",
      "Connection status : OK\n",
      "Connection status : OK\n",
      "Connection status : OK\n",
      "Connection status : OK\n",
      "Connection status : OK\n",
      "Connection status : OK\n",
      "Connection status : OK\n",
      "Connection status : OK\n",
      "Connection status : OK\n",
      "Connection status : OK\n",
      "Connection status : OK\n",
      "Connection status : OK\n",
      "Connection status : OK\n",
      "Connection status : OK\n",
      "Connection status : OK\n",
      "Connection status : OK\n",
      "Connection status : OK\n",
      "Connection status : OK\n",
      "Connection status : OK\n",
      "Connection status : OK\n",
      "Connection status : OK\n",
      "Connection status : OK\n",
      "Connection status : OK\n",
      "Connection status : OK\n",
      "Connection status : OK\n",
      "Connection status : OK\n",
      "Connection status : OK\n",
      "Connection status : OK\n",
      "Connection status : OK\n",
      "Connection status : OK\n",
      "Connection status : OK\n",
      "Connection status : OK\n",
      "Connection status : OK\n",
      "Connection status : OK\n",
      "Connection status : OK\n",
      "Connection status : OK\n",
      "Connection status : OK\n",
      "Connection status : OK\n",
      "Connection status : OK\n",
      "Connection status : OK\n",
      "Connection status : OK\n",
      "Connection status : OK\n",
      "Connection status : OK\n",
      "Connection status : OK\n",
      "Connection status : OK\n",
      "Connection status : OK\n"
     ]
    }
   ],
   "source": [
    "## --- Paginating Twitter API ---\n",
    "pages_counter = 0\n",
    "no_of_pages = 100\n",
    "\n",
    "while pages_counter < no_of_pages:\n",
    "    pages_counter +=1\n",
    "    res = requests.get(url, params=pms, auth=auth)\n",
    "    print(f\"Connection status : {res.reason}\")\n",
    "    tweets = res.json()\n",
    "    ids = [status[\"id\"] for status in tweets[\"statuses\"]]\n",
    "    pms[\"max_id\"] = min(ids) - 1\n",
    "    collection.insert_many(tweets[\"statuses\"])"
   ]
  },
  {
   "cell_type": "markdown",
   "metadata": {},
   "source": [
    "##  Cleaning data"
   ]
  },
  {
   "cell_type": "code",
   "execution_count": 7,
   "metadata": {},
   "outputs": [],
   "source": [
    "## Converting tweets data to Pandas DataFrame\n",
    "docs = []\n",
    "\n",
    "for doc in collection.find():\n",
    "    docs.append(doc)\n",
    "    \n",
    "df = pd.DataFrame(docs)"
   ]
  },
  {
   "cell_type": "code",
   "execution_count": 14,
   "metadata": {},
   "outputs": [],
   "source": [
    "# df.head()\n",
    "# df.source"
   ]
  },
  {
   "cell_type": "code",
   "execution_count": 15,
   "metadata": {},
   "outputs": [],
   "source": [
    "## Cleaning the source from html to human readable text\n",
    "df[\"tweet_source\"] = df['source'].apply(lambda x:bs(x).get_text())"
   ]
  },
  {
   "cell_type": "code",
   "execution_count": 19,
   "metadata": {},
   "outputs": [],
   "source": [
    "# df.tweet_source"
   ]
  },
  {
   "cell_type": "code",
   "execution_count": 21,
   "metadata": {},
   "outputs": [
    {
     "data": {
      "text/plain": [
       "['Twitter for Yids',\n",
       " 'Twitter Media Studio - LiveCut',\n",
       " 'Twitter Media Studio',\n",
       " 'Twitter for Advertisers',\n",
       " 'TwitterRSSTSOLAgent',\n",
       " 'Twitter for iPad',\n",
       " 'Twitter for Muppets',\n",
       " 'Twitter for Mac',\n",
       " 'Twitter Web Client',\n",
       " 'Twitter for Android',\n",
       " 'Twitter for Advertisers (legacy)',\n",
       " 'Twitter for iPhone',\n",
       " 'Twitter Ads',\n",
       " 'Twitter Web App']"
      ]
     },
     "execution_count": 21,
     "metadata": {},
     "output_type": "execute_result"
    }
   ],
   "source": [
    "## getting all the devices \n",
    "devices = list(set(df[df[\"tweet_source\"].str.startswith(\"Twitter\")][\"tweet_source\"]))\n",
    "\n",
    "devices"
   ]
  },
  {
   "cell_type": "code",
   "execution_count": 26,
   "metadata": {},
   "outputs": [],
   "source": [
    "# devices.remove(\"Twitter for Advertisers\")\n",
    "\n",
    "# devices.remove(\"Twitter for Advertisers (legacy)\")"
   ]
  },
  {
   "cell_type": "code",
   "execution_count": 27,
   "metadata": {},
   "outputs": [
    {
     "data": {
      "text/plain": [
       "['Twitter for Yids',\n",
       " 'Twitter Media Studio - LiveCut',\n",
       " 'Twitter Media Studio',\n",
       " 'TwitterRSSTSOLAgent',\n",
       " 'Twitter for iPad',\n",
       " 'Twitter for Muppets',\n",
       " 'Twitter for Mac',\n",
       " 'Twitter Web Client',\n",
       " 'Twitter for Android',\n",
       " 'Twitter for iPhone',\n",
       " 'Twitter Ads',\n",
       " 'Twitter Web App']"
      ]
     },
     "execution_count": 27,
     "metadata": {},
     "output_type": "execute_result"
    }
   ],
   "source": [
    "devices"
   ]
  },
  {
   "cell_type": "code",
   "execution_count": 28,
   "metadata": {},
   "outputs": [
    {
     "data": {
      "text/html": [
       "<div>\n",
       "<style scoped>\n",
       "    .dataframe tbody tr th:only-of-type {\n",
       "        vertical-align: middle;\n",
       "    }\n",
       "\n",
       "    .dataframe tbody tr th {\n",
       "        vertical-align: top;\n",
       "    }\n",
       "\n",
       "    .dataframe thead th {\n",
       "        text-align: right;\n",
       "    }\n",
       "</style>\n",
       "<table border=\"1\" class=\"dataframe\">\n",
       "  <thead>\n",
       "    <tr style=\"text-align: right;\">\n",
       "      <th></th>\n",
       "      <th>_id</th>\n",
       "      <th>created_at</th>\n",
       "      <th>id</th>\n",
       "      <th>id_str</th>\n",
       "      <th>text</th>\n",
       "      <th>truncated</th>\n",
       "      <th>entities</th>\n",
       "      <th>metadata</th>\n",
       "      <th>source</th>\n",
       "      <th>in_reply_to_status_id</th>\n",
       "      <th>...</th>\n",
       "      <th>favorited</th>\n",
       "      <th>retweeted</th>\n",
       "      <th>possibly_sensitive</th>\n",
       "      <th>lang</th>\n",
       "      <th>extended_entities</th>\n",
       "      <th>quoted_status_id</th>\n",
       "      <th>quoted_status_id_str</th>\n",
       "      <th>quoted_status</th>\n",
       "      <th>withheld_in_countries</th>\n",
       "      <th>tweet_source</th>\n",
       "    </tr>\n",
       "  </thead>\n",
       "  <tbody>\n",
       "    <tr>\n",
       "      <th>0</th>\n",
       "      <td>5fd399c6cfd91d1e0c13b696</td>\n",
       "      <td>Fri Dec 11 16:09:39 +0000 2020</td>\n",
       "      <td>1337429349767712768</td>\n",
       "      <td>1337429349767712768</td>\n",
       "      <td>Alisson Becker &amp;amp; Alex Oxlade-Chamberlain H...</td>\n",
       "      <td>True</td>\n",
       "      <td>{'hashtags': [], 'symbols': [], 'user_mentions...</td>\n",
       "      <td>{'iso_language_code': 'en', 'result_type': 're...</td>\n",
       "      <td>&lt;a href=\"https://mobile.twitter.com\" rel=\"nofo...</td>\n",
       "      <td>None</td>\n",
       "      <td>...</td>\n",
       "      <td>False</td>\n",
       "      <td>False</td>\n",
       "      <td>False</td>\n",
       "      <td>en</td>\n",
       "      <td>NaN</td>\n",
       "      <td>NaN</td>\n",
       "      <td>NaN</td>\n",
       "      <td>NaN</td>\n",
       "      <td>NaN</td>\n",
       "      <td>Twitter Web App</td>\n",
       "    </tr>\n",
       "    <tr>\n",
       "      <th>1</th>\n",
       "      <td>5fd399c6cfd91d1e0c13b697</td>\n",
       "      <td>Fri Dec 11 16:09:38 +0000 2020</td>\n",
       "      <td>1337429344348762112</td>\n",
       "      <td>1337429344348762112</td>\n",
       "      <td>EPL TONIGHT \\n\\nLeeds and West Ham both hope t...</td>\n",
       "      <td>True</td>\n",
       "      <td>{'hashtags': [], 'symbols': [], 'user_mentions...</td>\n",
       "      <td>{'iso_language_code': 'en', 'result_type': 're...</td>\n",
       "      <td>&lt;a href=\"http://twitter.com/download/android\" ...</td>\n",
       "      <td>None</td>\n",
       "      <td>...</td>\n",
       "      <td>False</td>\n",
       "      <td>False</td>\n",
       "      <td>False</td>\n",
       "      <td>en</td>\n",
       "      <td>NaN</td>\n",
       "      <td>NaN</td>\n",
       "      <td>NaN</td>\n",
       "      <td>NaN</td>\n",
       "      <td>NaN</td>\n",
       "      <td>Twitter for Android</td>\n",
       "    </tr>\n",
       "    <tr>\n",
       "      <th>3</th>\n",
       "      <td>5fd399c6cfd91d1e0c13b699</td>\n",
       "      <td>Fri Dec 11 16:08:44 +0000 2020</td>\n",
       "      <td>1337429118821003266</td>\n",
       "      <td>1337429118821003266</td>\n",
       "      <td>Bruno Fernandes has won more Premier League PO...</td>\n",
       "      <td>True</td>\n",
       "      <td>{'hashtags': [], 'symbols': [], 'user_mentions...</td>\n",
       "      <td>{'iso_language_code': 'en', 'result_type': 're...</td>\n",
       "      <td>&lt;a href=\"http://twitter.com/download/iphone\" r...</td>\n",
       "      <td>None</td>\n",
       "      <td>...</td>\n",
       "      <td>False</td>\n",
       "      <td>False</td>\n",
       "      <td>False</td>\n",
       "      <td>en</td>\n",
       "      <td>NaN</td>\n",
       "      <td>NaN</td>\n",
       "      <td>NaN</td>\n",
       "      <td>NaN</td>\n",
       "      <td>NaN</td>\n",
       "      <td>Twitter for iPhone</td>\n",
       "    </tr>\n",
       "    <tr>\n",
       "      <th>4</th>\n",
       "      <td>5fd399c6cfd91d1e0c13b69a</td>\n",
       "      <td>Fri Dec 11 16:08:35 +0000 2020</td>\n",
       "      <td>1337429081038741507</td>\n",
       "      <td>1337429081038741507</td>\n",
       "      <td>I have seen a lot of negative comments on Mesl...</td>\n",
       "      <td>True</td>\n",
       "      <td>{'hashtags': [], 'symbols': [], 'user_mentions...</td>\n",
       "      <td>{'iso_language_code': 'en', 'result_type': 're...</td>\n",
       "      <td>&lt;a href=\"https://mobile.twitter.com\" rel=\"nofo...</td>\n",
       "      <td>None</td>\n",
       "      <td>...</td>\n",
       "      <td>False</td>\n",
       "      <td>False</td>\n",
       "      <td>NaN</td>\n",
       "      <td>en</td>\n",
       "      <td>NaN</td>\n",
       "      <td>NaN</td>\n",
       "      <td>NaN</td>\n",
       "      <td>NaN</td>\n",
       "      <td>NaN</td>\n",
       "      <td>Twitter Web App</td>\n",
       "    </tr>\n",
       "    <tr>\n",
       "      <th>6</th>\n",
       "      <td>5fd399c6cfd91d1e0c13b69c</td>\n",
       "      <td>Fri Dec 11 16:08:21 +0000 2020</td>\n",
       "      <td>1337429020258942976</td>\n",
       "      <td>1337429020258942976</td>\n",
       "      <td>Jose Mourinho is the Premier League manager of...</td>\n",
       "      <td>False</td>\n",
       "      <td>{'hashtags': [], 'symbols': [], 'user_mentions...</td>\n",
       "      <td>{'iso_language_code': 'en', 'result_type': 're...</td>\n",
       "      <td>&lt;a href=\"http://twitter.com/download/android\" ...</td>\n",
       "      <td>None</td>\n",
       "      <td>...</td>\n",
       "      <td>False</td>\n",
       "      <td>False</td>\n",
       "      <td>False</td>\n",
       "      <td>en</td>\n",
       "      <td>NaN</td>\n",
       "      <td>NaN</td>\n",
       "      <td>NaN</td>\n",
       "      <td>NaN</td>\n",
       "      <td>NaN</td>\n",
       "      <td>Twitter for Android</td>\n",
       "    </tr>\n",
       "  </tbody>\n",
       "</table>\n",
       "<p>5 rows × 32 columns</p>\n",
       "</div>"
      ],
      "text/plain": [
       "                        _id                      created_at  \\\n",
       "0  5fd399c6cfd91d1e0c13b696  Fri Dec 11 16:09:39 +0000 2020   \n",
       "1  5fd399c6cfd91d1e0c13b697  Fri Dec 11 16:09:38 +0000 2020   \n",
       "3  5fd399c6cfd91d1e0c13b699  Fri Dec 11 16:08:44 +0000 2020   \n",
       "4  5fd399c6cfd91d1e0c13b69a  Fri Dec 11 16:08:35 +0000 2020   \n",
       "6  5fd399c6cfd91d1e0c13b69c  Fri Dec 11 16:08:21 +0000 2020   \n",
       "\n",
       "                    id               id_str  \\\n",
       "0  1337429349767712768  1337429349767712768   \n",
       "1  1337429344348762112  1337429344348762112   \n",
       "3  1337429118821003266  1337429118821003266   \n",
       "4  1337429081038741507  1337429081038741507   \n",
       "6  1337429020258942976  1337429020258942976   \n",
       "\n",
       "                                                text  truncated  \\\n",
       "0  Alisson Becker &amp; Alex Oxlade-Chamberlain H...       True   \n",
       "1  EPL TONIGHT \\n\\nLeeds and West Ham both hope t...       True   \n",
       "3  Bruno Fernandes has won more Premier League PO...       True   \n",
       "4  I have seen a lot of negative comments on Mesl...       True   \n",
       "6  Jose Mourinho is the Premier League manager of...      False   \n",
       "\n",
       "                                            entities  \\\n",
       "0  {'hashtags': [], 'symbols': [], 'user_mentions...   \n",
       "1  {'hashtags': [], 'symbols': [], 'user_mentions...   \n",
       "3  {'hashtags': [], 'symbols': [], 'user_mentions...   \n",
       "4  {'hashtags': [], 'symbols': [], 'user_mentions...   \n",
       "6  {'hashtags': [], 'symbols': [], 'user_mentions...   \n",
       "\n",
       "                                            metadata  \\\n",
       "0  {'iso_language_code': 'en', 'result_type': 're...   \n",
       "1  {'iso_language_code': 'en', 'result_type': 're...   \n",
       "3  {'iso_language_code': 'en', 'result_type': 're...   \n",
       "4  {'iso_language_code': 'en', 'result_type': 're...   \n",
       "6  {'iso_language_code': 'en', 'result_type': 're...   \n",
       "\n",
       "                                              source in_reply_to_status_id  \\\n",
       "0  <a href=\"https://mobile.twitter.com\" rel=\"nofo...                  None   \n",
       "1  <a href=\"http://twitter.com/download/android\" ...                  None   \n",
       "3  <a href=\"http://twitter.com/download/iphone\" r...                  None   \n",
       "4  <a href=\"https://mobile.twitter.com\" rel=\"nofo...                  None   \n",
       "6  <a href=\"http://twitter.com/download/android\" ...                  None   \n",
       "\n",
       "   ... favorited retweeted possibly_sensitive lang extended_entities  \\\n",
       "0  ...     False     False              False   en               NaN   \n",
       "1  ...     False     False              False   en               NaN   \n",
       "3  ...     False     False              False   en               NaN   \n",
       "4  ...     False     False                NaN   en               NaN   \n",
       "6  ...     False     False              False   en               NaN   \n",
       "\n",
       "  quoted_status_id quoted_status_id_str quoted_status withheld_in_countries  \\\n",
       "0              NaN                  NaN           NaN                   NaN   \n",
       "1              NaN                  NaN           NaN                   NaN   \n",
       "3              NaN                  NaN           NaN                   NaN   \n",
       "4              NaN                  NaN           NaN                   NaN   \n",
       "6              NaN                  NaN           NaN                   NaN   \n",
       "\n",
       "          tweet_source  \n",
       "0      Twitter Web App  \n",
       "1  Twitter for Android  \n",
       "3   Twitter for iPhone  \n",
       "4      Twitter Web App  \n",
       "6  Twitter for Android  \n",
       "\n",
       "[5 rows x 32 columns]"
      ]
     },
     "execution_count": 28,
     "metadata": {},
     "output_type": "execute_result"
    }
   ],
   "source": [
    "df = df[df[\"tweet_source\"].isin(devices)]\n",
    "\n",
    "df.head()"
   ]
  },
  {
   "cell_type": "code",
   "execution_count": 23,
   "metadata": {},
   "outputs": [
    {
     "data": {
      "text/plain": [
       "(6506, 37)"
      ]
     },
     "execution_count": 23,
     "metadata": {},
     "output_type": "execute_result"
    }
   ],
   "source": [
    "df.shape"
   ]
  },
  {
   "cell_type": "code",
   "execution_count": 21,
   "metadata": {},
   "outputs": [],
   "source": [
    "## Gettign tweets of England \n",
    "tmp_str = \"Ghana|ghana|jamaica|Jamaica|Ladbrokes|India|Pakistan|Ghana Prmier League|Vijay|Predictipons|Eygptian Premier League|cricket|Kings|Carrabbean Premier League|@cricbuzz|Cricinfo\"\n",
    "\n",
    "df = df[~df.text.str.contains(tmp_str)]"
   ]
  },
  {
   "cell_type": "code",
   "execution_count": 24,
   "metadata": {},
   "outputs": [],
   "source": [
    "# df.shape"
   ]
  },
  {
   "cell_type": "code",
   "execution_count": 26,
   "metadata": {},
   "outputs": [],
   "source": [
    "## Text Normalization\n",
    "# tokenizing the tweets\n",
    "df[\"tokens\"] = df[\"text\"].apply(TweetTokenizer().tokenize)"
   ]
  },
  {
   "cell_type": "code",
   "execution_count": 49,
   "metadata": {},
   "outputs": [],
   "source": [
    "# removing stopwords\n",
    "stop_words = stopwords.words(\"english\")\n",
    "df[\"stopwords\"] = df[\"tokens\"].apply(lambda x:[i for i in x if i.lower() not in stop_words])"
   ]
  },
  {
   "cell_type": "code",
   "execution_count": 58,
   "metadata": {},
   "outputs": [],
   "source": [
    "# removing special chars\n",
    "puncs = list(string.punctuation)\n",
    "digits  =list(string.digits)\n",
    "\n",
    "df[\"punctuations\"] = df[\"stopwords\"].apply(lambda x : [i for i in x if i not in puncs])\n",
    "\n",
    "df[\"digits\"] = df[\"punctuations\"].apply(lambda x : [i for i in x if i[0] not in digits])\n",
    "\n",
    "df[\"final\"] = df[\"digits\"].apply(lambda x : [i for i in x if len(i) > 1])"
   ]
  },
  {
   "cell_type": "code",
   "execution_count": 59,
   "metadata": {},
   "outputs": [],
   "source": [
    "df.to_csv(\"../data/tweets.csv\")"
   ]
  },
  {
   "cell_type": "markdown",
   "metadata": {},
   "source": [
    "## Sentimental Anlaysis"
   ]
  },
  {
   "cell_type": "code",
   "execution_count": 82,
   "metadata": {},
   "outputs": [
    {
     "data": {
      "text/html": [
       "<div>\n",
       "<style scoped>\n",
       "    .dataframe tbody tr th:only-of-type {\n",
       "        vertical-align: middle;\n",
       "    }\n",
       "\n",
       "    .dataframe tbody tr th {\n",
       "        vertical-align: top;\n",
       "    }\n",
       "\n",
       "    .dataframe thead th {\n",
       "        text-align: right;\n",
       "    }\n",
       "</style>\n",
       "<table border=\"1\" class=\"dataframe\">\n",
       "  <thead>\n",
       "    <tr style=\"text-align: right;\">\n",
       "      <th></th>\n",
       "      <th>_id</th>\n",
       "      <th>created_at</th>\n",
       "      <th>id</th>\n",
       "      <th>id_str</th>\n",
       "      <th>text</th>\n",
       "      <th>truncated</th>\n",
       "      <th>entities</th>\n",
       "      <th>metadata</th>\n",
       "      <th>source</th>\n",
       "      <th>in_reply_to_status_id</th>\n",
       "      <th>...</th>\n",
       "      <th>quoted_status_id</th>\n",
       "      <th>quoted_status_id_str</th>\n",
       "      <th>quoted_status</th>\n",
       "      <th>withheld_in_countries</th>\n",
       "      <th>tweet_source</th>\n",
       "      <th>tokens</th>\n",
       "      <th>stopwords</th>\n",
       "      <th>punctuations</th>\n",
       "      <th>digits</th>\n",
       "      <th>final</th>\n",
       "    </tr>\n",
       "  </thead>\n",
       "  <tbody>\n",
       "    <tr>\n",
       "      <th>0</th>\n",
       "      <td>5fd399c6cfd91d1e0c13b696</td>\n",
       "      <td>Fri Dec 11 16:09:39 +0000 2020</td>\n",
       "      <td>1337429349767712768</td>\n",
       "      <td>1337429349767712768</td>\n",
       "      <td>Alisson Becker &amp;amp; Alex Oxlade-Chamberlain H...</td>\n",
       "      <td>True</td>\n",
       "      <td>{'hashtags': [], 'symbols': [], 'user_mentions...</td>\n",
       "      <td>{'iso_language_code': 'en', 'result_type': 're...</td>\n",
       "      <td>&lt;a href=\"https://mobile.twitter.com\" rel=\"nofo...</td>\n",
       "      <td>NaN</td>\n",
       "      <td>...</td>\n",
       "      <td>NaN</td>\n",
       "      <td>NaN</td>\n",
       "      <td>NaN</td>\n",
       "      <td>NaN</td>\n",
       "      <td>Twitter Web App</td>\n",
       "      <td>['Alisson', 'Becker', '&amp;', 'Alex', 'Oxlade-Cha...</td>\n",
       "      <td>['Alisson', 'Becker', '&amp;', 'Alex', 'Oxlade-Cha...</td>\n",
       "      <td>['Alisson', 'Becker', 'Alex', 'Oxlade-Chamberl...</td>\n",
       "      <td>['Alisson', 'Becker', 'Alex', 'Oxlade-Chamberl...</td>\n",
       "      <td>['Alisson', 'Becker', 'Alex', 'Oxlade-Chamberl...</td>\n",
       "    </tr>\n",
       "    <tr>\n",
       "      <th>1</th>\n",
       "      <td>5fd399c6cfd91d1e0c13b697</td>\n",
       "      <td>Fri Dec 11 16:09:38 +0000 2020</td>\n",
       "      <td>1337429344348762112</td>\n",
       "      <td>1337429344348762112</td>\n",
       "      <td>EPL TONIGHT \\n\\nLeeds and West Ham both hope t...</td>\n",
       "      <td>True</td>\n",
       "      <td>{'hashtags': [], 'symbols': [], 'user_mentions...</td>\n",
       "      <td>{'iso_language_code': 'en', 'result_type': 're...</td>\n",
       "      <td>&lt;a href=\"http://twitter.com/download/android\" ...</td>\n",
       "      <td>NaN</td>\n",
       "      <td>...</td>\n",
       "      <td>NaN</td>\n",
       "      <td>NaN</td>\n",
       "      <td>NaN</td>\n",
       "      <td>NaN</td>\n",
       "      <td>Twitter for Android</td>\n",
       "      <td>['EPL', 'TONIGHT', 'Leeds', 'and', 'West', 'Ha...</td>\n",
       "      <td>['EPL', 'TONIGHT', 'Leeds', 'West', 'Ham', 'ho...</td>\n",
       "      <td>['EPL', 'TONIGHT', 'Leeds', 'West', 'Ham', 'ho...</td>\n",
       "      <td>['EPL', 'TONIGHT', 'Leeds', 'West', 'Ham', 'ho...</td>\n",
       "      <td>['EPL', 'TONIGHT', 'Leeds', 'West', 'Ham', 'ho...</td>\n",
       "    </tr>\n",
       "    <tr>\n",
       "      <th>2</th>\n",
       "      <td>5fd399c6cfd91d1e0c13b699</td>\n",
       "      <td>Fri Dec 11 16:08:44 +0000 2020</td>\n",
       "      <td>1337429118821003266</td>\n",
       "      <td>1337429118821003266</td>\n",
       "      <td>Bruno Fernandes has won more Premier League PO...</td>\n",
       "      <td>True</td>\n",
       "      <td>{'hashtags': [], 'symbols': [], 'user_mentions...</td>\n",
       "      <td>{'iso_language_code': 'en', 'result_type': 're...</td>\n",
       "      <td>&lt;a href=\"http://twitter.com/download/iphone\" r...</td>\n",
       "      <td>NaN</td>\n",
       "      <td>...</td>\n",
       "      <td>NaN</td>\n",
       "      <td>NaN</td>\n",
       "      <td>NaN</td>\n",
       "      <td>NaN</td>\n",
       "      <td>Twitter for iPhone</td>\n",
       "      <td>['Bruno', 'Fernandes', 'has', 'won', 'more', '...</td>\n",
       "      <td>['Bruno', 'Fernandes', 'Premier', 'League', 'P...</td>\n",
       "      <td>['Bruno', 'Fernandes', 'Premier', 'League', 'P...</td>\n",
       "      <td>['Bruno', 'Fernandes', 'Premier', 'League', 'P...</td>\n",
       "      <td>['Bruno', 'Fernandes', 'Premier', 'League', 'P...</td>\n",
       "    </tr>\n",
       "    <tr>\n",
       "      <th>3</th>\n",
       "      <td>5fd399c6cfd91d1e0c13b69a</td>\n",
       "      <td>Fri Dec 11 16:08:35 +0000 2020</td>\n",
       "      <td>1337429081038741507</td>\n",
       "      <td>1337429081038741507</td>\n",
       "      <td>I have seen a lot of negative comments on Mesl...</td>\n",
       "      <td>True</td>\n",
       "      <td>{'hashtags': [], 'symbols': [], 'user_mentions...</td>\n",
       "      <td>{'iso_language_code': 'en', 'result_type': 're...</td>\n",
       "      <td>&lt;a href=\"https://mobile.twitter.com\" rel=\"nofo...</td>\n",
       "      <td>NaN</td>\n",
       "      <td>...</td>\n",
       "      <td>NaN</td>\n",
       "      <td>NaN</td>\n",
       "      <td>NaN</td>\n",
       "      <td>NaN</td>\n",
       "      <td>Twitter Web App</td>\n",
       "      <td>['I', 'have', 'seen', 'a', 'lot', 'of', 'negat...</td>\n",
       "      <td>['seen', 'lot', 'negative', 'comments', 'Mesli...</td>\n",
       "      <td>['seen', 'lot', 'negative', 'comments', 'Mesli...</td>\n",
       "      <td>['seen', 'lot', 'negative', 'comments', 'Mesli...</td>\n",
       "      <td>['seen', 'lot', 'negative', 'comments', 'Mesli...</td>\n",
       "    </tr>\n",
       "    <tr>\n",
       "      <th>4</th>\n",
       "      <td>5fd399c6cfd91d1e0c13b69c</td>\n",
       "      <td>Fri Dec 11 16:08:21 +0000 2020</td>\n",
       "      <td>1337429020258942976</td>\n",
       "      <td>1337429020258942976</td>\n",
       "      <td>Jose Mourinho is the Premier League manager of...</td>\n",
       "      <td>False</td>\n",
       "      <td>{'hashtags': [], 'symbols': [], 'user_mentions...</td>\n",
       "      <td>{'iso_language_code': 'en', 'result_type': 're...</td>\n",
       "      <td>&lt;a href=\"http://twitter.com/download/android\" ...</td>\n",
       "      <td>NaN</td>\n",
       "      <td>...</td>\n",
       "      <td>NaN</td>\n",
       "      <td>NaN</td>\n",
       "      <td>NaN</td>\n",
       "      <td>NaN</td>\n",
       "      <td>Twitter for Android</td>\n",
       "      <td>['Jose', 'Mourinho', 'is', 'the', 'Premier', '...</td>\n",
       "      <td>['Jose', 'Mourinho', 'Premier', 'League', 'man...</td>\n",
       "      <td>['Jose', 'Mourinho', 'Premier', 'League', 'man...</td>\n",
       "      <td>['Jose', 'Mourinho', 'Premier', 'League', 'man...</td>\n",
       "      <td>['Jose', 'Mourinho', 'Premier', 'League', 'man...</td>\n",
       "    </tr>\n",
       "  </tbody>\n",
       "</table>\n",
       "<p>5 rows × 37 columns</p>\n",
       "</div>"
      ],
      "text/plain": [
       "                        _id                      created_at  \\\n",
       "0  5fd399c6cfd91d1e0c13b696  Fri Dec 11 16:09:39 +0000 2020   \n",
       "1  5fd399c6cfd91d1e0c13b697  Fri Dec 11 16:09:38 +0000 2020   \n",
       "2  5fd399c6cfd91d1e0c13b699  Fri Dec 11 16:08:44 +0000 2020   \n",
       "3  5fd399c6cfd91d1e0c13b69a  Fri Dec 11 16:08:35 +0000 2020   \n",
       "4  5fd399c6cfd91d1e0c13b69c  Fri Dec 11 16:08:21 +0000 2020   \n",
       "\n",
       "                    id               id_str  \\\n",
       "0  1337429349767712768  1337429349767712768   \n",
       "1  1337429344348762112  1337429344348762112   \n",
       "2  1337429118821003266  1337429118821003266   \n",
       "3  1337429081038741507  1337429081038741507   \n",
       "4  1337429020258942976  1337429020258942976   \n",
       "\n",
       "                                                text  truncated  \\\n",
       "0  Alisson Becker &amp; Alex Oxlade-Chamberlain H...       True   \n",
       "1  EPL TONIGHT \\n\\nLeeds and West Ham both hope t...       True   \n",
       "2  Bruno Fernandes has won more Premier League PO...       True   \n",
       "3  I have seen a lot of negative comments on Mesl...       True   \n",
       "4  Jose Mourinho is the Premier League manager of...      False   \n",
       "\n",
       "                                            entities  \\\n",
       "0  {'hashtags': [], 'symbols': [], 'user_mentions...   \n",
       "1  {'hashtags': [], 'symbols': [], 'user_mentions...   \n",
       "2  {'hashtags': [], 'symbols': [], 'user_mentions...   \n",
       "3  {'hashtags': [], 'symbols': [], 'user_mentions...   \n",
       "4  {'hashtags': [], 'symbols': [], 'user_mentions...   \n",
       "\n",
       "                                            metadata  \\\n",
       "0  {'iso_language_code': 'en', 'result_type': 're...   \n",
       "1  {'iso_language_code': 'en', 'result_type': 're...   \n",
       "2  {'iso_language_code': 'en', 'result_type': 're...   \n",
       "3  {'iso_language_code': 'en', 'result_type': 're...   \n",
       "4  {'iso_language_code': 'en', 'result_type': 're...   \n",
       "\n",
       "                                              source  in_reply_to_status_id  \\\n",
       "0  <a href=\"https://mobile.twitter.com\" rel=\"nofo...                    NaN   \n",
       "1  <a href=\"http://twitter.com/download/android\" ...                    NaN   \n",
       "2  <a href=\"http://twitter.com/download/iphone\" r...                    NaN   \n",
       "3  <a href=\"https://mobile.twitter.com\" rel=\"nofo...                    NaN   \n",
       "4  <a href=\"http://twitter.com/download/android\" ...                    NaN   \n",
       "\n",
       "   ...  quoted_status_id  quoted_status_id_str  quoted_status  \\\n",
       "0  ...               NaN                   NaN            NaN   \n",
       "1  ...               NaN                   NaN            NaN   \n",
       "2  ...               NaN                   NaN            NaN   \n",
       "3  ...               NaN                   NaN            NaN   \n",
       "4  ...               NaN                   NaN            NaN   \n",
       "\n",
       "   withheld_in_countries         tweet_source  \\\n",
       "0                    NaN      Twitter Web App   \n",
       "1                    NaN  Twitter for Android   \n",
       "2                    NaN   Twitter for iPhone   \n",
       "3                    NaN      Twitter Web App   \n",
       "4                    NaN  Twitter for Android   \n",
       "\n",
       "                                              tokens  \\\n",
       "0  ['Alisson', 'Becker', '&', 'Alex', 'Oxlade-Cha...   \n",
       "1  ['EPL', 'TONIGHT', 'Leeds', 'and', 'West', 'Ha...   \n",
       "2  ['Bruno', 'Fernandes', 'has', 'won', 'more', '...   \n",
       "3  ['I', 'have', 'seen', 'a', 'lot', 'of', 'negat...   \n",
       "4  ['Jose', 'Mourinho', 'is', 'the', 'Premier', '...   \n",
       "\n",
       "                                           stopwords  \\\n",
       "0  ['Alisson', 'Becker', '&', 'Alex', 'Oxlade-Cha...   \n",
       "1  ['EPL', 'TONIGHT', 'Leeds', 'West', 'Ham', 'ho...   \n",
       "2  ['Bruno', 'Fernandes', 'Premier', 'League', 'P...   \n",
       "3  ['seen', 'lot', 'negative', 'comments', 'Mesli...   \n",
       "4  ['Jose', 'Mourinho', 'Premier', 'League', 'man...   \n",
       "\n",
       "                                        punctuations  \\\n",
       "0  ['Alisson', 'Becker', 'Alex', 'Oxlade-Chamberl...   \n",
       "1  ['EPL', 'TONIGHT', 'Leeds', 'West', 'Ham', 'ho...   \n",
       "2  ['Bruno', 'Fernandes', 'Premier', 'League', 'P...   \n",
       "3  ['seen', 'lot', 'negative', 'comments', 'Mesli...   \n",
       "4  ['Jose', 'Mourinho', 'Premier', 'League', 'man...   \n",
       "\n",
       "                                              digits  \\\n",
       "0  ['Alisson', 'Becker', 'Alex', 'Oxlade-Chamberl...   \n",
       "1  ['EPL', 'TONIGHT', 'Leeds', 'West', 'Ham', 'ho...   \n",
       "2  ['Bruno', 'Fernandes', 'Premier', 'League', 'P...   \n",
       "3  ['seen', 'lot', 'negative', 'comments', 'Mesli...   \n",
       "4  ['Jose', 'Mourinho', 'Premier', 'League', 'man...   \n",
       "\n",
       "                                               final  \n",
       "0  ['Alisson', 'Becker', 'Alex', 'Oxlade-Chamberl...  \n",
       "1  ['EPL', 'TONIGHT', 'Leeds', 'West', 'Ham', 'ho...  \n",
       "2  ['Bruno', 'Fernandes', 'Premier', 'League', 'P...  \n",
       "3  ['seen', 'lot', 'negative', 'comments', 'Mesli...  \n",
       "4  ['Jose', 'Mourinho', 'Premier', 'League', 'man...  \n",
       "\n",
       "[5 rows x 37 columns]"
      ]
     },
     "execution_count": 82,
     "metadata": {},
     "output_type": "execute_result"
    }
   ],
   "source": [
    "df = pd.read_csv(\"../data/tweets.csv\")\n",
    "\n",
    "df = df.drop(df.columns[0], axis=1)\n",
    "\n",
    "df.head()"
   ]
  },
  {
   "cell_type": "code",
   "execution_count": 106,
   "metadata": {},
   "outputs": [],
   "source": [
    "# converting string of list of strings to list and join them \n",
    "df[\"text_cleaned\"] = df[\"final\"].apply(str_lst)"
   ]
  },
  {
   "cell_type": "code",
   "execution_count": 107,
   "metadata": {},
   "outputs": [],
   "source": [
    "# creating a sentiment object\n",
    "sentiment = SentimentIntensityAnalyzer()"
   ]
  },
  {
   "cell_type": "code",
   "execution_count": 108,
   "metadata": {},
   "outputs": [
    {
     "data": {
      "text/plain": [
       "0    0.3612\n",
       "1    0.1531\n",
       "2    0.7276\n",
       "3   -0.4019\n",
       "4    0.0000\n",
       "5    0.0000\n",
       "6    0.4215\n",
       "7    0.6908\n",
       "8    0.4215\n",
       "9    0.7717\n",
       "Name: sentiment, dtype: float64"
      ]
     },
     "execution_count": 108,
     "metadata": {},
     "output_type": "execute_result"
    }
   ],
   "source": [
    "# determine the polarity scores\n",
    "df[\"sentiment\"] = df.text.apply(lambda x : sentiment.polarity_scores(x)[\"compound\"])\n",
    "\n",
    "df[\"sentiment\"][:10]"
   ]
  },
  {
   "cell_type": "code",
   "execution_count": 109,
   "metadata": {},
   "outputs": [],
   "source": [
    "pos = len(df[df.sentiment > 0])\n",
    "\n",
    "neg = len(df[df.sentiment < 0])\n",
    "\n",
    "neu = len(df[df.sentiment == 0])\n",
    "\n",
    "y = [pos, neu, neg]"
   ]
  },
  {
   "cell_type": "code",
   "execution_count": 112,
   "metadata": {},
   "outputs": [
    {
     "data": {
      "image/png": "[encoded data removed]",
      "text/plain": [
       "<Figure size 432x288 with 1 Axes>"
      ]
     },
     "metadata": {
      "needs_background": "light"
     },
     "output_type": "display_data"
    }
   ],
   "source": [
    "# Plotting the Polarity Scores\n",
    "plt.bar(range(len(y)), height = y, width = 0.75, align=\"center\",alpha = 0.8)\n",
    "\n",
    "plt.xticks(range(len(y)), [\"positive\", \"neutral\", \"negative\"])\n",
    "\n",
    "plt.title(\"Sentiment Analysis\")\n",
    "\n",
    "plt.ylabel(\"Number of tweets\")\n",
    "\n",
    "plt.show()"
   ]
  },
  {
   "cell_type": "markdown",
   "metadata": {},
   "source": [
    "### Custom Sentiment Analyser"
   ]
  },
  {
   "cell_type": "code",
   "execution_count": 249,
   "metadata": {},
   "outputs": [
    {
     "data": {
      "text/plain": [
       "0    pos\n",
       "1    pos\n",
       "2    pos\n",
       "3    neg\n",
       "4    neu\n",
       "5    neu\n",
       "6    pos\n",
       "7    pos\n",
       "8    pos\n",
       "9    pos\n",
       "Name: labels, dtype: object"
      ]
     },
     "execution_count": 249,
     "metadata": {},
     "output_type": "execute_result"
    }
   ],
   "source": [
    "# creating a tmporary label func\n",
    "def tmp_label_data(data):\n",
    "    if data in pos_lst:\n",
    "        return \"pos\"\n",
    "    elif data in neg_lst:\n",
    "        return \"neg\"\n",
    "    elif data in neu_lst:\n",
    "        return \"neu\"\n",
    "\n",
    "# creating the labels\n",
    "pos_lst = df[df.sentiment > 0][\"sentiment\"].to_list()\n",
    "\n",
    "neg_lst = df[df.sentiment < 0][\"sentiment\"].to_list()\n",
    "\n",
    "neu_lst = df[df.sentiment == 0][\"sentiment\"].to_list()\n",
    "\n",
    "df[\"labels\"] = df.sentiment.apply(lambda x : tmp_label_data(x))\n",
    "df[\"labels\"][:10]"
   ]
  },
  {
   "cell_type": "code",
   "execution_count": 268,
   "metadata": {},
   "outputs": [],
   "source": [
    "# labeling the data\n",
    "classes = [\"pos\", \"neu\", \"neg\"]\n",
    "\n",
    "train_data = df[\"final\"][:80]\n",
    "train_labels = df[\"labels\"][:80]\n",
    "\n",
    "test_data = df[\"final\"][80:96]\n",
    "test_labels = df[\"labels\"][80:96]\n",
    "\n",
    "train_data = train_data.apply(str_lst)\n",
    "test_data = test_data.apply(str_lst)"
   ]
  },
  {
   "cell_type": "code",
   "execution_count": 258,
   "metadata": {},
   "outputs": [
    {
     "name": "stdout",
     "output_type": "stream",
     "text": [
      "('Last full Premier League season Martial clear Rashford debate wasnt French media agenda would httpstcoZzzlBpFzJx', 'pos')\n",
      "('year winter break introduced four Premier League teams European finals Following seas httpstcobTftSBvY0Q', 'neu')\n",
      "('know plays trashy team definitely one best players Premier League httpstcotpdz2KJiZY', 'pos')\n"
     ]
    }
   ],
   "source": [
    "# testing\n",
    "for x in zip(test_data[:3], test_labels[:3]):\n",
    "    print(x)"
   ]
  },
  {
   "cell_type": "code",
   "execution_count": 189,
   "metadata": {},
   "outputs": [],
   "source": [
    "# creating a Navie Bayes model\n",
    "vectorizer = TfidfVectorizer(min_df = 5,\n",
    "                             max_df = 0.8,\n",
    "                             sublinear_tf = True,\n",
    "                             use_idf = True)"
   ]
  },
  {
   "cell_type": "code",
   "execution_count": 263,
   "metadata": {},
   "outputs": [],
   "source": [
    "# Obtaining the test and train vectors\n",
    "train_vectors = vectorizer.fit_transform(train_data)\n",
    "test_vectors = vectorizer.transform(test_data)"
   ]
  },
  {
   "cell_type": "code",
   "execution_count": 264,
   "metadata": {},
   "outputs": [
    {
     "data": {
      "text/plain": [
       "0.5625"
      ]
     },
     "execution_count": 264,
     "metadata": {},
     "output_type": "execute_result"
    }
   ],
   "source": [
    "# fitting a model\n",
    "nb = MultinomialNB()\n",
    "nb.fit(train_vectors, train_labels).score(test_vectors, test_labels)"
   ]
  },
  {
   "cell_type": "code",
   "execution_count": 265,
   "metadata": {},
   "outputs": [
    {
     "name": "stdout",
     "output_type": "stream",
     "text": [
      "Navie Bayes\n",
      "              precision    recall  f1-score   support\n",
      "\n",
      "         neg       0.00      0.00      0.00         2\n",
      "         neu       0.00      0.00      0.00         4\n",
      "         pos       0.60      0.90      0.72        10\n",
      "\n",
      "    accuracy                           0.56        16\n",
      "   macro avg       0.20      0.30      0.24        16\n",
      "weighted avg       0.38      0.56      0.45        16\n",
      "\n",
      "[[0 0 2]\n",
      " [0 0 4]\n",
      " [0 1 9]]\n",
      "Cross validation : 0.6625\n"
     ]
    }
   ],
   "source": [
    "## --- Model Assement ---\n",
    "print(\"Navie Bayes\")\n",
    "print(classification_report(test_labels, nb.predict(test_vectors)))\n",
    "print(confusion_matrix(test_labels, nb.predict(test_vectors)))\n",
    "\n",
    "predicted = cross_val_predict(nb, train_vectors, train_labels, cv=10)\n",
    "print(f\"Cross validation : {accuracy_score(train_labels, predicted)}\")"
   ]
  },
  {
   "cell_type": "markdown",
   "metadata": {},
   "source": [
    "## Named Entity Recognition"
   ]
  },
  {
   "cell_type": "code",
   "execution_count": 10,
   "metadata": {},
   "outputs": [],
   "source": [
    "df = pd.read_csv(\"../data/tweets.csv\")\n",
    "\n",
    "df = df.drop(df.columns[0], axis=1)"
   ]
  },
  {
   "cell_type": "code",
   "execution_count": 4,
   "metadata": {},
   "outputs": [],
   "source": [
    "class_path = \"../data/stanford-ner-4.2.0/stanford-ner-2020-11-17/stanford-ner-4.2.0-javadoc.jar\"\n",
    "st_path = \"../data/stanford-ner-4.2.0/stanford-ner-2020-11-17/classifiers/english.all.3class.distsim.crf.ser.gz\"\n",
    "\n",
    "st = StanfordNERTagger(st_path, class_path)"
   ]
  },
  {
   "cell_type": "code",
   "execution_count": 28,
   "metadata": {},
   "outputs": [],
   "source": [
    "# st.tag(df.text[0].split())"
   ]
  },
  {
   "cell_type": "code",
   "execution_count": null,
   "metadata": {},
   "outputs": [],
   "source": []
  },
  {
   "cell_type": "code",
   "execution_count": null,
   "metadata": {},
   "outputs": [],
   "source": []
  },
  {
   "cell_type": "code",
   "execution_count": null,
   "metadata": {},
   "outputs": [],
   "source": []
  },
  {
   "cell_type": "code",
   "execution_count": null,
   "metadata": {},
   "outputs": [],
   "source": []
  },
  {
   "cell_type": "code",
   "execution_count": null,
   "metadata": {},
   "outputs": [],
   "source": []
  },
  {
   "cell_type": "code",
   "execution_count": null,
   "metadata": {},
   "outputs": [],
   "source": []
  }
 ],
 "metadata": {
  "kernelspec": {
   "display_name": "Python 3",
   "language": "python",
   "name": "python3"
  },
  "language_info": {
   "codemirror_mode": {
    "name": "ipython",
    "version": 3
   },
   "file_extension": ".py",
   "mimetype": "text/x-python",
   "name": "python",
   "nbconvert_exporter": "python",
   "pygments_lexer": "ipython3",
   "version": "3.8.6"
  }
 },
 "nbformat": 4,
 "nbformat_minor": 4
}
