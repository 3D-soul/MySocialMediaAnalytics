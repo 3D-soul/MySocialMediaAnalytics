{
 "cells": [
  {
   "cell_type": "markdown",
   "metadata": {},
   "source": [
    "## Loading the necessary Libraries"
   ]
  },
  {
   "cell_type": "code",
   "execution_count": 55,
   "metadata": {},
   "outputs": [],
   "source": [
    "import os\n",
    "import json\n",
    "import webbrowser\n",
    "import requests"
   ]
  },
  {
   "cell_type": "code",
   "execution_count": 3,
   "metadata": {},
   "outputs": [],
   "source": [
    "from dotenv import load_dotenv\n",
    "from bs4 import BeautifulSoup as bs"
   ]
  },
  {
   "cell_type": "code",
   "execution_count": 4,
   "metadata": {},
   "outputs": [],
   "source": [
    "import pandas as pd"
   ]
  },
  {
   "cell_type": "code",
   "execution_count": 5,
   "metadata": {},
   "outputs": [],
   "source": [
    "import inspect"
   ]
  },
  {
   "cell_type": "code",
   "execution_count": 6,
   "metadata": {},
   "outputs": [],
   "source": [
    "## --- Twitter ---\n",
    "import tweepy\n",
    "import time"
   ]
  },
  {
   "cell_type": "markdown",
   "metadata": {},
   "source": [
    "### GLobal Variables"
   ]
  },
  {
   "cell_type": "code",
   "execution_count": 7,
   "metadata": {},
   "outputs": [
    {
     "data": {
      "text/plain": [
       "True"
      ]
     },
     "execution_count": 7,
     "metadata": {},
     "output_type": "execute_result"
    }
   ],
   "source": [
    "path = os.path.expanduser(\"../data/\")\n",
    "load_dotenv(os.path.join(path, \".env\"))"
   ]
  },
  {
   "cell_type": "code",
   "execution_count": 8,
   "metadata": {},
   "outputs": [],
   "source": [
    "## --- Loading the env variables ---\n",
    "TWITTER_KEY = os.environ.get(\"TWITTER_API_KEY\")\n",
    "TWITTER_SECRET= os.environ.get(\"TWITTER_API_SECRET\")"
   ]
  },
  {
   "cell_type": "code",
   "execution_count": 57,
   "metadata": {},
   "outputs": [],
   "source": [
    "## --- Creating nescessary url's ---\n",
    "callback_URL = \"oob\"\n",
    "TREND = \"https://api.twitter.com/1.1/trends/available.json\"\n",
    "EXPLORE = \"https://twitter.com/explore\""
   ]
  },
  {
   "cell_type": "code",
   "execution_count": 78,
   "metadata": {},
   "outputs": [],
   "source": [
    "## --- Others ---\n",
    "# Creating vars for twitter accounts names\n",
    "KAJAL = \"MsKajalAggarwal\"\n",
    "RAASHI = \"RaashiKhanna\"\n",
    "RAKUL = \"Rakulpreet\"\n",
    "MONKE = \"MonkEtweets\"\n",
    "SUNNY = \"SunnyLeone\"\n",
    "TRUMP = \"realDonaldTrump\"\n",
    "NEEL = \"prashanth_neel\""
   ]
  },
  {
   "cell_type": "markdown",
   "metadata": {},
   "source": [
    "### Functions & Classes"
   ]
  },
  {
   "cell_type": "code",
   "execution_count": 11,
   "metadata": {},
   "outputs": [],
   "source": [
    "# getting the STATUS to latest tweet of the USER\n",
    "def latest_tweet(user_name, num=0):\n",
    "    user = api.get_user(user_name)\n",
    "    user_timeline = user.timeline()\n",
    "\n",
    "    user_timeline_status_obj = user_timeline[0]\n",
    "    status_obj_id = user_timeline_status_obj.id\n",
    "    status_obj_screen_name = user_timeline_status_obj.user.screen_name\n",
    "    status_obj_url = f\"https://twitter.com/{status_obj_screen_name}/status/{status_obj_id}\"\n",
    "\n",
    "    return {\"obj_id\" : status_obj_id, \"obj_url\" : status_obj_url}"
   ]
  },
  {
   "cell_type": "code",
   "execution_count": 19,
   "metadata": {},
   "outputs": [
    {
     "data": {
      "text/plain": [
       "{'obj_id': 1326124827929845762,\n",
       " 'obj_url': 'https://twitter.com/MonkEtweets/status/1326124827929845762'}"
      ]
     },
     "execution_count": 19,
     "metadata": {},
     "output_type": "execute_result"
    }
   ],
   "source": [
    "## testing func\n",
    "latest_tweet(MONKE)"
   ]
  },
  {
   "cell_type": "markdown",
   "metadata": {},
   "source": [
    "## Authorization"
   ]
  },
  {
   "cell_type": "code",
   "execution_count": 15,
   "metadata": {},
   "outputs": [
    {
     "data": {
      "text/plain": [
       "True"
      ]
     },
     "execution_count": 15,
     "metadata": {},
     "output_type": "execute_result"
    }
   ],
   "source": [
    "## --- Twitter authentication ---\n",
    "auth = tweepy.OAuthHandler(TWITTER_KEY, TWITTER_SECRET, callback_URL)\n",
    "redirect_URL =auth.get_authorization_url()\n",
    "webbrowser.open(redirect_URL)"
   ]
  },
  {
   "cell_type": "code",
   "execution_count": 16,
   "metadata": {},
   "outputs": [
    {
     "name": "stdout",
     "output_type": "stream",
     "text": [
      "Enter the PIN :1750553\n"
     ]
    }
   ],
   "source": [
    "PIN = input(\"Enter the PIN :\")"
   ]
  },
  {
   "cell_type": "code",
   "execution_count": 17,
   "metadata": {},
   "outputs": [],
   "source": [
    "access_token, access_secret = auth.get_access_token(PIN)"
   ]
  },
  {
   "cell_type": "markdown",
   "metadata": {},
   "source": [
    "## Acessing API "
   ]
  },
  {
   "cell_type": "code",
   "execution_count": 18,
   "metadata": {},
   "outputs": [],
   "source": [
    "## --- Twitter APi ---\n",
    "api = tweepy.API(auth)\n",
    "me = api.me()"
   ]
  },
  {
   "cell_type": "code",
   "execution_count": 36,
   "metadata": {},
   "outputs": [],
   "source": [
    "# dir(api)"
   ]
  },
  {
   "cell_type": "code",
   "execution_count": 20,
   "metadata": {},
   "outputs": [
    {
     "name": "stdout",
     "output_type": "stream",
     "text": [
      "821Suhruth\n",
      "821Suhruth\n"
     ]
    }
   ],
   "source": [
    "print(me.screen_name)\n",
    "print(api.me().screen_name)"
   ]
  },
  {
   "cell_type": "code",
   "execution_count": 21,
   "metadata": {},
   "outputs": [],
   "source": [
    "## STATUS or TWEET\n",
    "# Updating status or tweet using python\n",
    "new_status = api.update_status(\"OMG! I tweeted this using #python, just playing with the #tweepy...\")"
   ]
  },
  {
   "cell_type": "code",
   "execution_count": 22,
   "metadata": {},
   "outputs": [],
   "source": [
    "# Destroying the tweet just tweeted\n",
    "tmp_destroy = new_status.destroy()"
   ]
  },
  {
   "cell_type": "code",
   "execution_count": 23,
   "metadata": {},
   "outputs": [],
   "source": [
    "# Tweeting using an image\n",
    "img_path = \"../data/new_status.PNG\"\n",
    "img_obj = api.media_upload(img_path)"
   ]
  },
  {
   "cell_type": "code",
   "execution_count": 24,
   "metadata": {},
   "outputs": [],
   "source": [
    "new_status = api.update_status(\"OMG! I tweeted this using #python, just playing with the #tweepy... \", media_ids = [img_obj.media_id_string])"
   ]
  },
  {
   "cell_type": "code",
   "execution_count": 25,
   "metadata": {},
   "outputs": [],
   "source": [
    "tmp_destroy = new_status.destroy()"
   ]
  },
  {
   "cell_type": "code",
   "execution_count": 26,
   "metadata": {},
   "outputs": [
    {
     "name": "stdout",
     "output_type": "stream",
     "text": [
      "कहासुनी: पेट्रोल, डीज़ल की कीमतों में उछाल जारी है. लगातार छठे दिन कंपनियों ने दाम बढ़ाए. ये दाम सितंबर 2018 के बाद… https://t.co/AJXfBMmCql\n",
      "-----\n",
      "\n",
      "As Monday welcomes \"Greater Snow\" in #China, the 21st of 24th solar terms in the Chinese lunar year, marking the ar… https://t.co/KFYq676ebB\n",
      "-----\n",
      "\n",
      "10000 years ago, జీవితం ఎలా ఉండేది? Stay tuned to know more! #TheBirth10000BC https://t.co/kO7vIgVUQt\n",
      "-----\n",
      "\n",
      "ఏలూరు ప్రజలకు ప్రభుత్వం మరింత అండగా ఉండాలి - JanaSena Chief Shri @PawanKalyan https://t.co/HVAWlybSLf\n",
      "-----\n",
      "\n",
      "నివర్ తుఫాన్ కారణంగా నష్టపోయిన రైతులకు తక్షణ సహాయం అందించాలని కోరుతూ జనసేన పార్టీ అధ్యక్షులు శ్రీ #PawanKalyan గారి… https://t.co/SDFxKnULnF\n",
      "-----\n",
      "\n",
      "किसान आंदोलन में दिल्ली की सीमाओं पर डटे पंजाब के किसानों के घर की देखभाल कौन कर रहा है?\n",
      "\n",
      "वीडियो: सुखचरण प्रीत/सुमि… https://t.co/dA9da9DHxu\n",
      "-----\n",
      "\n",
      "RT @WhackedOutMedia: Here's wishing the MD of Mango Mass Media &amp; Whacked Out Media, Mr. Rama Krishna Veerapaneni (Ram) and Singer @Official…\n",
      "-----\n",
      "\n",
      "నివర్ తుఫాన్ కారణంగా నష్టపోయిన రైతులకు తక్షణ సహాయం అందించాలని కోరుతూ జనసేన పార్టీ అధ్యక్షులు శ్రీ #PawanKalyan గారి… https://t.co/hB6P8PJuIZ\n",
      "-----\n",
      "\n",
      "💪🏼 ✨ https://t.co/uwLaVImN9k\n",
      "-----\n",
      "\n",
      "5 Twitter Hacks That Will Get You Noticed By Your Target Audience \n",
      "https://t.co/pgYraGTqk1\n",
      "#twitter #getnoticed https://t.co/pv0bq49pSU\n",
      "-----\n",
      "\n",
      "నివర్ తుఫాన్ కారణంగా నష్టపోయిన రైతులకు తక్షణ సహాయం అందించాలని కోరుతూ జనసేన పార్టీ అధ్యక్షులు శ్రీ #PawanKalyan గారి… https://t.co/aFi2QGiu4q\n",
      "-----\n",
      "\n",
      "ఈరోజే ప్రారంభం!!! \n",
      "\n",
      "సరికొత్త ధారావాహిక ' గుప్పెడంత మనసు '..డిసెంబర్ 7th నుండి రాత్రి 7 గంటలకు మీ @StarMaa లో… https://t.co/ayj9bP6pd0\n",
      "-----\n",
      "\n",
      "https://t.co/jEYzCodrHB\n",
      "-----\n",
      "\n",
      "https://t.co/Tr8VtH16hq\n",
      "-----\n",
      "\n",
      "https://t.co/t7gwvrSBAh\n",
      "-----\n",
      "\n",
      "Wrote another poem about love... https://t.co/oveitrYoEh\n",
      "-----\n",
      "\n",
      "Education is the most valuable gift one can give.\n",
      "\n",
      "Heartiest congratulations to @ranjitdisale on winning the… https://t.co/ztviliUxU6\n",
      "-----\n",
      "\n",
      "#PrasadNekuri @myself_akkii #CrystolyteMediaCreations \n",
      "@akkiartss #MangoMassMedia\n",
      "-----\n",
      "\n",
      "RT @StarStruckbySL: Refresh and prep your skin with #HydratingPrimer to create a silky smooth canvas before applying makeup! Infused with S…\n",
      "-----\n",
      "\n"
     ]
    }
   ],
   "source": [
    "## TIMELINE\n",
    "# Acessing my own timeline\n",
    "my_timeline = api.home_timeline()\n",
    "\n",
    "for status in my_timeline:\n",
    "    print(status.text)\n",
    "    print(\"-----\\n\")"
   ]
  },
  {
   "cell_type": "code",
   "execution_count": 27,
   "metadata": {},
   "outputs": [
    {
     "data": {
      "text/plain": [
       "{'user_name': 'BBCHindi',\n",
       " 'author': 'BBCHindi',\n",
       " 'id': 1335917001047420928,\n",
       " 'id_str': '1335917001047420928',\n",
       " 'text': 'कहासुनी: पेट्रोल, डीज़ल की कीमतों में उछाल जारी है. लगातार छठे दिन कंपनियों ने दाम बढ़ाए. ये दाम सितंबर 2018 के बाद… https://t.co/AJXfBMmCql',\n",
       " 'source': 'SocialFlow',\n",
       " 'source_url': 'http://www.socialflow.com',\n",
       " 'retweet_count': 1,\n",
       " 'favorite_count': 7,\n",
       " 'lang': 'hi'}"
      ]
     },
     "execution_count": 27,
     "metadata": {},
     "output_type": "execute_result"
    }
   ],
   "source": [
    "columns = set()\n",
    "allowed_types = [str, int]\n",
    "tweets_data = []\n",
    "\n",
    "for status in my_timeline:\n",
    "    status_dict = dict(vars(status))\n",
    "    keys = status_dict.keys()\n",
    "    single_tweet_data = {\n",
    "        \"user_name\": status.user.screen_name,\n",
    "        \"author\": status.author.screen_name}\n",
    "    for key in keys:\n",
    "        if type(status_dict[key]) in allowed_types:\n",
    "            single_tweet_data[key] = status_dict[key]\n",
    "            columns.add(key)\n",
    "    tweets_data.append(single_tweet_data)\n",
    "        \n",
    "headers = list(columns)\n",
    "headers.append(\"user_name\")\n",
    "headers.append(\"author\")\n",
    "\n",
    "tweets_data[0]"
   ]
  },
  {
   "cell_type": "code",
   "execution_count": 28,
   "metadata": {},
   "outputs": [
    {
     "data": {
      "text/html": [
       "<div>\n",
       "<style scoped>\n",
       "    .dataframe tbody tr th:only-of-type {\n",
       "        vertical-align: middle;\n",
       "    }\n",
       "\n",
       "    .dataframe tbody tr th {\n",
       "        vertical-align: top;\n",
       "    }\n",
       "\n",
       "    .dataframe thead th {\n",
       "        text-align: right;\n",
       "    }\n",
       "</style>\n",
       "<table border=\"1\" class=\"dataframe\">\n",
       "  <thead>\n",
       "    <tr style=\"text-align: right;\">\n",
       "      <th></th>\n",
       "      <th>retweet_count</th>\n",
       "      <th>favorite_count</th>\n",
       "      <th>text</th>\n",
       "      <th>id_str</th>\n",
       "      <th>in_reply_to_status_id_str</th>\n",
       "      <th>source</th>\n",
       "      <th>source_url</th>\n",
       "      <th>in_reply_to_status_id</th>\n",
       "      <th>in_reply_to_user_id</th>\n",
       "      <th>in_reply_to_user_id_str</th>\n",
       "      <th>quoted_status_id</th>\n",
       "      <th>quoted_status_id_str</th>\n",
       "      <th>in_reply_to_screen_name</th>\n",
       "      <th>lang</th>\n",
       "      <th>id</th>\n",
       "      <th>user_name</th>\n",
       "      <th>author</th>\n",
       "    </tr>\n",
       "  </thead>\n",
       "  <tbody>\n",
       "    <tr>\n",
       "      <th>0</th>\n",
       "      <td>1</td>\n",
       "      <td>7</td>\n",
       "      <td>कहासुनी: पेट्रोल, डीज़ल की कीमतों में उछाल जार...</td>\n",
       "      <td>1335917001047420928</td>\n",
       "      <td>NaN</td>\n",
       "      <td>SocialFlow</td>\n",
       "      <td>http://www.socialflow.com</td>\n",
       "      <td>NaN</td>\n",
       "      <td>NaN</td>\n",
       "      <td>NaN</td>\n",
       "      <td>NaN</td>\n",
       "      <td>NaN</td>\n",
       "      <td>NaN</td>\n",
       "      <td>hi</td>\n",
       "      <td>1335917001047420928</td>\n",
       "      <td>BBCHindi</td>\n",
       "      <td>BBCHindi</td>\n",
       "    </tr>\n",
       "    <tr>\n",
       "      <th>1</th>\n",
       "      <td>0</td>\n",
       "      <td>2</td>\n",
       "      <td>As Monday welcomes \"Greater Snow\" in #China, t...</td>\n",
       "      <td>1335916972832399360</td>\n",
       "      <td>NaN</td>\n",
       "      <td>Twitter Web App</td>\n",
       "      <td>https://mobile.twitter.com</td>\n",
       "      <td>NaN</td>\n",
       "      <td>NaN</td>\n",
       "      <td>NaN</td>\n",
       "      <td>NaN</td>\n",
       "      <td>NaN</td>\n",
       "      <td>NaN</td>\n",
       "      <td>en</td>\n",
       "      <td>1335916972832399360</td>\n",
       "      <td>CGTNOfficial</td>\n",
       "      <td>CGTNOfficial</td>\n",
       "    </tr>\n",
       "    <tr>\n",
       "      <th>2</th>\n",
       "      <td>0</td>\n",
       "      <td>10</td>\n",
       "      <td>10000 years ago, జీవితం ఎలా ఉండేది? Stay tuned...</td>\n",
       "      <td>1335916972719001600</td>\n",
       "      <td>NaN</td>\n",
       "      <td>Twitter Web App</td>\n",
       "      <td>https://mobile.twitter.com</td>\n",
       "      <td>NaN</td>\n",
       "      <td>NaN</td>\n",
       "      <td>NaN</td>\n",
       "      <td>NaN</td>\n",
       "      <td>NaN</td>\n",
       "      <td>NaN</td>\n",
       "      <td>en</td>\n",
       "      <td>1335916972719001600</td>\n",
       "      <td>telugufilmnagar</td>\n",
       "      <td>telugufilmnagar</td>\n",
       "    </tr>\n",
       "    <tr>\n",
       "      <th>3</th>\n",
       "      <td>98</td>\n",
       "      <td>178</td>\n",
       "      <td>ఏలూరు ప్రజలకు ప్రభుత్వం మరింత అండగా ఉండాలి - J...</td>\n",
       "      <td>1335916110613336064</td>\n",
       "      <td>NaN</td>\n",
       "      <td>Twitter for Android</td>\n",
       "      <td>http://twitter.com/download/android</td>\n",
       "      <td>NaN</td>\n",
       "      <td>NaN</td>\n",
       "      <td>NaN</td>\n",
       "      <td>NaN</td>\n",
       "      <td>NaN</td>\n",
       "      <td>NaN</td>\n",
       "      <td>te</td>\n",
       "      <td>1335916110613336064</td>\n",
       "      <td>JanaSenaParty</td>\n",
       "      <td>JanaSenaParty</td>\n",
       "    </tr>\n",
       "    <tr>\n",
       "      <th>4</th>\n",
       "      <td>23</td>\n",
       "      <td>49</td>\n",
       "      <td>నివర్ తుఫాన్ కారణంగా నష్టపోయిన రైతులకు తక్షణ స...</td>\n",
       "      <td>1335914863705526277</td>\n",
       "      <td>1335911487752163328</td>\n",
       "      <td>Twitter for Android</td>\n",
       "      <td>http://twitter.com/download/android</td>\n",
       "      <td>1.335911e+18</td>\n",
       "      <td>7.835355e+17</td>\n",
       "      <td>783535484316319744</td>\n",
       "      <td>NaN</td>\n",
       "      <td>NaN</td>\n",
       "      <td>JanaSenaParty</td>\n",
       "      <td>te</td>\n",
       "      <td>1335914863705526277</td>\n",
       "      <td>JanaSenaParty</td>\n",
       "      <td>JanaSenaParty</td>\n",
       "    </tr>\n",
       "  </tbody>\n",
       "</table>\n",
       "</div>"
      ],
      "text/plain": [
       "   retweet_count  favorite_count  \\\n",
       "0              1               7   \n",
       "1              0               2   \n",
       "2              0              10   \n",
       "3             98             178   \n",
       "4             23              49   \n",
       "\n",
       "                                                text               id_str  \\\n",
       "0  कहासुनी: पेट्रोल, डीज़ल की कीमतों में उछाल जार...  1335917001047420928   \n",
       "1  As Monday welcomes \"Greater Snow\" in #China, t...  1335916972832399360   \n",
       "2  10000 years ago, జీవితం ఎలా ఉండేది? Stay tuned...  1335916972719001600   \n",
       "3  ఏలూరు ప్రజలకు ప్రభుత్వం మరింత అండగా ఉండాలి - J...  1335916110613336064   \n",
       "4  నివర్ తుఫాన్ కారణంగా నష్టపోయిన రైతులకు తక్షణ స...  1335914863705526277   \n",
       "\n",
       "  in_reply_to_status_id_str               source  \\\n",
       "0                       NaN           SocialFlow   \n",
       "1                       NaN      Twitter Web App   \n",
       "2                       NaN      Twitter Web App   \n",
       "3                       NaN  Twitter for Android   \n",
       "4       1335911487752163328  Twitter for Android   \n",
       "\n",
       "                            source_url  in_reply_to_status_id  \\\n",
       "0            http://www.socialflow.com                    NaN   \n",
       "1           https://mobile.twitter.com                    NaN   \n",
       "2           https://mobile.twitter.com                    NaN   \n",
       "3  http://twitter.com/download/android                    NaN   \n",
       "4  http://twitter.com/download/android           1.335911e+18   \n",
       "\n",
       "   in_reply_to_user_id in_reply_to_user_id_str  quoted_status_id  \\\n",
       "0                  NaN                     NaN               NaN   \n",
       "1                  NaN                     NaN               NaN   \n",
       "2                  NaN                     NaN               NaN   \n",
       "3                  NaN                     NaN               NaN   \n",
       "4         7.835355e+17      783535484316319744               NaN   \n",
       "\n",
       "  quoted_status_id_str in_reply_to_screen_name lang                   id  \\\n",
       "0                  NaN                     NaN   hi  1335917001047420928   \n",
       "1                  NaN                     NaN   en  1335916972832399360   \n",
       "2                  NaN                     NaN   en  1335916972719001600   \n",
       "3                  NaN                     NaN   te  1335916110613336064   \n",
       "4                  NaN           JanaSenaParty   te  1335914863705526277   \n",
       "\n",
       "         user_name           author  \n",
       "0         BBCHindi         BBCHindi  \n",
       "1     CGTNOfficial     CGTNOfficial  \n",
       "2  telugufilmnagar  telugufilmnagar  \n",
       "3    JanaSenaParty    JanaSenaParty  \n",
       "4    JanaSenaParty    JanaSenaParty  "
      ]
     },
     "execution_count": 28,
     "metadata": {},
     "output_type": "execute_result"
    }
   ],
   "source": [
    "df = pd.DataFrame(tweets_data, columns=headers)\n",
    "df.head()"
   ]
  },
  {
   "cell_type": "code",
   "execution_count": 32,
   "metadata": {},
   "outputs": [
    {
     "name": "stdout",
     "output_type": "stream",
     "text": [
      "Watch @marklevinshow at 11:00 P.M. (now!) and @SteveHiltonx at 12:00 A.M. on the Great Election Fraud of 2020!\n",
      "RT @realDonaldTrump: SO TRUE. NO WAY WE LOST THIS ELECTION!\n",
      "RT @realDonaldTrump: A MUST WATCH! Hope the lawyers are all taking notes. All FACTS, do not flag this Twitter!\n",
      "https://t.co/j0jTBUR6jv\n",
      "https://t.co/RAIj4zXKBk\n",
      "https://t.co/khAkcJRait\n",
      "RT @gregkellyusa: What Happened Reverend in that situation with CHILD ABUSE ????  Wow.  He DISRESPECTS KIDS AND COPS.  @KLoeffler is not on…\n",
      "True. Great debate for Kelly! https://t.co/M2y3An9wbL\n",
      "SO TRUE. NO WAY WE LOST THIS ELECTION! https://t.co/FC4XtNzuxo\n",
      "A MUST WATCH! Hope the lawyers are all taking notes. All FACTS, do not flag this Twitter! https://t.co/5vWbEfKRf7\n",
      "Gee, what a surprise. Has anyone informed the so-called (says he has no power to do anything!) Governor @BrianKempGA &amp; his puppet Lt. Governor @GeoffDuncanGA, that they could easily solve this mess, &amp; WIN. Signature verification &amp; call a Special Session. So easy! https://t.co/5cb4QdYzpU\n"
     ]
    }
   ],
   "source": [
    "## OTHER USERS\n",
    "# getting data from trump timeline \n",
    "for index,status in enumerate(tweepy.Cursor(api.user_timeline, screen_name=TRUMP, tweet_mode=\"extended\").items()):\n",
    "    print(status.full_text)\n",
    "    if index == 10:\n",
    "        break"
   ]
  },
  {
   "cell_type": "code",
   "execution_count": 33,
   "metadata": {},
   "outputs": [
    {
     "name": "stdout",
     "output_type": "stream",
     "text": [
      "RT @iVishnuManchu: Whoever we are, whatever we are; our priority is to safe guard our Farmers. My grandfather was a farmer and I am very pr…\n",
      "Coming soon... @kitchlug @discernliving https://t.co/dJTxZRXrSu\n",
      "😍 @gitanjaliarao https://t.co/JrLd1uMzNs\n",
      "Coming soon... @discernliving @kitchlug https://t.co/RtiwtH6KAH\n",
      "RT @hvgoenka: So beautifully said: https://t.co/8lKDFZLVNQ\n",
      "Husband. ❤️ https://t.co/bSq1DfeLB4\n",
      "May we have our cake and eat it too? 🧁🍪 #happyonemonth 💁🏻‍♀️ #timefliesalready #catchingmoments https://t.co/54S6yxgx6y\n",
      "Here’s to Laughter, love and all things nice @kitchlug ❤️ https://t.co/jJElEyvdWi\n",
      "India HandMade Collective, was started as a response to the Covid hardships that hit the artisans &amp; the groups working with hand made artisans. Lets all support these artisans &amp; handmade products. help spread this too! https://t.co/mVguj726Oc\n",
      "@ConnectIHMC #handmade #slowFashion https://t.co/lqeRv6QEDB\n",
      "#favouriteflowers https://t.co/FZcs7QV18r\n",
      "#favouriteflowers https://t.co/mZhvMch5Rg\n"
     ]
    }
   ],
   "source": [
    "# getting data from kaju's timeline \n",
    "for index,status in enumerate(tweepy.Cursor(api.user_timeline, screen_name=KAJAL, tweet_mode=\"extended\").items()):\n",
    "    print(status.full_text)\n",
    "    if index == 10:\n",
    "        break"
   ]
  },
  {
   "cell_type": "code",
   "execution_count": 34,
   "metadata": {},
   "outputs": [
    {
     "data": {
      "text/plain": [
       "'Channelling the desi vibe..\\n#shootdiaries  #pollachi 💚 https://t.co/gjQONA3uHL'"
      ]
     },
     "execution_count": 34,
     "metadata": {},
     "output_type": "execute_result"
    }
   ],
   "source": [
    "# getting the latest tweet of Raashi Khanna\n",
    "status_obj = api.get_status(\"1331919421770670083/photo/2\")\n",
    "status_obj.text"
   ]
  },
  {
   "cell_type": "code",
   "execution_count": 35,
   "metadata": {},
   "outputs": [
    {
     "name": "stdout",
     "output_type": "stream",
     "text": [
      "https://twitter.com/SunnyLeone/status/1335816966284529665\n"
     ]
    }
   ],
   "source": [
    "# getting the LINK to latest tweet of the Sunny Leone\n",
    "tmp_obj = latest_tweet(SUNNY)\n",
    "\n",
    "print(tmp_obj[\"obj_url\"])"
   ]
  },
  {
   "cell_type": "code",
   "execution_count": 36,
   "metadata": {},
   "outputs": [
    {
     "data": {
      "text/plain": [
       "True"
      ]
     },
     "execution_count": 36,
     "metadata": {},
     "output_type": "execute_result"
    }
   ],
   "source": [
    "## AUTO RETWEET\n",
    "tmp_obj = latest_tweet(RAKUL)\n",
    "\n",
    "webbrowser.open(tmp_obj[\"obj_url\"])"
   ]
  },
  {
   "cell_type": "code",
   "execution_count": 37,
   "metadata": {},
   "outputs": [],
   "source": [
    "# liking the Rakul's latest tweet\n",
    "like = api.create_favorite(tmp_obj[\"obj_id\"])"
   ]
  },
  {
   "cell_type": "code",
   "execution_count": 38,
   "metadata": {},
   "outputs": [],
   "source": [
    "# disliking the tweet I just liked\n",
    "dislike = api.destroy_favorite(tmp_obj[\"obj_id\"])"
   ]
  },
  {
   "cell_type": "code",
   "execution_count": 70,
   "metadata": {},
   "outputs": [],
   "source": [
    "# retweeting the\n",
    "retweet = api.retweet(tmp_obj[\"obj_id\"])"
   ]
  },
  {
   "cell_type": "code",
   "execution_count": 79,
   "metadata": {},
   "outputs": [
    {
     "data": {
      "text/plain": [
       "True"
      ]
     },
     "execution_count": 79,
     "metadata": {},
     "output_type": "execute_result"
    }
   ],
   "source": [
    "## REPLY\n",
    "# getting Prasanth Neel's latesttweet\n",
    "tmp_obj = latest_tweet(NEEL)\n",
    "\n",
    "webbrowser.open(tmp_obj[\"obj_url\"])"
   ]
  },
  {
   "cell_type": "code",
   "execution_count": 84,
   "metadata": {},
   "outputs": [],
   "source": [
    "# creating a status obj\n",
    "status_obj = api.get_status(tmp_obj[\"obj_id\"])\n",
    "\n",
    "user_name, user_id = (status_obj.user.screen_name, status_obj.id)"
   ]
  },
  {
   "cell_type": "code",
   "execution_count": 85,
   "metadata": {},
   "outputs": [],
   "source": [
    "# replying to the tweet\n",
    "my_reply = api.update_status(f\"@{user_name} Eagerly waiting for this one...\", user_id)"
   ]
  },
  {
   "cell_type": "code",
   "execution_count": 86,
   "metadata": {},
   "outputs": [
    {
     "name": "stdout",
     "output_type": "stream",
     "text": [
      "5872569 147\n"
     ]
    }
   ],
   "source": [
    "## FOLLOW \n",
    "# getting sunny's friends count\n",
    "user = api.get_user(SUNNY)\n",
    "print(user.followers_count, user.friends_count)"
   ]
  },
  {
   "cell_type": "code",
   "execution_count": 87,
   "metadata": {},
   "outputs": [
    {
     "data": {
      "text/plain": [
       "['RakeshRoshan_N',\n",
       " 'avigowariker',\n",
       " 'AnupamPKher',\n",
       " 'Krushna_KAS',\n",
       " 'OrlikGallery',\n",
       " 'diljitdosanjh',\n",
       " 'varunsharma90',\n",
       " 'ADITYADATT',\n",
       " 'karamvirlamba',\n",
       " 'StarStruckbySL',\n",
       " 'tussaudsdelhi',\n",
       " 'OYERJALOK',\n",
       " 'TheRealSalgado']"
      ]
     },
     "execution_count": 87,
     "metadata": {},
     "output_type": "execute_result"
    }
   ],
   "source": [
    "# sending friend request to sunny friends\n",
    "my_new_friends = []\n",
    "user_friends = user.friends()\n",
    "for friend in user_friends:\n",
    "    if friend.followers_count > 300 and friend.friends_count < 300:\n",
    "        # print(friend.screen_name)\n",
    "        my_new_friends.append(friend.screen_name)\n",
    "        relation = api.create_friendship(friend.screen_name)\n",
    "        \n",
    "my_new_friends"
   ]
  },
  {
   "cell_type": "code",
   "execution_count": 88,
   "metadata": {},
   "outputs": [],
   "source": [
    "# unfriending my requests\n",
    "for username in my_new_friends:\n",
    "    api.destroy_friendship(username)"
   ]
  },
  {
   "cell_type": "code",
   "execution_count": 100,
   "metadata": {},
   "outputs": [
    {
     "name": "stdout",
     "output_type": "stream",
     "text": [
      "0 किसान आंदोलन: क्या सरकार और किसानों के बीच सुलह का कोई ‘फ़ॉर्मूला’ है ? https://t.co/1yATyHeIrB\n",
      "1 నివర్ తుఫాన్ కారణంగా నష్టపోయిన రైతులకు తక్షణ సహాయం అందించాలని కోరుతూ జనసేన పార్టీ అధ్యక్షులు శ్రీ #PawanKalyan గారి… https://t.co/MYpzjRl6bS\n",
      "2 Congratulations @SachinSagaGame on turning 3️⃣!\n",
      "\n",
      "The team has continuously strived to make the game a fabulous digi… https://t.co/plmvWxDVsa\n",
      "3 నివర్ తుఫాన్ కారణంగా నష్టపోయిన రైతులకు తక్షణ సహాయం అందించాలని కోరుతూ జనసేన పార్టీ అధ్యక్షులు శ్రీ #PawanKalyan గారి… https://t.co/gb4vM1Q3Ci\n",
      "4 #UFC Vegas: Late replacement Vettori gets upset win over Hermansson https://t.co/5EuSNJlS0h https://t.co/uD9r0rIBFt\n",
      "5 @prashanth_neel Eagerly waiting for this one...\n",
      "6 What do you think is better, being single or committed??? 😋 https://t.co/YcIZdPcf8U\n",
      "7 कीर्तिश का आज का कार्टून https://t.co/lCCAfeFoyc\n",
      "8 నివర్ తుఫాన్ కారణంగా నష్టపోయిన రైతులకు తక్షణ సహాయం అందించాలని కోరుతూ జనసేన పార్టీ అధ్యక్షులు శ్రీ #PawanKalyan గారి… https://t.co/0dxatx25xP\n",
      "9 Lost In Space: Season 2 In-Depth VFX Breakdown By ImageEngine https://t.co/TMFaXTQxbK https://t.co/VmfcS1ptt6\n"
     ]
    }
   ],
   "source": [
    "## ITEMS and PAGINATION\n",
    "for index,status in enumerate(tweepy.Cursor(api.home_timeline, count=50).items(10)):\n",
    "    print(index, status.text)"
   ]
  },
  {
   "cell_type": "code",
   "execution_count": 101,
   "metadata": {},
   "outputs": [
    {
     "name": "stdout",
     "output_type": "stream",
     "text": [
      "kajalgifs\n",
      "Karishma_Mehta5\n",
      "KirenRijiju\n",
      "LaurenceFuller\n",
      "TRENDSMagIndia\n",
      "hvgoenka\n",
      "pssms\n",
      "micropoetry\n",
      "_karanvalecha_\n",
      "Screenplayed\n"
     ]
    }
   ],
   "source": [
    "# Getting her friends list using cursor\n",
    "for tmp_id in tweepy.Cursor(api.friends_ids, screen_name=KAJAL).items(10):\n",
    "      print(api.get_user(tmp_id).screen_name)"
   ]
  },
  {
   "cell_type": "code",
   "execution_count": 102,
   "metadata": {},
   "outputs": [
    {
     "name": "stdout",
     "output_type": "stream",
     "text": [
      "0 RT @Vishnu_IsHere: Which one are you waiting for the most?\n",
      "#KGFChapter2 teaser OR   #Master Trailer \n",
      "\n",
      "#KGFChapter2TeaserOnJan08 #MasterTrai… bakthan_dileep\n",
      "1 RT @BleedYashism: Still Trending On Top 😻💥\n",
      "\n",
      "#KGFChapter2 #KGFChapter2TeaserOnJan08 @TheNameIsYash #YashBoss https://t.co/yg1zjwJCak NirajKARNATAKA\n",
      "2 K.G.F Chapter 2 Official Trailer | Yash | Srinidhi | Sanjay Dutt | Prashanth N | Countdown Begins \n",
      "\n",
      "Video link -… https://t.co/cNq96xg3OY galattadotcom\n",
      "3 RT @yarivanunknown: Some random ad photo released already trending on india level🔥\n",
      "\n",
      "@TheNameIsYash\n",
      "#YashBOSS #KGFChapter2 #KGFChapter2Tease… Anand09683195\n",
      "4 Going to be exciting\n",
      "#KGFChapter2 AnantGo93349136\n",
      "5 • #KGFChapter2 climax was shot at Hyderabad today in full swing, Makers are sure that its a Summer Release on 2021.… https://t.co/3kvNuO3RRs C1Cinemas\n",
      "6 Top 5 South Indian Movies Interest On #BookMyShow:\n",
      "1. #KGFChapter2 \n",
      "2. #Master \n",
      "3. #RRRMovie \n",
      "4. #Bilal \n",
      "5. #Kotigobba3 TradeBOC\n",
      "7 RT @Vishnu_IsHere: Which one are you waiting for the most?\n",
      "#KGFChapter2 teaser OR   #Master Trailer \n",
      "\n",
      "#KGFChapter2TeaserOnJan08 #MasterTrai… Dileep63825898\n",
      "8 RT @NishanthPrabas: @prashanth_neel All the best to #KGFChapter2 @prashanth_neel @TheNameIsYash ❤ from all #Prabhas darling fans waiting fo… YaswanthGogi\n",
      "9 RT @Vishnu_IsHere: Which one are you waiting for the most?\n",
      "#KGFChapter2 teaser OR   #Master Trailer \n",
      "\n",
      "#KGFChapter2TeaserOnJan08 #MasterTrai… RajavuKochi\n"
     ]
    }
   ],
   "source": [
    "# getting the first 10 tweets on trending hashtags today \n",
    "query = \"#KGFChapter2\"\n",
    "\n",
    "for index , status in enumerate(tweepy.Cursor(api.search, q=query).items(10)):\n",
    "    print(index, status.text, status.author.screen_name)"
   ]
  },
  {
   "cell_type": "code",
   "execution_count": null,
   "metadata": {},
   "outputs": [],
   "source": []
  },
  {
   "cell_type": "code",
   "execution_count": null,
   "metadata": {},
   "outputs": [],
   "source": []
  },
  {
   "cell_type": "code",
   "execution_count": null,
   "metadata": {},
   "outputs": [],
   "source": []
  }
 ],
 "metadata": {
  "kernelspec": {
   "display_name": "Python 3",
   "language": "python",
   "name": "python3"
  },
  "language_info": {
   "codemirror_mode": {
    "name": "ipython",
    "version": 3
   },
   "file_extension": ".py",
   "mimetype": "text/x-python",
   "name": "python",
   "nbconvert_exporter": "python",
   "pygments_lexer": "ipython3",
   "version": "3.8.6"
  }
 },
 "nbformat": 4,
 "nbformat_minor": 4
}
