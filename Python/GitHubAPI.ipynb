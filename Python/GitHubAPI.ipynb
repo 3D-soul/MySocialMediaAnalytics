{
 "cells": [
  {
   "cell_type": "markdown",
   "metadata": {},
   "source": [
    "### Loading the Libraries"
   ]
  },
  {
   "cell_type": "code",
   "execution_count": 1,
   "metadata": {},
   "outputs": [],
   "source": [
    "import requests\n",
    "import json\n",
    "import os"
   ]
  },
  {
   "cell_type": "code",
   "execution_count": 80,
   "metadata": {},
   "outputs": [],
   "source": [
    "from dotenv import load_dotenv\n",
    "from bs4 import BeautifulSoup as bs"
   ]
  },
  {
   "cell_type": "markdown",
   "metadata": {},
   "source": [
    "### Global variables"
   ]
  },
  {
   "cell_type": "code",
   "execution_count": 32,
   "metadata": {},
   "outputs": [
    {
     "data": {
      "text/plain": [
       "True"
      ]
     },
     "execution_count": 32,
     "metadata": {},
     "output_type": "execute_result"
    }
   ],
   "source": [
    "path = os.path.expanduser(\"../data/\")\n",
    "\n",
    "load_dotenv(os.path.join(path, \".env\"))"
   ]
  },
  {
   "cell_type": "code",
   "execution_count": 33,
   "metadata": {},
   "outputs": [],
   "source": [
    "# environment variables\n",
    "USER = os.getenv(\"GIT_USERNAME\")\n",
    "\n",
    "KEY = os.getenv(\"GIT_PASSWORD\")\n",
    "\n",
    "ID = os.getenv(\"GIT_CLIENT_ID\")\n",
    "\n",
    "SECRET = os.getenv(\"GIT_CLIENT_SECRET\")\n",
    "\n",
    "ACCESS = os.getenv(\"GIT_ACCESS_TOKEN\")"
   ]
  },
  {
   "cell_type": "code",
   "execution_count": 28,
   "metadata": {},
   "outputs": [],
   "source": [
    "# all url's\n",
    "AUTH_URL = \"https://api.github.com/authorizations\"\n",
    "\n",
    "SEARCH_URL = \"https://github.com/search?tab=repositories\" \n",
    "\n",
    "note = \"my test application\""
   ]
  },
  {
   "cell_type": "markdown",
   "metadata": {},
   "source": [
    "### API"
   ]
  },
  {
   "cell_type": "code",
   "execution_count": 62,
   "metadata": {},
   "outputs": [],
   "source": [
    "access_token_str = f\"&access_token ={ACCESS}\"\n",
    "\n",
    "# access_token_str"
   ]
  },
  {
   "cell_type": "code",
   "execution_count": 65,
   "metadata": {},
   "outputs": [],
   "source": [
    "url = SEARCH_URL + \"/q=QUERY+language:LANG+created:>START_DATE+pushed:>PUSHED_DATE&sort=stars&order=desc\"\n",
    "\n",
    "req = requests.get(url + access_token_str)"
   ]
  },
  {
   "cell_type": "code",
   "execution_count": 79,
   "metadata": {},
   "outputs": [],
   "source": [
    "# url+access_token_str\n",
    "\n",
    "# req.status_code\n",
    "\n",
    "# req.headers\n",
    "\n",
    "# req.json()\n",
    "\n",
    "# req.encoding"
   ]
  },
  {
   "cell_type": "code",
   "execution_count": 88,
   "metadata": {},
   "outputs": [],
   "source": [
    "soup = bs(req.text)\n",
    "\n",
    "# soup.prettify()"
   ]
  },
  {
   "cell_type": "code",
   "execution_count": 99,
   "metadata": {},
   "outputs": [
    {
     "data": {
      "text/plain": [
       "['#start-of-content',\n",
       " 'https://github.com/',\n",
       " '/join?ref_cta=Sign+up&ref_loc=header+logged+out&ref_page=%2Fsearch&source=header',\n",
       " '/features',\n",
       " '/features/code-review/',\n",
       " '/features/project-management/',\n",
       " '/features/integrations',\n",
       " '/features/actions',\n",
       " '/features/packages',\n",
       " '/features/security',\n",
       " '/features#team-management',\n",
       " '/features#hosting',\n",
       " '/mobile',\n",
       " '/customer-stories',\n",
       " '/security',\n",
       " '/team',\n",
       " '/enterprise',\n",
       " '/explore',\n",
       " '/topics',\n",
       " '/collections',\n",
       " '/trending',\n",
       " 'https://lab.github.com/',\n",
       " 'https://opensource.guide',\n",
       " 'https://github.com/events',\n",
       " 'https://github.community',\n",
       " 'https://education.github.com',\n",
       " 'https://stars.github.com',\n",
       " '/marketplace',\n",
       " '/pricing',\n",
       " '/pricing#feature-comparison',\n",
       " 'https://enterprise.github.com/contact',\n",
       " '/nonprofit',\n",
       " 'https://education.github.com',\n",
       " '/login?return_to=%2Fsearch%3Ftab%3Drepositories%2Fq%3DQUERY%2Blanguage%3ALANG%2Bcreated%3A%253ESTART_DATE%2Bpushed%3A%253EPUSHED_DATE%26sort%3Dstars%26order%3Ddesc%26access_token%2520%3Df4a5285737b57404cd2d2680c658b7648ef699fc',\n",
       " '/join?ref_cta=Sign+up&ref_loc=header+logged+out&ref_page=%2Fsearch&source=header',\n",
       " '/search/advanced',\n",
       " 'https://docs.github.com/articles/about-searching-on-github/',\n",
       " 'https://docs.github.com/articles/searching-repositories',\n",
       " 'https://docs.github.com/articles/searching-code',\n",
       " 'https://docs.github.com/articles/searching-issues',\n",
       " 'https://docs.github.com/articles/searching-users',\n",
       " 'https://github.com',\n",
       " 'https://github.com/site/terms',\n",
       " 'https://github.com/site/privacy',\n",
       " 'https://github.com/security',\n",
       " 'https://githubstatus.com/',\n",
       " 'https://docs.github.com',\n",
       " 'https://github.com/contact',\n",
       " 'https://github.com/pricing',\n",
       " 'https://docs.github.com',\n",
       " 'https://services.github.com',\n",
       " 'https://github.blog',\n",
       " 'https://github.com/about',\n",
       " '',\n",
       " '',\n",
       " 'https://docs.github.com/en/free-pro-team@latest/github/site-policy/github-privacy-statement',\n",
       " 'https://docs.github.com/en/github/site-policy/github-subprocessors-and-cookies',\n",
       " 'https://docs.github.com/en/github/site-policy/github-subprocessors-and-cookies']"
      ]
     },
     "execution_count": 99,
     "metadata": {},
     "output_type": "execute_result"
    }
   ],
   "source": [
    "[tag[\"href\"] for tag in soup.select(\"a\")]"
   ]
  }
 ],
 "metadata": {
  "kernelspec": {
   "display_name": "Python 3",
   "language": "python",
   "name": "python3"
  },
  "language_info": {
   "codemirror_mode": {
    "name": "ipython",
    "version": 3
   },
   "file_extension": ".py",
   "mimetype": "text/x-python",
   "name": "python",
   "nbconvert_exporter": "python",
   "pygments_lexer": "ipython3",
   "version": "3.8.6"
  }
 },
 "nbformat": 4,
 "nbformat_minor": 4
}
