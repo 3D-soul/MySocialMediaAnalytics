{
 "cells": [
  {
   "cell_type": "markdown",
   "metadata": {},
   "source": [
    "### Loading the Libraries"
   ]
  },
  {
   "cell_type": "code",
   "execution_count": 1,
   "metadata": {},
   "outputs": [],
   "source": [
    "import requests\n",
    "import json\n",
    "import os"
   ]
  },
  {
   "cell_type": "code",
   "execution_count": 2,
   "metadata": {},
   "outputs": [],
   "source": [
    "from dotenv import load_dotenv\n",
    "from bs4 import BeautifulSoup as bs"
   ]
  },
  {
   "cell_type": "markdown",
   "metadata": {},
   "source": [
    "### Global variables"
   ]
  },
  {
   "cell_type": "code",
   "execution_count": 3,
   "metadata": {},
   "outputs": [
    {
     "data": {
      "text/plain": [
       "True"
      ]
     },
     "execution_count": 3,
     "metadata": {},
     "output_type": "execute_result"
    }
   ],
   "source": [
    "path = os.path.expanduser(\"../data/\")\n",
    "\n",
    "load_dotenv(os.path.join(path, \".env\"))"
   ]
  },
  {
   "cell_type": "code",
   "execution_count": 4,
   "metadata": {},
   "outputs": [],
   "source": [
    "# environment variables\n",
    "USER = os.getenv(\"GIT_USERNAME\")\n",
    "\n",
    "KEY = os.getenv(\"GIT_PASSWORD\")\n",
    "\n",
    "ID = os.getenv(\"GIT_CLIENT_ID\")\n",
    "\n",
    "SECRET = os.getenv(\"GIT_CLIENT_SECRET\")\n",
    "\n",
    "ACCESS = os.getenv(\"GIT_ACCESS_TOKEN\")"
   ]
  },
  {
   "cell_type": "code",
   "execution_count": 48,
   "metadata": {},
   "outputs": [],
   "source": [
    "# all url's\n",
    "AUTH_URL = \"https://api.github.com/authorizations\"\n",
    "\n",
    "SEARCH_URL = \"https://github.com/search\" \n",
    "\n",
    "note = \"my test application\"\n",
    "\n",
    "MAIN = \"https://github.com\""
   ]
  },
  {
   "cell_type": "markdown",
   "metadata": {},
   "source": [
    "### API"
   ]
  },
  {
   "cell_type": "code",
   "execution_count": 6,
   "metadata": {},
   "outputs": [],
   "source": [
    "access_token_str = f\"&access_token ={ACCESS}\"\n",
    "\n",
    "# access_token_str"
   ]
  },
  {
   "cell_type": "code",
   "execution_count": 52,
   "metadata": {},
   "outputs": [],
   "source": [
    "url = SEARCH_URL + \"?q=Python&type=repositories&s=stars&o=desc\"\n",
    "\n",
    "req = requests.get(url + access_token_str)"
   ]
  },
  {
   "cell_type": "code",
   "execution_count": 53,
   "metadata": {},
   "outputs": [
    {
     "data": {
      "text/plain": [
       "'https://github.com/search?q=Python&type=repositories&s=stars&o=desc&access_token =f4a5285737b57404cd2d2680c658b7648ef699fc'"
      ]
     },
     "execution_count": 53,
     "metadata": {},
     "output_type": "execute_result"
    }
   ],
   "source": [
    "url+access_token_str\n",
    "\n",
    "# req.status_code\n",
    "\n",
    "# req.headers\n",
    "\n",
    "# req.json()\n",
    "\n",
    "# req.encoding"
   ]
  },
  {
   "cell_type": "code",
   "execution_count": 54,
   "metadata": {},
   "outputs": [],
   "source": [
    "soup = bs(req.content)\n",
    "\n",
    "# soup.prettify()"
   ]
  },
  {
   "cell_type": "code",
   "execution_count": 55,
   "metadata": {},
   "outputs": [
    {
     "data": {
      "text/plain": [
       "['https://github.com/tensorflow/tensorflow',\n",
       " 'https://github.com/ohmyzsh/ohmyzsh',\n",
       " 'https://github.com/CyC2018/CS-Notes',\n",
       " 'https://github.com/donnemartin/system-design-primer',\n",
       " 'https://github.com/jackfrued/Python-100-Days',\n",
       " 'https://github.com/TheAlgorithms/Python',\n",
       " 'https://github.com/vinta/awesome-python',\n",
       " 'https://github.com/justjavac/free-programming-books-zh_CN',\n",
       " 'https://github.com/nvbn/thefuck',\n",
       " 'https://github.com/django/django']"
      ]
     },
     "execution_count": 55,
     "metadata": {},
     "output_type": "execute_result"
    }
   ],
   "source": [
    "# [tag[\"href\"] for tag in soup.select(\"a\")]\n",
    "[MAIN + tag[\"href\"] for tag in soup.select(\"a.v-align-middle\")]"
   ]
  }
 ],
 "metadata": {
  "kernelspec": {
   "display_name": "Python 3",
   "language": "python",
   "name": "python3"
  },
  "language_info": {
   "codemirror_mode": {
    "name": "ipython",
    "version": 3
   },
   "file_extension": ".py",
   "mimetype": "text/x-python",
   "name": "python",
   "nbconvert_exporter": "python",
   "pygments_lexer": "ipython3",
   "version": "3.8.6"
  }
 },
 "nbformat": 4,
 "nbformat_minor": 4
}
