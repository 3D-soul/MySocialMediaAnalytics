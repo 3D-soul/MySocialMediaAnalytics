{
 "cells": [
  {
   "cell_type": "markdown",
   "metadata": {},
   "source": [
    "## General Libraries"
   ]
  },
  {
   "cell_type": "code",
   "execution_count": 1,
   "metadata": {},
   "outputs": [],
   "source": [
    "import os\n",
    "import json\n",
    "import requests\n",
    "import webbrowser"
   ]
  },
  {
   "cell_type": "code",
   "execution_count": 2,
   "metadata": {},
   "outputs": [],
   "source": [
    "import string"
   ]
  },
  {
   "cell_type": "code",
   "execution_count": 3,
   "metadata": {},
   "outputs": [],
   "source": [
    "import time"
   ]
  },
  {
   "cell_type": "code",
   "execution_count": 4,
   "metadata": {},
   "outputs": [],
   "source": [
    "from dotenv import load_dotenv"
   ]
  },
  {
   "cell_type": "code",
   "execution_count": 5,
   "metadata": {},
   "outputs": [],
   "source": [
    "import pandas as pd"
   ]
  },
  {
   "cell_type": "code",
   "execution_count": 6,
   "metadata": {},
   "outputs": [],
   "source": [
    "import matplotlib.pyplot as plt\n",
    "import matplotlib"
   ]
  },
  {
   "cell_type": "code",
   "execution_count": 7,
   "metadata": {},
   "outputs": [],
   "source": [
    "from requests_oauthlib import OAuth2Session"
   ]
  },
  {
   "cell_type": "code",
   "execution_count": 8,
   "metadata": {},
   "outputs": [],
   "source": [
    "from nltk import word_tokenize\n",
    "from nltk.corpus import stopwords"
   ]
  },
  {
   "cell_type": "code",
   "execution_count": 9,
   "metadata": {},
   "outputs": [],
   "source": [
    "from nltk.sentiment.vader import SentimentIntensityAnalyzer"
   ]
  },
  {
   "cell_type": "markdown",
   "metadata": {},
   "source": [
    "## Global Variables"
   ]
  },
  {
   "cell_type": "code",
   "execution_count": 10,
   "metadata": {},
   "outputs": [
    {
     "data": {
      "text/plain": [
       "True"
      ]
     },
     "execution_count": 10,
     "metadata": {},
     "output_type": "execute_result"
    }
   ],
   "source": [
    "path = os.path.expanduser(\"../data/\")\n",
    "\n",
    "load_dotenv(os.path.join(path, \".env\"))"
   ]
  },
  {
   "cell_type": "code",
   "execution_count": 11,
   "metadata": {},
   "outputs": [],
   "source": [
    "ID = os.getenv(\"GOOGLE_CLIENT_ID\")\n",
    "SECRET = os.getenv(\"GOOGLE_CLIENT_SECRET\")"
   ]
  },
  {
   "cell_type": "code",
   "execution_count": 12,
   "metadata": {},
   "outputs": [],
   "source": [
    "# loading my credentials\n",
    "with open(\"../data/3D-soul.json\") as fh:\n",
    "    GOOGLE_APPLICATION_CREDENTIALS= json.loads(fh.read())\n",
    "    \n",
    "BASE_URL = GOOGLE_APPLICATION_CREDENTIALS[\"auth_uri\"]\n",
    "TOKEN_URL = GOOGLE_APPLICATION_CREDENTIALS[\"token_uri\"]"
   ]
  },
  {
   "cell_type": "code",
   "execution_count": 13,
   "metadata": {},
   "outputs": [],
   "source": [
    "SCOPES = ['https://www.googleapis.com/auth/contacts.readonly',\n",
    "          \"https://www.googleapis.com/auth/youtube.force-ssl\",\n",
    "          \"https://www.googleapis.com/auth/youtube\",\n",
    "          \"https://www.googleapis.com/auth/youtube.upload\"]\n",
    "\n",
    "REDIRECT = \"https://console.developers.google.com/apis/dashboard?project=d-soul-297508\""
   ]
  },
  {
   "cell_type": "markdown",
   "metadata": {},
   "source": [
    "## Authorization"
   ]
  },
  {
   "cell_type": "code",
   "execution_count": 14,
   "metadata": {},
   "outputs": [],
   "source": [
    "# generating an  auth url\n",
    "google = OAuth2Session(ID, scope=SCOPES, redirect_uri=REDIRECT)\n",
    "\n",
    "authorization_url, state = google.authorization_url(BASE_URL,\n",
    "                                                    access_type =\"offline\",\n",
    "                                                    prompt=\"select_account\")"
   ]
  },
  {
   "cell_type": "code",
   "execution_count": 15,
   "metadata": {},
   "outputs": [
    {
     "data": {
      "text/plain": [
       "True"
      ]
     },
     "execution_count": 15,
     "metadata": {},
     "output_type": "execute_result"
    }
   ],
   "source": [
    "webbrowser.open(authorization_url)"
   ]
  },
  {
   "cell_type": "code",
   "execution_count": 16,
   "metadata": {},
   "outputs": [
    {
     "name": "stdout",
     "output_type": "stream",
     "text": [
      "Enter the url:https://console.developers.google.com/apis/dashboard?project=d-soul-297508&state=qlIFlDcvcp7lpmBoGQFcU13KfHu3j9&code=4%2F0AY0e-g65-ci-Iut46RnFUEJj21HR5uMe0eOARdrWCp5Vg2KuxpIKXu44Kg2i7TcMG6YjbQ&scope=https:%2F%2Fwww.googleapis.com%2Fauth%2Fyoutube.upload%20https:%2F%2Fwww.googleapis.com%2Fauth%2Fyoutube%20https:%2F%2Fwww.googleapis.com%2Fauth%2Fcontacts.readonly%20https:%2F%2Fwww.googleapis.com%2Fauth%2Fyoutube.force-ssl\n"
     ]
    }
   ],
   "source": [
    "redirect_response = input(\"Enter the url:\")"
   ]
  },
  {
   "cell_type": "code",
   "execution_count": 17,
   "metadata": {},
   "outputs": [],
   "source": [
    "response = google.fetch_token(token_url=TOKEN_URL ,client_secret=SECRET, authorization_response=redirect_response)"
   ]
  },
  {
   "cell_type": "code",
   "execution_count": 142,
   "metadata": {},
   "outputs": [],
   "source": [
    "# response"
   ]
  },
  {
   "cell_type": "code",
   "execution_count": 18,
   "metadata": {},
   "outputs": [],
   "source": [
    "access_token = response[\"access_token\"]"
   ]
  },
  {
   "cell_type": "code",
   "execution_count": 15,
   "metadata": {},
   "outputs": [],
   "source": [
    "# access_token"
   ]
  },
  {
   "cell_type": "markdown",
   "metadata": {},
   "source": [
    "### Functions"
   ]
  },
  {
   "cell_type": "code",
   "execution_count": 19,
   "metadata": {},
   "outputs": [],
   "source": [
    "# Function to get the statistics of video_id\n",
    "def get_statistics(video_id):\n",
    "    url = \"https://www.googleapis.com/youtube/v3/videos\"\n",
    "    pms = {\"access_token\" : access_token, \"id\" : video_id,\n",
    "           \"part\" : \"contentDetails, statistics\"}\n",
    "    res = requests.get(url, params = pms)\n",
    "    data = res.json()   \n",
    "    return data\n",
    "\n",
    "# function to get video stats of channel id \n",
    "def get_channel_videos(channel_id):\n",
    "    url = \"https://www.googleapis.com/youtube/v3/search\"\n",
    "    pms = {\"type\" : \"video\", \"access_token\" : access_token, \"channelId\" : channel_id,\n",
    "           \"part\" : \"snippet\", \"order\" : \"viewCount\", \"maxResults\" : 50}\n",
    "    res = requests.get(url, params = pms)\n",
    "    data = res.json() \n",
    "    \n",
    "    lst = []\n",
    "    for video in data[\"items\"]:\n",
    "        video_stats = get_statistics(video[\"id\"][\"videoId\"])   \n",
    "        \n",
    "        try:\n",
    "            c_cnt = video_stats[\"items\"][0][\"statistics\"][\"commentCount\"]\n",
    "        except:\n",
    "            c_cnt = None\n",
    "        \n",
    "        res_json = {\n",
    "            \"channelTitle\" : video[\"snippet\"][\"channelTitle\"],\n",
    "            \"title\" : video[\"snippet\"][\"title\"],\n",
    "            \"publishedAt\" : video[\"snippet\"][\"publishedAt\"],\n",
    "            \"videoId\" : video[\"id\"][\"videoId\"],\n",
    "            \"viewCount\" : video_stats[\"items\"][0][\"statistics\"][\"viewCount\"],\n",
    "            \"commentCount\" : c_cnt,\n",
    "            \"likeCount\" : video_stats[\"items\"][0][\"statistics\"][\"likeCount\"],\n",
    "            \"dislikeCount\" :  video_stats[\"items\"][0][\"statistics\"][\"dislikeCount\"]    \n",
    "        }\n",
    "\n",
    "        lst.append(res_json)\n",
    "            \n",
    "    df = pd.read_json(json.dumps(lst))\n",
    "    return df\n",
    "    "
   ]
  },
  {
   "cell_type": "code",
   "execution_count": 20,
   "metadata": {},
   "outputs": [],
   "source": [
    "# a function to clean text data\n",
    "def clean(text):\n",
    "    tokens = word_tokenize(text.strip())\n",
    "    clean = [wrd.lower() for wrd in tokens]\n",
    "    clean = [wrd for wrd in clean if  wrd not in stopwords.words(\"english\")]\n",
    "    clean = [st for st in clean if st not in list(string.punctuation)]\n",
    "    clean = [wrd for wrd in clean if len(wrd) > 1]\n",
    "    \n",
    "    return \" \".join(clean)"
   ]
  },
  {
   "cell_type": "code",
   "execution_count": 221,
   "metadata": {},
   "outputs": [],
   "source": [
    "# clean(df[\"comments\"][3])"
   ]
  },
  {
   "cell_type": "markdown",
   "metadata": {},
   "source": [
    "## Data Extraction"
   ]
  },
  {
   "cell_type": "markdown",
   "metadata": {},
   "source": [
    "##### Get results for 50 video id's"
   ]
  },
  {
   "cell_type": "code",
   "execution_count": 22,
   "metadata": {},
   "outputs": [],
   "source": [
    "## getting the id of playstation url\n",
    "ps_url = \"https://www.youtube.com/channel/UC-2Y8dQb0S6DtpxNgAKoJKA\"\n",
    "\n",
    "ps_id = ps_url.split(\"/\")[-1]\n",
    "# ps_id"
   ]
  },
  {
   "cell_type": "code",
   "execution_count": 23,
   "metadata": {},
   "outputs": [],
   "source": [
    "# getting channel data for 50 similar video id's using google api\n",
    "df = get_channel_videos(ps_id)"
   ]
  },
  {
   "cell_type": "code",
   "execution_count": 24,
   "metadata": {},
   "outputs": [
    {
     "data": {
      "text/html": [
       "<div>\n",
       "<style scoped>\n",
       "    .dataframe tbody tr th:only-of-type {\n",
       "        vertical-align: middle;\n",
       "    }\n",
       "\n",
       "    .dataframe tbody tr th {\n",
       "        vertical-align: top;\n",
       "    }\n",
       "\n",
       "    .dataframe thead th {\n",
       "        text-align: right;\n",
       "    }\n",
       "</style>\n",
       "<table border=\"1\" class=\"dataframe\">\n",
       "  <thead>\n",
       "    <tr style=\"text-align: right;\">\n",
       "      <th></th>\n",
       "      <th>channelTitle</th>\n",
       "      <th>title</th>\n",
       "      <th>publishedAt</th>\n",
       "      <th>videoId</th>\n",
       "      <th>viewCount</th>\n",
       "      <th>commentCount</th>\n",
       "      <th>likeCount</th>\n",
       "      <th>dislikeCount</th>\n",
       "    </tr>\n",
       "  </thead>\n",
       "  <tbody>\n",
       "    <tr>\n",
       "      <th>0</th>\n",
       "      <td>PlayStation</td>\n",
       "      <td>Hogwarts Legacy - Official Reveal Trailer | PS5</td>\n",
       "      <td>2020-09-16T20:17:47Z</td>\n",
       "      <td>1O6Qstncpnc</td>\n",
       "      <td>17006200</td>\n",
       "      <td>33387.0</td>\n",
       "      <td>556242</td>\n",
       "      <td>10426</td>\n",
       "    </tr>\n",
       "    <tr>\n",
       "      <th>1</th>\n",
       "      <td>PlayStation</td>\n",
       "      <td>The Road to PS5</td>\n",
       "      <td>2020-03-18T16:00:11Z</td>\n",
       "      <td>ph8LyNIT9sg</td>\n",
       "      <td>16300740</td>\n",
       "      <td>50331.0</td>\n",
       "      <td>346572</td>\n",
       "      <td>119539</td>\n",
       "    </tr>\n",
       "    <tr>\n",
       "      <th>2</th>\n",
       "      <td>PlayStation</td>\n",
       "      <td>Final Fantasy VII - E3 2015 Trailer | PS4</td>\n",
       "      <td>2015-06-16T01:54:47Z</td>\n",
       "      <td>Kznek1uNVsg</td>\n",
       "      <td>15975782</td>\n",
       "      <td>21836.0</td>\n",
       "      <td>140018</td>\n",
       "      <td>3157</td>\n",
       "    </tr>\n",
       "    <tr>\n",
       "      <th>3</th>\n",
       "      <td>PlayStation</td>\n",
       "      <td>[ENGLISH] PS5 - THE FUTURE OF GAMING SHOW</td>\n",
       "      <td>2020-06-11T21:29:17Z</td>\n",
       "      <td>RuLci-lSeCo</td>\n",
       "      <td>15489519</td>\n",
       "      <td>16622.0</td>\n",
       "      <td>519428</td>\n",
       "      <td>41244</td>\n",
       "    </tr>\n",
       "    <tr>\n",
       "      <th>4</th>\n",
       "      <td>PlayStation</td>\n",
       "      <td>First Look at the PlayStation 5 User Experience</td>\n",
       "      <td>2020-10-15T13:00:02Z</td>\n",
       "      <td>7TBPrYJDoDE</td>\n",
       "      <td>12759652</td>\n",
       "      <td>47173.0</td>\n",
       "      <td>521757</td>\n",
       "      <td>17048</td>\n",
       "    </tr>\n",
       "  </tbody>\n",
       "</table>\n",
       "</div>"
      ],
      "text/plain": [
       "  channelTitle                                            title  \\\n",
       "0  PlayStation  Hogwarts Legacy - Official Reveal Trailer | PS5   \n",
       "1  PlayStation                                  The Road to PS5   \n",
       "2  PlayStation        Final Fantasy VII - E3 2015 Trailer | PS4   \n",
       "3  PlayStation        [ENGLISH] PS5 - THE FUTURE OF GAMING SHOW   \n",
       "4  PlayStation  First Look at the PlayStation 5 User Experience   \n",
       "\n",
       "            publishedAt      videoId  viewCount  commentCount  likeCount  \\\n",
       "0  2020-09-16T20:17:47Z  1O6Qstncpnc   17006200       33387.0     556242   \n",
       "1  2020-03-18T16:00:11Z  ph8LyNIT9sg   16300740       50331.0     346572   \n",
       "2  2015-06-16T01:54:47Z  Kznek1uNVsg   15975782       21836.0     140018   \n",
       "3  2020-06-11T21:29:17Z  RuLci-lSeCo   15489519       16622.0     519428   \n",
       "4  2020-10-15T13:00:02Z  7TBPrYJDoDE   12759652       47173.0     521757   \n",
       "\n",
       "   dislikeCount  \n",
       "0         10426  \n",
       "1        119539  \n",
       "2          3157  \n",
       "3         41244  \n",
       "4         17048  "
      ]
     },
     "execution_count": 24,
     "metadata": {},
     "output_type": "execute_result"
    }
   ],
   "source": [
    "df.head()"
   ]
  },
  {
   "cell_type": "code",
   "execution_count": 44,
   "metadata": {},
   "outputs": [
    {
     "data": {
      "text/plain": [
       "(5542, 3)"
      ]
     },
     "execution_count": 44,
     "metadata": {},
     "output_type": "execute_result"
    }
   ],
   "source": [
    "df.shape"
   ]
  },
  {
   "cell_type": "markdown",
   "metadata": {},
   "source": [
    "##### Get comments for a video id"
   ]
  },
  {
   "cell_type": "code",
   "execution_count": 25,
   "metadata": {},
   "outputs": [
    {
     "data": {
      "text/plain": [
       "'YQUpg795iBo'"
      ]
     },
     "execution_count": 25,
     "metadata": {},
     "output_type": "execute_result"
    }
   ],
   "source": [
    "## getting comments for specific video\n",
    "yt_url = \"https://www.youtube.com/watch?v=YQUpg795iBo\"\n",
    "yt_id = yt_url.split(\"/\")[3].split(\"=\")[1]\n",
    "yt_id"
   ]
  },
  {
   "cell_type": "code",
   "execution_count": 26,
   "metadata": {},
   "outputs": [],
   "source": [
    "# getting the statistics\n",
    "url = \"https://www.googleapis.com/youtube/v3/videos\"\n",
    "pms = {\"part\" : \"snippet, statistics\", \"id\" : yt_id, \"access_token\" : access_token}\n",
    "res = requests.get(url, params = pms)\n",
    "data = res.json() "
   ]
  },
  {
   "cell_type": "code",
   "execution_count": 27,
   "metadata": {},
   "outputs": [
    {
     "data": {
      "text/plain": [
       "{'viewCount': '4349202',\n",
       " 'likeCount': '51278',\n",
       " 'dislikeCount': '3832',\n",
       " 'favoriteCount': '0',\n",
       " 'commentCount': '7999'}"
      ]
     },
     "execution_count": 27,
     "metadata": {},
     "output_type": "execute_result"
    }
   ],
   "source": [
    "data[\"items\"][0][\"statistics\"]"
   ]
  },
  {
   "cell_type": "code",
   "execution_count": 28,
   "metadata": {},
   "outputs": [
    {
     "name": "stdout",
     "output_type": "stream",
     "text": [
      "Connection status:<Response [200]>\n",
      "Just download: 50, Total:50\n",
      "Connection status:<Response [200]>\n",
      "Just download: 50, Total:100\n",
      "Connection status:<Response [200]>\n",
      "Just download: 50, Total:150\n",
      "Connection status:<Response [200]>\n",
      "Just download: 50, Total:200\n",
      "Connection status:<Response [200]>\n",
      "Just download: 50, Total:250\n",
      "Connection status:<Response [200]>\n",
      "Just download: 50, Total:300\n",
      "Connection status:<Response [200]>\n",
      "Just download: 50, Total:350\n",
      "Connection status:<Response [200]>\n",
      "Just download: 50, Total:400\n",
      "Connection status:<Response [200]>\n",
      "Just download: 50, Total:450\n",
      "Connection status:<Response [200]>\n",
      "Just download: 50, Total:500\n",
      "Connection status:<Response [200]>\n",
      "Just download: 50, Total:550\n",
      "Connection status:<Response [200]>\n",
      "Just download: 50, Total:600\n",
      "Connection status:<Response [200]>\n",
      "Just download: 50, Total:650\n",
      "Connection status:<Response [200]>\n",
      "Just download: 50, Total:700\n",
      "Connection status:<Response [200]>\n",
      "Just download: 50, Total:750\n",
      "Connection status:<Response [200]>\n",
      "Just download: 50, Total:800\n",
      "Connection status:<Response [200]>\n",
      "Just download: 50, Total:850\n",
      "Connection status:<Response [200]>\n",
      "Just download: 50, Total:900\n",
      "Connection status:<Response [200]>\n",
      "Just download: 50, Total:950\n",
      "Connection status:<Response [200]>\n",
      "Just download: 50, Total:1000\n",
      "Connection status:<Response [200]>\n",
      "Just download: 50, Total:1050\n",
      "Connection status:<Response [200]>\n",
      "Just download: 50, Total:1100\n",
      "Connection status:<Response [200]>\n",
      "Just download: 50, Total:1150\n",
      "Connection status:<Response [200]>\n",
      "Just download: 50, Total:1200\n",
      "Connection status:<Response [200]>\n",
      "Just download: 50, Total:1250\n",
      "Connection status:<Response [200]>\n",
      "Just download: 50, Total:1300\n",
      "Connection status:<Response [200]>\n",
      "Just download: 50, Total:1350\n",
      "Connection status:<Response [200]>\n",
      "Just download: 50, Total:1400\n",
      "Connection status:<Response [200]>\n",
      "Just download: 50, Total:1450\n",
      "Connection status:<Response [200]>\n",
      "Just download: 50, Total:1500\n",
      "Connection status:<Response [200]>\n",
      "Just download: 50, Total:1550\n",
      "Connection status:<Response [200]>\n",
      "Just download: 50, Total:1600\n",
      "Connection status:<Response [200]>\n",
      "Just download: 50, Total:1650\n",
      "Connection status:<Response [200]>\n",
      "Just download: 50, Total:1700\n",
      "Connection status:<Response [200]>\n",
      "Just download: 50, Total:1750\n",
      "Connection status:<Response [200]>\n",
      "Just download: 50, Total:1800\n",
      "Connection status:<Response [200]>\n",
      "Just download: 50, Total:1850\n",
      "Connection status:<Response [200]>\n",
      "Just download: 50, Total:1900\n",
      "Connection status:<Response [200]>\n",
      "Just download: 50, Total:1950\n",
      "Connection status:<Response [200]>\n",
      "Just download: 50, Total:2000\n",
      "Connection status:<Response [200]>\n",
      "Just download: 50, Total:2050\n",
      "Connection status:<Response [200]>\n",
      "Just download: 50, Total:2100\n",
      "Connection status:<Response [200]>\n",
      "Just download: 50, Total:2150\n",
      "Connection status:<Response [200]>\n",
      "Just download: 50, Total:2200\n",
      "Connection status:<Response [200]>\n",
      "Just download: 50, Total:2250\n",
      "Connection status:<Response [200]>\n",
      "Just download: 50, Total:2300\n",
      "Connection status:<Response [200]>\n",
      "Just download: 50, Total:2350\n",
      "Connection status:<Response [200]>\n",
      "Just download: 50, Total:2400\n",
      "Connection status:<Response [200]>\n",
      "Just download: 50, Total:2450\n",
      "Connection status:<Response [200]>\n",
      "Just download: 50, Total:2500\n",
      "Connection status:<Response [200]>\n",
      "Just download: 50, Total:2550\n",
      "Connection status:<Response [200]>\n",
      "Just download: 50, Total:2600\n",
      "Connection status:<Response [200]>\n",
      "Just download: 50, Total:2650\n",
      "Connection status:<Response [200]>\n",
      "Just download: 50, Total:2700\n",
      "Connection status:<Response [200]>\n",
      "Just download: 50, Total:2750\n",
      "Connection status:<Response [200]>\n",
      "Just download: 50, Total:2800\n",
      "Connection status:<Response [200]>\n",
      "Just download: 50, Total:2850\n",
      "Connection status:<Response [200]>\n",
      "Just download: 50, Total:2900\n",
      "Connection status:<Response [200]>\n",
      "Just download: 50, Total:2950\n",
      "Connection status:<Response [200]>\n",
      "Just download: 50, Total:3000\n",
      "Connection status:<Response [200]>\n",
      "Just download: 50, Total:3050\n",
      "Connection status:<Response [200]>\n",
      "Just download: 50, Total:3100\n",
      "Connection status:<Response [200]>\n",
      "Just download: 50, Total:3150\n",
      "Connection status:<Response [200]>\n",
      "Just download: 50, Total:3200\n",
      "Connection status:<Response [200]>\n",
      "Just download: 50, Total:3250\n",
      "Connection status:<Response [200]>\n",
      "Just download: 50, Total:3300\n",
      "Connection status:<Response [200]>\n",
      "Just download: 50, Total:3350\n",
      "Connection status:<Response [200]>\n",
      "Just download: 50, Total:3400\n",
      "Connection status:<Response [200]>\n",
      "Just download: 50, Total:3450\n",
      "Connection status:<Response [200]>\n",
      "Just download: 50, Total:3500\n",
      "Connection status:<Response [200]>\n",
      "Just download: 50, Total:3550\n",
      "Connection status:<Response [200]>\n",
      "Just download: 50, Total:3600\n",
      "Connection status:<Response [200]>\n",
      "Just download: 50, Total:3650\n",
      "Connection status:<Response [200]>\n",
      "Just download: 50, Total:3700\n",
      "Connection status:<Response [200]>\n",
      "Just download: 50, Total:3750\n",
      "Connection status:<Response [200]>\n",
      "Just download: 50, Total:3800\n",
      "Connection status:<Response [200]>\n",
      "Just download: 50, Total:3850\n",
      "Connection status:<Response [200]>\n",
      "Just download: 50, Total:3900\n",
      "Connection status:<Response [200]>\n",
      "Just download: 50, Total:3950\n",
      "Connection status:<Response [200]>\n",
      "Just download: 50, Total:4000\n",
      "Connection status:<Response [200]>\n",
      "Just download: 50, Total:4050\n",
      "Connection status:<Response [200]>\n",
      "Just download: 50, Total:4100\n",
      "Connection status:<Response [200]>\n",
      "Just download: 50, Total:4150\n",
      "Connection status:<Response [200]>\n",
      "Just download: 50, Total:4200\n",
      "Connection status:<Response [200]>\n",
      "Just download: 50, Total:4250\n",
      "Connection status:<Response [200]>\n",
      "Just download: 50, Total:4300\n",
      "Connection status:<Response [200]>\n",
      "Just download: 50, Total:4350\n",
      "Connection status:<Response [200]>\n",
      "Just download: 50, Total:4400\n",
      "Connection status:<Response [200]>\n",
      "Just download: 50, Total:4450\n",
      "Connection status:<Response [200]>\n",
      "Just download: 50, Total:4500\n",
      "Connection status:<Response [200]>\n",
      "Just download: 50, Total:4550\n",
      "Connection status:<Response [200]>\n",
      "Just download: 50, Total:4600\n",
      "Connection status:<Response [200]>\n",
      "Just download: 50, Total:4650\n",
      "Connection status:<Response [200]>\n",
      "Just download: 50, Total:4700\n",
      "Connection status:<Response [200]>\n",
      "Just download: 50, Total:4750\n",
      "Connection status:<Response [200]>\n",
      "Just download: 50, Total:4800\n",
      "Connection status:<Response [200]>\n",
      "Just download: 50, Total:4850\n",
      "Connection status:<Response [200]>\n",
      "Just download: 50, Total:4900\n",
      "Connection status:<Response [200]>\n",
      "Just download: 50, Total:4950\n",
      "Connection status:<Response [200]>\n",
      "Just download: 50, Total:5000\n",
      "Connection status:<Response [200]>\n",
      "Just download: 50, Total:5050\n",
      "Connection status:<Response [200]>\n",
      "Just download: 50, Total:5100\n",
      "Connection status:<Response [200]>\n",
      "Just download: 50, Total:5150\n",
      "Connection status:<Response [200]>\n",
      "Just download: 50, Total:5200\n",
      "Connection status:<Response [200]>\n",
      "Just download: 50, Total:5250\n",
      "Connection status:<Response [200]>\n",
      "Just download: 50, Total:5300\n",
      "Connection status:<Response [200]>\n",
      "Just download: 50, Total:5350\n",
      "Connection status:<Response [200]>\n",
      "Just download: 50, Total:5400\n",
      "Connection status:<Response [200]>\n",
      "Just download: 50, Total:5450\n",
      "Connection status:<Response [200]>\n",
      "Just download: 50, Total:5500\n",
      "Connection status:<Response [200]>\n",
      "Just download: 42, Total:5542\n"
     ]
    }
   ],
   "source": [
    "# getting comments for video id\n",
    "page = \"\"\n",
    "url = \"https://www.googleapis.com/youtube/v3/commentThreads\"\n",
    "\n",
    "full_data =[]\n",
    "while True:\n",
    "    pms = {\"part\":\"snippet\", \"videoId\":yt_id, \"maxResults\":50, \n",
    "       \"access_token\":access_token, \"pageToken\":page}\n",
    "    res = requests.get(url, params=pms)\n",
    "    print(f\"Connection status:{res}\")\n",
    "    data = res.json()\n",
    "    try:\n",
    "        full_data.extend(data[\"items\"])\n",
    "        print(f\"Just download: {len(data['items'])}, Total:{len(full_data)}\")\n",
    "        time.sleep(10)\n",
    "    except:\n",
    "        continue\n",
    "    \n",
    "    try:\n",
    "        page = data[\"nextPageToken\"]\n",
    "    except:\n",
    "        break    "
   ]
  },
  {
   "cell_type": "code",
   "execution_count": 278,
   "metadata": {},
   "outputs": [],
   "source": [
    "# data"
   ]
  },
  {
   "cell_type": "code",
   "execution_count": 29,
   "metadata": {},
   "outputs": [
    {
     "data": {
      "text/plain": [
       "5542"
      ]
     },
     "execution_count": 29,
     "metadata": {},
     "output_type": "execute_result"
    }
   ],
   "source": [
    "len(full_data)"
   ]
  },
  {
   "cell_type": "markdown",
   "metadata": {},
   "source": [
    "## Data Preprocessing"
   ]
  },
  {
   "cell_type": "code",
   "execution_count": 30,
   "metadata": {},
   "outputs": [],
   "source": [
    "df = pd.DataFrame()"
   ]
  },
  {
   "cell_type": "code",
   "execution_count": 31,
   "metadata": {},
   "outputs": [],
   "source": [
    "df[\"comments\"] = [k[\"snippet\"][\"topLevelComment\"][\"snippet\"][\"textDisplay\"] for k in full_data]\n",
    "df[\"date\"] = [k[\"snippet\"][\"topLevelComment\"][\"snippet\"][\"publishedAt\"] for k in full_data]"
   ]
  },
  {
   "cell_type": "code",
   "execution_count": 32,
   "metadata": {},
   "outputs": [],
   "source": [
    "df = df.set_index([\"date\"])\n",
    "df.index = pd.to_datetime(df.index)"
   ]
  },
  {
   "cell_type": "code",
   "execution_count": 33,
   "metadata": {},
   "outputs": [
    {
     "data": {
      "text/plain": [
       "(5542, 1)"
      ]
     },
     "execution_count": 33,
     "metadata": {},
     "output_type": "execute_result"
    }
   ],
   "source": [
    "df.shape"
   ]
  },
  {
   "cell_type": "code",
   "execution_count": 34,
   "metadata": {},
   "outputs": [
    {
     "data": {
      "text/html": [
       "<div>\n",
       "<style scoped>\n",
       "    .dataframe tbody tr th:only-of-type {\n",
       "        vertical-align: middle;\n",
       "    }\n",
       "\n",
       "    .dataframe tbody tr th {\n",
       "        vertical-align: top;\n",
       "    }\n",
       "\n",
       "    .dataframe thead th {\n",
       "        text-align: right;\n",
       "    }\n",
       "</style>\n",
       "<table border=\"1\" class=\"dataframe\">\n",
       "  <thead>\n",
       "    <tr style=\"text-align: right;\">\n",
       "      <th></th>\n",
       "      <th>comments</th>\n",
       "    </tr>\n",
       "    <tr>\n",
       "      <th>date</th>\n",
       "      <th></th>\n",
       "    </tr>\n",
       "  </thead>\n",
       "  <tbody>\n",
       "    <tr>\n",
       "      <th>2020-12-25 00:02:17+00:00</th>\n",
       "      <td>Im here just in case I get one Tomorrow for Ch...</td>\n",
       "    </tr>\n",
       "    <tr>\n",
       "      <th>2020-12-24 00:23:46+00:00</th>\n",
       "      <td>Ps5 now</td>\n",
       "    </tr>\n",
       "    <tr>\n",
       "      <th>2020-12-20 20:42:11+00:00</th>\n",
       "      <td>OH</td>\n",
       "    </tr>\n",
       "    <tr>\n",
       "      <th>2020-12-13 11:06:25+00:00</th>\n",
       "      <td>A new generation has begun.</td>\n",
       "    </tr>\n",
       "    <tr>\n",
       "      <th>2020-12-04 18:34:56+00:00</th>\n",
       "      <td>FRICK YOU SONY!!!!!! HOW DARE YOU FAKE DAFT PU...</td>\n",
       "    </tr>\n",
       "  </tbody>\n",
       "</table>\n",
       "</div>"
      ],
      "text/plain": [
       "                                                                    comments\n",
       "date                                                                        \n",
       "2020-12-25 00:02:17+00:00  Im here just in case I get one Tomorrow for Ch...\n",
       "2020-12-24 00:23:46+00:00                                            Ps5 now\n",
       "2020-12-20 20:42:11+00:00                                                 OH\n",
       "2020-12-13 11:06:25+00:00                        A new generation has begun.\n",
       "2020-12-04 18:34:56+00:00  FRICK YOU SONY!!!!!! HOW DARE YOU FAKE DAFT PU..."
      ]
     },
     "execution_count": 34,
     "metadata": {},
     "output_type": "execute_result"
    }
   ],
   "source": [
    "df.head()"
   ]
  },
  {
   "cell_type": "code",
   "execution_count": 35,
   "metadata": {},
   "outputs": [],
   "source": [
    "# cleaning the comments\n",
    "df[\"clean_comments\"] = df[\"comments\"].apply(clean)"
   ]
  },
  {
   "cell_type": "code",
   "execution_count": 36,
   "metadata": {},
   "outputs": [],
   "source": [
    "# calculating polarity scores of cleaned comments\n",
    "sentiment = SentimentIntensityAnalyzer()\n",
    "\n",
    "df[\"sentiment\"] = df[\"clean_comments\"].apply(lambda txt:sentiment.polarity_scores(txt)[\"compound\"])"
   ]
  },
  {
   "cell_type": "code",
   "execution_count": 47,
   "metadata": {},
   "outputs": [],
   "source": [
    "## saving df to csv\n",
    "df.to_csv(\"../data/yt-data.csv\")"
   ]
  },
  {
   "cell_type": "markdown",
   "metadata": {},
   "source": [
    "## Data Analysis"
   ]
  },
  {
   "cell_type": "markdown",
   "metadata": {},
   "source": [
    "#### Questions \n",
    "- How does sentiment evolve over time? Are there any peaks?\n",
    "- What are the periods when users comment more?\n",
    "- what is the day of week when users put the most positive comments\n",
    "- what is the day of the week they comment most actively"
   ]
  },
  {
   "cell_type": "markdown",
   "metadata": {},
   "source": [
    "#### Answers\n",
    "- Yes there are many postive peaks but on beginning of **2015** we can se a negative peak\n",
    "- 2014-2015\n",
    "- Friday has more comments"
   ]
  },
  {
   "cell_type": "code",
   "execution_count": 37,
   "metadata": {},
   "outputs": [
    {
     "name": "stdout",
     "output_type": "stream",
     "text": [
      "no of positive scores: 2238\n",
      "no of negative scores: 1038\n",
      "no of zero scores: 2266 \n",
      "\n",
      "total non-zero scores: 3276  \n",
      "\n"
     ]
    }
   ],
   "source": [
    "# small analysis on sentiment scores\n",
    "print(f\"\"\"no of positive scores: {(df['sentiment']>0).sum()}\n",
    "no of negative scores: {(df['sentiment']<0).sum()}\n",
    "no of zero scores: {(df['sentiment']==0).sum()} \n",
    "\n",
    "total non-zero scores: {(df['sentiment']!=0).sum()}  \n",
    "\"\"\")"
   ]
  },
  {
   "cell_type": "markdown",
   "metadata": {},
   "source": [
    "##### sentiment by month"
   ]
  },
  {
   "cell_type": "code",
   "execution_count": 38,
   "metadata": {},
   "outputs": [
    {
     "data": {
      "text/plain": [
       "date\n",
       "2013-11-30 00:00:00+00:00    0.108454\n",
       "2013-12-31 00:00:00+00:00    0.207058\n",
       "2014-01-31 00:00:00+00:00    0.130790\n",
       "2014-02-28 00:00:00+00:00    0.338627\n",
       "2014-03-31 00:00:00+00:00    0.234737\n",
       "Freq: M, Name: sentiment, dtype: float64"
      ]
     },
     "execution_count": 38,
     "metadata": {},
     "output_type": "execute_result"
    }
   ],
   "source": [
    "df['sentiment'].resample(\"M\").mean().head()"
   ]
  },
  {
   "cell_type": "code",
   "execution_count": 39,
   "metadata": {},
   "outputs": [
    {
     "data": {
      "image/png": "[encoded data removed]",
      "text/plain": [
       "<Figure size 432x288 with 1 Axes>"
      ]
     },
     "metadata": {},
     "output_type": "display_data"
    }
   ],
   "source": [
    "## Plotting the data\n",
    "matplotlib.style.use(\"ggplot\")\n",
    "\n",
    "df['sentiment'].resample(\"M\").mean().plot(\n",
    "    title = \"Sentiment over Time\", lw=2, ylim=(-1,1))\n",
    "\n",
    "plt.axhline(0, color=\"k\", lw=2)\n",
    "plt.xlabel(\"Date\")\n",
    "plt.ylabel(\"Sentiment score\")\n",
    "\n",
    "plt.show()"
   ]
  },
  {
   "cell_type": "markdown",
   "metadata": {},
   "source": [
    "##### sentiment by weekday"
   ]
  },
  {
   "cell_type": "code",
   "execution_count": 40,
   "metadata": {},
   "outputs": [
    {
     "data": {
      "image/png": "[encoded data removed]",
      "text/plain": [
       "<Figure size 432x288 with 1 Axes>"
      ]
     },
     "metadata": {},
     "output_type": "display_data"
    }
   ],
   "source": [
    "dx = df[df.index > '2013-11-18']\n",
    "ax = dx.groupby(dx.index.weekday)[\"sentiment\"].mean().plot(kind=\"bar\", title=\"Average sentiment by day of week\")\n",
    "ax.set_xticklabels([\"Monday\", \"Tuesday\", \"Wednesday\", \"Thursday\", \"Friday\", \"Saturday\", \"Sunday\"])\n",
    "plt.ylabel(\"Sentiment score\")\n",
    "plt.show()"
   ]
  },
  {
   "cell_type": "markdown",
   "metadata": {},
   "source": [
    "##### comments in time"
   ]
  },
  {
   "cell_type": "code",
   "execution_count": 41,
   "metadata": {},
   "outputs": [
    {
     "data": {
      "image/png": "[encoded data removed]",
      "text/plain": [
       "<Figure size 432x288 with 1 Axes>"
      ]
     },
     "metadata": {},
     "output_type": "display_data"
    }
   ],
   "source": [
    "df[\"sentiment\"].resample(\"M\").count().plot()\n",
    "\n",
    "plt.axhline(0, color=\"k\", lw=2)\n",
    "plt.xlabel(\"Date\")\n",
    "plt.ylabel(\"Number of comments\")\n",
    "\n",
    "plt.show()"
   ]
  },
  {
   "cell_type": "code",
   "execution_count": 42,
   "metadata": {},
   "outputs": [
    {
     "data": {
      "image/png": "[encoded data removed]",
      "text/plain": [
       "<Figure size 432x288 with 1 Axes>"
      ]
     },
     "metadata": {},
     "output_type": "display_data"
    }
   ],
   "source": [
    "dx = df[df.index > '2013-11-18']\n",
    "dx[\"sentiment\"].resample(\"M\").count().plot()\n",
    "\n",
    "plt.axhline(0, color=\"k\", lw=2)\n",
    "plt.xlabel(\"Date\")\n",
    "plt.ylabel(\"Number of comments\")\n",
    "plt.show()"
   ]
  },
  {
   "cell_type": "markdown",
   "metadata": {},
   "source": [
    "##### No of comments by weekday"
   ]
  },
  {
   "cell_type": "code",
   "execution_count": 43,
   "metadata": {},
   "outputs": [
    {
     "data": {
      "image/png": "[encoded data removed]",
      "text/plain": [
       "<Figure size 432x288 with 1 Axes>"
      ]
     },
     "metadata": {},
     "output_type": "display_data"
    }
   ],
   "source": [
    "dx = df[df.index > '2013-11-15']\n",
    "\n",
    "ax = dx.groupby(dx.index.weekday)[\"comments\"].count().plot(kind=\"bar\", title=\"Number of comments per day\")\n",
    "ax.set_xticklabels([\"Monday\", \"Tuesday\", \"Wednesday\", \"Thursday\", \"Friday\", \"Saturday\", \"Sunday\"])\n",
    "\n",
    "plt.ylabel(\"Number of comments\")\n",
    "\n",
    "plt.show()"
   ]
  },
  {
   "cell_type": "code",
   "execution_count": null,
   "metadata": {},
   "outputs": [],
   "source": []
  }
 ],
 "metadata": {
  "kernelspec": {
   "display_name": "Python 3",
   "language": "python",
   "name": "python3"
  },
  "language_info": {
   "codemirror_mode": {
    "name": "ipython",
    "version": 3
   },
   "file_extension": ".py",
   "mimetype": "text/x-python",
   "name": "python",
   "nbconvert_exporter": "python",
   "pygments_lexer": "ipython3",
   "version": "3.8.6"
  }
 },
 "nbformat": 4,
 "nbformat_minor": 4
}
