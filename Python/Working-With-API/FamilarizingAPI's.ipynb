{
 "cells": [
  {
   "cell_type": "code",
   "execution_count": 118,
   "metadata": {},
   "outputs": [],
   "source": [
    "# pip install PyGithub "
   ]
  },
  {
   "cell_type": "markdown",
   "metadata": {},
   "source": [
    "## Loading the necessary Libraries"
   ]
  },
  {
   "cell_type": "code",
   "execution_count": 1,
   "metadata": {},
   "outputs": [],
   "source": [
    "import os\n",
    "import json\n",
    "import webbrowser\n",
    "import requests"
   ]
  },
  {
   "cell_type": "code",
   "execution_count": 2,
   "metadata": {},
   "outputs": [],
   "source": [
    "from dotenv import load_dotenv"
   ]
  },
  {
   "cell_type": "code",
   "execution_count": null,
   "metadata": {},
   "outputs": [],
   "source": [
    "from bs4 import BeautifulSoup as bs"
   ]
  },
  {
   "cell_type": "code",
   "execution_count": 4,
   "metadata": {},
   "outputs": [],
   "source": [
    "import pandas as pd"
   ]
  },
  {
   "cell_type": "code",
   "execution_count": 102,
   "metadata": {},
   "outputs": [],
   "source": [
    "import inspect"
   ]
  },
  {
   "cell_type": "code",
   "execution_count": 6,
   "metadata": {},
   "outputs": [],
   "source": [
    "## --- Twitter ---\n",
    "import tweepy\n",
    "import time"
   ]
  },
  {
   "cell_type": "code",
   "execution_count": 3,
   "metadata": {},
   "outputs": [],
   "source": [
    "## --- Youtube ---\n",
    "import google.auth"
   ]
  },
  {
   "cell_type": "code",
   "execution_count": 13,
   "metadata": {},
   "outputs": [],
   "source": [
    "from google.oauth2 import service_account\n",
    "from google_auth_oauthlib.flow import Flow\n",
    "from requests_oauthlib import OAuth2Session"
   ]
  },
  {
   "cell_type": "code",
   "execution_count": 3,
   "metadata": {},
   "outputs": [],
   "source": [
    "## --- GitHub ---\n",
    "from github import Github"
   ]
  },
  {
   "cell_type": "markdown",
   "metadata": {},
   "source": [
    "### GLobal Variables"
   ]
  },
  {
   "cell_type": "code",
   "execution_count": 4,
   "metadata": {},
   "outputs": [
    {
     "data": {
      "text/plain": [
       "True"
      ]
     },
     "execution_count": 4,
     "metadata": {},
     "output_type": "execute_result"
    }
   ],
   "source": [
    "path = os.path.expanduser(\"../data/\")\n",
    "load_dotenv(os.path.join(path, \".env\"))"
   ]
  },
  {
   "cell_type": "code",
   "execution_count": 8,
   "metadata": {},
   "outputs": [],
   "source": [
    "## --- Loading the env variables ---\n",
    "# Loading vars related to twitter\n",
    "TWITTER_KEY = os.environ.get(\"TWITTER_API_KEY\")\n",
    "TWITTER_SECRET= os.environ.get(\"TWITTER_API_SECRET\")"
   ]
  },
  {
   "cell_type": "code",
   "execution_count": 6,
   "metadata": {},
   "outputs": [],
   "source": [
    "# Loading vars related to youtube\n",
    "GOOGLE_ID = os.getenv(\"GOOGLE_CLIENT_ID\")\n",
    "GOOGLE_SECRET = os.getenv(\"GOOGLE_CLIENT_SECRET\")"
   ]
  },
  {
   "cell_type": "code",
   "execution_count": 6,
   "metadata": {},
   "outputs": [],
   "source": [
    "# Loading vars related to github\n",
    "GIT_USER = os.getenv(\"GIT_USERNAME\")\n",
    "GIT_PASS = os.getenv(\"GIT_PASSWORD\")\n",
    "GIT_ACCESS = os.getenv(\"GIT_ACCESS_TOKEN\")\n",
    "GIT_PER_ACCESS =os.getenv(\"GIT_PERSONAL_ACCESS\")\n",
    "GIT_CLIENT = os.getenv(\"GIT_CLIENT_ID\")\n",
    "GIT_SECRET = os.getenv(\"GIT_CLIENT_SECRET\")"
   ]
  },
  {
   "cell_type": "code",
   "execution_count": 21,
   "metadata": {},
   "outputs": [],
   "source": [
    "## --- Creating nescessary url's ---\n",
    "# url's realted to twitter\n",
    "callback_URL = \"oob\"\n",
    "TREND = \"https://api.twitter.com/1.1/trends/available.json\"\n",
    "EXPLORE = \"https://twitter.com/explore\"\n",
    "\n",
    "# url's related to google\n",
    "SCOPES = ['https://www.googleapis.com/auth/contacts.readonly',\n",
    "          \"https://www.googleapis.com/auth/youtube.force-ssl\",\n",
    "          \"https://www.googleapis.com/auth/youtube\",\n",
    "          \"https://www.googleapis.com/auth/youtube.upload\"]\n",
    "REDIRECT = \"https://console.developers.google.com/apis/dashboard?project=d-soul-297508\"\n",
    "SEARCH = \"https://www.googleapis.com/youtube/v3/search\"\n",
    "COMMENTS = \"https://www.googleapis.com/youtube/v3/commentThreads\"\n",
    "CHANNEL = \"https://www.googleapis.com/youtube/v3/channels\"\n",
    "\n",
    "# url's related to github\n",
    "REPOS = \"https://api.github.com/repos/\"\n",
    "GIT_AUTH = \"https://api.github.com/authorizations/clients\""
   ]
  },
  {
   "cell_type": "code",
   "execution_count": 26,
   "metadata": {},
   "outputs": [],
   "source": [
    "## --- Others ---\n",
    "# Creating vars for twitter accounts names\n",
    "KAJAL = \"MsKajalAggarwal\"\n",
    "RAASHI = \"RaashiKhanna\"\n",
    "RAKUL = \"Rakulpreet\"\n",
    "MONKE = \"MonkEtweets\"\n",
    "SUNNY = \"SunnyLeone\"\n",
    "TRUMP = \"realDonaldTrump\"\n",
    "NEEL = \"prashanth_neel\"\n",
    "\n",
    "# Loading the Google Credentials json file\n",
    "with open(\"../data/3D-soul.json\") as fh:\n",
    "    GOOGLE_APPLICATION_CREDENTIALS= json.loads(fh.read())\n",
    "    \n",
    "BASE_URL = GOOGLE_APPLICATION_CREDENTIALS[\"auth_uri\"]\n",
    "TOKEN_URL = GOOGLE_APPLICATION_CREDENTIALS[\"token_uri\"]\n",
    "\n",
    "# Git usernames\n",
    "NAMES = [\"tensorflow\", \"donnemartn\", \"The Algorithms\",  \"Django\", \"nvbn\"]\n",
    "TOP_USERS = [\"fabpot\", \"andrew\", \"taylorotwell\", \"egoist\"]\n",
    "TOP_REPOS = [\"freeCodeCamp/freeCodeCamp\", \"getify/You-Dont-Know-JS\", \"vhf/free-programming-books\", \n",
    "             \"twbs/bootstrap\", \"jwasham/coding-interview-university\"]\n",
    "TOP_ORGS = [\"adobe\", \"RedHatOfficial\",\"Netflix\"]"
   ]
  },
  {
   "cell_type": "markdown",
   "metadata": {},
   "source": [
    "### Functions & Classes"
   ]
  },
  {
   "cell_type": "code",
   "execution_count": 11,
   "metadata": {},
   "outputs": [],
   "source": [
    "# getting the STATUS to latest tweet of the USER\n",
    "def latest_tweet(user_name, num=0):\n",
    "    user = api.get_user(user_name)\n",
    "    user_timeline = user.timeline()\n",
    "\n",
    "    user_timeline_status_obj = user_timeline[0]\n",
    "    status_obj_id = user_timeline_status_obj.id\n",
    "    status_obj_screen_name = user_timeline_status_obj.user.screen_name\n",
    "    status_obj_url = f\"https://twitter.com/{status_obj_screen_name}/status/{status_obj_id}\"\n",
    "\n",
    "    return {\"obj_id\" : status_obj_id, \"obj_url\" : status_obj_url}"
   ]
  },
  {
   "cell_type": "code",
   "execution_count": 19,
   "metadata": {},
   "outputs": [
    {
     "data": {
      "text/plain": [
       "{'obj_id': 1326124827929845762,\n",
       " 'obj_url': 'https://twitter.com/MonkEtweets/status/1326124827929845762'}"
      ]
     },
     "execution_count": 19,
     "metadata": {},
     "output_type": "execute_result"
    }
   ],
   "source": [
    "## testing func\n",
    "latest_tweet(MONKE)"
   ]
  },
  {
   "cell_type": "markdown",
   "metadata": {},
   "source": [
    "## Authorization"
   ]
  },
  {
   "cell_type": "code",
   "execution_count": 15,
   "metadata": {},
   "outputs": [
    {
     "data": {
      "text/plain": [
       "True"
      ]
     },
     "execution_count": 15,
     "metadata": {},
     "output_type": "execute_result"
    }
   ],
   "source": [
    "## --- Twitter authentication ---\n",
    "auth = tweepy.OAuthHandler(TWITTER_KEY, TWITTER_SECRET, callback_URL)\n",
    "redirect_URL =auth.get_authorization_url()\n",
    "webbrowser.open(redirect_URL)"
   ]
  },
  {
   "cell_type": "code",
   "execution_count": 16,
   "metadata": {},
   "outputs": [
    {
     "name": "stdout",
     "output_type": "stream",
     "text": [
      "Enter the PIN :1750553\n"
     ]
    }
   ],
   "source": [
    "PIN = input(\"Enter the PIN :\")"
   ]
  },
  {
   "cell_type": "code",
   "execution_count": 17,
   "metadata": {},
   "outputs": [],
   "source": [
    "access_token, access_secret = auth.get_access_token(PIN)"
   ]
  },
  {
   "cell_type": "code",
   "execution_count": 104,
   "metadata": {},
   "outputs": [],
   "source": [
    "## --- Google Authentication ---\n",
    "google = OAuth2Session(GOOGLE_ID, scope=SCOPES, redirect_uri=REDIRECT)\n",
    "\n",
    "authorization_url, state = google.authorization_url(BASE_URL,\n",
    "                                                    access_type =\"offline\",\n",
    "                                                    prompt=\"select_account\")"
   ]
  },
  {
   "cell_type": "code",
   "execution_count": 105,
   "metadata": {},
   "outputs": [
    {
     "data": {
      "text/plain": [
       "True"
      ]
     },
     "execution_count": 105,
     "metadata": {},
     "output_type": "execute_result"
    }
   ],
   "source": [
    "webbrowser.open(authorization_url)"
   ]
  },
  {
   "cell_type": "code",
   "execution_count": 106,
   "metadata": {},
   "outputs": [
    {
     "name": "stdout",
     "output_type": "stream",
     "text": [
      "Enter the URL:https://console.developers.google.com/apis/dashboard?project=d-soul-297508&state=gL1pBG7X0EZXx1Ai9Jq7yMZ1h9Q0FX&code=4%2F0AY0e-g55rHbowNHR_4t52Ib0yLBVbhz5iISDUep0zce_PbSrGhZ3TUx6Gq14xZACUFicPA&scope=https:%2F%2Fwww.googleapis.com%2Fauth%2Fcontacts.readonly%20https:%2F%2Fwww.googleapis.com%2Fauth%2Fyoutube%20https:%2F%2Fwww.googleapis.com%2Fauth%2Fyoutube.force-ssl%20https:%2F%2Fwww.googleapis.com%2Fauth%2Fyoutube.upload\n"
     ]
    }
   ],
   "source": [
    "redirect_url = input(\"Enter the URL:\")"
   ]
  },
  {
   "cell_type": "code",
   "execution_count": 107,
   "metadata": {},
   "outputs": [],
   "source": [
    "response = google.fetch_token(token_url=TOKEN_URL ,client_secret=GOOGLE_SECRET, authorization_response=redirect_url)"
   ]
  },
  {
   "cell_type": "code",
   "execution_count": 108,
   "metadata": {},
   "outputs": [],
   "source": [
    "# response\n",
    "TOKEN = response[\"access_token\"]"
   ]
  },
  {
   "cell_type": "markdown",
   "metadata": {},
   "source": [
    "## Acessing Twitter API "
   ]
  },
  {
   "cell_type": "code",
   "execution_count": 18,
   "metadata": {},
   "outputs": [],
   "source": [
    "## --- Twitter APi ---\n",
    "api = tweepy.API(auth)\n",
    "me = api.me()"
   ]
  },
  {
   "cell_type": "code",
   "execution_count": 36,
   "metadata": {},
   "outputs": [],
   "source": [
    "# dir(api)"
   ]
  },
  {
   "cell_type": "code",
   "execution_count": 20,
   "metadata": {},
   "outputs": [
    {
     "name": "stdout",
     "output_type": "stream",
     "text": [
      "821Suhruth\n",
      "821Suhruth\n"
     ]
    }
   ],
   "source": [
    "print(me.screen_name)\n",
    "print(api.me().screen_name)"
   ]
  },
  {
   "cell_type": "code",
   "execution_count": 21,
   "metadata": {},
   "outputs": [],
   "source": [
    "## STATUS or TWEET\n",
    "# Updating status or tweet using python\n",
    "new_status = api.update_status(\"OMG! I tweeted this using #python, just playing with the #tweepy...\")"
   ]
  },
  {
   "cell_type": "code",
   "execution_count": 22,
   "metadata": {},
   "outputs": [],
   "source": [
    "# Destroying the tweet just tweeted\n",
    "tmp_destroy = new_status.destroy()"
   ]
  },
  {
   "cell_type": "code",
   "execution_count": 23,
   "metadata": {},
   "outputs": [],
   "source": [
    "# Tweeting using an image\n",
    "img_path = \"../data/new_status.PNG\"\n",
    "img_obj = api.media_upload(img_path)"
   ]
  },
  {
   "cell_type": "code",
   "execution_count": 24,
   "metadata": {},
   "outputs": [],
   "source": [
    "new_status = api.update_status(\"OMG! I tweeted this using #python, just playing with the #tweepy... \", media_ids = [img_obj.media_id_string])"
   ]
  },
  {
   "cell_type": "code",
   "execution_count": 25,
   "metadata": {},
   "outputs": [],
   "source": [
    "tmp_destroy = new_status.destroy()"
   ]
  },
  {
   "cell_type": "code",
   "execution_count": 26,
   "metadata": {},
   "outputs": [
    {
     "name": "stdout",
     "output_type": "stream",
     "text": [
      "कहासुनी: पेट्रोल, डीज़ल की कीमतों में उछाल जारी है. लगातार छठे दिन कंपनियों ने दाम बढ़ाए. ये दाम सितंबर 2018 के बाद… https://t.co/AJXfBMmCql\n",
      "-----\n",
      "\n",
      "As Monday welcomes \"Greater Snow\" in #China, the 21st of 24th solar terms in the Chinese lunar year, marking the ar… https://t.co/KFYq676ebB\n",
      "-----\n",
      "\n",
      "10000 years ago, జీవితం ఎలా ఉండేది? Stay tuned to know more! #TheBirth10000BC https://t.co/kO7vIgVUQt\n",
      "-----\n",
      "\n",
      "ఏలూరు ప్రజలకు ప్రభుత్వం మరింత అండగా ఉండాలి - JanaSena Chief Shri @PawanKalyan https://t.co/HVAWlybSLf\n",
      "-----\n",
      "\n",
      "నివర్ తుఫాన్ కారణంగా నష్టపోయిన రైతులకు తక్షణ సహాయం అందించాలని కోరుతూ జనసేన పార్టీ అధ్యక్షులు శ్రీ #PawanKalyan గారి… https://t.co/SDFxKnULnF\n",
      "-----\n",
      "\n",
      "किसान आंदोलन में दिल्ली की सीमाओं पर डटे पंजाब के किसानों के घर की देखभाल कौन कर रहा है?\n",
      "\n",
      "वीडियो: सुखचरण प्रीत/सुमि… https://t.co/dA9da9DHxu\n",
      "-----\n",
      "\n",
      "RT @WhackedOutMedia: Here's wishing the MD of Mango Mass Media &amp; Whacked Out Media, Mr. Rama Krishna Veerapaneni (Ram) and Singer @Official…\n",
      "-----\n",
      "\n",
      "నివర్ తుఫాన్ కారణంగా నష్టపోయిన రైతులకు తక్షణ సహాయం అందించాలని కోరుతూ జనసేన పార్టీ అధ్యక్షులు శ్రీ #PawanKalyan గారి… https://t.co/hB6P8PJuIZ\n",
      "-----\n",
      "\n",
      "💪🏼 ✨ https://t.co/uwLaVImN9k\n",
      "-----\n",
      "\n",
      "5 Twitter Hacks That Will Get You Noticed By Your Target Audience \n",
      "https://t.co/pgYraGTqk1\n",
      "#twitter #getnoticed https://t.co/pv0bq49pSU\n",
      "-----\n",
      "\n",
      "నివర్ తుఫాన్ కారణంగా నష్టపోయిన రైతులకు తక్షణ సహాయం అందించాలని కోరుతూ జనసేన పార్టీ అధ్యక్షులు శ్రీ #PawanKalyan గారి… https://t.co/aFi2QGiu4q\n",
      "-----\n",
      "\n",
      "ఈరోజే ప్రారంభం!!! \n",
      "\n",
      "సరికొత్త ధారావాహిక ' గుప్పెడంత మనసు '..డిసెంబర్ 7th నుండి రాత్రి 7 గంటలకు మీ @StarMaa లో… https://t.co/ayj9bP6pd0\n",
      "-----\n",
      "\n",
      "https://t.co/jEYzCodrHB\n",
      "-----\n",
      "\n",
      "https://t.co/Tr8VtH16hq\n",
      "-----\n",
      "\n",
      "https://t.co/t7gwvrSBAh\n",
      "-----\n",
      "\n",
      "Wrote another poem about love... https://t.co/oveitrYoEh\n",
      "-----\n",
      "\n",
      "Education is the most valuable gift one can give.\n",
      "\n",
      "Heartiest congratulations to @ranjitdisale on winning the… https://t.co/ztviliUxU6\n",
      "-----\n",
      "\n",
      "#PrasadNekuri @myself_akkii #CrystolyteMediaCreations \n",
      "@akkiartss #MangoMassMedia\n",
      "-----\n",
      "\n",
      "RT @StarStruckbySL: Refresh and prep your skin with #HydratingPrimer to create a silky smooth canvas before applying makeup! Infused with S…\n",
      "-----\n",
      "\n"
     ]
    }
   ],
   "source": [
    "## TIMELINE\n",
    "# Acessing my own timeline\n",
    "my_timeline = api.home_timeline()\n",
    "\n",
    "for status in my_timeline:\n",
    "    print(status.text)\n",
    "    print(\"-----\\n\")"
   ]
  },
  {
   "cell_type": "code",
   "execution_count": 27,
   "metadata": {},
   "outputs": [
    {
     "data": {
      "text/plain": [
       "{'user_name': 'BBCHindi',\n",
       " 'author': 'BBCHindi',\n",
       " 'id': 1335917001047420928,\n",
       " 'id_str': '1335917001047420928',\n",
       " 'text': 'कहासुनी: पेट्रोल, डीज़ल की कीमतों में उछाल जारी है. लगातार छठे दिन कंपनियों ने दाम बढ़ाए. ये दाम सितंबर 2018 के बाद… https://t.co/AJXfBMmCql',\n",
       " 'source': 'SocialFlow',\n",
       " 'source_url': 'http://www.socialflow.com',\n",
       " 'retweet_count': 1,\n",
       " 'favorite_count': 7,\n",
       " 'lang': 'hi'}"
      ]
     },
     "execution_count": 27,
     "metadata": {},
     "output_type": "execute_result"
    }
   ],
   "source": [
    "columns = set()\n",
    "allowed_types = [str, int]\n",
    "tweets_data = []\n",
    "\n",
    "for status in my_timeline:\n",
    "    status_dict = dict(vars(status))\n",
    "    keys = status_dict.keys()\n",
    "    single_tweet_data = {\n",
    "        \"user_name\": status.user.screen_name,\n",
    "        \"author\": status.author.screen_name}\n",
    "    for key in keys:\n",
    "        if type(status_dict[key]) in allowed_types:\n",
    "            single_tweet_data[key] = status_dict[key]\n",
    "            columns.add(key)\n",
    "    tweets_data.append(single_tweet_data)\n",
    "        \n",
    "headers = list(columns)\n",
    "headers.append(\"user_name\")\n",
    "headers.append(\"author\")\n",
    "\n",
    "tweets_data[0]"
   ]
  },
  {
   "cell_type": "code",
   "execution_count": 28,
   "metadata": {},
   "outputs": [
    {
     "data": {
      "text/html": [
       "<div>\n",
       "<style scoped>\n",
       "    .dataframe tbody tr th:only-of-type {\n",
       "        vertical-align: middle;\n",
       "    }\n",
       "\n",
       "    .dataframe tbody tr th {\n",
       "        vertical-align: top;\n",
       "    }\n",
       "\n",
       "    .dataframe thead th {\n",
       "        text-align: right;\n",
       "    }\n",
       "</style>\n",
       "<table border=\"1\" class=\"dataframe\">\n",
       "  <thead>\n",
       "    <tr style=\"text-align: right;\">\n",
       "      <th></th>\n",
       "      <th>retweet_count</th>\n",
       "      <th>favorite_count</th>\n",
       "      <th>text</th>\n",
       "      <th>id_str</th>\n",
       "      <th>in_reply_to_status_id_str</th>\n",
       "      <th>source</th>\n",
       "      <th>source_url</th>\n",
       "      <th>in_reply_to_status_id</th>\n",
       "      <th>in_reply_to_user_id</th>\n",
       "      <th>in_reply_to_user_id_str</th>\n",
       "      <th>quoted_status_id</th>\n",
       "      <th>quoted_status_id_str</th>\n",
       "      <th>in_reply_to_screen_name</th>\n",
       "      <th>lang</th>\n",
       "      <th>id</th>\n",
       "      <th>user_name</th>\n",
       "      <th>author</th>\n",
       "    </tr>\n",
       "  </thead>\n",
       "  <tbody>\n",
       "    <tr>\n",
       "      <th>0</th>\n",
       "      <td>1</td>\n",
       "      <td>7</td>\n",
       "      <td>कहासुनी: पेट्रोल, डीज़ल की कीमतों में उछाल जार...</td>\n",
       "      <td>1335917001047420928</td>\n",
       "      <td>NaN</td>\n",
       "      <td>SocialFlow</td>\n",
       "      <td>http://www.socialflow.com</td>\n",
       "      <td>NaN</td>\n",
       "      <td>NaN</td>\n",
       "      <td>NaN</td>\n",
       "      <td>NaN</td>\n",
       "      <td>NaN</td>\n",
       "      <td>NaN</td>\n",
       "      <td>hi</td>\n",
       "      <td>1335917001047420928</td>\n",
       "      <td>BBCHindi</td>\n",
       "      <td>BBCHindi</td>\n",
       "    </tr>\n",
       "    <tr>\n",
       "      <th>1</th>\n",
       "      <td>0</td>\n",
       "      <td>2</td>\n",
       "      <td>As Monday welcomes \"Greater Snow\" in #China, t...</td>\n",
       "      <td>1335916972832399360</td>\n",
       "      <td>NaN</td>\n",
       "      <td>Twitter Web App</td>\n",
       "      <td>https://mobile.twitter.com</td>\n",
       "      <td>NaN</td>\n",
       "      <td>NaN</td>\n",
       "      <td>NaN</td>\n",
       "      <td>NaN</td>\n",
       "      <td>NaN</td>\n",
       "      <td>NaN</td>\n",
       "      <td>en</td>\n",
       "      <td>1335916972832399360</td>\n",
       "      <td>CGTNOfficial</td>\n",
       "      <td>CGTNOfficial</td>\n",
       "    </tr>\n",
       "    <tr>\n",
       "      <th>2</th>\n",
       "      <td>0</td>\n",
       "      <td>10</td>\n",
       "      <td>10000 years ago, జీవితం ఎలా ఉండేది? Stay tuned...</td>\n",
       "      <td>1335916972719001600</td>\n",
       "      <td>NaN</td>\n",
       "      <td>Twitter Web App</td>\n",
       "      <td>https://mobile.twitter.com</td>\n",
       "      <td>NaN</td>\n",
       "      <td>NaN</td>\n",
       "      <td>NaN</td>\n",
       "      <td>NaN</td>\n",
       "      <td>NaN</td>\n",
       "      <td>NaN</td>\n",
       "      <td>en</td>\n",
       "      <td>1335916972719001600</td>\n",
       "      <td>telugufilmnagar</td>\n",
       "      <td>telugufilmnagar</td>\n",
       "    </tr>\n",
       "    <tr>\n",
       "      <th>3</th>\n",
       "      <td>98</td>\n",
       "      <td>178</td>\n",
       "      <td>ఏలూరు ప్రజలకు ప్రభుత్వం మరింత అండగా ఉండాలి - J...</td>\n",
       "      <td>1335916110613336064</td>\n",
       "      <td>NaN</td>\n",
       "      <td>Twitter for Android</td>\n",
       "      <td>http://twitter.com/download/android</td>\n",
       "      <td>NaN</td>\n",
       "      <td>NaN</td>\n",
       "      <td>NaN</td>\n",
       "      <td>NaN</td>\n",
       "      <td>NaN</td>\n",
       "      <td>NaN</td>\n",
       "      <td>te</td>\n",
       "      <td>1335916110613336064</td>\n",
       "      <td>JanaSenaParty</td>\n",
       "      <td>JanaSenaParty</td>\n",
       "    </tr>\n",
       "    <tr>\n",
       "      <th>4</th>\n",
       "      <td>23</td>\n",
       "      <td>49</td>\n",
       "      <td>నివర్ తుఫాన్ కారణంగా నష్టపోయిన రైతులకు తక్షణ స...</td>\n",
       "      <td>1335914863705526277</td>\n",
       "      <td>1335911487752163328</td>\n",
       "      <td>Twitter for Android</td>\n",
       "      <td>http://twitter.com/download/android</td>\n",
       "      <td>1.335911e+18</td>\n",
       "      <td>7.835355e+17</td>\n",
       "      <td>783535484316319744</td>\n",
       "      <td>NaN</td>\n",
       "      <td>NaN</td>\n",
       "      <td>JanaSenaParty</td>\n",
       "      <td>te</td>\n",
       "      <td>1335914863705526277</td>\n",
       "      <td>JanaSenaParty</td>\n",
       "      <td>JanaSenaParty</td>\n",
       "    </tr>\n",
       "  </tbody>\n",
       "</table>\n",
       "</div>"
      ],
      "text/plain": [
       "   retweet_count  favorite_count  \\\n",
       "0              1               7   \n",
       "1              0               2   \n",
       "2              0              10   \n",
       "3             98             178   \n",
       "4             23              49   \n",
       "\n",
       "                                                text               id_str  \\\n",
       "0  कहासुनी: पेट्रोल, डीज़ल की कीमतों में उछाल जार...  1335917001047420928   \n",
       "1  As Monday welcomes \"Greater Snow\" in #China, t...  1335916972832399360   \n",
       "2  10000 years ago, జీవితం ఎలా ఉండేది? Stay tuned...  1335916972719001600   \n",
       "3  ఏలూరు ప్రజలకు ప్రభుత్వం మరింత అండగా ఉండాలి - J...  1335916110613336064   \n",
       "4  నివర్ తుఫాన్ కారణంగా నష్టపోయిన రైతులకు తక్షణ స...  1335914863705526277   \n",
       "\n",
       "  in_reply_to_status_id_str               source  \\\n",
       "0                       NaN           SocialFlow   \n",
       "1                       NaN      Twitter Web App   \n",
       "2                       NaN      Twitter Web App   \n",
       "3                       NaN  Twitter for Android   \n",
       "4       1335911487752163328  Twitter for Android   \n",
       "\n",
       "                            source_url  in_reply_to_status_id  \\\n",
       "0            http://www.socialflow.com                    NaN   \n",
       "1           https://mobile.twitter.com                    NaN   \n",
       "2           https://mobile.twitter.com                    NaN   \n",
       "3  http://twitter.com/download/android                    NaN   \n",
       "4  http://twitter.com/download/android           1.335911e+18   \n",
       "\n",
       "   in_reply_to_user_id in_reply_to_user_id_str  quoted_status_id  \\\n",
       "0                  NaN                     NaN               NaN   \n",
       "1                  NaN                     NaN               NaN   \n",
       "2                  NaN                     NaN               NaN   \n",
       "3                  NaN                     NaN               NaN   \n",
       "4         7.835355e+17      783535484316319744               NaN   \n",
       "\n",
       "  quoted_status_id_str in_reply_to_screen_name lang                   id  \\\n",
       "0                  NaN                     NaN   hi  1335917001047420928   \n",
       "1                  NaN                     NaN   en  1335916972832399360   \n",
       "2                  NaN                     NaN   en  1335916972719001600   \n",
       "3                  NaN                     NaN   te  1335916110613336064   \n",
       "4                  NaN           JanaSenaParty   te  1335914863705526277   \n",
       "\n",
       "         user_name           author  \n",
       "0         BBCHindi         BBCHindi  \n",
       "1     CGTNOfficial     CGTNOfficial  \n",
       "2  telugufilmnagar  telugufilmnagar  \n",
       "3    JanaSenaParty    JanaSenaParty  \n",
       "4    JanaSenaParty    JanaSenaParty  "
      ]
     },
     "execution_count": 28,
     "metadata": {},
     "output_type": "execute_result"
    }
   ],
   "source": [
    "df = pd.DataFrame(tweets_data, columns=headers)\n",
    "df.head()"
   ]
  },
  {
   "cell_type": "code",
   "execution_count": 32,
   "metadata": {},
   "outputs": [
    {
     "name": "stdout",
     "output_type": "stream",
     "text": [
      "Watch @marklevinshow at 11:00 P.M. (now!) and @SteveHiltonx at 12:00 A.M. on the Great Election Fraud of 2020!\n",
      "RT @realDonaldTrump: SO TRUE. NO WAY WE LOST THIS ELECTION!\n",
      "RT @realDonaldTrump: A MUST WATCH! Hope the lawyers are all taking notes. All FACTS, do not flag this Twitter!\n",
      "https://t.co/j0jTBUR6jv\n",
      "https://t.co/RAIj4zXKBk\n",
      "https://t.co/khAkcJRait\n",
      "RT @gregkellyusa: What Happened Reverend in that situation with CHILD ABUSE ????  Wow.  He DISRESPECTS KIDS AND COPS.  @KLoeffler is not on…\n",
      "True. Great debate for Kelly! https://t.co/M2y3An9wbL\n",
      "SO TRUE. NO WAY WE LOST THIS ELECTION! https://t.co/FC4XtNzuxo\n",
      "A MUST WATCH! Hope the lawyers are all taking notes. All FACTS, do not flag this Twitter! https://t.co/5vWbEfKRf7\n",
      "Gee, what a surprise. Has anyone informed the so-called (says he has no power to do anything!) Governor @BrianKempGA &amp; his puppet Lt. Governor @GeoffDuncanGA, that they could easily solve this mess, &amp; WIN. Signature verification &amp; call a Special Session. So easy! https://t.co/5cb4QdYzpU\n"
     ]
    }
   ],
   "source": [
    "## OTHER USERS\n",
    "# getting data from trump timeline \n",
    "for index,status in enumerate(tweepy.Cursor(api.user_timeline, screen_name=TRUMP, tweet_mode=\"extended\").items()):\n",
    "    print(status.full_text)\n",
    "    if index == 10:\n",
    "        break"
   ]
  },
  {
   "cell_type": "code",
   "execution_count": 33,
   "metadata": {},
   "outputs": [
    {
     "name": "stdout",
     "output_type": "stream",
     "text": [
      "RT @iVishnuManchu: Whoever we are, whatever we are; our priority is to safe guard our Farmers. My grandfather was a farmer and I am very pr…\n",
      "Coming soon... @kitchlug @discernliving https://t.co/dJTxZRXrSu\n",
      "😍 @gitanjaliarao https://t.co/JrLd1uMzNs\n",
      "Coming soon... @discernliving @kitchlug https://t.co/RtiwtH6KAH\n",
      "RT @hvgoenka: So beautifully said: https://t.co/8lKDFZLVNQ\n",
      "Husband. ❤️ https://t.co/bSq1DfeLB4\n",
      "May we have our cake and eat it too? 🧁🍪 #happyonemonth 💁🏻‍♀️ #timefliesalready #catchingmoments https://t.co/54S6yxgx6y\n",
      "Here’s to Laughter, love and all things nice @kitchlug ❤️ https://t.co/jJElEyvdWi\n",
      "India HandMade Collective, was started as a response to the Covid hardships that hit the artisans &amp; the groups working with hand made artisans. Lets all support these artisans &amp; handmade products. help spread this too! https://t.co/mVguj726Oc\n",
      "@ConnectIHMC #handmade #slowFashion https://t.co/lqeRv6QEDB\n",
      "#favouriteflowers https://t.co/FZcs7QV18r\n",
      "#favouriteflowers https://t.co/mZhvMch5Rg\n"
     ]
    }
   ],
   "source": [
    "# getting data from kaju's timeline \n",
    "for index,status in enumerate(tweepy.Cursor(api.user_timeline, screen_name=KAJAL, tweet_mode=\"extended\").items()):\n",
    "    print(status.full_text)\n",
    "    if index == 10:\n",
    "        break"
   ]
  },
  {
   "cell_type": "code",
   "execution_count": 34,
   "metadata": {},
   "outputs": [
    {
     "data": {
      "text/plain": [
       "'Channelling the desi vibe..\\n#shootdiaries  #pollachi 💚 https://t.co/gjQONA3uHL'"
      ]
     },
     "execution_count": 34,
     "metadata": {},
     "output_type": "execute_result"
    }
   ],
   "source": [
    "# getting the latest tweet of Raashi Khanna\n",
    "status_obj = api.get_status(\"1331919421770670083/photo/2\")\n",
    "status_obj.text"
   ]
  },
  {
   "cell_type": "code",
   "execution_count": 35,
   "metadata": {},
   "outputs": [
    {
     "name": "stdout",
     "output_type": "stream",
     "text": [
      "https://twitter.com/SunnyLeone/status/1335816966284529665\n"
     ]
    }
   ],
   "source": [
    "# getting the LINK to latest tweet of the Sunny Leone\n",
    "tmp_obj = latest_tweet(SUNNY)\n",
    "\n",
    "print(tmp_obj[\"obj_url\"])"
   ]
  },
  {
   "cell_type": "code",
   "execution_count": 36,
   "metadata": {},
   "outputs": [
    {
     "data": {
      "text/plain": [
       "True"
      ]
     },
     "execution_count": 36,
     "metadata": {},
     "output_type": "execute_result"
    }
   ],
   "source": [
    "## AUTO RETWEET\n",
    "tmp_obj = latest_tweet(RAKUL)\n",
    "\n",
    "webbrowser.open(tmp_obj[\"obj_url\"])"
   ]
  },
  {
   "cell_type": "code",
   "execution_count": 37,
   "metadata": {},
   "outputs": [],
   "source": [
    "# liking the Rakul's latest tweet\n",
    "like = api.create_favorite(tmp_obj[\"obj_id\"])"
   ]
  },
  {
   "cell_type": "code",
   "execution_count": 38,
   "metadata": {},
   "outputs": [],
   "source": [
    "# disliking the tweet I just liked\n",
    "dislike = api.destroy_favorite(tmp_obj[\"obj_id\"])"
   ]
  },
  {
   "cell_type": "code",
   "execution_count": 70,
   "metadata": {},
   "outputs": [],
   "source": [
    "# retweeting the\n",
    "retweet = api.retweet(tmp_obj[\"obj_id\"])"
   ]
  },
  {
   "cell_type": "code",
   "execution_count": 79,
   "metadata": {},
   "outputs": [
    {
     "data": {
      "text/plain": [
       "True"
      ]
     },
     "execution_count": 79,
     "metadata": {},
     "output_type": "execute_result"
    }
   ],
   "source": [
    "## REPLY\n",
    "# getting Prasanth Neel's latesttweet\n",
    "tmp_obj = latest_tweet(NEEL)\n",
    "\n",
    "webbrowser.open(tmp_obj[\"obj_url\"])"
   ]
  },
  {
   "cell_type": "code",
   "execution_count": 84,
   "metadata": {},
   "outputs": [],
   "source": [
    "# creating a status obj\n",
    "status_obj = api.get_status(tmp_obj[\"obj_id\"])\n",
    "\n",
    "user_name, user_id = (status_obj.user.screen_name, status_obj.id)"
   ]
  },
  {
   "cell_type": "code",
   "execution_count": 85,
   "metadata": {},
   "outputs": [],
   "source": [
    "# replying to the tweet\n",
    "my_reply = api.update_status(f\"@{user_name} Eagerly waiting for this one...\", user_id)"
   ]
  },
  {
   "cell_type": "code",
   "execution_count": 86,
   "metadata": {},
   "outputs": [
    {
     "name": "stdout",
     "output_type": "stream",
     "text": [
      "5872569 147\n"
     ]
    }
   ],
   "source": [
    "## FOLLOW \n",
    "# getting sunny's friends count\n",
    "user = api.get_user(SUNNY)\n",
    "print(user.followers_count, user.friends_count)"
   ]
  },
  {
   "cell_type": "code",
   "execution_count": 87,
   "metadata": {},
   "outputs": [
    {
     "data": {
      "text/plain": [
       "['RakeshRoshan_N',\n",
       " 'avigowariker',\n",
       " 'AnupamPKher',\n",
       " 'Krushna_KAS',\n",
       " 'OrlikGallery',\n",
       " 'diljitdosanjh',\n",
       " 'varunsharma90',\n",
       " 'ADITYADATT',\n",
       " 'karamvirlamba',\n",
       " 'StarStruckbySL',\n",
       " 'tussaudsdelhi',\n",
       " 'OYERJALOK',\n",
       " 'TheRealSalgado']"
      ]
     },
     "execution_count": 87,
     "metadata": {},
     "output_type": "execute_result"
    }
   ],
   "source": [
    "# sending friend request to sunny friends\n",
    "my_new_friends = []\n",
    "user_friends = user.friends()\n",
    "for friend in user_friends:\n",
    "    if friend.followers_count > 300 and friend.friends_count < 300:\n",
    "        # print(friend.screen_name)\n",
    "        my_new_friends.append(friend.screen_name)\n",
    "        relation = api.create_friendship(friend.screen_name)\n",
    "        \n",
    "my_new_friends"
   ]
  },
  {
   "cell_type": "code",
   "execution_count": 88,
   "metadata": {},
   "outputs": [],
   "source": [
    "# unfriending my requests\n",
    "for username in my_new_friends:\n",
    "    api.destroy_friendship(username)"
   ]
  },
  {
   "cell_type": "code",
   "execution_count": 100,
   "metadata": {},
   "outputs": [
    {
     "name": "stdout",
     "output_type": "stream",
     "text": [
      "0 किसान आंदोलन: क्या सरकार और किसानों के बीच सुलह का कोई ‘फ़ॉर्मूला’ है ? https://t.co/1yATyHeIrB\n",
      "1 నివర్ తుఫాన్ కారణంగా నష్టపోయిన రైతులకు తక్షణ సహాయం అందించాలని కోరుతూ జనసేన పార్టీ అధ్యక్షులు శ్రీ #PawanKalyan గారి… https://t.co/MYpzjRl6bS\n",
      "2 Congratulations @SachinSagaGame on turning 3️⃣!\n",
      "\n",
      "The team has continuously strived to make the game a fabulous digi… https://t.co/plmvWxDVsa\n",
      "3 నివర్ తుఫాన్ కారణంగా నష్టపోయిన రైతులకు తక్షణ సహాయం అందించాలని కోరుతూ జనసేన పార్టీ అధ్యక్షులు శ్రీ #PawanKalyan గారి… https://t.co/gb4vM1Q3Ci\n",
      "4 #UFC Vegas: Late replacement Vettori gets upset win over Hermansson https://t.co/5EuSNJlS0h https://t.co/uD9r0rIBFt\n",
      "5 @prashanth_neel Eagerly waiting for this one...\n",
      "6 What do you think is better, being single or committed??? 😋 https://t.co/YcIZdPcf8U\n",
      "7 कीर्तिश का आज का कार्टून https://t.co/lCCAfeFoyc\n",
      "8 నివర్ తుఫాన్ కారణంగా నష్టపోయిన రైతులకు తక్షణ సహాయం అందించాలని కోరుతూ జనసేన పార్టీ అధ్యక్షులు శ్రీ #PawanKalyan గారి… https://t.co/0dxatx25xP\n",
      "9 Lost In Space: Season 2 In-Depth VFX Breakdown By ImageEngine https://t.co/TMFaXTQxbK https://t.co/VmfcS1ptt6\n"
     ]
    }
   ],
   "source": [
    "## ITEMS and PAGINATION\n",
    "for index,status in enumerate(tweepy.Cursor(api.home_timeline, count=50).items(10)):\n",
    "    print(index, status.text)"
   ]
  },
  {
   "cell_type": "code",
   "execution_count": 101,
   "metadata": {},
   "outputs": [
    {
     "name": "stdout",
     "output_type": "stream",
     "text": [
      "kajalgifs\n",
      "Karishma_Mehta5\n",
      "KirenRijiju\n",
      "LaurenceFuller\n",
      "TRENDSMagIndia\n",
      "hvgoenka\n",
      "pssms\n",
      "micropoetry\n",
      "_karanvalecha_\n",
      "Screenplayed\n"
     ]
    }
   ],
   "source": [
    "# Getting her friends list using cursor\n",
    "for tmp_id in tweepy.Cursor(api.friends_ids, screen_name=KAJAL).items(10):\n",
    "      print(api.get_user(tmp_id).screen_name)"
   ]
  },
  {
   "cell_type": "code",
   "execution_count": 102,
   "metadata": {},
   "outputs": [
    {
     "name": "stdout",
     "output_type": "stream",
     "text": [
      "0 RT @Vishnu_IsHere: Which one are you waiting for the most?\n",
      "#KGFChapter2 teaser OR   #Master Trailer \n",
      "\n",
      "#KGFChapter2TeaserOnJan08 #MasterTrai… bakthan_dileep\n",
      "1 RT @BleedYashism: Still Trending On Top 😻💥\n",
      "\n",
      "#KGFChapter2 #KGFChapter2TeaserOnJan08 @TheNameIsYash #YashBoss https://t.co/yg1zjwJCak NirajKARNATAKA\n",
      "2 K.G.F Chapter 2 Official Trailer | Yash | Srinidhi | Sanjay Dutt | Prashanth N | Countdown Begins \n",
      "\n",
      "Video link -… https://t.co/cNq96xg3OY galattadotcom\n",
      "3 RT @yarivanunknown: Some random ad photo released already trending on india level🔥\n",
      "\n",
      "@TheNameIsYash\n",
      "#YashBOSS #KGFChapter2 #KGFChapter2Tease… Anand09683195\n",
      "4 Going to be exciting\n",
      "#KGFChapter2 AnantGo93349136\n",
      "5 • #KGFChapter2 climax was shot at Hyderabad today in full swing, Makers are sure that its a Summer Release on 2021.… https://t.co/3kvNuO3RRs C1Cinemas\n",
      "6 Top 5 South Indian Movies Interest On #BookMyShow:\n",
      "1. #KGFChapter2 \n",
      "2. #Master \n",
      "3. #RRRMovie \n",
      "4. #Bilal \n",
      "5. #Kotigobba3 TradeBOC\n",
      "7 RT @Vishnu_IsHere: Which one are you waiting for the most?\n",
      "#KGFChapter2 teaser OR   #Master Trailer \n",
      "\n",
      "#KGFChapter2TeaserOnJan08 #MasterTrai… Dileep63825898\n",
      "8 RT @NishanthPrabas: @prashanth_neel All the best to #KGFChapter2 @prashanth_neel @TheNameIsYash ❤ from all #Prabhas darling fans waiting fo… YaswanthGogi\n",
      "9 RT @Vishnu_IsHere: Which one are you waiting for the most?\n",
      "#KGFChapter2 teaser OR   #Master Trailer \n",
      "\n",
      "#KGFChapter2TeaserOnJan08 #MasterTrai… RajavuKochi\n"
     ]
    }
   ],
   "source": [
    "# getting the first 10 tweets on trending hashtags today \n",
    "query = \"#KGFChapter2\"\n",
    "\n",
    "for index , status in enumerate(tweepy.Cursor(api.search, q=query).items(10)):\n",
    "    print(index, status.text, status.author.screen_name)"
   ]
  },
  {
   "cell_type": "markdown",
   "metadata": {},
   "source": [
    "## Acessing Youtube Data API v3"
   ]
  },
  {
   "cell_type": "code",
   "execution_count": 109,
   "metadata": {},
   "outputs": [],
   "source": [
    "## Searching Content on Youtube API\n",
    "# getting the required variables\n",
    "query = \"Amazon Prime|Netflix|Web Series\"\n",
    "params = {\"part\":\"snippet\", \"q\":query, \"type\":\"video\", \n",
    "          \"videoCaption\": \"closedCaption\", \"access_token\":TOKEN}\n",
    "\n",
    "req = requests.get(SEARCH, params=params)\n",
    "\n",
    "data = req.json()\n",
    "\n",
    "# data"
   ]
  },
  {
   "cell_type": "code",
   "execution_count": 110,
   "metadata": {},
   "outputs": [
    {
     "name": "stdout",
     "output_type": "stream",
     "text": [
      "Panchayat - Official Trailer | New Series 2020 | TVF | Amazon Prime Video\n",
      "-------------\n",
      "Four More Shots Please Season 1 RECAP | Amazon Prime Video\n",
      "-------------\n",
      "Official Trailer: Mind The Malhotras | Cyrus Sahuka, Mini Mathur | Amazon Prime Original\n",
      "-------------\n",
      "Paatal Lok पाताल लोक  - Official Trailer | Amazon Original | 15th May 2020\n",
      "-------------\n",
      "Bandish Bandits - Official Trailer | Anand Tiwari | Amazon Original  | Aug 4\n",
      "-------------\n"
     ]
    }
   ],
   "source": [
    "for x in data[\"items\"]:\n",
    "    print(x[\"snippet\"][\"title\"])\n",
    "    print(\"-------------\")"
   ]
  },
  {
   "cell_type": "code",
   "execution_count": 111,
   "metadata": {},
   "outputs": [
    {
     "data": {
      "text/plain": [
       "['mojZJ7oeD_g', 'r4Rf78qXivA', '0LloHO7hBR0', 'cNwWMW4mxO8', 'UhU57OgGp50']"
      ]
     },
     "execution_count": 111,
     "metadata": {},
     "output_type": "execute_result"
    }
   ],
   "source": [
    "# getting video Id's from the previous search\n",
    "video_ids = [x[\"id\"][\"videoId\"] for x in data[\"items\"]]\n",
    "\n",
    "video_ids"
   ]
  },
  {
   "cell_type": "code",
   "execution_count": 112,
   "metadata": {},
   "outputs": [],
   "source": [
    "# getting the comments on each video id's\n",
    "comments_data = {}\n",
    "for tmp_id in video_ids:    \n",
    "    params2 = {\"part\":\"snippet\", \"videoId\":tmp_id, \"access_token\":TOKEN}\n",
    "    req2 = requests.get(COMMENTS, params=params2)\n",
    "    comments_data[tmp_id] = req2.json()"
   ]
  },
  {
   "cell_type": "code",
   "execution_count": 113,
   "metadata": {},
   "outputs": [
    {
     "name": "stdout",
     "output_type": "stream",
     "text": [
      "Very little to do with panchayat and its problem.<br /><br />It is name should have &#39;rural posting&#39;\n",
      "------------------\n",
      "Abi tak dekhti hu jb bi time milta hai.. Favorite😍\n",
      "------------------\n",
      "Waiting for season 2\n",
      "------------------\n",
      "Dhanye ho wo Insaan jisne ye web series ka chakkar chlaya...ek se ek kalakar dhekhne Ko mil Gaye...warna movies main to jiski Lathi uski bhains.....very entertaining show...\n",
      "------------------\n",
      "Kab aare hai panchayat 2\n",
      "------------------\n",
      "Please vote jitendra kumar for film fare best actor series male comedy me vote karo.<br />Link is here  <a href=\"https://www.filmfare.com/awards/filmfare-ott-awards-2020/vote#5\">https://www.filmfare.com/awards/filmfare-ott-awards-2020/vote#5</a>\n",
      "------------------\n",
      "Waiting for Season 2 ❤️\n",
      "------------------\n",
      "Waiting for season 2. From kerala\n",
      "------------------\n",
      "Pls make season 2 of panchayat...really loved panchayat...i hope it will come❤️\n",
      "------------------\n",
      "Waiting for seasion 2\n",
      "------------------\n",
      "Waiting for season 2...\n",
      "------------------\n",
      "One of the best web series of TVF which can be watched by the entire family. No abuse. No nudity and no voilence. Pure acting and good script. Very rarely shown true rural North  India\n",
      "------------------\n",
      "I am very like the web searies\n",
      "------------------\n",
      "Plz make season 2\n",
      "------------------\n",
      "Background music is awsome 🔥\n",
      "------------------\n",
      "Yaar please iska season 2 lana ❤️\n",
      "------------------\n",
      "best series aver sab koo ek bar jarur dekhni chiye\n",
      "------------------\n",
      "Lovely Web series wating part 2\n",
      "------------------\n",
      "Pls release season 2\n",
      "------------------\n",
      "sir aap ke web series dekh kar bhout maja iia, <br />waheguru aap par bhout kirpa kare aur b ache web series bano<br />sir, aap niyota ke uper b web series bano, ya story hum ne 10 hindi me pari the bhout hit ho ge\n",
      "------------------\n",
      "===================\n",
      "\n",
      "Owwhhh love this\n",
      "------------------\n",
      "I don&#39;t know what these guys mean to do, all up with alcohol and vulgarism, when they actually wanna say they are promoting feminism. This is not feminism! Atleast not in India! I hate this when Indian girls simply try to give up their own culture, and adopt some mixed culture, which has very little to do about a formal world! This is a nauseating series!\n",
      "------------------\n",
      "What is this called?\n",
      "------------------\n",
      "Before watch the series , I am here because of Lisa Ray. She&#39;s so fucking hot n adorable. After watch it, I realized the &quot;bonding friendship&quot; story exactly same like mine. And i am bisexual like Umang haha. but now the friendship was gone. We used to have misunderstanding before and we fix it BUT now we dont fix it anymore. Not sure why, but the truth is I miss them so badly. I cried when i watching this series. Hope one day, me n my bestfriends were back together.\n",
      "------------------\n",
      "Is this upcoming civilized society ?????\n",
      "------------------\n",
      "Finally they all end up with the sad because of feminism and freedom?? One sanskari girl could have Change the entire serious simple..\n",
      "------------------\n",
      "once again bisexuals are presented as someone &#39;adventurous,quirky&#39;\n",
      "------------------\n",
      "फुल मूवी देखनी ह किस के पास ह\n",
      "------------------\n",
      "Dk why there’s so many negative comments down below 🙄️\n",
      "------------------\n",
      "Y los subtítulos en español? Contraté amazon para ver está serie y no tiene subtítulos en español. De verdad!\n",
      "------------------\n",
      "What&#39;s the name of this movie\n",
      "------------------\n",
      "LOOOOOOOOVEEEEEEE this show so much\n",
      "------------------\n",
      "what the F!....Umang ur so hot...\n",
      "------------------\n",
      "E a legenda em português??? Queremos!!!\n",
      "------------------\n",
      "Poderia ter ao menos a legenda em português 😪\n",
      "------------------\n",
      "Please I would to ask the some question base on this movie I love this movie so much but the last episode was not wat imaging why is that those two lovers did not get married I think the movie director and his co workers should bring up season 3, of this movie Samara and Umang should get married and the three best friends should have a happy ending\n",
      "------------------\n",
      "I think jisne bhi ye show banaya wo Kotha se Aya hai aur uski ma Ghar Ghar Jake ese Kam Karti hai\n",
      "------------------\n",
      "Remove sex scenes and talks from this series...<br /><br /><br /><br />Series ends\n",
      "------------------\n",
      "Hahah is feminism only about sex and alcohol etc?<br />Somebody save these fellows\n",
      "------------------\n",
      "Love this❤️\n",
      "------------------\n",
      "===================\n",
      "\n",
      "Did you like the trailer?<br />►Click to share the trailer with your friends on Facebook - <a href=\"http://bit.ly/MindTheMalhotrasTrailer2019\">http://bit.ly/MindTheMalhotrasTrailer2019</a><br />►Click to watch Latest Videos from Amazon Prime Video India - <a href=\"http://bit.ly/LatestAmazonPrimeVideos\">http://bit.ly/LatestAmazonPrimeVideos</a>\n",
      "------------------\n",
      "Quick review: its the story of a very depressed guy who married a woman the age of his mom who also is very depressed, and has a son who is also very depressingly boring and uninteresting, goes to a psychiatrist (naturally), explaining their sad depressing life while trying so hard to be funny mimicking the western sitcoms but all you see is depressed and unfunny people with poor writing.\n",
      "------------------\n",
      "Deserves a season 2\n",
      "------------------\n",
      "0.10 lmao so funny\n",
      "------------------\n",
      "Is it like modern family\n",
      "------------------\n",
      "season 2 when?????\n",
      "------------------\n",
      "I want the theme song of this trailer\n",
      "------------------\n",
      "Bakwaas hai maine dekha\n",
      "------------------\n",
      "Just finished.. really great show....\n",
      "------------------\n",
      "Tumhare bap ki hai kya itni modern family.... Bas americans ka goo khane me lage hai\n",
      "------------------\n",
      "<a href=\"https://www.youtube.com/watch?v=0LloHO7hBR0&amp;t=0m59s\">0:59</a><br />Arya stark,Sansa stark and bran stark\n",
      "------------------\n",
      "Ek joke bhi hasne layak nahi tha..... Aur i bet ye show ke best shots honge\n",
      "------------------\n",
      "After Sarabhai I got the drama which I can watch it repeat nd repeat....superbbb\n",
      "------------------\n",
      "Please bring a season 2!!! This show is pure fun!!!!\n",
      "------------------\n",
      "So when they discussing making this, who decided brilliantly let&#39;s take a song from Baazigar to represent this family sitcom...\n",
      "------------------\n",
      "Sumo of the opera (1976)<br />That Girl Were Going To School Sing Along (1977)<br />Lord Of The Rings (1976)<br />King Kong (1966-1969)\n",
      "------------------\n",
      "Cyrus Sahukar one of the underrated actor\n",
      "------------------\n",
      "Lovely trailer... Yaar acchi series kyu nhi trend krti...i really loved it... Aaj hi dekhta hu\n",
      "------------------\n",
      "Awesome series <br />Waiting for season 2!!!\n",
      "------------------\n",
      "Such a shit comedy! Total time waste\n",
      "------------------\n",
      "===================\n",
      "\n",
      "We want Patal lok sesson 2\n",
      "------------------\n",
      "Please make patal lok season 2\n",
      "------------------\n",
      "HOT SEX 18+\n",
      "------------------\n",
      "Good\n",
      "------------------\n",
      "Masterpiece ❤️🔥\n",
      "------------------\n",
      "Aur ye c kiske liye <br />C for chaku <br />Le hatiram chaudhari:- c for chutiya bkl😂😂😂😂😂 thug life\n",
      "------------------\n",
      "Just watched the series. May be in very late but hands down the best Indian series I have ever watched.\n",
      "------------------\n",
      "One of the best crime series ever. Hats off!\n",
      "------------------\n",
      "Paatal Lok turned out to be the best series I have ever watched. <br />What a story, what a presentation! Didn&#39;t get bored for even a second throughout the whole series. Loved the way the story kept on unfolding. Such a real acting by every single character. No unnecessary lags and drama. Everything is so realistic that you will feel like you&#39;re yourself a character of the story and you&#39;re witnessing everything with your own eyes.<br />If anyone is looking at the comments to decide whether to watch or not, I suggest that you just go for it without delaying for a sec. <br />10/10. TO ME, THIS LITERALLY IS THE BEST SERIES SO FAR.\n",
      "------------------\n",
      "Hathiram and ansari partner in crime 🤣\n",
      "------------------\n",
      "Awsome webseries specially fan of hathiram Chaudhary and tyagi\n",
      "------------------\n",
      "I just love these web series Amazon did it the great work 👍👍👍👍👍 the police officer Jaideep Ahlawat is like 😍😍😍😍😍😍 can&#39;t explain specially when he he got triggered for beats👊 his son and than Jaideep Ahlawat, s acting omg 🤯🙀😱 I Love it the Story is 20 percent match to the family guy 😅😅 but I Love it great actor and cast Amazon did it great job👍👍👏👏👏👏👏👏💯\n",
      "------------------\n",
      "Tribute\n",
      "------------------\n",
      "Kya ye series mujhe dekhne chaheye ?<br />Dekhne layak hai kya?<br />Koi batao ki kese hai?\n",
      "------------------\n",
      "Awesome performance by Jaidip Ahlawat in the series. Far Better than most so called super stars.\n",
      "------------------\n",
      "Paatallok is best series ever made in India IMO.<br />scam 1992 ,mirzapur and sacred games were good but not the best.\n",
      "------------------\n",
      "Amazing series ♥️\n",
      "------------------\n",
      "Rip asif basra💔😭\n",
      "------------------\n",
      "RIP Asif Basra😭\n",
      "------------------\n",
      "Asif Basra died today, who had played Jai Malik in Pataal Lok.\n",
      "------------------\n",
      "===================\n",
      "\n",
      "Watched it. <br />Watching it.<br />Will always watch.<br />So inspiring. Purity. Truthfulness for singers, musicians, to all. Radhey Radhey and khambagani.🙏🙏🙏\n",
      "------------------\n",
      "राजकुमारी संध्या को वापस लाओ वो भी अच्छा गाती है🙏🙏🙏🙏\n",
      "------------------\n",
      "it was awesome series . just loved it 😍😍\n",
      "------------------\n",
      "Trailer shows that this series was all about tammana <br />But in real it completely opposite<br />This series all about radhe family <br />Tammana have much less time\n",
      "------------------\n",
      "Bengali background se aya hai sab, dekh ke achcha laga 😁😁😂😂\n",
      "------------------\n",
      "One of best web series.<br />.<br />Continously complete in one shot. ❣️\n",
      "------------------\n",
      "I loved Arghya&#39;s character\n",
      "------------------\n",
      "Dis series is truly a masterpiece...I love d concept which is  enriched wid d true essence n purity of classical music ..d songs r sooo melodious especially d theme song I just can&#39;t get over wid it pleaseeeee upload d full version of dis song\n",
      "------------------\n",
      "<a href=\"https://youtu.be/e8NlEjrZhXI\">https://youtu.be/e8NlEjrZhXI</a>\n",
      "------------------\n",
      "Season 2 please\n",
      "------------------\n",
      "Season 2 please 🙏🙏🙏🙏🙏\n",
      "------------------\n",
      "Jab bhi iski photo dekhta hu Mera khoon khol uthta hai<br />Mann karta sabhi ko jinda jla aag mein <br />Jisne ye web series bnai hai usko duniya ki sabse hard punishment du\n",
      "------------------\n",
      "This is extraordinary. Trust me you&#39;ll fall in love with this in it&#39;s first episode. 👏\n",
      "------------------\n",
      "I think Arghya deserves a great round of applause..Wat a dialogue delivery and Tamanna too, thr acting was damn good 💘📍\n",
      "------------------\n",
      "<a href=\"https://youtu.be/C198Ih3eYUw\">https://youtu.be/C198Ih3eYUw</a>\n",
      "------------------\n",
      "The trailer don&#39;t do justice with the series. It&#39;s &quot;completed in one night&quot; kindof a web series🔥 <br />Great music, awesome chemistry between the lead actors ❤️\n",
      "------------------\n",
      "I love the music of this series.\n",
      "------------------\n",
      "Come on announce Season 2 already ;_;\n",
      "------------------\n",
      "Series bohot badhiya hai, trailer pe mat jao 🙏\n",
      "------------------\n",
      "<a href=\"https://youtu.be/uYPluuXTOVw\">https://youtu.be/uYPluuXTOVw</a>\n",
      "------------------\n",
      "===================\n",
      "\n"
     ]
    }
   ],
   "source": [
    "for key,value in comments_data.items():\n",
    "    tmp_data = value[\"items\"]\n",
    "    for data in tmp_data:\n",
    "        comments = data[\"snippet\"][\"topLevelComment\"][\"snippet\"][\"textDisplay\"]\n",
    "        print(comments)\n",
    "        print(\"------------------\")   \n",
    "    print(\"===================\\n\")"
   ]
  },
  {
   "cell_type": "code",
   "execution_count": 114,
   "metadata": {},
   "outputs": [
    {
     "data": {
      "text/plain": [
       "{'kind': 'youtube#channelListResponse',\n",
       " 'etag': 'Nc3alTEvZ9CbB-zyffAvgGRQRXI',\n",
       " 'pageInfo': {'totalResults': 1, 'resultsPerPage': 5},\n",
       " 'items': [{'kind': 'youtube#channel',\n",
       "   'etag': 'voYn54kzRmRj264WDAyrjkllDVw',\n",
       "   'id': 'UC-lHJZR3Gqxm24_Vd_AJ5Yw',\n",
       "   'snippet': {'title': 'PewDiePie',\n",
       "    'description': 'I make videos.',\n",
       "    'publishedAt': '2010-04-29T10:54:00Z',\n",
       "    'thumbnails': {'default': {'url': 'https://yt3.ggpht.com/ytc/AAUvwng76cTETu1glc_8o4UBUiFL2v-m3818ACnK0JLFPA=s88-c-k-c0x00ffffff-no-rj',\n",
       "      'width': 88,\n",
       "      'height': 88},\n",
       "     'medium': {'url': 'https://yt3.ggpht.com/ytc/AAUvwng76cTETu1glc_8o4UBUiFL2v-m3818ACnK0JLFPA=s240-c-k-c0x00ffffff-no-rj',\n",
       "      'width': 240,\n",
       "      'height': 240},\n",
       "     'high': {'url': 'https://yt3.ggpht.com/ytc/AAUvwng76cTETu1glc_8o4UBUiFL2v-m3818ACnK0JLFPA=s800-c-k-c0x00ffffff-no-rj',\n",
       "      'width': 800,\n",
       "      'height': 800}},\n",
       "    'localized': {'title': 'PewDiePie', 'description': 'I make videos.'},\n",
       "    'country': 'US'},\n",
       "   'statistics': {'viewCount': '26574920275',\n",
       "    'subscriberCount': '108000000',\n",
       "    'hiddenSubscriberCount': False,\n",
       "    'videoCount': '4250'}}]}"
      ]
     },
     "execution_count": 114,
     "metadata": {},
     "output_type": "execute_result"
    }
   ],
   "source": [
    "# Getting data about a specific channel\n",
    "params3 = {\"part\":\"snippet,statistics\",\n",
    "            \"forUsername\": \"PewDiePie\", \"access_token\":TOKEN}\n",
    "\n",
    "req3 = requests.get(CHANNEL,params=params3)\n",
    "\n",
    "data = req3.json()\n",
    "\n",
    "data    "
   ]
  },
  {
   "cell_type": "markdown",
   "metadata": {},
   "source": [
    "### Acessing GitHub API"
   ]
  },
  {
   "cell_type": "code",
   "execution_count": 7,
   "metadata": {},
   "outputs": [
    {
     "data": {
      "text/plain": [
       "[{'url': 'https://api.github.com/repos/CleverProgrammer/cleverprogrammer_stuff/issues/5',\n",
       "  'repository_url': 'https://api.github.com/repos/CleverProgrammer/cleverprogrammer_stuff',\n",
       "  'labels_url': 'https://api.github.com/repos/CleverProgrammer/cleverprogrammer_stuff/issues/5/labels{/name}',\n",
       "  'comments_url': 'https://api.github.com/repos/CleverProgrammer/cleverprogrammer_stuff/issues/5/comments',\n",
       "  'events_url': 'https://api.github.com/repos/CleverProgrammer/cleverprogrammer_stuff/issues/5/events',\n",
       "  'html_url': 'https://github.com/CleverProgrammer/cleverprogrammer_stuff/issues/5',\n",
       "  'id': 712435212,\n",
       "  'node_id': 'MDU6SXNzdWU3MTI0MzUyMTI=',\n",
       "  'number': 5,\n",
       "  'title': 'H',\n",
       "  'user': {'login': 'surendrageddam',\n",
       "   'id': 68986289,\n",
       "   'node_id': 'MDQ6VXNlcjY4OTg2Mjg5',\n",
       "   'avatar_url': 'https://avatars1.githubusercontent.com/u/68986289?v=4',\n",
       "   'gravatar_id': '',\n",
       "   'url': 'https://api.github.com/users/surendrageddam',\n",
       "   'html_url': 'https://github.com/surendrageddam',\n",
       "   'followers_url': 'https://api.github.com/users/surendrageddam/followers',\n",
       "   'following_url': 'https://api.github.com/users/surendrageddam/following{/other_user}',\n",
       "   'gists_url': 'https://api.github.com/users/surendrageddam/gists{/gist_id}',\n",
       "   'starred_url': 'https://api.github.com/users/surendrageddam/starred{/owner}{/repo}',\n",
       "   'subscriptions_url': 'https://api.github.com/users/surendrageddam/subscriptions',\n",
       "   'organizations_url': 'https://api.github.com/users/surendrageddam/orgs',\n",
       "   'repos_url': 'https://api.github.com/users/surendrageddam/repos',\n",
       "   'events_url': 'https://api.github.com/users/surendrageddam/events{/privacy}',\n",
       "   'received_events_url': 'https://api.github.com/users/surendrageddam/received_events',\n",
       "   'type': 'User',\n",
       "   'site_admin': False},\n",
       "  'labels': [],\n",
       "  'state': 'open',\n",
       "  'locked': False,\n",
       "  'assignee': None,\n",
       "  'assignees': [],\n",
       "  'milestone': None,\n",
       "  'comments': 1,\n",
       "  'created_at': '2020-10-01T03:06:43Z',\n",
       "  'updated_at': '2020-10-01T03:17:16Z',\n",
       "  'closed_at': None,\n",
       "  'author_association': 'NONE',\n",
       "  'active_lock_reason': None,\n",
       "  'body': '',\n",
       "  'performed_via_github_app': None},\n",
       " {'url': 'https://api.github.com/repos/CleverProgrammer/cleverprogrammer_stuff/issues/4',\n",
       "  'repository_url': 'https://api.github.com/repos/CleverProgrammer/cleverprogrammer_stuff',\n",
       "  'labels_url': 'https://api.github.com/repos/CleverProgrammer/cleverprogrammer_stuff/issues/4/labels{/name}',\n",
       "  'comments_url': 'https://api.github.com/repos/CleverProgrammer/cleverprogrammer_stuff/issues/4/comments',\n",
       "  'events_url': 'https://api.github.com/repos/CleverProgrammer/cleverprogrammer_stuff/issues/4/events',\n",
       "  'html_url': 'https://github.com/CleverProgrammer/cleverprogrammer_stuff/pull/4',\n",
       "  'id': 372176023,\n",
       "  'node_id': 'MDExOlB1bGxSZXF1ZXN0MjI0NDUzNjQz',\n",
       "  'number': 4,\n",
       "  'title': 'Delete hello_world.py',\n",
       "  'user': {'login': 'ghost',\n",
       "   'id': 10137,\n",
       "   'node_id': 'MDQ6VXNlcjEwMTM3',\n",
       "   'avatar_url': 'https://avatars3.githubusercontent.com/u/10137?v=4',\n",
       "   'gravatar_id': '',\n",
       "   'url': 'https://api.github.com/users/ghost',\n",
       "   'html_url': 'https://github.com/ghost',\n",
       "   'followers_url': 'https://api.github.com/users/ghost/followers',\n",
       "   'following_url': 'https://api.github.com/users/ghost/following{/other_user}',\n",
       "   'gists_url': 'https://api.github.com/users/ghost/gists{/gist_id}',\n",
       "   'starred_url': 'https://api.github.com/users/ghost/starred{/owner}{/repo}',\n",
       "   'subscriptions_url': 'https://api.github.com/users/ghost/subscriptions',\n",
       "   'organizations_url': 'https://api.github.com/users/ghost/orgs',\n",
       "   'repos_url': 'https://api.github.com/users/ghost/repos',\n",
       "   'events_url': 'https://api.github.com/users/ghost/events{/privacy}',\n",
       "   'received_events_url': 'https://api.github.com/users/ghost/received_events',\n",
       "   'type': 'User',\n",
       "   'site_admin': False},\n",
       "  'labels': [],\n",
       "  'state': 'open',\n",
       "  'locked': False,\n",
       "  'assignee': None,\n",
       "  'assignees': [],\n",
       "  'milestone': None,\n",
       "  'comments': 0,\n",
       "  'created_at': '2018-10-20T05:36:06Z',\n",
       "  'updated_at': '2018-10-20T05:36:26Z',\n",
       "  'closed_at': None,\n",
       "  'author_association': 'NONE',\n",
       "  'active_lock_reason': None,\n",
       "  'pull_request': {'url': 'https://api.github.com/repos/CleverProgrammer/cleverprogrammer_stuff/pulls/4',\n",
       "   'html_url': 'https://github.com/CleverProgrammer/cleverprogrammer_stuff/pull/4',\n",
       "   'diff_url': 'https://github.com/CleverProgrammer/cleverprogrammer_stuff/pull/4.diff',\n",
       "   'patch_url': 'https://github.com/CleverProgrammer/cleverprogrammer_stuff/pull/4.patch'},\n",
       "  'body': '',\n",
       "  'performed_via_github_app': None},\n",
       " {'url': 'https://api.github.com/repos/CleverProgrammer/cleverprogrammer_stuff/issues/3',\n",
       "  'repository_url': 'https://api.github.com/repos/CleverProgrammer/cleverprogrammer_stuff',\n",
       "  'labels_url': 'https://api.github.com/repos/CleverProgrammer/cleverprogrammer_stuff/issues/3/labels{/name}',\n",
       "  'comments_url': 'https://api.github.com/repos/CleverProgrammer/cleverprogrammer_stuff/issues/3/comments',\n",
       "  'events_url': 'https://api.github.com/repos/CleverProgrammer/cleverprogrammer_stuff/issues/3/events',\n",
       "  'html_url': 'https://github.com/CleverProgrammer/cleverprogrammer_stuff/issues/3',\n",
       "  'id': 368621262,\n",
       "  'node_id': 'MDU6SXNzdWUzNjg2MjEyNjI=',\n",
       "  'number': 3,\n",
       "  'title': 'after press enter dice roll is to be started in java code',\n",
       "  'user': {'login': 'SURAJBAKADE',\n",
       "   'id': 33191247,\n",
       "   'node_id': 'MDQ6VXNlcjMzMTkxMjQ3',\n",
       "   'avatar_url': 'https://avatars1.githubusercontent.com/u/33191247?v=4',\n",
       "   'gravatar_id': '',\n",
       "   'url': 'https://api.github.com/users/SURAJBAKADE',\n",
       "   'html_url': 'https://github.com/SURAJBAKADE',\n",
       "   'followers_url': 'https://api.github.com/users/SURAJBAKADE/followers',\n",
       "   'following_url': 'https://api.github.com/users/SURAJBAKADE/following{/other_user}',\n",
       "   'gists_url': 'https://api.github.com/users/SURAJBAKADE/gists{/gist_id}',\n",
       "   'starred_url': 'https://api.github.com/users/SURAJBAKADE/starred{/owner}{/repo}',\n",
       "   'subscriptions_url': 'https://api.github.com/users/SURAJBAKADE/subscriptions',\n",
       "   'organizations_url': 'https://api.github.com/users/SURAJBAKADE/orgs',\n",
       "   'repos_url': 'https://api.github.com/users/SURAJBAKADE/repos',\n",
       "   'events_url': 'https://api.github.com/users/SURAJBAKADE/events{/privacy}',\n",
       "   'received_events_url': 'https://api.github.com/users/SURAJBAKADE/received_events',\n",
       "   'type': 'User',\n",
       "   'site_admin': False},\n",
       "  'labels': [],\n",
       "  'state': 'open',\n",
       "  'locked': False,\n",
       "  'assignee': None,\n",
       "  'assignees': [],\n",
       "  'milestone': None,\n",
       "  'comments': 0,\n",
       "  'created_at': '2018-10-10T11:31:59Z',\n",
       "  'updated_at': '2018-10-10T11:31:59Z',\n",
       "  'closed_at': None,\n",
       "  'author_association': 'NONE',\n",
       "  'active_lock_reason': None,\n",
       "  'body': '',\n",
       "  'performed_via_github_app': None},\n",
       " {'url': 'https://api.github.com/repos/CleverProgrammer/cleverprogrammer_stuff/issues/2',\n",
       "  'repository_url': 'https://api.github.com/repos/CleverProgrammer/cleverprogrammer_stuff',\n",
       "  'labels_url': 'https://api.github.com/repos/CleverProgrammer/cleverprogrammer_stuff/issues/2/labels{/name}',\n",
       "  'comments_url': 'https://api.github.com/repos/CleverProgrammer/cleverprogrammer_stuff/issues/2/comments',\n",
       "  'events_url': 'https://api.github.com/repos/CleverProgrammer/cleverprogrammer_stuff/issues/2/events',\n",
       "  'html_url': 'https://github.com/CleverProgrammer/cleverprogrammer_stuff/issues/2',\n",
       "  'id': 284511821,\n",
       "  'node_id': 'MDU6SXNzdWUyODQ1MTE4MjE=',\n",
       "  'number': 2,\n",
       "  'title': 'error',\n",
       "  'user': {'login': 'gauravgianani',\n",
       "   'id': 21006437,\n",
       "   'node_id': 'MDQ6VXNlcjIxMDA2NDM3',\n",
       "   'avatar_url': 'https://avatars1.githubusercontent.com/u/21006437?v=4',\n",
       "   'gravatar_id': '',\n",
       "   'url': 'https://api.github.com/users/gauravgianani',\n",
       "   'html_url': 'https://github.com/gauravgianani',\n",
       "   'followers_url': 'https://api.github.com/users/gauravgianani/followers',\n",
       "   'following_url': 'https://api.github.com/users/gauravgianani/following{/other_user}',\n",
       "   'gists_url': 'https://api.github.com/users/gauravgianani/gists{/gist_id}',\n",
       "   'starred_url': 'https://api.github.com/users/gauravgianani/starred{/owner}{/repo}',\n",
       "   'subscriptions_url': 'https://api.github.com/users/gauravgianani/subscriptions',\n",
       "   'organizations_url': 'https://api.github.com/users/gauravgianani/orgs',\n",
       "   'repos_url': 'https://api.github.com/users/gauravgianani/repos',\n",
       "   'events_url': 'https://api.github.com/users/gauravgianani/events{/privacy}',\n",
       "   'received_events_url': 'https://api.github.com/users/gauravgianani/received_events',\n",
       "   'type': 'User',\n",
       "   'site_admin': False},\n",
       "  'labels': [],\n",
       "  'state': 'open',\n",
       "  'locked': False,\n",
       "  'assignee': None,\n",
       "  'assignees': [],\n",
       "  'milestone': None,\n",
       "  'comments': 5,\n",
       "  'created_at': '2017-12-26T07:52:37Z',\n",
       "  'updated_at': '2018-11-04T14:00:26Z',\n",
       "  'closed_at': None,\n",
       "  'author_association': 'NONE',\n",
       "  'active_lock_reason': None,\n",
       "  'body': 'error in line qazi = Fighter(\"Qazi\")\\r\\nwhen i run in idle ',\n",
       "  'performed_via_github_app': None},\n",
       " {'url': 'https://api.github.com/repos/CleverProgrammer/cleverprogrammer_stuff/issues/1',\n",
       "  'repository_url': 'https://api.github.com/repos/CleverProgrammer/cleverprogrammer_stuff',\n",
       "  'labels_url': 'https://api.github.com/repos/CleverProgrammer/cleverprogrammer_stuff/issues/1/labels{/name}',\n",
       "  'comments_url': 'https://api.github.com/repos/CleverProgrammer/cleverprogrammer_stuff/issues/1/comments',\n",
       "  'events_url': 'https://api.github.com/repos/CleverProgrammer/cleverprogrammer_stuff/issues/1/events',\n",
       "  'html_url': 'https://github.com/CleverProgrammer/cleverprogrammer_stuff/pull/1',\n",
       "  'id': 222832017,\n",
       "  'node_id': 'MDExOlB1bGxSZXF1ZXN0MTE2NjE0MzEz',\n",
       "  'number': 1,\n",
       "  'title': 'New branch',\n",
       "  'user': {'login': 'sunnyRao7',\n",
       "   'id': 26843299,\n",
       "   'node_id': 'MDQ6VXNlcjI2ODQzMjk5',\n",
       "   'avatar_url': 'https://avatars3.githubusercontent.com/u/26843299?v=4',\n",
       "   'gravatar_id': '',\n",
       "   'url': 'https://api.github.com/users/sunnyRao7',\n",
       "   'html_url': 'https://github.com/sunnyRao7',\n",
       "   'followers_url': 'https://api.github.com/users/sunnyRao7/followers',\n",
       "   'following_url': 'https://api.github.com/users/sunnyRao7/following{/other_user}',\n",
       "   'gists_url': 'https://api.github.com/users/sunnyRao7/gists{/gist_id}',\n",
       "   'starred_url': 'https://api.github.com/users/sunnyRao7/starred{/owner}{/repo}',\n",
       "   'subscriptions_url': 'https://api.github.com/users/sunnyRao7/subscriptions',\n",
       "   'organizations_url': 'https://api.github.com/users/sunnyRao7/orgs',\n",
       "   'repos_url': 'https://api.github.com/users/sunnyRao7/repos',\n",
       "   'events_url': 'https://api.github.com/users/sunnyRao7/events{/privacy}',\n",
       "   'received_events_url': 'https://api.github.com/users/sunnyRao7/received_events',\n",
       "   'type': 'User',\n",
       "   'site_admin': False},\n",
       "  'labels': [],\n",
       "  'state': 'open',\n",
       "  'locked': False,\n",
       "  'assignee': None,\n",
       "  'assignees': [],\n",
       "  'milestone': None,\n",
       "  'comments': 0,\n",
       "  'created_at': '2017-04-19T18:40:16Z',\n",
       "  'updated_at': '2017-04-19T18:40:16Z',\n",
       "  'closed_at': None,\n",
       "  'author_association': 'NONE',\n",
       "  'active_lock_reason': None,\n",
       "  'pull_request': {'url': 'https://api.github.com/repos/CleverProgrammer/cleverprogrammer_stuff/pulls/1',\n",
       "   'html_url': 'https://github.com/CleverProgrammer/cleverprogrammer_stuff/pull/1',\n",
       "   'diff_url': 'https://github.com/CleverProgrammer/cleverprogrammer_stuff/pull/1.diff',\n",
       "   'patch_url': 'https://github.com/CleverProgrammer/cleverprogrammer_stuff/pull/1.patch'},\n",
       "  'body': '',\n",
       "  'performed_via_github_app': None}]"
      ]
     },
     "execution_count": 7,
     "metadata": {},
     "output_type": "execute_result"
    }
   ],
   "source": [
    "## REPOS\n",
    "# getting the open issues of sepcific repo of specific owner\n",
    "owner = \"CLeverProgrammer\"\n",
    "repo = \"cleverprogrammer_stuff\"\n",
    "query_url = REPOS + f\"{owner}/{repo}/issues\"\n",
    "params={\"state\":\"open\"}\n",
    "headers = {\"Authorization\": f\"token{GIT_ACCESS}\"}\n",
    "\n",
    "req = requests.get(query_url, headers=headers, params=params)\n",
    "\n",
    "req.json()"
   ]
  },
  {
   "cell_type": "code",
   "execution_count": 7,
   "metadata": {},
   "outputs": [],
   "source": [
    "## Acess GitHub using PyGithub\n",
    "\n",
    "# using username and password\n",
    "git = Github(GIT_USER, GIT_PASS)\n",
    "\n",
    "# or using an access token\n",
    "git = Github(GIT_PER_ACCESS)"
   ]
  },
  {
   "cell_type": "code",
   "execution_count": 29,
   "metadata": {},
   "outputs": [
    {
     "name": "stdout",
     "output_type": "stream",
     "text": [
      "3D-soul\n",
      "Fabien Potencier\n",
      "freeCodeCamp\n",
      "Adobe, Inc.\n"
     ]
    }
   ],
   "source": [
    "## BASICS\n",
    "# get current user\n",
    "tmp_user = git.get_user()\n",
    "print(tmp_user.login)\n",
    "\n",
    "# get user by name\n",
    "tmp_user = git.get_user(TOP_USERS[0])\n",
    "print(tmp_user.name)\n",
    "\n",
    "# get repo by name\n",
    "tmp_repo = git.get_repo(TOP_REPOS[0])\n",
    "print(tmp_repo.name)\n",
    "\n",
    "# get organization by name\n",
    "tmp_org = git.get_organization(TOP_ORGS[0])\n",
    "print(tmp_org.name)"
   ]
  },
  {
   "cell_type": "code",
   "execution_count": 32,
   "metadata": {},
   "outputs": [
    {
     "name": "stdout",
     "output_type": "stream",
     "text": [
      "datasciencecoursera\n",
      "datasharing\n",
      "disney-data-science-tasks\n",
      "dplyr-tutorial\n",
      "ExData_Plotting1\n",
      "existing_proj.R\n",
      "find_our_relation\n",
      "FirstFifty\n",
      "getting-and-cleaning-data\n",
      "git-github\n",
      "Hello_world\n"
     ]
    }
   ],
   "source": [
    "# Searching Repos\n",
    "# getting names of my repo list \n",
    "for index,repo in enumerate(git.get_user().get_repos()):\n",
    "    print(repo.name)\n",
    "    if index == 10:\n",
    "        break"
   ]
  },
  {
   "cell_type": "code",
   "execution_count": 30,
   "metadata": {},
   "outputs": [
    {
     "name": "stdout",
     "output_type": "stream",
     "text": [
      "Repository(full_name=\"donnemartin/system-design-primer\")\n",
      "Repository(full_name=\"public-apis/public-apis\")\n",
      "Repository(full_name=\"jackfrued/Python-100-Days\")\n",
      "Repository(full_name=\"TheAlgorithms/Python\")\n",
      "Repository(full_name=\"vinta/awesome-python\")\n",
      "Repository(full_name=\"ytdl-org/youtube-dl\")\n",
      "Repository(full_name=\"tensorflow/models\")\n",
      "Repository(full_name=\"nvbn/thefuck\")\n",
      "Repository(full_name=\"django/django\")\n",
      "Repository(full_name=\"pallets/flask\")\n",
      "Repository(full_name=\"keras-team/keras\")\n"
     ]
    }
   ],
   "source": [
    "# getting repository list based on language\n",
    "tmp_repos = git.search_repositories(query=\"language:Python\")\n",
    "\n",
    "for index,repo in enumerate(tmp_repos):\n",
    "    print(repo)\n",
    "    if index == 10:\n",
    "        break"
   ]
  },
  {
   "cell_type": "code",
   "execution_count": 31,
   "metadata": {},
   "outputs": [
    {
     "name": "stdout",
     "output_type": "stream",
     "text": [
      "Repository(full_name=\"vuejs/vue\")\n",
      "Repository(full_name=\"facebook/react\")\n",
      "Repository(full_name=\"microsoft/vscode\")\n",
      "Repository(full_name=\"facebook/react-native\")\n",
      "Repository(full_name=\"electron/electron\")\n",
      "Repository(full_name=\"facebook/create-react-app\")\n",
      "Repository(full_name=\"nodejs/node\")\n",
      "Repository(full_name=\"kubernetes/kubernetes\")\n",
      "Repository(full_name=\"denoland/deno\")\n",
      "Repository(full_name=\"angular/angular\")\n",
      "Repository(full_name=\"puppeteer/puppeteer\")\n"
     ]
    }
   ],
   "source": [
    "# getting repository list based on issues\n",
    "tmp_repos = git.search_repositories(query=\"good-first-issues:>3\")\n",
    "\n",
    "for index,repo in enumerate(tmp_repos):\n",
    "    print(repo)\n",
    "    if index == 10:\n",
    "        break"
   ]
  },
  {
   "cell_type": "code",
   "execution_count": 52,
   "metadata": {},
   "outputs": [
    {
     "name": "stdout",
     "output_type": "stream",
     "text": [
      "['book-series', 'javascript', 'closures', 'prototypes', 'async', 'es6', 'es2015', 'training-materials', 'book', 'training-providers', 'education', 'programming', 'learn-to-code']\n",
      "----------------\n",
      "167375\n",
      "-----------------\n",
      "Issues of bootstrap : \n",
      "\n",
      "Issue(title=\"Bootstrap tooltip has not appear after numbers of focusing\", number=32372)\n",
      "Issue(title=\"Support .focus on form-control\", number=32371)\n",
      "Issue(title=\".visually-hidden-focusable should also apply to :focus-within\", number=32370)\n",
      "Issue(title=\"[v5] Checkbox background and transition\", number=32367)\n",
      "Issue(title=\"Field validation background-image is not displayed when autocomplete (v5)\", number=32366)\n",
      "Issue(title=\"Support Popper v2 virtual element\", number=32365)\n",
      "Issue(title=\"Useless `.text-left` in Layout / Overview\", number=32363)\n",
      "Issue(title=\"Controlling input group validation programatically\", number=32361)\n",
      "Issue(title=\"Color functions not working as expected?\", number=32360)\n",
      "Issue(title=\"modal-backdrop does not disappear\", number=32359)\n",
      "Issue(title=\"Add focus visibility on tabs with pills\", number=32357)\n"
     ]
    }
   ],
   "source": [
    "## REPOSITORIES\n",
    "# get repo topics\n",
    "tmp_repo = git.get_repo(TOP_REPOS[1])\n",
    "print(tmp_repo.get_topics())\n",
    "print(\"----------------\")\n",
    "\n",
    "# get count of stars \n",
    "tmp_repo = git.get_repo(TOP_REPOS[2])\n",
    "print(tmp_repo.stargazers_count)\n",
    "print(\"-----------------\")\n",
    "\n",
    "# get all open issues\n",
    "tmp_repo = git.get_repo(TOP_REPOS[3])\n",
    "print(f\"Issues of {tmp_repo.name} : \\n\")\n",
    "tmp_issues = tmp_repo.get_issues(state=\"open\")\n",
    "for index,issue in enumerate(tmp_issues):\n",
    "    print(issue)\n",
    "    if index == 10 :\n",
    "        break\n"
   ]
  },
  {
   "cell_type": "code",
   "execution_count": 51,
   "metadata": {},
   "outputs": [
    {
     "name": "stdout",
     "output_type": "stream",
     "text": [
      "Labels of coding-interview-university : \n",
      "\n",
      "Label(name=\"bug\")\n",
      "Label(name=\"duplicate\")\n",
      "Label(name=\"enhancement\")\n",
      "Label(name=\"for beginners\")\n",
      "Label(name=\"help needed\")\n",
      "Label(name=\"help wanted\")\n",
      "Label(name=\"invalid\")\n",
      "Label(name=\"question\")\n",
      "Label(name=\"up for grabs\")\n",
      "Label(name=\"wontfix\")\n"
     ]
    }
   ],
   "source": [
    "# get labels from repository\n",
    "tmp_repo = git.get_repo(TOP_REPOS[4])\n",
    "print(f\"Labels of {tmp_repo.name} : \\n\")\n",
    "tmp_labels = tmp_repo.get_labels()\n",
    "\n",
    "for index,label in enumerate(tmp_labels):\n",
    "    print(label)\n",
    "    if index == 10:\n",
    "        break"
   ]
  },
  {
   "cell_type": "code",
   "execution_count": 55,
   "metadata": {},
   "outputs": [
    {
     "name": "stdout",
     "output_type": "stream",
     "text": [
      "Contents of freeCodeCamp : \n",
      "\n",
      "ContentFile(path=\".editorconfig\")\n",
      "ContentFile(path=\".eslintignore\")\n",
      "ContentFile(path=\".eslintrc-base.json\")\n",
      "ContentFile(path=\".eslintrc.json\")\n",
      "ContentFile(path=\".gitattributes\")\n",
      "ContentFile(path=\".github\")\n",
      "ContentFile(path=\".gitignore\")\n",
      "ContentFile(path=\".gitpod.yml\")\n",
      "ContentFile(path=\".node-inspectorrc\")\n",
      "ContentFile(path=\".npmrc\")\n",
      "ContentFile(path=\".prettierignore\")\n"
     ]
    }
   ],
   "source": [
    "# get contents of root directory of repo\n",
    "tmp_repo = git.get_repo(TOP_REPOS[0])\n",
    "print(f\"Contents of {tmp_repo.name} : \\n\")\n",
    "tmp_contents = tmp_repo.get_contents(\"\")\n",
    "\n",
    "for index,content in enumerate(tmp_contents):\n",
    "    print(content)\n",
    "    if index == 10:\n",
    "        break"
   ]
  },
  {
   "cell_type": "code",
   "execution_count": 57,
   "metadata": {},
   "outputs": [
    {
     "name": "stdout",
     "output_type": "stream",
     "text": [
      "Contents of You-Dont-Know-JS : \n",
      "\n",
      "ContentFile(path=\".editorconfig\")\n",
      "ContentFile(path=\"CONTRIBUTING.md\")\n",
      "ContentFile(path=\"LICENSE.txt\")\n",
      "ContentFile(path=\"PULL_REQUEST_TEMPLATE.md\")\n",
      "ContentFile(path=\"README.md\")\n",
      "ContentFile(path=\"preface.md\")\n"
     ]
    }
   ],
   "source": [
    "# get contents of  repo recursively\n",
    "tmp_repo = git.get_repo(TOP_REPOS[1])\n",
    "print(f\"Contents of {tmp_repo.name} : \\n\")\n",
    "tmp_contents = tmp_repo.get_contents(\"\")\n",
    "\n",
    "i = 0\n",
    "while tmp_contents:\n",
    "    try:\n",
    "        tmp_file = tmp_contents.pop(0)\n",
    "        if tmp_file.type == \"dir\":\n",
    "            tmp_contents.extend(repo.get_contents(tmp_file.path))\n",
    "            i = +1\n",
    "        else:\n",
    "            print(tmp_file)\n",
    "            i = +1\n",
    "        if i == 10:\n",
    "            break\n",
    "    except:\n",
    "        continue"
   ]
  },
  {
   "cell_type": "code",
   "execution_count": 86,
   "metadata": {},
   "outputs": [
    {
     "name": "stdout",
     "output_type": "stream",
     "text": [
      "Contents of free-programming-books : \n",
      "\n",
      "ContentFile(path=\"README.md\")\n"
     ]
    }
   ],
   "source": [
    "# get specific content file\n",
    "tmp_repo = git.get_repo(TOP_REPOS[2])\n",
    "print(f\"Contents of {tmp_repo.name} : \\n\")\n",
    "\n",
    "tmp_content = tmp_repo.get_contents(\"README.md\")\n",
    "print(tmp_content)"
   ]
  },
  {
   "cell_type": "code",
   "execution_count": 93,
   "metadata": {},
   "outputs": [
    {
     "data": {
      "text/plain": [
       "[Branch(name=\"alphabetize\"),\n",
       " Branch(name=\"burmese\"),\n",
       " Branch(name=\"c-ch-sh\"),\n",
       " Branch(name=\"cheatsheets\"),\n",
       " Branch(name=\"cheatsheets2\"),\n",
       " Branch(name=\"cleanup2\"),\n",
       " Branch(name=\"courses-fr\"),\n",
       " Branch(name=\"fix-ru-course-ordering\"),\n",
       " Branch(name=\"hacktoberfesy\"),\n",
       " Branch(name=\"how-to\"),\n",
       " Branch(name=\"linting\"),\n",
       " Branch(name=\"master\"),\n",
       " Branch(name=\"normalize-udacity\"),\n",
       " Branch(name=\"omnibus\"),\n",
       " Branch(name=\"open-source-ecosystem\"),\n",
       " Branch(name=\"remove-frameworks-pt-BR\"),\n",
       " Branch(name=\"remove-hacktoberfest\"),\n",
       " Branch(name=\"remove-tr-txt\"),\n",
       " Branch(name=\"requested-emails\"),\n",
       " Branch(name=\"revert-3021-master\"),\n",
       " Branch(name=\"sort-vietnamese\"),\n",
       " Branch(name=\"standardize-wikibooks\"),\n",
       " Branch(name=\"turkish-links\")]"
      ]
     },
     "execution_count": 93,
     "metadata": {},
     "output_type": "execute_result"
    }
   ],
   "source": [
    "## BRANCHES\n",
    "# list all the branches in a repo\n",
    "tmp_repo = git.get_repo(TOP_REPOS[2])\n",
    "list(tmp_repo.get_branches())"
   ]
  },
  {
   "cell_type": "code",
   "execution_count": 117,
   "metadata": {},
   "outputs": [
    {
     "name": "stdout",
     "output_type": "stream",
     "text": [
      "Commit(sha=\"bfe50f5b9e185975a19ae97a5bb42ada772e4eb6\")\n",
      "False\n"
     ]
    }
   ],
   "source": [
    "# get head commit of a branch\n",
    "tmp_branch = git.get_repo(TOP_REPOS[2]).get_branch(\"master\")\n",
    "print(tmp_branch.commit)\n",
    "\n",
    "# get protection status of a branch\n",
    "tmp_branch = git.get_repo(TOP_REPOS[4]).get_branch(\"master\")\n",
    "print(tmp_branch.protected)"
   ]
  },
  {
   "cell_type": "code",
   "execution_count": 132,
   "metadata": {},
   "outputs": [
    {
     "data": {
      "text/plain": [
       "Milestone(title=\"react\", number=1)"
      ]
     },
     "execution_count": 132,
     "metadata": {},
     "output_type": "execute_result"
    }
   ],
   "source": [
    "## MILESTONES\n",
    "# get specific milestone\n",
    "git.get_repo(TOP_REPOS[0]).get_milestone(number=1)"
   ]
  }
 ],
 "metadata": {
  "kernelspec": {
   "display_name": "Python 3",
   "language": "python",
   "name": "python3"
  },
  "language_info": {
   "codemirror_mode": {
    "name": "ipython",
    "version": 3
   },
   "file_extension": ".py",
   "mimetype": "text/x-python",
   "name": "python",
   "nbconvert_exporter": "python",
   "pygments_lexer": "ipython3",
   "version": "3.8.6"
  }
 },
 "nbformat": 4,
 "nbformat_minor": 4
}
