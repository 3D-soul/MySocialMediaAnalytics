{
 "cells": [
  {
   "cell_type": "markdown",
   "metadata": {},
   "source": [
    "### Loading the Libraries"
   ]
  },
  {
   "cell_type": "code",
   "execution_count": 1,
   "metadata": {},
   "outputs": [],
   "source": [
    "import os\n",
    "from dotenv import load_dotenv, find_dotenv"
   ]
  },
  {
   "cell_type": "code",
   "execution_count": 2,
   "metadata": {},
   "outputs": [],
   "source": [
    "import tweepy\n",
    "import webbrowser\n",
    "import time"
   ]
  },
  {
   "cell_type": "code",
   "execution_count": 18,
   "metadata": {},
   "outputs": [],
   "source": [
    "import pandas as pd"
   ]
  },
  {
   "cell_type": "markdown",
   "metadata": {},
   "source": [
    "#### Loading the environment variables"
   ]
  },
  {
   "cell_type": "code",
   "execution_count": 3,
   "metadata": {},
   "outputs": [
    {
     "data": {
      "text/plain": [
       "True"
      ]
     },
     "execution_count": 3,
     "metadata": {},
     "output_type": "execute_result"
    }
   ],
   "source": [
    "folder_path = os.path.expanduser('../data/')  \n",
    "load_dotenv(os.path.join(folder_path, '.env'))"
   ]
  },
  {
   "cell_type": "markdown",
   "metadata": {},
   "source": [
    "### Global Variables"
   ]
  },
  {
   "cell_type": "code",
   "execution_count": 4,
   "metadata": {},
   "outputs": [],
   "source": [
    "consumer_key = os.environ.get(\"TWITTER_API_KEY\")\n",
    "consumer_secret = os.environ.get(\"TWITTER_API_SECRET\")"
   ]
  },
  {
   "cell_type": "code",
   "execution_count": 5,
   "metadata": {},
   "outputs": [],
   "source": [
    "callback_URL = \"oob\""
   ]
  },
  {
   "cell_type": "code",
   "execution_count": 112,
   "metadata": {},
   "outputs": [],
   "source": [
    "KAJAL = \"MsKajalAggarwal\"\n",
    "RAASHI = \"RaashiKhanna\"\n",
    "RAKUL = \"Rakulpreet\"\n",
    "ASHLIN = \"vp_ashlin07\" \n",
    "MONKE = \"MonkEtweets\"\n",
    "SUNNY = \"SunnyLeone\""
   ]
  },
  {
   "cell_type": "markdown",
   "metadata": {},
   "source": [
    "### Functions"
   ]
  },
  {
   "cell_type": "code",
   "execution_count": 59,
   "metadata": {},
   "outputs": [],
   "source": [
    "## --- Create a pandas dataframe using twitter timeline\n",
    "def extract_timeline_as_df(timeline_list):\n",
    "    columns = set()\n",
    "    allowed_types = [str, int]\n",
    "    tweets_data = []\n",
    "\n",
    "    for status in my_timeline:\n",
    "        status_dict = dict(vars(status))\n",
    "        keys = status_dict.keys()\n",
    "        single_tweet_data = {\"user_name\": status.user.screen_name}\n",
    "        for key in keys:\n",
    "            if type(status_dict[key]) in allowed_types:\n",
    "                single_tweet_data[key] = status_dict[key]\n",
    "                columns.add(key)\n",
    "        tweets_data.append(single_tweet_data)\n",
    "        \n",
    "    headers = list(columns)\n",
    "    headers.append(\"user_name\")\n",
    "    \n",
    "    return pd.DataFrame(tweets_data, columns=headers)\n",
    "    "
   ]
  },
  {
   "cell_type": "code",
   "execution_count": 141,
   "metadata": {},
   "outputs": [],
   "source": [
    "def process_page(page_results):\n",
    "    for i , user in enumerate(page_results):\n",
    "        print(i, user.screen_name)"
   ]
  },
  {
   "cell_type": "code",
   "execution_count": null,
   "metadata": {},
   "outputs": [],
   "source": [
    "def limit_handler(cursor):\n",
    "    while True:\n",
    "        try:\n",
    "            yeild cursor.next()\n",
    "        except tweepy.RateLimitError:\n",
    "            time.sleep(15 * 60)"
   ]
  },
  {
   "cell_type": "markdown",
   "metadata": {},
   "source": [
    "### Authorization"
   ]
  },
  {
   "cell_type": "code",
   "execution_count": 6,
   "metadata": {},
   "outputs": [],
   "source": [
    "auth = tweepy.OAuthHandler(consumer_key, consumer_secret, callback_URL)"
   ]
  },
  {
   "cell_type": "code",
   "execution_count": 7,
   "metadata": {},
   "outputs": [],
   "source": [
    "redirect_URL =auth.get_authorization_url()"
   ]
  },
  {
   "cell_type": "code",
   "execution_count": null,
   "metadata": {},
   "outputs": [],
   "source": [
    "# print(redirect_URL)"
   ]
  },
  {
   "cell_type": "code",
   "execution_count": 8,
   "metadata": {},
   "outputs": [
    {
     "data": {
      "text/plain": [
       "True"
      ]
     },
     "execution_count": 8,
     "metadata": {},
     "output_type": "execute_result"
    }
   ],
   "source": [
    "webbrowser.open(redirect_URL)"
   ]
  },
  {
   "cell_type": "code",
   "execution_count": 9,
   "metadata": {},
   "outputs": [
    {
     "name": "stdout",
     "output_type": "stream",
     "text": [
      "Enter the PIN :7918917\n"
     ]
    }
   ],
   "source": [
    "PIN = input(\"Enter the PIN :\")"
   ]
  },
  {
   "cell_type": "code",
   "execution_count": 10,
   "metadata": {},
   "outputs": [],
   "source": [
    "access_token, access_secret = auth.get_access_token(PIN)"
   ]
  },
  {
   "cell_type": "code",
   "execution_count": 26,
   "metadata": {},
   "outputs": [],
   "source": [
    "# print(access_token)\n",
    "# print(access_secret)"
   ]
  },
  {
   "cell_type": "markdown",
   "metadata": {},
   "source": [
    "### Getting Personal data"
   ]
  },
  {
   "cell_type": "code",
   "execution_count": 11,
   "metadata": {},
   "outputs": [],
   "source": [
    "api = tweepy.API(auth)"
   ]
  },
  {
   "cell_type": "code",
   "execution_count": 12,
   "metadata": {},
   "outputs": [],
   "source": [
    "me = api.me()"
   ]
  },
  {
   "cell_type": "code",
   "execution_count": 13,
   "metadata": {},
   "outputs": [
    {
     "name": "stdout",
     "output_type": "stream",
     "text": [
      "821Suhruth\n"
     ]
    }
   ],
   "source": [
    "print(me.screen_name)"
   ]
  },
  {
   "cell_type": "code",
   "execution_count": 14,
   "metadata": {},
   "outputs": [
    {
     "name": "stdout",
     "output_type": "stream",
     "text": [
      "821Suhruth\n"
     ]
    }
   ],
   "source": [
    "print(api.me().screen_name)"
   ]
  },
  {
   "cell_type": "markdown",
   "metadata": {},
   "source": [
    "## Status Or Tweets"
   ]
  },
  {
   "cell_type": "code",
   "execution_count": 52,
   "metadata": {},
   "outputs": [],
   "source": [
    "new_status = api.update_status(\"OMG! I tweeted this using #python, just playing with the #tweepy...\")"
   ]
  },
  {
   "cell_type": "code",
   "execution_count": 53,
   "metadata": {},
   "outputs": [
    {
     "data": {
      "text/plain": [
       "Status(_api=<tweepy.api.API object at 0x0000026A53F6F2E0>, _json={'created_at': 'Sun Nov 29 05:30:19 +0000 2020', 'id': 1332919800838770692, 'id_str': '1332919800838770692', 'text': 'OMG! I tweeted this using #python, just playing with the #tweepy...', 'truncated': False, 'entities': {'hashtags': [{'text': 'python', 'indices': [26, 33]}, {'text': 'tweepy', 'indices': [57, 64]}], 'symbols': [], 'user_mentions': [], 'urls': []}, 'source': '', 'in_reply_to_status_id': None, 'in_reply_to_status_id_str': None, 'in_reply_to_user_id': None, 'in_reply_to_user_id_str': None, 'in_reply_to_screen_name': None, 'user': {'id': 1053660413592621061, 'id_str': '1053660413592621061', 'name': '@Suhruth_Yambakam', 'screen_name': '821Suhruth', 'location': 'Nellore, India', 'description': \"I may not gone the way I intended, but I'm where I needed to be\", 'url': None, 'entities': {'description': {'urls': []}}, 'protected': False, 'followers_count': 16, 'friends_count': 156, 'listed_count': 1, 'created_at': 'Sat Oct 20 14:53:13 +0000 2018', 'favourites_count': 439, 'utc_offset': None, 'time_zone': None, 'geo_enabled': False, 'verified': False, 'statuses_count': 2454, 'lang': None, 'contributors_enabled': False, 'is_translator': False, 'is_translation_enabled': False, 'profile_background_color': 'F5F8FA', 'profile_background_image_url': None, 'profile_background_image_url_https': None, 'profile_background_tile': False, 'profile_image_url': 'http://pbs.twimg.com/profile_images/1053661079677526021/jLIKn4Bf_normal.jpg', 'profile_image_url_https': 'https://pbs.twimg.com/profile_images/1053661079677526021/jLIKn4Bf_normal.jpg', 'profile_banner_url': 'https://pbs.twimg.com/profile_banners/1053660413592621061/1540047365', 'profile_link_color': '1DA1F2', 'profile_sidebar_border_color': 'C0DEED', 'profile_sidebar_fill_color': 'DDEEF6', 'profile_text_color': '333333', 'profile_use_background_image': True, 'has_extended_profile': True, 'default_profile': True, 'default_profile_image': False, 'following': False, 'follow_request_sent': False, 'notifications': False, 'translator_type': 'none'}, 'geo': None, 'coordinates': None, 'place': None, 'contributors': None, 'is_quote_status': False, 'retweet_count': 0, 'favorite_count': 0, 'favorited': False, 'retweeted': False, 'lang': 'en'}, created_at=datetime.datetime(2020, 11, 29, 5, 30, 19), id=1332919800838770692, id_str='1332919800838770692', text='OMG! I tweeted this using #python, just playing with the #tweepy...', truncated=False, entities={'hashtags': [{'text': 'python', 'indices': [26, 33]}, {'text': 'tweepy', 'indices': [57, 64]}], 'symbols': [], 'user_mentions': [], 'urls': []}, source='', source_url=None, in_reply_to_status_id=None, in_reply_to_status_id_str=None, in_reply_to_user_id=None, in_reply_to_user_id_str=None, in_reply_to_screen_name=None, author=User(_api=<tweepy.api.API object at 0x0000026A53F6F2E0>, _json={'id': 1053660413592621061, 'id_str': '1053660413592621061', 'name': '@Suhruth_Yambakam', 'screen_name': '821Suhruth', 'location': 'Nellore, India', 'description': \"I may not gone the way I intended, but I'm where I needed to be\", 'url': None, 'entities': {'description': {'urls': []}}, 'protected': False, 'followers_count': 16, 'friends_count': 156, 'listed_count': 1, 'created_at': 'Sat Oct 20 14:53:13 +0000 2018', 'favourites_count': 439, 'utc_offset': None, 'time_zone': None, 'geo_enabled': False, 'verified': False, 'statuses_count': 2454, 'lang': None, 'contributors_enabled': False, 'is_translator': False, 'is_translation_enabled': False, 'profile_background_color': 'F5F8FA', 'profile_background_image_url': None, 'profile_background_image_url_https': None, 'profile_background_tile': False, 'profile_image_url': 'http://pbs.twimg.com/profile_images/1053661079677526021/jLIKn4Bf_normal.jpg', 'profile_image_url_https': 'https://pbs.twimg.com/profile_images/1053661079677526021/jLIKn4Bf_normal.jpg', 'profile_banner_url': 'https://pbs.twimg.com/profile_banners/1053660413592621061/1540047365', 'profile_link_color': '1DA1F2', 'profile_sidebar_border_color': 'C0DEED', 'profile_sidebar_fill_color': 'DDEEF6', 'profile_text_color': '333333', 'profile_use_background_image': True, 'has_extended_profile': True, 'default_profile': True, 'default_profile_image': False, 'following': False, 'follow_request_sent': False, 'notifications': False, 'translator_type': 'none'}, id=1053660413592621061, id_str='1053660413592621061', name='@Suhruth_Yambakam', screen_name='821Suhruth', location='Nellore, India', description=\"I may not gone the way I intended, but I'm where I needed to be\", url=None, entities={'description': {'urls': []}}, protected=False, followers_count=16, friends_count=156, listed_count=1, created_at=datetime.datetime(2018, 10, 20, 14, 53, 13), favourites_count=439, utc_offset=None, time_zone=None, geo_enabled=False, verified=False, statuses_count=2454, lang=None, contributors_enabled=False, is_translator=False, is_translation_enabled=False, profile_background_color='F5F8FA', profile_background_image_url=None, profile_background_image_url_https=None, profile_background_tile=False, profile_image_url='http://pbs.twimg.com/profile_images/1053661079677526021/jLIKn4Bf_normal.jpg', profile_image_url_https='https://pbs.twimg.com/profile_images/1053661079677526021/jLIKn4Bf_normal.jpg', profile_banner_url='https://pbs.twimg.com/profile_banners/1053660413592621061/1540047365', profile_link_color='1DA1F2', profile_sidebar_border_color='C0DEED', profile_sidebar_fill_color='DDEEF6', profile_text_color='333333', profile_use_background_image=True, has_extended_profile=True, default_profile=True, default_profile_image=False, following=False, follow_request_sent=False, notifications=False, translator_type='none'), user=User(_api=<tweepy.api.API object at 0x0000026A53F6F2E0>, _json={'id': 1053660413592621061, 'id_str': '1053660413592621061', 'name': '@Suhruth_Yambakam', 'screen_name': '821Suhruth', 'location': 'Nellore, India', 'description': \"I may not gone the way I intended, but I'm where I needed to be\", 'url': None, 'entities': {'description': {'urls': []}}, 'protected': False, 'followers_count': 16, 'friends_count': 156, 'listed_count': 1, 'created_at': 'Sat Oct 20 14:53:13 +0000 2018', 'favourites_count': 439, 'utc_offset': None, 'time_zone': None, 'geo_enabled': False, 'verified': False, 'statuses_count': 2454, 'lang': None, 'contributors_enabled': False, 'is_translator': False, 'is_translation_enabled': False, 'profile_background_color': 'F5F8FA', 'profile_background_image_url': None, 'profile_background_image_url_https': None, 'profile_background_tile': False, 'profile_image_url': 'http://pbs.twimg.com/profile_images/1053661079677526021/jLIKn4Bf_normal.jpg', 'profile_image_url_https': 'https://pbs.twimg.com/profile_images/1053661079677526021/jLIKn4Bf_normal.jpg', 'profile_banner_url': 'https://pbs.twimg.com/profile_banners/1053660413592621061/1540047365', 'profile_link_color': '1DA1F2', 'profile_sidebar_border_color': 'C0DEED', 'profile_sidebar_fill_color': 'DDEEF6', 'profile_text_color': '333333', 'profile_use_background_image': True, 'has_extended_profile': True, 'default_profile': True, 'default_profile_image': False, 'following': False, 'follow_request_sent': False, 'notifications': False, 'translator_type': 'none'}, id=1053660413592621061, id_str='1053660413592621061', name='@Suhruth_Yambakam', screen_name='821Suhruth', location='Nellore, India', description=\"I may not gone the way I intended, but I'm where I needed to be\", url=None, entities={'description': {'urls': []}}, protected=False, followers_count=16, friends_count=156, listed_count=1, created_at=datetime.datetime(2018, 10, 20, 14, 53, 13), favourites_count=439, utc_offset=None, time_zone=None, geo_enabled=False, verified=False, statuses_count=2454, lang=None, contributors_enabled=False, is_translator=False, is_translation_enabled=False, profile_background_color='F5F8FA', profile_background_image_url=None, profile_background_image_url_https=None, profile_background_tile=False, profile_image_url='http://pbs.twimg.com/profile_images/1053661079677526021/jLIKn4Bf_normal.jpg', profile_image_url_https='https://pbs.twimg.com/profile_images/1053661079677526021/jLIKn4Bf_normal.jpg', profile_banner_url='https://pbs.twimg.com/profile_banners/1053660413592621061/1540047365', profile_link_color='1DA1F2', profile_sidebar_border_color='C0DEED', profile_sidebar_fill_color='DDEEF6', profile_text_color='333333', profile_use_background_image=True, has_extended_profile=True, default_profile=True, default_profile_image=False, following=False, follow_request_sent=False, notifications=False, translator_type='none'), geo=None, coordinates=None, place=None, contributors=None, is_quote_status=False, retweet_count=0, favorite_count=0, favorited=False, retweeted=False, lang='en')"
      ]
     },
     "execution_count": 53,
     "metadata": {},
     "output_type": "execute_result"
    }
   ],
   "source": [
    "new_status.destroy()"
   ]
  },
  {
   "cell_type": "code",
   "execution_count": 61,
   "metadata": {},
   "outputs": [],
   "source": [
    "img_path = \"../data/new_status.PNG\"\n",
    "img_obj = api.media_upload(img_path)"
   ]
  },
  {
   "cell_type": "code",
   "execution_count": 62,
   "metadata": {},
   "outputs": [],
   "source": [
    "new_status = api.update_status(\"OMG! I tweeted this using #python, just playing with the #tweepy... \", media_ids = [img_obj.media_id_string])"
   ]
  },
  {
   "cell_type": "code",
   "execution_count": 59,
   "metadata": {},
   "outputs": [],
   "source": [
    "# new_status.destroy()"
   ]
  },
  {
   "cell_type": "markdown",
   "metadata": {},
   "source": [
    "### Timeline"
   ]
  },
  {
   "cell_type": "code",
   "execution_count": 16,
   "metadata": {},
   "outputs": [],
   "source": [
    "my_timeline = api.home_timeline()\n",
    "# my_timeline"
   ]
  },
  {
   "cell_type": "code",
   "execution_count": 17,
   "metadata": {},
   "outputs": [
    {
     "name": "stdout",
     "output_type": "stream",
     "text": [
      "Some defend @realDonaldTrump saying he’s like a kid ..A 74 year old man with a kids mind is not called a kid..He’s called a RETARD\n",
      "-----\n",
      "\n",
      "More countries looking to dominate in space https://t.co/sEvtILLe8z\n",
      "-----\n",
      "\n",
      "Nivar cyclone left the farming community in the lurch! https://t.co/PSUY8DmiYy\n",
      "-----\n",
      "\n",
      "75-year-old man shows off coconut-picking skills\n",
      "\n",
      "Fu Zehe, who once served in the military and now lives in the tro… https://t.co/mM9tokAoEE\n",
      "-----\n",
      "\n",
      "Wow da https://t.co/jSkMQy1G4z\n",
      "-----\n",
      "\n",
      "తుపాను ప్రభావిత ప్రాంతాల్లో  శ్రీ @PawanKalyan గారు డిసెంబర్ 2వ తేదీన  పర్యటన. https://t.co/PEHjrjNC6v\n",
      "-----\n",
      "\n",
      "'दिल्ली क्राइम' के एमी अवॉर्ड जीतने से भारत के लिए क्या बदल जाएगा https://t.co/NJ2uC7tm4v\n",
      "-----\n",
      "\n",
      "Poverty alleviation official: Contributing to poverty alleviation work is my duty #ZeroPoverty2020 https://t.co/ttdRx9UbDM\n",
      "-----\n",
      "\n",
      "https://t.co/CJMErVedon\n",
      "-----\n",
      "\n",
      "#FarmersProtest : सरकार से बात को राज़ी हुए किसान लेकिन कोई शर्त स्वीकार नहीं https://t.co/iz4q20bEIH\n",
      "-----\n",
      "\n",
      "Karthika Pournami... Lighting 365 Lamps which I do every year 🙏🏼 \n",
      "@ Skandagiri Temple https://t.co/bn8DSPolSH\n",
      "-----\n",
      "\n",
      "RT @Prabhas__Kohli: Old Edit 💥 Loka Nayakuda FT \n",
      "\n",
      "Hope you Like it 👍\n",
      "\n",
      "#Prabhas #RadheShyam https://t.co/yNzlQgj575\n",
      "-----\n",
      "\n",
      "Four tonnes of potatoes were set to go to waste when a Shanghai community initiated closed management after local c… https://t.co/CoXw0eH5Vj\n",
      "-----\n",
      "\n",
      "ओवैसी लिस्ट दें, रोहिंग्याओं पर मैं कार्रवाई करता हूँ: अमित शाह\n",
      "https://t.co/CSNGg73lch https://t.co/esVlaWFsEk\n",
      "-----\n",
      "\n",
      "#FarmersProtest : सरकार से बात को राज़ी हुए किसान लेकिन कोई शर्त स्वीकार नहीं https://t.co/0qbVXjv9Og\n",
      "-----\n",
      "\n",
      "Dave Prowse, actor who played Darth Vader, dies at 85\n",
      "https://t.co/0fwD4GWPDF\n",
      "-----\n",
      "\n",
      "You can hear me and the stories of public service excellence by officers at \n",
      "#ArunBongirwarFoundation &amp;… https://t.co/e6pvAGIB3u\n",
      "-----\n",
      "\n",
      "#China to expand scope and scale of outbound investment schemes https://t.co/7g3v05Y9Y7\n",
      "-----\n",
      "\n",
      "T 3737 -From 26/11 to COVID-19, India fights back: Love trumps hate courage defeats fear. \n",
      "Tune in tonight \n",
      "the… https://t.co/5xLsAYRsfx\n",
      "-----\n",
      "\n",
      "Perching on the banks of Lake Pichola, City Palace, Udaipur is an architectural marvel. Enjoy the panoramic  beauty… https://t.co/FxUkROiF5U\n",
      "-----\n",
      "\n"
     ]
    }
   ],
   "source": [
    "for status in my_timeline:\n",
    "    print(status.text)\n",
    "    print(\"-----\\n\")"
   ]
  },
  {
   "cell_type": "code",
   "execution_count": 44,
   "metadata": {},
   "outputs": [],
   "source": [
    "columns = set()\n",
    "allowed_types = [str, int]\n",
    "tweets_data = []\n",
    "\n",
    "for status in my_timeline:\n",
    "    status_dict = dict(vars(status))\n",
    "    keys = status_dict.keys()\n",
    "    single_tweet_data = {\n",
    "        \"user_name\": status.user.screen_name,\n",
    "        \"author\": status.author.screen_name}\n",
    "    for key in keys:\n",
    "        if type(status_dict[key]) in allowed_types:\n",
    "            single_tweet_data[key] = status_dict[key]\n",
    "            columns.add(key)\n",
    "    tweets_data.append(single_tweet_data)\n",
    "        \n",
    "headers = list(columns)\n",
    "headers.append(\"user_name\")\n",
    "headers.append(\"author\")"
   ]
  },
  {
   "cell_type": "code",
   "execution_count": 45,
   "metadata": {},
   "outputs": [
    {
     "data": {
      "text/plain": [
       "[{'user_name': 'RGVzoomin',\n",
       "  'author': 'RGVzoomin',\n",
       "  'id': 1333064441835835393,\n",
       "  'id_str': '1333064441835835393',\n",
       "  'text': 'Some defend @realDonaldTrump saying he’s like a kid ..A 74 year old man with a kids mind is not called a kid..He’s called a RETARD',\n",
       "  'source': 'Twitter for iPhone',\n",
       "  'source_url': 'http://twitter.com/download/iphone',\n",
       "  'retweet_count': 9,\n",
       "  'favorite_count': 92,\n",
       "  'lang': 'en'},\n",
       " {'user_name': 'CGTNOfficial',\n",
       "  'author': 'CGTNOfficial',\n",
       "  'id': 1333063169942675464,\n",
       "  'id_str': '1333063169942675464',\n",
       "  'text': 'More countries looking to dominate in space https://t.co/sEvtILLe8z',\n",
       "  'source': 'Twitter Media Studio',\n",
       "  'source_url': 'https://studio.twitter.com',\n",
       "  'retweet_count': 4,\n",
       "  'favorite_count': 15,\n",
       "  'lang': 'en'},\n",
       " {'user_name': 'JanaSenaParty',\n",
       "  'author': 'JanaSenaParty',\n",
       "  'id': 1333059672002031617,\n",
       "  'id_str': '1333059672002031617',\n",
       "  'text': 'Nivar cyclone left the farming community in the lurch! https://t.co/PSUY8DmiYy',\n",
       "  'source': 'Twitter for Android',\n",
       "  'source_url': 'http://twitter.com/download/android',\n",
       "  'retweet_count': 162,\n",
       "  'favorite_count': 380,\n",
       "  'lang': 'en'},\n",
       " {'user_name': 'CGTNOfficial',\n",
       "  'author': 'CGTNOfficial',\n",
       "  'id': 1333058131924979714,\n",
       "  'id_str': '1333058131924979714',\n",
       "  'text': '75-year-old man shows off coconut-picking skills\\n\\nFu Zehe, who once served in the military and now lives in the tro… https://t.co/mM9tokAoEE',\n",
       "  'source': 'TweetDeck',\n",
       "  'source_url': 'https://about.twitter.com/products/tweetdeck',\n",
       "  'retweet_count': 11,\n",
       "  'favorite_count': 74,\n",
       "  'lang': 'en'},\n",
       " {'user_name': 'Atlee_dir',\n",
       "  'author': 'Atlee_dir',\n",
       "  'id': 1333057829696020481,\n",
       "  'id_str': '1333057829696020481',\n",
       "  'text': 'Wow da https://t.co/jSkMQy1G4z',\n",
       "  'source': 'Twitter for iPhone',\n",
       "  'source_url': 'http://twitter.com/download/iphone',\n",
       "  'quoted_status_id': 1333056344023212033,\n",
       "  'quoted_status_id_str': '1333056344023212033',\n",
       "  'retweet_count': 102,\n",
       "  'favorite_count': 1742,\n",
       "  'lang': 'en'},\n",
       " {'user_name': 'JanaSenaParty',\n",
       "  'author': 'JanaSenaParty',\n",
       "  'id': 1333057823610048513,\n",
       "  'id_str': '1333057823610048513',\n",
       "  'text': 'తుపాను ప్రభావిత ప్రాంతాల్లో  శ్రీ @PawanKalyan గారు డిసెంబర్ 2వ తేదీన  పర్యటన. https://t.co/PEHjrjNC6v',\n",
       "  'source': 'Twitter for Android',\n",
       "  'source_url': 'http://twitter.com/download/android',\n",
       "  'retweet_count': 407,\n",
       "  'favorite_count': 894,\n",
       "  'lang': 'te'},\n",
       " {'user_name': 'BBCHindi',\n",
       "  'author': 'BBCHindi',\n",
       "  'id': 1333055944188702726,\n",
       "  'id_str': '1333055944188702726',\n",
       "  'text': \"'दिल्ली क्राइम' के एमी अवॉर्ड जीतने से भारत के लिए क्या बदल जाएगा https://t.co/NJ2uC7tm4v\",\n",
       "  'source': 'SocialFlow',\n",
       "  'source_url': 'http://www.socialflow.com',\n",
       "  'retweet_count': 4,\n",
       "  'favorite_count': 112,\n",
       "  'lang': 'hi'},\n",
       " {'user_name': 'CGTNOfficial',\n",
       "  'author': 'CGTNOfficial',\n",
       "  'id': 1333053098495971328,\n",
       "  'id_str': '1333053098495971328',\n",
       "  'text': 'Poverty alleviation official: Contributing to poverty alleviation work is my duty #ZeroPoverty2020 https://t.co/ttdRx9UbDM',\n",
       "  'source': 'Twitter Media Studio',\n",
       "  'source_url': 'https://studio.twitter.com',\n",
       "  'retweet_count': 7,\n",
       "  'favorite_count': 23,\n",
       "  'lang': 'en'},\n",
       " {'user_name': 'ajaydevgn',\n",
       "  'author': 'ajaydevgn',\n",
       "  'id': 1333052999376072705,\n",
       "  'id_str': '1333052999376072705',\n",
       "  'text': 'https://t.co/CJMErVedon',\n",
       "  'source': 'Twitter for Android',\n",
       "  'source_url': 'http://twitter.com/download/android',\n",
       "  'in_reply_to_status_id': 1333042621338451969,\n",
       "  'in_reply_to_status_id_str': '1333042621338451969',\n",
       "  'in_reply_to_user_id': 65659343,\n",
       "  'in_reply_to_user_id_str': '65659343',\n",
       "  'in_reply_to_screen_name': 'ajaydevgn',\n",
       "  'retweet_count': 11,\n",
       "  'favorite_count': 210,\n",
       "  'lang': 'und'},\n",
       " {'user_name': 'BBCHindi',\n",
       "  'author': 'BBCHindi',\n",
       "  'id': 1333051924770385921,\n",
       "  'id_str': '1333051924770385921',\n",
       "  'text': '#FarmersProtest : सरकार से बात को राज़ी हुए किसान लेकिन कोई शर्त स्वीकार नहीं https://t.co/iz4q20bEIH',\n",
       "  'source': 'SocialFlow',\n",
       "  'source_url': 'http://www.socialflow.com',\n",
       "  'retweet_count': 18,\n",
       "  'favorite_count': 308,\n",
       "  'lang': 'hi'},\n",
       " {'user_name': 'actor_Nikhil',\n",
       "  'author': 'actor_Nikhil',\n",
       "  'id': 1333051289358405633,\n",
       "  'id_str': '1333051289358405633',\n",
       "  'text': 'Karthika Pournami... Lighting 365 Lamps which I do every year 🙏🏼 \\n@ Skandagiri Temple https://t.co/bn8DSPolSH',\n",
       "  'source': 'Twitter for Android',\n",
       "  'source_url': 'http://twitter.com/download/android',\n",
       "  'retweet_count': 39,\n",
       "  'favorite_count': 1157,\n",
       "  'lang': 'en'},\n",
       " {'user_name': 'TrendsPrabhas',\n",
       "  'author': 'TrendsPrabhas',\n",
       "  'id': 1333049326986096640,\n",
       "  'id_str': '1333049326986096640',\n",
       "  'text': 'RT @Prabhas__Kohli: Old Edit 💥 Loka Nayakuda FT \\n\\nHope you Like it 👍\\n\\n#Prabhas #RadheShyam https://t.co/yNzlQgj575',\n",
       "  'source': 'Twitter for Android',\n",
       "  'source_url': 'http://twitter.com/download/android',\n",
       "  'retweet_count': 166,\n",
       "  'favorite_count': 0,\n",
       "  'lang': 'en'},\n",
       " {'user_name': 'CGTNOfficial',\n",
       "  'author': 'CGTNOfficial',\n",
       "  'id': 1333048071081644032,\n",
       "  'id_str': '1333048071081644032',\n",
       "  'text': 'Four tonnes of potatoes were set to go to waste when a Shanghai community initiated closed management after local c… https://t.co/CoXw0eH5Vj',\n",
       "  'source': 'TweetDeck',\n",
       "  'source_url': 'https://about.twitter.com/products/tweetdeck',\n",
       "  'retweet_count': 11,\n",
       "  'favorite_count': 37,\n",
       "  'lang': 'en'},\n",
       " {'user_name': 'BBCHindi',\n",
       "  'author': 'BBCHindi',\n",
       "  'id': 1333047074380673026,\n",
       "  'id_str': '1333047074380673026',\n",
       "  'text': 'ओवैसी लिस्ट दें, रोहिंग्याओं पर मैं कार्रवाई करता हूँ: अमित शाह\\nhttps://t.co/CSNGg73lch https://t.co/esVlaWFsEk',\n",
       "  'source': 'SocialFlow',\n",
       "  'source_url': 'http://www.socialflow.com',\n",
       "  'retweet_count': 27,\n",
       "  'favorite_count': 493,\n",
       "  'lang': 'hi'},\n",
       " {'user_name': 'BBCHindi',\n",
       "  'author': 'BBCHindi',\n",
       "  'id': 1333046531797229569,\n",
       "  'id_str': '1333046531797229569',\n",
       "  'text': '#FarmersProtest : सरकार से बात को राज़ी हुए किसान लेकिन कोई शर्त स्वीकार नहीं https://t.co/0qbVXjv9Og',\n",
       "  'source': 'SocialFlow',\n",
       "  'source_url': 'http://www.socialflow.com',\n",
       "  'retweet_count': 14,\n",
       "  'favorite_count': 170,\n",
       "  'lang': 'hi'},\n",
       " {'user_name': 'CGTNOfficial',\n",
       "  'author': 'CGTNOfficial',\n",
       "  'id': 1333043032128679938,\n",
       "  'id_str': '1333043032128679938',\n",
       "  'text': 'Dave Prowse, actor who played Darth Vader, dies at 85\\nhttps://t.co/0fwD4GWPDF',\n",
       "  'source': 'TweetDeck',\n",
       "  'source_url': 'https://about.twitter.com/products/tweetdeck',\n",
       "  'retweet_count': 7,\n",
       "  'favorite_count': 32,\n",
       "  'lang': 'en'},\n",
       " {'user_name': 'ajaydevgn',\n",
       "  'author': 'ajaydevgn',\n",
       "  'id': 1333042621338451969,\n",
       "  'id_str': '1333042621338451969',\n",
       "  'text': 'You can hear me and the stories of public service excellence by officers at \\n#ArunBongirwarFoundation &amp;… https://t.co/e6pvAGIB3u',\n",
       "  'source': 'Twitter for Android',\n",
       "  'source_url': 'http://twitter.com/download/android',\n",
       "  'retweet_count': 113,\n",
       "  'favorite_count': 931,\n",
       "  'lang': 'en'},\n",
       " {'user_name': 'CGTNOfficial',\n",
       "  'author': 'CGTNOfficial',\n",
       "  'id': 1333041778971209729,\n",
       "  'id_str': '1333041778971209729',\n",
       "  'text': '#China to expand scope and scale of outbound investment schemes https://t.co/7g3v05Y9Y7',\n",
       "  'source': 'Twitter Web App',\n",
       "  'source_url': 'https://mobile.twitter.com',\n",
       "  'retweet_count': 5,\n",
       "  'favorite_count': 16,\n",
       "  'lang': 'en'},\n",
       " {'user_name': 'SrBachchan',\n",
       "  'author': 'SrBachchan',\n",
       "  'id': 1333040836880154625,\n",
       "  'id_str': '1333040836880154625',\n",
       "  'text': 'T 3737 -From 26/11 to COVID-19, India fights back: Love trumps hate courage defeats fear. \\nTune in tonight \\nthe… https://t.co/5xLsAYRsfx',\n",
       "  'source': 'Twitter Web App',\n",
       "  'source_url': 'https://mobile.twitter.com',\n",
       "  'retweet_count': 78,\n",
       "  'favorite_count': 865,\n",
       "  'lang': 'en'},\n",
       " {'user_name': 'incredibleindia',\n",
       "  'author': 'incredibleindia',\n",
       "  'id': 1333040563826937859,\n",
       "  'id_str': '1333040563826937859',\n",
       "  'text': 'Perching on the banks of Lake Pichola, City Palace, Udaipur is an architectural marvel. Enjoy the panoramic  beauty… https://t.co/FxUkROiF5U',\n",
       "  'source': 'Hootsuite Inc.',\n",
       "  'source_url': 'https://www.hootsuite.com',\n",
       "  'retweet_count': 17,\n",
       "  'favorite_count': 158,\n",
       "  'lang': 'en'}]"
      ]
     },
     "execution_count": 45,
     "metadata": {},
     "output_type": "execute_result"
    }
   ],
   "source": [
    "# headers\n",
    "tweets_data"
   ]
  },
  {
   "cell_type": "code",
   "execution_count": 51,
   "metadata": {},
   "outputs": [
    {
     "data": {
      "text/html": [
       "<div>\n",
       "<style scoped>\n",
       "    .dataframe tbody tr th:only-of-type {\n",
       "        vertical-align: middle;\n",
       "    }\n",
       "\n",
       "    .dataframe tbody tr th {\n",
       "        vertical-align: top;\n",
       "    }\n",
       "\n",
       "    .dataframe thead th {\n",
       "        text-align: right;\n",
       "    }\n",
       "</style>\n",
       "<table border=\"1\" class=\"dataframe\">\n",
       "  <thead>\n",
       "    <tr style=\"text-align: right;\">\n",
       "      <th></th>\n",
       "      <th>lang</th>\n",
       "      <th>in_reply_to_user_id_str</th>\n",
       "      <th>quoted_status_id_str</th>\n",
       "      <th>in_reply_to_screen_name</th>\n",
       "      <th>text</th>\n",
       "      <th>in_reply_to_user_id</th>\n",
       "      <th>in_reply_to_status_id</th>\n",
       "      <th>retweet_count</th>\n",
       "      <th>source</th>\n",
       "      <th>favorite_count</th>\n",
       "      <th>id</th>\n",
       "      <th>quoted_status_id</th>\n",
       "      <th>id_str</th>\n",
       "      <th>in_reply_to_status_id_str</th>\n",
       "      <th>source_url</th>\n",
       "      <th>user_name</th>\n",
       "      <th>author</th>\n",
       "    </tr>\n",
       "  </thead>\n",
       "  <tbody>\n",
       "    <tr>\n",
       "      <th>0</th>\n",
       "      <td>en</td>\n",
       "      <td>NaN</td>\n",
       "      <td>NaN</td>\n",
       "      <td>NaN</td>\n",
       "      <td>Some defend @realDonaldTrump saying he’s like ...</td>\n",
       "      <td>NaN</td>\n",
       "      <td>NaN</td>\n",
       "      <td>9</td>\n",
       "      <td>Twitter for iPhone</td>\n",
       "      <td>92</td>\n",
       "      <td>1333064441835835393</td>\n",
       "      <td>NaN</td>\n",
       "      <td>1333064441835835393</td>\n",
       "      <td>NaN</td>\n",
       "      <td>http://twitter.com/download/iphone</td>\n",
       "      <td>RGVzoomin</td>\n",
       "      <td>RGVzoomin</td>\n",
       "    </tr>\n",
       "    <tr>\n",
       "      <th>1</th>\n",
       "      <td>en</td>\n",
       "      <td>NaN</td>\n",
       "      <td>NaN</td>\n",
       "      <td>NaN</td>\n",
       "      <td>More countries looking to dominate in space ht...</td>\n",
       "      <td>NaN</td>\n",
       "      <td>NaN</td>\n",
       "      <td>4</td>\n",
       "      <td>Twitter Media Studio</td>\n",
       "      <td>15</td>\n",
       "      <td>1333063169942675464</td>\n",
       "      <td>NaN</td>\n",
       "      <td>1333063169942675464</td>\n",
       "      <td>NaN</td>\n",
       "      <td>https://studio.twitter.com</td>\n",
       "      <td>CGTNOfficial</td>\n",
       "      <td>CGTNOfficial</td>\n",
       "    </tr>\n",
       "    <tr>\n",
       "      <th>2</th>\n",
       "      <td>en</td>\n",
       "      <td>NaN</td>\n",
       "      <td>NaN</td>\n",
       "      <td>NaN</td>\n",
       "      <td>Nivar cyclone left the farming community in th...</td>\n",
       "      <td>NaN</td>\n",
       "      <td>NaN</td>\n",
       "      <td>162</td>\n",
       "      <td>Twitter for Android</td>\n",
       "      <td>380</td>\n",
       "      <td>1333059672002031617</td>\n",
       "      <td>NaN</td>\n",
       "      <td>1333059672002031617</td>\n",
       "      <td>NaN</td>\n",
       "      <td>http://twitter.com/download/android</td>\n",
       "      <td>JanaSenaParty</td>\n",
       "      <td>JanaSenaParty</td>\n",
       "    </tr>\n",
       "    <tr>\n",
       "      <th>3</th>\n",
       "      <td>en</td>\n",
       "      <td>NaN</td>\n",
       "      <td>NaN</td>\n",
       "      <td>NaN</td>\n",
       "      <td>75-year-old man shows off coconut-picking skil...</td>\n",
       "      <td>NaN</td>\n",
       "      <td>NaN</td>\n",
       "      <td>11</td>\n",
       "      <td>TweetDeck</td>\n",
       "      <td>74</td>\n",
       "      <td>1333058131924979714</td>\n",
       "      <td>NaN</td>\n",
       "      <td>1333058131924979714</td>\n",
       "      <td>NaN</td>\n",
       "      <td>https://about.twitter.com/products/tweetdeck</td>\n",
       "      <td>CGTNOfficial</td>\n",
       "      <td>CGTNOfficial</td>\n",
       "    </tr>\n",
       "    <tr>\n",
       "      <th>4</th>\n",
       "      <td>en</td>\n",
       "      <td>NaN</td>\n",
       "      <td>1333056344023212033</td>\n",
       "      <td>NaN</td>\n",
       "      <td>Wow da https://t.co/jSkMQy1G4z</td>\n",
       "      <td>NaN</td>\n",
       "      <td>NaN</td>\n",
       "      <td>102</td>\n",
       "      <td>Twitter for iPhone</td>\n",
       "      <td>1742</td>\n",
       "      <td>1333057829696020481</td>\n",
       "      <td>1.333056e+18</td>\n",
       "      <td>1333057829696020481</td>\n",
       "      <td>NaN</td>\n",
       "      <td>http://twitter.com/download/iphone</td>\n",
       "      <td>Atlee_dir</td>\n",
       "      <td>Atlee_dir</td>\n",
       "    </tr>\n",
       "  </tbody>\n",
       "</table>\n",
       "</div>"
      ],
      "text/plain": [
       "  lang in_reply_to_user_id_str quoted_status_id_str in_reply_to_screen_name  \\\n",
       "0   en                     NaN                  NaN                     NaN   \n",
       "1   en                     NaN                  NaN                     NaN   \n",
       "2   en                     NaN                  NaN                     NaN   \n",
       "3   en                     NaN                  NaN                     NaN   \n",
       "4   en                     NaN  1333056344023212033                     NaN   \n",
       "\n",
       "                                                text  in_reply_to_user_id  \\\n",
       "0  Some defend @realDonaldTrump saying he’s like ...                  NaN   \n",
       "1  More countries looking to dominate in space ht...                  NaN   \n",
       "2  Nivar cyclone left the farming community in th...                  NaN   \n",
       "3  75-year-old man shows off coconut-picking skil...                  NaN   \n",
       "4                     Wow da https://t.co/jSkMQy1G4z                  NaN   \n",
       "\n",
       "   in_reply_to_status_id  retweet_count                source  favorite_count  \\\n",
       "0                    NaN              9    Twitter for iPhone              92   \n",
       "1                    NaN              4  Twitter Media Studio              15   \n",
       "2                    NaN            162   Twitter for Android             380   \n",
       "3                    NaN             11             TweetDeck              74   \n",
       "4                    NaN            102    Twitter for iPhone            1742   \n",
       "\n",
       "                    id  quoted_status_id               id_str  \\\n",
       "0  1333064441835835393               NaN  1333064441835835393   \n",
       "1  1333063169942675464               NaN  1333063169942675464   \n",
       "2  1333059672002031617               NaN  1333059672002031617   \n",
       "3  1333058131924979714               NaN  1333058131924979714   \n",
       "4  1333057829696020481      1.333056e+18  1333057829696020481   \n",
       "\n",
       "  in_reply_to_status_id_str                                    source_url  \\\n",
       "0                       NaN            http://twitter.com/download/iphone   \n",
       "1                       NaN                    https://studio.twitter.com   \n",
       "2                       NaN           http://twitter.com/download/android   \n",
       "3                       NaN  https://about.twitter.com/products/tweetdeck   \n",
       "4                       NaN            http://twitter.com/download/iphone   \n",
       "\n",
       "       user_name         author  \n",
       "0      RGVzoomin      RGVzoomin  \n",
       "1   CGTNOfficial   CGTNOfficial  \n",
       "2  JanaSenaParty  JanaSenaParty  \n",
       "3   CGTNOfficial   CGTNOfficial  \n",
       "4      Atlee_dir      Atlee_dir  "
      ]
     },
     "execution_count": 51,
     "metadata": {},
     "output_type": "execute_result"
    }
   ],
   "source": [
    "df = pd.DataFrame(tweets_data, columns=headers)\n",
    "df.head()"
   ]
  },
  {
   "cell_type": "code",
   "execution_count": 53,
   "metadata": {},
   "outputs": [],
   "source": [
    "# df[\"user_name\"] == df[\"author\"]"
   ]
  },
  {
   "cell_type": "code",
   "execution_count": 60,
   "metadata": {},
   "outputs": [
    {
     "data": {
      "text/html": [
       "<div>\n",
       "<style scoped>\n",
       "    .dataframe tbody tr th:only-of-type {\n",
       "        vertical-align: middle;\n",
       "    }\n",
       "\n",
       "    .dataframe tbody tr th {\n",
       "        vertical-align: top;\n",
       "    }\n",
       "\n",
       "    .dataframe thead th {\n",
       "        text-align: right;\n",
       "    }\n",
       "</style>\n",
       "<table border=\"1\" class=\"dataframe\">\n",
       "  <thead>\n",
       "    <tr style=\"text-align: right;\">\n",
       "      <th></th>\n",
       "      <th>lang</th>\n",
       "      <th>in_reply_to_user_id_str</th>\n",
       "      <th>quoted_status_id_str</th>\n",
       "      <th>in_reply_to_screen_name</th>\n",
       "      <th>text</th>\n",
       "      <th>in_reply_to_user_id</th>\n",
       "      <th>in_reply_to_status_id</th>\n",
       "      <th>retweet_count</th>\n",
       "      <th>source</th>\n",
       "      <th>favorite_count</th>\n",
       "      <th>id</th>\n",
       "      <th>quoted_status_id</th>\n",
       "      <th>id_str</th>\n",
       "      <th>in_reply_to_status_id_str</th>\n",
       "      <th>source_url</th>\n",
       "      <th>user_name</th>\n",
       "    </tr>\n",
       "  </thead>\n",
       "  <tbody>\n",
       "    <tr>\n",
       "      <th>0</th>\n",
       "      <td>en</td>\n",
       "      <td>NaN</td>\n",
       "      <td>NaN</td>\n",
       "      <td>NaN</td>\n",
       "      <td>Some defend @realDonaldTrump saying he’s like ...</td>\n",
       "      <td>NaN</td>\n",
       "      <td>NaN</td>\n",
       "      <td>9</td>\n",
       "      <td>Twitter for iPhone</td>\n",
       "      <td>92</td>\n",
       "      <td>1333064441835835393</td>\n",
       "      <td>NaN</td>\n",
       "      <td>1333064441835835393</td>\n",
       "      <td>NaN</td>\n",
       "      <td>http://twitter.com/download/iphone</td>\n",
       "      <td>RGVzoomin</td>\n",
       "    </tr>\n",
       "    <tr>\n",
       "      <th>1</th>\n",
       "      <td>en</td>\n",
       "      <td>NaN</td>\n",
       "      <td>NaN</td>\n",
       "      <td>NaN</td>\n",
       "      <td>More countries looking to dominate in space ht...</td>\n",
       "      <td>NaN</td>\n",
       "      <td>NaN</td>\n",
       "      <td>4</td>\n",
       "      <td>Twitter Media Studio</td>\n",
       "      <td>15</td>\n",
       "      <td>1333063169942675464</td>\n",
       "      <td>NaN</td>\n",
       "      <td>1333063169942675464</td>\n",
       "      <td>NaN</td>\n",
       "      <td>https://studio.twitter.com</td>\n",
       "      <td>CGTNOfficial</td>\n",
       "    </tr>\n",
       "    <tr>\n",
       "      <th>2</th>\n",
       "      <td>en</td>\n",
       "      <td>NaN</td>\n",
       "      <td>NaN</td>\n",
       "      <td>NaN</td>\n",
       "      <td>Nivar cyclone left the farming community in th...</td>\n",
       "      <td>NaN</td>\n",
       "      <td>NaN</td>\n",
       "      <td>162</td>\n",
       "      <td>Twitter for Android</td>\n",
       "      <td>380</td>\n",
       "      <td>1333059672002031617</td>\n",
       "      <td>NaN</td>\n",
       "      <td>1333059672002031617</td>\n",
       "      <td>NaN</td>\n",
       "      <td>http://twitter.com/download/android</td>\n",
       "      <td>JanaSenaParty</td>\n",
       "    </tr>\n",
       "    <tr>\n",
       "      <th>3</th>\n",
       "      <td>en</td>\n",
       "      <td>NaN</td>\n",
       "      <td>NaN</td>\n",
       "      <td>NaN</td>\n",
       "      <td>75-year-old man shows off coconut-picking skil...</td>\n",
       "      <td>NaN</td>\n",
       "      <td>NaN</td>\n",
       "      <td>11</td>\n",
       "      <td>TweetDeck</td>\n",
       "      <td>74</td>\n",
       "      <td>1333058131924979714</td>\n",
       "      <td>NaN</td>\n",
       "      <td>1333058131924979714</td>\n",
       "      <td>NaN</td>\n",
       "      <td>https://about.twitter.com/products/tweetdeck</td>\n",
       "      <td>CGTNOfficial</td>\n",
       "    </tr>\n",
       "    <tr>\n",
       "      <th>4</th>\n",
       "      <td>en</td>\n",
       "      <td>NaN</td>\n",
       "      <td>1333056344023212033</td>\n",
       "      <td>NaN</td>\n",
       "      <td>Wow da https://t.co/jSkMQy1G4z</td>\n",
       "      <td>NaN</td>\n",
       "      <td>NaN</td>\n",
       "      <td>102</td>\n",
       "      <td>Twitter for iPhone</td>\n",
       "      <td>1742</td>\n",
       "      <td>1333057829696020481</td>\n",
       "      <td>1.333056e+18</td>\n",
       "      <td>1333057829696020481</td>\n",
       "      <td>NaN</td>\n",
       "      <td>http://twitter.com/download/iphone</td>\n",
       "      <td>Atlee_dir</td>\n",
       "    </tr>\n",
       "  </tbody>\n",
       "</table>\n",
       "</div>"
      ],
      "text/plain": [
       "  lang in_reply_to_user_id_str quoted_status_id_str in_reply_to_screen_name  \\\n",
       "0   en                     NaN                  NaN                     NaN   \n",
       "1   en                     NaN                  NaN                     NaN   \n",
       "2   en                     NaN                  NaN                     NaN   \n",
       "3   en                     NaN                  NaN                     NaN   \n",
       "4   en                     NaN  1333056344023212033                     NaN   \n",
       "\n",
       "                                                text  in_reply_to_user_id  \\\n",
       "0  Some defend @realDonaldTrump saying he’s like ...                  NaN   \n",
       "1  More countries looking to dominate in space ht...                  NaN   \n",
       "2  Nivar cyclone left the farming community in th...                  NaN   \n",
       "3  75-year-old man shows off coconut-picking skil...                  NaN   \n",
       "4                     Wow da https://t.co/jSkMQy1G4z                  NaN   \n",
       "\n",
       "   in_reply_to_status_id  retweet_count                source  favorite_count  \\\n",
       "0                    NaN              9    Twitter for iPhone              92   \n",
       "1                    NaN              4  Twitter Media Studio              15   \n",
       "2                    NaN            162   Twitter for Android             380   \n",
       "3                    NaN             11             TweetDeck              74   \n",
       "4                    NaN            102    Twitter for iPhone            1742   \n",
       "\n",
       "                    id  quoted_status_id               id_str  \\\n",
       "0  1333064441835835393               NaN  1333064441835835393   \n",
       "1  1333063169942675464               NaN  1333063169942675464   \n",
       "2  1333059672002031617               NaN  1333059672002031617   \n",
       "3  1333058131924979714               NaN  1333058131924979714   \n",
       "4  1333057829696020481      1.333056e+18  1333057829696020481   \n",
       "\n",
       "  in_reply_to_status_id_str                                    source_url  \\\n",
       "0                       NaN            http://twitter.com/download/iphone   \n",
       "1                       NaN                    https://studio.twitter.com   \n",
       "2                       NaN           http://twitter.com/download/android   \n",
       "3                       NaN  https://about.twitter.com/products/tweetdeck   \n",
       "4                       NaN            http://twitter.com/download/iphone   \n",
       "\n",
       "       user_name  \n",
       "0      RGVzoomin  \n",
       "1   CGTNOfficial  \n",
       "2  JanaSenaParty  \n",
       "3   CGTNOfficial  \n",
       "4      Atlee_dir  "
      ]
     },
     "execution_count": 60,
     "metadata": {},
     "output_type": "execute_result"
    }
   ],
   "source": [
    "df2 = extract_timeline_as_df(my_timeline)\n",
    "df2.head()"
   ]
  },
  {
   "cell_type": "code",
   "execution_count": 61,
   "metadata": {},
   "outputs": [],
   "source": [
    "# Changing Kaju's timeline into dataframe\n",
    "user = api.get_user(KAJAL)\n",
    "user_timeline = user.timeline()\n",
    "\n",
    "df3 = extract_timeline_as_df(user_timeline)"
   ]
  },
  {
   "cell_type": "code",
   "execution_count": 62,
   "metadata": {},
   "outputs": [
    {
     "data": {
      "text/html": [
       "<div>\n",
       "<style scoped>\n",
       "    .dataframe tbody tr th:only-of-type {\n",
       "        vertical-align: middle;\n",
       "    }\n",
       "\n",
       "    .dataframe tbody tr th {\n",
       "        vertical-align: top;\n",
       "    }\n",
       "\n",
       "    .dataframe thead th {\n",
       "        text-align: right;\n",
       "    }\n",
       "</style>\n",
       "<table border=\"1\" class=\"dataframe\">\n",
       "  <thead>\n",
       "    <tr style=\"text-align: right;\">\n",
       "      <th></th>\n",
       "      <th>lang</th>\n",
       "      <th>in_reply_to_user_id_str</th>\n",
       "      <th>quoted_status_id_str</th>\n",
       "      <th>in_reply_to_screen_name</th>\n",
       "      <th>text</th>\n",
       "      <th>in_reply_to_user_id</th>\n",
       "      <th>in_reply_to_status_id</th>\n",
       "      <th>retweet_count</th>\n",
       "      <th>source</th>\n",
       "      <th>favorite_count</th>\n",
       "      <th>id</th>\n",
       "      <th>quoted_status_id</th>\n",
       "      <th>id_str</th>\n",
       "      <th>in_reply_to_status_id_str</th>\n",
       "      <th>source_url</th>\n",
       "      <th>user_name</th>\n",
       "    </tr>\n",
       "  </thead>\n",
       "  <tbody>\n",
       "    <tr>\n",
       "      <th>0</th>\n",
       "      <td>en</td>\n",
       "      <td>NaN</td>\n",
       "      <td>NaN</td>\n",
       "      <td>NaN</td>\n",
       "      <td>Some defend @realDonaldTrump saying he’s like ...</td>\n",
       "      <td>NaN</td>\n",
       "      <td>NaN</td>\n",
       "      <td>9</td>\n",
       "      <td>Twitter for iPhone</td>\n",
       "      <td>92</td>\n",
       "      <td>1333064441835835393</td>\n",
       "      <td>NaN</td>\n",
       "      <td>1333064441835835393</td>\n",
       "      <td>NaN</td>\n",
       "      <td>http://twitter.com/download/iphone</td>\n",
       "      <td>RGVzoomin</td>\n",
       "    </tr>\n",
       "    <tr>\n",
       "      <th>1</th>\n",
       "      <td>en</td>\n",
       "      <td>NaN</td>\n",
       "      <td>NaN</td>\n",
       "      <td>NaN</td>\n",
       "      <td>More countries looking to dominate in space ht...</td>\n",
       "      <td>NaN</td>\n",
       "      <td>NaN</td>\n",
       "      <td>4</td>\n",
       "      <td>Twitter Media Studio</td>\n",
       "      <td>15</td>\n",
       "      <td>1333063169942675464</td>\n",
       "      <td>NaN</td>\n",
       "      <td>1333063169942675464</td>\n",
       "      <td>NaN</td>\n",
       "      <td>https://studio.twitter.com</td>\n",
       "      <td>CGTNOfficial</td>\n",
       "    </tr>\n",
       "    <tr>\n",
       "      <th>2</th>\n",
       "      <td>en</td>\n",
       "      <td>NaN</td>\n",
       "      <td>NaN</td>\n",
       "      <td>NaN</td>\n",
       "      <td>Nivar cyclone left the farming community in th...</td>\n",
       "      <td>NaN</td>\n",
       "      <td>NaN</td>\n",
       "      <td>162</td>\n",
       "      <td>Twitter for Android</td>\n",
       "      <td>380</td>\n",
       "      <td>1333059672002031617</td>\n",
       "      <td>NaN</td>\n",
       "      <td>1333059672002031617</td>\n",
       "      <td>NaN</td>\n",
       "      <td>http://twitter.com/download/android</td>\n",
       "      <td>JanaSenaParty</td>\n",
       "    </tr>\n",
       "    <tr>\n",
       "      <th>3</th>\n",
       "      <td>en</td>\n",
       "      <td>NaN</td>\n",
       "      <td>NaN</td>\n",
       "      <td>NaN</td>\n",
       "      <td>75-year-old man shows off coconut-picking skil...</td>\n",
       "      <td>NaN</td>\n",
       "      <td>NaN</td>\n",
       "      <td>11</td>\n",
       "      <td>TweetDeck</td>\n",
       "      <td>74</td>\n",
       "      <td>1333058131924979714</td>\n",
       "      <td>NaN</td>\n",
       "      <td>1333058131924979714</td>\n",
       "      <td>NaN</td>\n",
       "      <td>https://about.twitter.com/products/tweetdeck</td>\n",
       "      <td>CGTNOfficial</td>\n",
       "    </tr>\n",
       "    <tr>\n",
       "      <th>4</th>\n",
       "      <td>en</td>\n",
       "      <td>NaN</td>\n",
       "      <td>1333056344023212033</td>\n",
       "      <td>NaN</td>\n",
       "      <td>Wow da https://t.co/jSkMQy1G4z</td>\n",
       "      <td>NaN</td>\n",
       "      <td>NaN</td>\n",
       "      <td>102</td>\n",
       "      <td>Twitter for iPhone</td>\n",
       "      <td>1742</td>\n",
       "      <td>1333057829696020481</td>\n",
       "      <td>1.333056e+18</td>\n",
       "      <td>1333057829696020481</td>\n",
       "      <td>NaN</td>\n",
       "      <td>http://twitter.com/download/iphone</td>\n",
       "      <td>Atlee_dir</td>\n",
       "    </tr>\n",
       "  </tbody>\n",
       "</table>\n",
       "</div>"
      ],
      "text/plain": [
       "  lang in_reply_to_user_id_str quoted_status_id_str in_reply_to_screen_name  \\\n",
       "0   en                     NaN                  NaN                     NaN   \n",
       "1   en                     NaN                  NaN                     NaN   \n",
       "2   en                     NaN                  NaN                     NaN   \n",
       "3   en                     NaN                  NaN                     NaN   \n",
       "4   en                     NaN  1333056344023212033                     NaN   \n",
       "\n",
       "                                                text  in_reply_to_user_id  \\\n",
       "0  Some defend @realDonaldTrump saying he’s like ...                  NaN   \n",
       "1  More countries looking to dominate in space ht...                  NaN   \n",
       "2  Nivar cyclone left the farming community in th...                  NaN   \n",
       "3  75-year-old man shows off coconut-picking skil...                  NaN   \n",
       "4                     Wow da https://t.co/jSkMQy1G4z                  NaN   \n",
       "\n",
       "   in_reply_to_status_id  retweet_count                source  favorite_count  \\\n",
       "0                    NaN              9    Twitter for iPhone              92   \n",
       "1                    NaN              4  Twitter Media Studio              15   \n",
       "2                    NaN            162   Twitter for Android             380   \n",
       "3                    NaN             11             TweetDeck              74   \n",
       "4                    NaN            102    Twitter for iPhone            1742   \n",
       "\n",
       "                    id  quoted_status_id               id_str  \\\n",
       "0  1333064441835835393               NaN  1333064441835835393   \n",
       "1  1333063169942675464               NaN  1333063169942675464   \n",
       "2  1333059672002031617               NaN  1333059672002031617   \n",
       "3  1333058131924979714               NaN  1333058131924979714   \n",
       "4  1333057829696020481      1.333056e+18  1333057829696020481   \n",
       "\n",
       "  in_reply_to_status_id_str                                    source_url  \\\n",
       "0                       NaN            http://twitter.com/download/iphone   \n",
       "1                       NaN                    https://studio.twitter.com   \n",
       "2                       NaN           http://twitter.com/download/android   \n",
       "3                       NaN  https://about.twitter.com/products/tweetdeck   \n",
       "4                       NaN            http://twitter.com/download/iphone   \n",
       "\n",
       "       user_name  \n",
       "0      RGVzoomin  \n",
       "1   CGTNOfficial  \n",
       "2  JanaSenaParty  \n",
       "3   CGTNOfficial  \n",
       "4      Atlee_dir  "
      ]
     },
     "execution_count": 62,
     "metadata": {},
     "output_type": "execute_result"
    }
   ],
   "source": [
    "df3.head()"
   ]
  },
  {
   "cell_type": "markdown",
   "metadata": {},
   "source": [
    "### Interacting with Tweets"
   ]
  },
  {
   "cell_type": "code",
   "execution_count": 63,
   "metadata": {},
   "outputs": [],
   "source": [
    "user = api.get_user(RAASHI)\n",
    "user_timeline = user.timeline()"
   ]
  },
  {
   "cell_type": "code",
   "execution_count": 64,
   "metadata": {},
   "outputs": [
    {
     "data": {
      "text/plain": [
       "'Channelling the desi vibe..\\n#shootdiaries  #pollachi 💚 https://t.co/gjQONA3uHL'"
      ]
     },
     "execution_count": 64,
     "metadata": {},
     "output_type": "execute_result"
    }
   ],
   "source": [
    "# gettting the latest tweet of Raashi Khanna\n",
    "status_obj = api.get_status(\"1331919421770670083/photo/2\")\n",
    "status_obj.text"
   ]
  },
  {
   "cell_type": "code",
   "execution_count": 65,
   "metadata": {},
   "outputs": [
    {
     "name": "stdout",
     "output_type": "stream",
     "text": [
      "https://twitter.com/RaashiKhanna/status/1331935721729396736\n"
     ]
    }
   ],
   "source": [
    "# getting the LINK to latest tweet of the Raashi Kanna\n",
    "user_timeline_status_obj = user_timeline[0]\n",
    "status_obj_id = user_timeline_status_obj.id\n",
    "status_obj_screen_name = user_timeline_status_obj.user.screen_name\n",
    "status_obj_url = f\"https://twitter.com/{status_obj_screen_name}/status/{status_obj_id}\"\n",
    "\n",
    "print(status_obj_url)"
   ]
  },
  {
   "cell_type": "code",
   "execution_count": 76,
   "metadata": {},
   "outputs": [],
   "source": [
    "## --- Auto Retweet ---\n",
    "\n",
    "user_timeline2 = api.get_user(RAKUL).timeline()\n",
    "status_obj = api.get_status(\"1332943321270943746\")"
   ]
  },
  {
   "cell_type": "code",
   "execution_count": 82,
   "metadata": {},
   "outputs": [],
   "source": [
    "# dir(status_obj)"
   ]
  },
  {
   "cell_type": "code",
   "execution_count": 86,
   "metadata": {},
   "outputs": [
    {
     "name": "stdout",
     "output_type": "stream",
     "text": [
      "https://twitter.com/Rakulpreet/status/1332943629778776064\n"
     ]
    }
   ],
   "source": [
    "user_timeline_status_obj = user_timeline2[0]\n",
    "status_obj_id = user_timeline_status_obj.id\n",
    "status_obj_screen_name = user_timeline_status_obj.user.screen_name\n",
    "status_obj_url = f\"https://twitter.com/{status_obj_screen_name}/status/{status_obj_id}\"\n",
    "\n",
    "print(status_obj_url)"
   ]
  },
  {
   "cell_type": "code",
   "execution_count": 88,
   "metadata": {},
   "outputs": [],
   "source": [
    "# api.retweet(status_obj_id)"
   ]
  },
  {
   "cell_type": "code",
   "execution_count": 95,
   "metadata": {},
   "outputs": [],
   "source": [
    "# api.create_favorite(status_obj_id)"
   ]
  },
  {
   "cell_type": "code",
   "execution_count": 93,
   "metadata": {},
   "outputs": [],
   "source": [
    "# api.destroy_favorite(status_obj_id)"
   ]
  },
  {
   "cell_type": "code",
   "execution_count": 101,
   "metadata": {},
   "outputs": [],
   "source": [
    "## --- Reply to a tweet ---\n",
    "user_timeline3 = api.get_user(ASHLIN).timeline()\n",
    "status_obj = api.get_status(\"1330203613310947328\")"
   ]
  },
  {
   "cell_type": "code",
   "execution_count": 106,
   "metadata": {},
   "outputs": [],
   "source": [
    "# dir(status_obj)\n",
    "\n",
    "user_name, user_id = (status_obj.user.screen_name, status_obj.id)"
   ]
  },
  {
   "cell_type": "code",
   "execution_count": 107,
   "metadata": {},
   "outputs": [],
   "source": [
    "my_reply = api.update_status(f\"@{user_name} Eagerly waiting for this one...\", user_id)"
   ]
  },
  {
   "cell_type": "markdown",
   "metadata": {},
   "source": [
    "### Follow User"
   ]
  },
  {
   "cell_type": "code",
   "execution_count": 113,
   "metadata": {},
   "outputs": [],
   "source": [
    "user = api.get_user(SUNNY)"
   ]
  },
  {
   "cell_type": "code",
   "execution_count": 114,
   "metadata": {},
   "outputs": [
    {
     "name": "stdout",
     "output_type": "stream",
     "text": [
      "5863618 147\n"
     ]
    }
   ],
   "source": [
    "print(user.followers_count, user.friends_count)"
   ]
  },
  {
   "cell_type": "code",
   "execution_count": 119,
   "metadata": {},
   "outputs": [],
   "source": [
    "my_new_friends = []\n",
    "user_friends = user.friends()\n",
    "for friend in user_friends:\n",
    "    if friend.followers_count > 300 and friend.friends_count < 300:\n",
    "        # print(friend.screen_name)\n",
    "        my_new_friends.append(friend.screen_name)\n",
    "        relation = api.create_friendship(friend.screen_name)"
   ]
  },
  {
   "cell_type": "code",
   "execution_count": 120,
   "metadata": {},
   "outputs": [
    {
     "data": {
      "text/plain": [
       "['RakeshRoshan_N',\n",
       " 'avigowariker',\n",
       " 'AnupamPKher',\n",
       " 'Krushna_KAS',\n",
       " 'OrlikGallery',\n",
       " 'diljitdosanjh',\n",
       " 'varunsharma90',\n",
       " 'ADITYADATT',\n",
       " 'karamvirlamba',\n",
       " 'StarStruckbySL',\n",
       " 'tussaudsdelhi',\n",
       " 'OYERJALOK',\n",
       " 'TheRealSalgado']"
      ]
     },
     "execution_count": 120,
     "metadata": {},
     "output_type": "execute_result"
    }
   ],
   "source": [
    "my_new_friends"
   ]
  },
  {
   "cell_type": "code",
   "execution_count": 121,
   "metadata": {},
   "outputs": [],
   "source": [
    "for username in my_new_friends:\n",
    "    api.destroy_friendship(username)"
   ]
  },
  {
   "cell_type": "markdown",
   "metadata": {},
   "source": [
    "### Items and Pagination"
   ]
  },
  {
   "cell_type": "code",
   "execution_count": 124,
   "metadata": {},
   "outputs": [
    {
     "data": {
      "text/plain": [
       "10"
      ]
     },
     "execution_count": 124,
     "metadata": {},
     "output_type": "execute_result"
    }
   ],
   "source": [
    "len(api.home_timeline(count=10))"
   ]
  },
  {
   "cell_type": "code",
   "execution_count": 126,
   "metadata": {},
   "outputs": [
    {
     "name": "stdout",
     "output_type": "stream",
     "text": [
      "0 Does anyone think it’s possible for any president from Lincoln onwards to Obama, the 44 th president to come up wit… https://t.co/bDnvLax3Tv\n",
      "1 RT @SuryaTV: ശ്രേയ ഘോഷാലിൻറെ ശബ്ദത്തിൽ കേട്ട മലയാളം ഗാനങ്ങൾ. നിങ്ങൾക്കിഷ്ടപ്പെട്ട ശ്രേയ ഘോഷാൽ ഗാനമേത്?\n",
      "\n",
      "#SuryaTV #SongsOfShreyaGhoshal #Shr…\n",
      "2 The number of confirmed COVID-19 cases in the African continent has reached 2,150,439, the Africa Centers for Disea… https://t.co/8NoKI3I1y9\n",
      "3 ఎల్లరి మనములు \n",
      "ఝల్లన చేసే \n",
      "చల్లని దేవుని\n",
      "అల్లరిలో......  👌👌👌 https://t.co/cnl1f4hdKr\n",
      "4 🎶❤️🤗❤️🎶 https://t.co/OGFnDcPK9f\n",
      "5 @vp_ashlin07 Eagerly waiting for this one...\n",
      "6 RT @tweepsmap: 15 Words To Delete From Your Social Media Marketing Vocabulary\n",
      "https://t.co/rnui8rcL3R\n",
      "7 #BREAKING A car bomb attack in Afghanistan's central province of Ghazni kills at least 40 Afghan soldiers and wound… https://t.co/B8S9jJqi9B\n",
      "8 Thank u Rahul 🙏🌶🎄 https://t.co/26nCdV38s1\n",
      "9 Thank u raj 🎄🎄🎄 https://t.co/9j4hBGFpyd\n",
      "10 कल देव दीपावली के पावन अवसर पर अपने संसदीय क्षेत्र वाराणसी के लोगों के बीच रहने का सौभाग्य प्राप्त होगा। इस दौरान… https://t.co/5ZLeBn7Sfz\n",
      "11 Namibia's nomadic Ovahimba people adopt to contemporary living amid COVID-19 pandemic\n",
      "https://t.co/JKZQAS4BVC\n",
      "12 Many of the retailers and restaurants in Greece that have survived the country's financial crisis which started in… https://t.co/FqoNOObF4J\n",
      "13 A terror convict behind the deadly 2015 attack on a Kenyan university committed suicide in his prison cell, police… https://t.co/KYCBXGRcrY\n",
      "14 Not the result we were hoping for but well fought boys. Onward and upward. 💪🏽 #CFCKBFC @ChennaiyinFC\n",
      "15 The number of COVID-19 infections in Kenya rose to 83,316 on Sunday as the health ministry reported 711 new cases c… https://t.co/0HfGo7y69F\n",
      "16 Romain Grosjean escaped with minor burns after his Haas burst into flames on the first lap of the Bahrain Grand Pri… https://t.co/cYD7eMUhly\n",
      "17 #Prabhas from #RadheShyam sets https://t.co/8YR31fwOl8\n",
      "18 Call Of The Wild VFX Breakdown https://t.co/ZtVOMxhPpk\n",
      "\n",
      "MPC https://t.co/ZeNcA5Ec7Z https://t.co/UPocdi5ifr\n",
      "19 Sariel Touhou https://t.co/1U9CHVyhWA\n",
      "\n",
      "Gian S https://t.co/kGIp7jPpD4 https://t.co/Sp6EorwOif\n",
      "20 RT @Musugu_: Battle Royale feat #Baahubali franchise \n",
      "Give your reviews after watching 🤗\n",
      "don't miss last 30 secs..Hope you Like it💓\n",
      "#Prabha…\n",
      "21 कश्मीर समस्या का हल चुनावों से नहीं निकलेगा: महबूबा मुफ़्ती\n",
      "आज की बड़ी ख़बरें: https://t.co/v2Z4aZneTF https://t.co/1hHY8qEnic\n",
      "22 कोरोना वायरस से बचाने वाली वैक्सीन क्या दुनिया की अर्थव्यवस्था को भी बचा लेगी? https://t.co/uv2aN0LgWB\n",
      "23 Some defend @realDonaldTrump saying he’s like a kid ..A 74 year old man with a kids mind is not called a kid..He’s called a RETARD\n",
      "24 More countries looking to dominate in space https://t.co/sEvtILLe8z\n",
      "25 Nivar cyclone left the farming community in the lurch! https://t.co/PSUY8DmiYy\n",
      "26 75-year-old man shows off coconut-picking skills\n",
      "\n",
      "Fu Zehe, who once served in the military and now lives in the tro… https://t.co/mM9tokAoEE\n",
      "27 Wow da https://t.co/jSkMQy1G4z\n",
      "28 తుపాను ప్రభావిత ప్రాంతాల్లో  శ్రీ @PawanKalyan గారు డిసెంబర్ 2వ తేదీన  పర్యటన. https://t.co/PEHjrjNC6v\n",
      "29 'दिल्ली क्राइम' के एमी अवॉर्ड जीतने से भारत के लिए क्या बदल जाएगा https://t.co/NJ2uC7tm4v\n",
      "30 Poverty alleviation official: Contributing to poverty alleviation work is my duty #ZeroPoverty2020 https://t.co/ttdRx9UbDM\n",
      "31 https://t.co/CJMErVedon\n",
      "32 #FarmersProtest : सरकार से बात को राज़ी हुए किसान लेकिन कोई शर्त स्वीकार नहीं https://t.co/iz4q20bEIH\n",
      "33 Karthika Pournami... Lighting 365 Lamps which I do every year 🙏🏼 \n",
      "@ Skandagiri Temple https://t.co/bn8DSPolSH\n",
      "34 RT @Prabhas__Kohli: Old Edit 💥 Loka Nayakuda FT \n",
      "\n",
      "Hope you Like it 👍\n",
      "\n",
      "#Prabhas #RadheShyam https://t.co/yNzlQgj575\n",
      "35 Four tonnes of potatoes were set to go to waste when a Shanghai community initiated closed management after local c… https://t.co/CoXw0eH5Vj\n",
      "36 ओवैसी लिस्ट दें, रोहिंग्याओं पर मैं कार्रवाई करता हूँ: अमित शाह\n",
      "https://t.co/CSNGg73lch https://t.co/esVlaWFsEk\n",
      "37 #FarmersProtest : सरकार से बात को राज़ी हुए किसान लेकिन कोई शर्त स्वीकार नहीं https://t.co/0qbVXjv9Og\n",
      "38 Dave Prowse, actor who played Darth Vader, dies at 85\n",
      "https://t.co/0fwD4GWPDF\n",
      "39 You can hear me and the stories of public service excellence by officers at \n",
      "#ArunBongirwarFoundation &amp;… https://t.co/e6pvAGIB3u\n",
      "40 #China to expand scope and scale of outbound investment schemes https://t.co/7g3v05Y9Y7\n",
      "41 T 3737 -From 26/11 to COVID-19, India fights back: Love trumps hate courage defeats fear. \n",
      "Tune in tonight \n",
      "the… https://t.co/5xLsAYRsfx\n",
      "42 Perching on the banks of Lake Pichola, City Palace, Udaipur is an architectural marvel. Enjoy the panoramic  beauty… https://t.co/FxUkROiF5U\n",
      "43 किसानों के विरोध प्रदर्शन में एक्टर दीप सिद्धु क्यों शामिल हुए? \n",
      "\n",
      "वीडियोः दिलनवाज़ पाशा और दीपक जसरोटिया https://t.co/fdv7lZPfCG\n",
      "44 🙏🏼 thank u \n",
      "#1YrForArjunsuravaram https://t.co/xicXfM6Dz2\n",
      "45 No fresh bamboo? Giant pandas return to China from Canada https://t.co/mx8qsyo2ie\n",
      "46 दिल्ली की बॉर्डर पर डटे प्रदर्शनकारी किसानों ने सरकार की पेशकश पर क्या फ़ैसला किया? देखिए किसान नेता सुरजीत सिंह के… https://t.co/yX3nq74vND\n",
      "47 I can’t wait to watch this!! 😂😂 ( and then discuss this later “individually” )\n",
      "\n",
      "@AnupamPKher @satishkaushik2 https://t.co/uzQcQVQPjL\n",
      "48 China's Chang'e-5 lunar probe completes final brakes, prepares to land\n",
      "https://t.co/NbDlj8Q5sp\n",
      "49 This Day.. Last Year.. Arjun Suravaram Released in Theaters to Huge Crowds... Such a thrilling moment... Thank u al… https://t.co/mdgFzRT1zX\n"
     ]
    }
   ],
   "source": [
    "for index,status in enumerate(tweepy.Cursor(api.home_timeline, count=50).items(50)):\n",
    "    print(index, status.text)"
   ]
  },
  {
   "cell_type": "code",
   "execution_count": null,
   "metadata": {},
   "outputs": [],
   "source": [
    "## --- getting the status of kaju's timeline ---\n",
    "for index, status in enumerate(tweepy.Cursor(api.user_timeline, screen_name=KAJAL, count=50).items(50)):\n",
    "    print(index, status.text)"
   ]
  },
  {
   "cell_type": "code",
   "execution_count": 132,
   "metadata": {},
   "outputs": [],
   "source": [
    "# Getting her friends list using cursor\n",
    "kaju_friends = []\n",
    "for index, id in enumerate(tweepy.Cursor(api.friends_ids, screen_name=KAJAL).items(30)):\n",
    "#     print(index, id)\n",
    "    kaju_friends.append(id)\n",
    "   "
   ]
  },
  {
   "cell_type": "code",
   "execution_count": 133,
   "metadata": {},
   "outputs": [
    {
     "data": {
      "text/plain": [
       "'kajalgifs'"
      ]
     },
     "execution_count": 133,
     "metadata": {},
     "output_type": "execute_result"
    }
   ],
   "source": [
    "api.get_user(kaju_friends[0]).screen_name"
   ]
  },
  {
   "cell_type": "markdown",
   "metadata": {},
   "source": [
    "### Search a status / tweets"
   ]
  },
  {
   "cell_type": "code",
   "execution_count": 137,
   "metadata": {},
   "outputs": [
    {
     "name": "stdout",
     "output_type": "stream",
     "text": [
      "0 RT @TrendsRaashi: #RaashiKhanna  made her Film Industry Debut with Hindi Film #MadrasCafe which released on August 23rd, 2013.\n",
      " It starred… raj_keelu3\n",
      "1 RT @TrendsRaashi: #RaashiKhanna  made her Film Industry Debut with Hindi Film #MadrasCafe which released on August 23rd, 2013.\n",
      " It starred… RamGanna\n",
      "2 RT @TrendsRaashi: #RaashiKhanna  made her Film Industry Debut with Hindi Film #MadrasCafe which released on August 23rd, 2013.\n",
      " It starred… SantoshYanamad5\n",
      "3 RT @ui000009: #RaashiKhanna  made her Film Industry Debut with Hindi Film #MadrasCafe which released on August 23rd, 2013.\n",
      " It starred @The… SantoshYanamad5\n",
      "4 RT @EditsRaashi: #RaashiKhanna  made her Film Industry Debut with Hindi Film #MadrasCafe which released on August 23rd, 2013.\n",
      " It starred @… SantoshYanamad5\n",
      "5 RT @TrendsRaashi: #RaashiKhanna  made her Film Industry Debut with Hindi Film #MadrasCafe which released on August 23rd, 2013.\n",
      " It starred… Teamnidhhiww\n",
      "6 RT @TrendsRaashi: #RaashiKhanna  made her Film Industry Debut with Hindi Film #MadrasCafe which released on August 23rd, 2013.\n",
      " It starred… VarunPK_2RK\n",
      "7 RT @RaashiKhannaFC: Happy Birthday to Our Angel @RaashiKhanna Darling. Pride of Us and Telugu Film Industry's Dedicated Angel 💥\n",
      "\n",
      "#HBDRaashi… SantoshYanamad5\n",
      "8 RT @TrendsRaashi: #RaashiKhanna  made her Film Industry Debut with Hindi Film #MadrasCafe which released on August 23rd, 2013.\n",
      " It starred… LickyCharanism\n",
      "9 RT @TrendsRaashi: #RaashiKhanna  made her Film Industry Debut with Hindi Film #MadrasCafe which released on August 23rd, 2013.\n",
      " It starred… srikant83725567\n",
      "10 RT @TrendsRaashi: #RaashiKhanna  made her Film Industry Debut with Hindi Film #MadrasCafe which released on August 23rd, 2013.\n",
      " It starred… KairaDie\n",
      "11 RT @ui000009: #RaashiKhanna  made her Film Industry Debut with Hindi Film #MadrasCafe which released on August 23rd, 2013.\n",
      " It starred @The… NinetyML\n",
      "12 RT @ui000009: #RaashiKhanna  made her Film Industry Debut with Hindi Film #MadrasCafe which released on August 23rd, 2013.\n",
      " It starred @The… upv09\n",
      "13 Happy Birthday to Our Angel @RaashiKhanna Darling. Pride of Us and Telugu Film Industry's Dedicated Angel 💥… https://t.co/p05SLd0fbE RaashiKhannaFC\n",
      "14 RT @TrendsRaashi: #RaashiKhanna  made her Film Industry Debut with Hindi Film #MadrasCafe which released on August 23rd, 2013.\n",
      " It starred… gowthamvjfan\n",
      "15 RT @TrendsRaashi: #RaashiKhanna  made her Film Industry Debut with Hindi Film #MadrasCafe which released on August 23rd, 2013.\n",
      " It starred… alwaysbaji\n",
      "16 RT @EditsRaashi: #RaashiKhanna  made her Film Industry Debut with Hindi Film #MadrasCafe which released on August 23rd, 2013.\n",
      " It starred @… jagadeesh2658\n",
      "17 RT @TrendsRaashi: #RaashiKhanna  made her Film Industry Debut with Hindi Film #MadrasCafe which released on August 23rd, 2013.\n",
      " It starred… Lucky50123322\n",
      "18 RT @EditsRaashi: #RaashiKhanna  made her Film Industry Debut with Hindi Film #MadrasCafe which released on August 23rd, 2013.\n",
      " It starred @… Lucky50123322\n",
      "19 RT @EditsRaashi: #RaashiKhanna  made her Film Industry Debut with Hindi Film #MadrasCafe which released on August 23rd, 2013.\n",
      " It starred @… EditsRaashi\n",
      "20 RT @TrendsRaashi: #RaashiKhanna  made her Film Industry Debut with Hindi Film #MadrasCafe which released on August 23rd, 2013.\n",
      " It starred… AnuragS02213644\n",
      "21 RT @TrendsRaashi: #RaashiKhanna  made her Film Industry Debut with Hindi Film #MadrasCafe which released on August 23rd, 2013.\n",
      " It starred… EditsRaashi\n",
      "22 RT @TrendsRaashi: #RaashiKhanna  made her Film Industry Debut with Hindi Film #MadrasCafe which released on August 23rd, 2013.\n",
      " It starred… Raashiramgalaxy\n",
      "23 RT @TrendsRaashi: #RaashiKhanna  made her Film Industry Debut with Hindi Film #MadrasCafe which released on August 23rd, 2013.\n",
      " It starred… 71gudala\n",
      "24 #RaashiKhanna  made her Film Industry Debut with Hindi Film #MadrasCafe which released on August 23rd, 2013.\n",
      " It st… https://t.co/CmIoD4QYyX EditsRaashi\n",
      "25 #RaashiKhanna  made her Film Industry Debut with Hindi Film #MadrasCafe which released on August 23rd, 2013.\n",
      " It st… https://t.co/ebms0EnlVK ui000009\n",
      "26 RT @TrendsRaashi: #RaashiKhanna  made her Film Industry Debut with Hindi Film #MadrasCafe which released on August 23rd, 2013.\n",
      " It starred… uk_4_you\n",
      "27 RT @TrendsRaashi: #RaashiKhanna  made her Film Industry Debut with Hindi Film #MadrasCafe which released on August 23rd, 2013.\n",
      " It starred… ui000009\n",
      "28 RT @TrendsRaashi: #RaashiKhanna  made her Film Industry Debut with Hindi Film #MadrasCafe which released on August 23rd, 2013.\n",
      " It starred… RaashiTeam\n",
      "29 RT @TrendsRaashi: #RaashiKhanna  made her Film Industry Debut with Hindi Film #MadrasCafe which released on August 23rd, 2013.\n",
      " It starred… actoranilDHFM\n",
      "30 RT @TrendsRaashi: #RaashiKhanna  made her Film Industry Debut with Hindi Film #MadrasCafe which released on August 23rd, 2013.\n",
      " It starred… RakeShPrabhas20\n",
      "31 #RaashiKhanna  made her Film Industry Debut with Hindi Film #MadrasCafe which released on August 23rd, 2013.\n",
      " It st… https://t.co/ewipywRDR2 TrendsRaashi\n"
     ]
    }
   ],
   "source": [
    "query = \"#HBDRaashiKhanna - Hindi\"\n",
    "\n",
    "for index , status in enumerate(tweepy.Cursor(api.search, q=query).items(50)):\n",
    "    print(index, status.text, status.author.screen_name)"
   ]
  },
  {
   "cell_type": "code",
   "execution_count": 140,
   "metadata": {},
   "outputs": [
    {
     "name": "stdout",
     "output_type": "stream",
     "text": [
      "['Raashikhanna10', 'RaashiFan', 'saikris23557294', 'LubRaashikhanna', 'balubanvath004', 'NaRaashikhanna', 'RaashiIsmyLove', 'raashikhanna111', 'Raashikhanna7', 'John_H__Watson', 'raashikhanna978', 'RaashiKhanna_FC', 'RaashikhannaL', 'iamShaaZy', 'kapilianprash99', 'RaashiKhanna11', 'Raashikhanna2', 'Raashikhanna23', 'RaashiKhanna', 'JanpashaTweetz']\n"
     ]
    }
   ],
   "source": [
    "query = RAASHI\n",
    "\n",
    "search_res = set()\n",
    "for index , user in enumerate(tweepy.Cursor(api.search_users, q=query).items(50)):\n",
    "#     print(index, user.screen_name)\n",
    "    search_res.add(user.screen_name)\n",
    "    \n",
    "print(list(search_res))"
   ]
  },
  {
   "cell_type": "code",
   "execution_count": 144,
   "metadata": {},
   "outputs": [
    {
     "name": "stdout",
     "output_type": "stream",
     "text": [
      "0 Rakulpreet\n",
      "1 Rakulpreet58\n",
      "2 iam_RakulPreet\n",
      "3 RakulpreetSash\n",
      "4 rakulpreet_sash\n",
      "5 Poojitharakulp\n",
      "6 RakulPUniverse\n",
      "7 TeamRakul10\n",
      "8 RakulPreetTeam\n",
      "9 Rakulians\n",
      "10 RakulLover\n",
      "11 RakulPreetFS\n",
      "12 marjaavaan\n",
      "13 rakuldieheart\n",
      "14 allusumanth22\n",
      "15 Rakul_Addicts\n",
      "16 Rakul_Trends\n",
      "17 rakulfan_anu\n",
      "18 rakulpreet_fans\n",
      "19 TeamRakulpreet\n",
      "0 Rakulpreet\n",
      "1 Rakulpreet58\n",
      "2 iam_RakulPreet\n",
      "3 RakulpreetSash\n",
      "4 rakulpreet_sash\n",
      "5 Poojitharakulp\n",
      "6 RakulPUniverse\n",
      "7 TeamRakul10\n",
      "8 RakulPreetTeam\n",
      "9 Rakulians\n",
      "10 RakulLover\n",
      "11 RakulPreetFS\n",
      "12 marjaavaan\n",
      "13 rakuldieheart\n",
      "14 allusumanth22\n",
      "15 Rakul_Addicts\n",
      "16 Rakul_Trends\n",
      "17 rakulfan_anu\n",
      "18 rakulpreet_fans\n",
      "19 TeamRakulpreet\n",
      "0 RakulPreetKaur\n",
      "1 Rakulpreet109\n",
      "2 fc_rakul\n",
      "3 rakulpreet68\n",
      "4 poojitha_pv\n",
      "5 rakulpreetily\n",
      "6 RakulpreetM\n",
      "7 rakulpreet810\n",
      "8 RakulpreetTFC\n",
      "9 Team_Rakulpreet\n",
      "10 Rakulpreetfan4\n",
      "11 Rakulpreet95\n",
      "12 Rakulpr41260120\n",
      "13 _Rakulpreet_\n",
      "14 TulasiramMetrhi\n",
      "15 RAKULPR95961788\n",
      "16 RakulPr30424110\n",
      "17 SpyderTheMovie\n",
      "18 RakulpreetSin20\n",
      "19 rakulpreet8\n",
      "0 LocallClub\n",
      "1 rakul_liker\n",
      "2 KamalakarRakul1\n",
      "3 rakulpreetfc9\n",
      "4 RakulPr85099167\n",
      "5 RakulpreetFan2\n",
      "6 PoojithaPv\n",
      "7 TrendsRakul_\n",
      "8 rakulpreet21\n",
      "9 PrithviMichael\n",
      "10 rakulpreets\n",
      "11 RakulpreetCHD\n",
      "12 rakulpreet14\n",
      "13 PvPoojitha\n",
      "14 LoveRakulpreet\n",
      "15 Rakulpreetfan01\n",
      "16 Rakulpreet6\n",
      "17 rakulpreet_fan\n",
      "18 rakulpreet16\n",
      "19 Rakulpreet_ffc\n",
      "0 fan_rakulpreet\n",
      "1 Rakulpreet__7\n",
      "2 IndianDeshiGirl\n",
      "3 ShailajaManeti\n",
      "4 Rakulpr98737350\n",
      "5 Rakulpreetfan02\n",
      "6 Rakulpr84659106\n",
      "7 Rakulpreet__FC\n",
      "8 RakulFC\n",
      "9 poojitha_rakulp\n",
      "10 ShekharPoddar7\n",
      "11 Rakulpreet17\n",
      "12 RakulpreetR\n",
      "13 tejaravinarsin1\n",
      "14 RakulFanss\n",
      "15 Rakulpr67546121\n",
      "16 RakulpreetFp\n",
      "17 rakulpreet2\n",
      "18 SinghRakulpreet\n",
      "19 _rakulism\n",
      "0 RakulpreetOffl\n",
      "1 rakulpreet10\n",
      "2 Rakulpreet13\n",
      "3 Rakulpreet147\n",
      "4 Rakulpr16830216\n",
      "5 rakulpr34171296\n",
      "6 rakulpr40613018\n",
      "7 Rakulpr36370361\n",
      "8 RakulpreetC\n",
      "9 rakulpreet_offl\n",
      "10 Rakulpreet_\n",
      "11 Rakulpreet4\n",
      "12 rakulpreet1212\n",
      "13 Rakulpreet11\n",
      "14 RakulpreetJ\n",
      "15 RakulpreetSinfh\n",
      "16 Rakulpreet78\n",
      "17 rakulpreetsexy\n",
      "18 Rakulpreet20\n",
      "19 rakulpreet222\n"
     ]
    }
   ],
   "source": [
    "query = RAKUL\n",
    "\n",
    "for index , page in enumerate(tweepy.Cursor(api.search_users, q=query, per_page=10).pages(5)):\n",
    "#     print(index, \"page\")\n",
    "    process_page(page)\n",
    "    "
   ]
  },
  {
   "cell_type": "code",
   "execution_count": null,
   "metadata": {},
   "outputs": [],
   "source": []
  },
  {
   "cell_type": "code",
   "execution_count": null,
   "metadata": {},
   "outputs": [],
   "source": []
  },
  {
   "cell_type": "code",
   "execution_count": null,
   "metadata": {},
   "outputs": [],
   "source": []
  }
 ],
 "metadata": {
  "kernelspec": {
   "display_name": "Python 3",
   "language": "python",
   "name": "python3"
  },
  "language_info": {
   "codemirror_mode": {
    "name": "ipython",
    "version": 3
   },
   "file_extension": ".py",
   "mimetype": "text/x-python",
   "name": "python",
   "nbconvert_exporter": "python",
   "pygments_lexer": "ipython3",
   "version": "3.8.6"
  }
 },
 "nbformat": 4,
 "nbformat_minor": 4
}
