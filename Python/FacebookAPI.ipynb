{
 "cells": [
  {
   "cell_type": "code",
   "execution_count": 25,
   "metadata": {},
   "outputs": [],
   "source": [
    "# pip install facebook-sdk\n",
    "\n",
    "# pip install python-facebook-api"
   ]
  },
  {
   "cell_type": "markdown",
   "metadata": {},
   "source": [
    "### Loading the Libraries"
   ]
  },
  {
   "cell_type": "code",
   "execution_count": 1,
   "metadata": {},
   "outputs": [],
   "source": [
    "import os\n",
    "import json\n",
    "import requests"
   ]
  },
  {
   "cell_type": "code",
   "execution_count": 59,
   "metadata": {},
   "outputs": [],
   "source": [
    "import facebook"
   ]
  },
  {
   "cell_type": "code",
   "execution_count": 2,
   "metadata": {},
   "outputs": [],
   "source": [
    "from dotenv import load_dotenv"
   ]
  },
  {
   "cell_type": "code",
   "execution_count": 62,
   "metadata": {},
   "outputs": [
    {
     "data": {
      "text/plain": [
       "True"
      ]
     },
     "execution_count": 62,
     "metadata": {},
     "output_type": "execute_result"
    }
   ],
   "source": [
    "# loading the env vars\n",
    "path = os.path.expanduser(\"../data/\")\n",
    "load_dotenv(os.path.join(path, \".env\"))"
   ]
  },
  {
   "cell_type": "markdown",
   "metadata": {},
   "source": [
    "###  Global Variables "
   ]
  },
  {
   "cell_type": "code",
   "execution_count": 8,
   "metadata": {},
   "outputs": [],
   "source": [
    "ACCESS_TOKEN = os.environ.get(\"FACEBOOK_ACCESS_TOKEN\")\n",
    "\n",
    "APP_TOKEN = os.environ.get(\"FACEBOOK_APP_TOKEN\")\n",
    "\n",
    "USER_ID = os.environ.get(\"FACEBOOK_USER_ID\") \n",
    "\n",
    "APP_SECRET = os.environ.get(\"FACEBOOK_APP_SCERET\")\n",
    "\n",
    "APP_ID = os.environ.get(\"FACEBOOK_APP_ID\")\n",
    "\n",
    "\n",
    "#USER_TOKEN\n",
    "# print(APP_TOKEN)\n",
    "# user_id\n",
    "# USER_ID\n",
    "# ACCESS_TOKEN"
   ]
  },
  {
   "cell_type": "code",
   "execution_count": 13,
   "metadata": {},
   "outputs": [],
   "source": [
    "## --- Getting ccess tokens\n",
    "\n",
    "def get_fb_tokens(app_id, app_secret):\n",
    "    url = 'https://graph.facebook.com/oauth/access_token'       \n",
    "    payload = {\n",
    "        'grant_type': 'client_credentials',\n",
    "        'client_id': app_id,\n",
    "        'client_secret': app_secret\n",
    "    }\n",
    "    response = requests.post(url, params=payload)\n",
    "    return response.json()"
   ]
  },
  {
   "cell_type": "markdown",
   "metadata": {},
   "source": [
    "### Graph API"
   ]
  },
  {
   "cell_type": "code",
   "execution_count": 11,
   "metadata": {},
   "outputs": [],
   "source": [
    "# URL = f\"https://graph.facebook.com/{USER_ID}?fields=id,name&access_token={ACCESS_TOKEN}\"\n",
    "\n",
    "# req = requests.get(URL)\n",
    "\n",
    "# req.json()"
   ]
  },
  {
   "cell_type": "code",
   "execution_count": 18,
   "metadata": {},
   "outputs": [],
   "source": [
    "# URL"
   ]
  },
  {
   "cell_type": "code",
   "execution_count": 14,
   "metadata": {},
   "outputs": [],
   "source": [
    "my_tokens = get_fb_tokens(APP_ID, APP_SECRET)   "
   ]
  },
  {
   "cell_type": "code",
   "execution_count": 17,
   "metadata": {},
   "outputs": [],
   "source": [
    "# my_tokens"
   ]
  },
  {
   "cell_type": "code",
   "execution_count": 49,
   "metadata": {},
   "outputs": [],
   "source": [
    "graph = facebook.GraphAPI(access_token=ACCESS_TOKEN)"
   ]
  },
  {
   "cell_type": "code",
   "execution_count": 40,
   "metadata": {},
   "outputs": [],
   "source": [
    "# dir(graph)"
   ]
  },
  {
   "cell_type": "code",
   "execution_count": 5,
   "metadata": {},
   "outputs": [],
   "source": [
    "# # Get the message from a post.\n",
    "# post = graph.get_object(id=\"0158214551894079\", fields='message')\n",
    "# print(post['message'])"
   ]
  },
  {
   "cell_type": "code",
   "execution_count": 35,
   "metadata": {},
   "outputs": [],
   "source": [
    "# api = Api(app_id=APP_ID, app_secret=APP_SECRET, application_only_auth=True)\n",
    "# api.get_token_info()"
   ]
  },
  {
   "cell_type": "code",
   "execution_count": 60,
   "metadata": {},
   "outputs": [
    {
     "data": {
      "text/plain": [
       "['FACEBOOK_GRAPH_URL',\n",
       " 'FACEBOOK_OAUTH_DIALOG_PATH',\n",
       " 'FACEBOOK_WWW_URL',\n",
       " 'GraphAPI',\n",
       " 'GraphAPIError',\n",
       " 'VALID_API_VERSIONS',\n",
       " 'VALID_SEARCH_TYPES',\n",
       " '__builtins__',\n",
       " '__cached__',\n",
       " '__doc__',\n",
       " '__file__',\n",
       " '__loader__',\n",
       " '__name__',\n",
       " '__package__',\n",
       " '__path__',\n",
       " '__spec__',\n",
       " '__version__',\n",
       " 'base64',\n",
       " 'binascii',\n",
       " 'get_user_from_cookie',\n",
       " 'hashlib',\n",
       " 'hmac',\n",
       " 'json',\n",
       " 'parse_qs',\n",
       " 'parse_signed_request',\n",
       " 're',\n",
       " 'requests',\n",
       " 'urlencode',\n",
       " 'urlparse',\n",
       " 'version']"
      ]
     },
     "execution_count": 60,
     "metadata": {},
     "output_type": "execute_result"
    }
   ],
   "source": [
    "dir(facebook)"
   ]
  },
  {
   "cell_type": "code",
   "execution_count": 38,
   "metadata": {},
   "outputs": [],
   "source": [
    "api = facebook.GraphAPI(access_token = ACCESS_TOKEN)"
   ]
  },
  {
   "cell_type": "code",
   "execution_count": 54,
   "metadata": {},
   "outputs": [],
   "source": [
    "# URL = f\"https://graph.facebook.com/search?type=place&q=McDonalds&fields=name,checkins,website&access_token={ACCESS_TOKEN}\"\n",
    "\n",
    "# api.search(URL)"
   ]
  },
  {
   "cell_type": "code",
   "execution_count": 61,
   "metadata": {},
   "outputs": [
    {
     "ename": "NameError",
     "evalue": "name 'Api' is not defined",
     "output_type": "error",
     "traceback": [
      "\u001b[1;31m---------------------------------------------------------------------------\u001b[0m",
      "\u001b[1;31mNameError\u001b[0m                                 Traceback (most recent call last)",
      "\u001b[1;32m<ipython-input-61-7b668f6eb4cd>\u001b[0m in \u001b[0;36m<module>\u001b[1;34m\u001b[0m\n\u001b[1;32m----> 1\u001b[1;33m \u001b[0mapi\u001b[0m \u001b[1;33m=\u001b[0m \u001b[0mApi\u001b[0m\u001b[1;33m(\u001b[0m\u001b[0mapp_id\u001b[0m\u001b[1;33m=\u001b[0m\u001b[0mAPP_ID\u001b[0m\u001b[1;33m,\u001b[0m \u001b[0mapp_secret\u001b[0m\u001b[1;33m=\u001b[0m\u001b[0mAPP_SECRET\u001b[0m\u001b[1;33m,\u001b[0m \u001b[0mlong_term_token\u001b[0m\u001b[1;33m=\u001b[0m\u001b[0mACESS_TOKEN\u001b[0m\u001b[1;33m)\u001b[0m\u001b[1;33m\u001b[0m\u001b[1;33m\u001b[0m\u001b[0m\n\u001b[0m",
      "\u001b[1;31mNameError\u001b[0m: name 'Api' is not defined"
     ]
    }
   ],
   "source": [
    "api = Api(app_id=APP_ID, app_secret=APP_SECRET, long_term_token=ACESS_TOKEN)"
   ]
  },
  {
   "cell_type": "code",
   "execution_count": 58,
   "metadata": {},
   "outputs": [
    {
     "data": {
      "text/plain": [
       "['FACEBOOK_GRAPH_URL',\n",
       " 'FACEBOOK_OAUTH_DIALOG_PATH',\n",
       " 'FACEBOOK_WWW_URL',\n",
       " 'GraphAPI',\n",
       " 'GraphAPIError',\n",
       " 'VALID_API_VERSIONS',\n",
       " 'VALID_SEARCH_TYPES',\n",
       " '__builtins__',\n",
       " '__cached__',\n",
       " '__doc__',\n",
       " '__file__',\n",
       " '__loader__',\n",
       " '__name__',\n",
       " '__package__',\n",
       " '__path__',\n",
       " '__spec__',\n",
       " '__version__',\n",
       " 'base64',\n",
       " 'binascii',\n",
       " 'get_user_from_cookie',\n",
       " 'hashlib',\n",
       " 'hmac',\n",
       " 'json',\n",
       " 'parse_qs',\n",
       " 'parse_signed_request',\n",
       " 're',\n",
       " 'requests',\n",
       " 'urlencode',\n",
       " 'urlparse',\n",
       " 'version']"
      ]
     },
     "execution_count": 58,
     "metadata": {},
     "output_type": "execute_result"
    }
   ],
   "source": [
    "dir(facebook)"
   ]
  },
  {
   "cell_type": "code",
   "execution_count": null,
   "metadata": {},
   "outputs": [],
   "source": []
  }
 ],
 "metadata": {
  "kernelspec": {
   "display_name": "Python 3",
   "language": "python",
   "name": "python3"
  },
  "language_info": {
   "codemirror_mode": {
    "name": "ipython",
    "version": 3
   },
   "file_extension": ".py",
   "mimetype": "text/x-python",
   "name": "python",
   "nbconvert_exporter": "python",
   "pygments_lexer": "ipython3",
   "version": "3.8.6"
  }
 },
 "nbformat": 4,
 "nbformat_minor": 4
}
