{
 "cells": [
  {
   "cell_type": "markdown",
   "metadata": {},
   "source": [
    "### Loading the Libraries"
   ]
  },
  {
   "cell_type": "code",
   "execution_count": 37,
   "metadata": {},
   "outputs": [],
   "source": [
    "import os\n",
    "import json\n",
    "import requests"
   ]
  },
  {
   "cell_type": "code",
   "execution_count": 4,
   "metadata": {},
   "outputs": [],
   "source": [
    "from dotenv import load_dotenv"
   ]
  },
  {
   "cell_type": "code",
   "execution_count": 92,
   "metadata": {},
   "outputs": [
    {
     "data": {
      "text/plain": [
       "True"
      ]
     },
     "execution_count": 92,
     "metadata": {},
     "output_type": "execute_result"
    }
   ],
   "source": [
    "# loading the env vars\n",
    "path = os.path.expanduser(\"../data/\")\n",
    "load_dotenv(os.path.join(path, \".env\"))"
   ]
  },
  {
   "cell_type": "markdown",
   "metadata": {},
   "source": [
    "### --- Global Variables ---"
   ]
  },
  {
   "cell_type": "code",
   "execution_count": 93,
   "metadata": {},
   "outputs": [],
   "source": [
    "USER_TOKEN = os.environ.get(\"FACEBOOK_ACCESS_TOKEN\")\n",
    "\n",
    "APP_TOKEN = os.environ.get(\"FACEBOOK_APP_TOKEN\")\n",
    "\n",
    "user_id = os.environ.get(\"FACEBOOK_USER_ID\")  # my User_ID\n",
    "\n",
    "#USER_TOKEN\n",
    "\n",
    "# print(APP_TOKEN)\n",
    "\n",
    "# user_id"
   ]
  },
  {
   "cell_type": "code",
   "execution_count": 41,
   "metadata": {},
   "outputs": [],
   "source": [
    "# url's \n",
    "URL = \"https://graph.facebook.com/v2.8/MercedesBenzFrance/feed\""
   ]
  },
  {
   "cell_type": "markdown",
   "metadata": {},
   "source": [
    "### Graph API"
   ]
  },
  {
   "cell_type": "code",
   "execution_count": 72,
   "metadata": {},
   "outputs": [],
   "source": [
    "## --- Acessing my info ---\n",
    "url = f\"https://graph.facebook.com/{user_id}/accounts?access_token={USER_TOKEN}\"\n",
    "\n",
    "result = requests.get(url)"
   ]
  },
  {
   "cell_type": "code",
   "execution_count": 75,
   "metadata": {},
   "outputs": [
    {
     "data": {
      "text/plain": [
       "{'data': [{'access_token': 'EAAC6j9DkrS0BANTqHkTUkSldbEGyXsruV129TShN07SH7xOg16HeDEybZCHi45uNW3Q1EbBJAtdGAaGXIkjgnPh6ZCsOOheDcIpgnebeDZBSLEvux5vjTFASJxginO6ZAiZCw8qMbyyW0uNuW7VD573TcZAMo6GowZClXl1fuBdMOiHj6vXVZCYozKmaZCs8S2XrBm7IOSzshOwZDZD',\n",
       "   'category': 'Personal Blog',\n",
       "   'category_list': [{'id': '2700', 'name': 'Personal Blog'}],\n",
       "   'name': 'Suhruth Yambakam',\n",
       "   'id': '1917926211835051',\n",
       "   'tasks': ['ANALYZE',\n",
       "    'ADVERTISE',\n",
       "    'MESSAGING',\n",
       "    'MODERATE',\n",
       "    'CREATE_CONTENT',\n",
       "    'MANAGE']}],\n",
       " 'paging': {'cursors': {'before': 'MTkxNzkyNjIxMTgzNTA1MQZDZD',\n",
       "   'after': 'MTkxNzkyNjIxMTgzNTA1MQZDZD'}}}"
      ]
     },
     "execution_count": 75,
     "metadata": {},
     "output_type": "execute_result"
    }
   ],
   "source": [
    "result.json()"
   ]
  },
  {
   "cell_type": "code",
   "execution_count": 80,
   "metadata": {},
   "outputs": [],
   "source": [
    "url2 = f\"https://graph.facebook.com/{user_id}?fields=id,name&access_token={USER_TOKEN}\"\n",
    "\n",
    "req = requests.get(url2)"
   ]
  },
  {
   "cell_type": "code",
   "execution_count": 81,
   "metadata": {},
   "outputs": [
    {
     "data": {
      "text/plain": [
       "{'id': '729649814622866', 'name': 'Suhruth Yambakam'}"
      ]
     },
     "execution_count": 81,
     "metadata": {},
     "output_type": "execute_result"
    }
   ],
   "source": [
    "req.json()"
   ]
  },
  {
   "cell_type": "code",
   "execution_count": 87,
   "metadata": {},
   "outputs": [
    {
     "data": {
      "text/plain": [
       "{'data': []}"
      ]
     },
     "execution_count": 87,
     "metadata": {},
     "output_type": "execute_result"
    }
   ],
   "source": [
    "url3 =  f\"https://graph.facebook.com/{user_id}/feed?access_token={USER_TOKEN}\"\n",
    "\n",
    "req = requests.get(url3)\n",
    "\n",
    "req.json()\n",
    "\n",
    "## Check ehy it is blank"
   ]
  },
  {
   "cell_type": "code",
   "execution_count": 94,
   "metadata": {},
   "outputs": [
    {
     "data": {
      "text/plain": [
       "{'error': {'message': 'Error validating access token: Session has expired on Monday, 30-Nov-20 03:00:00 PST. The current time is Monday, 30-Nov-20 03:03:41 PST.',\n",
       "  'type': 'OAuthException',\n",
       "  'code': 190,\n",
       "  'error_subcode': 463,\n",
       "  'fbtrace_id': 'AeWMKoNPv6XLMCVA_gnZZ2l'}}"
      ]
     },
     "execution_count": 94,
     "metadata": {},
     "output_type": "execute_result"
    }
   ],
   "source": [
    "url4 = f\"https://graph.facebook.com/{user_id}?fields=birthday,email,hometown&access_token={USER_TOKEN}\"\n",
    "\n",
    "req = requests.get(url4)\n",
    "\n",
    "req.json()"
   ]
  },
  {
   "cell_type": "code",
   "execution_count": null,
   "metadata": {},
   "outputs": [],
   "source": []
  },
  {
   "cell_type": "code",
   "execution_count": null,
   "metadata": {},
   "outputs": [],
   "source": []
  }
 ],
 "metadata": {
  "kernelspec": {
   "display_name": "Python 3",
   "language": "python",
   "name": "python3"
  },
  "language_info": {
   "codemirror_mode": {
    "name": "ipython",
    "version": 3
   },
   "file_extension": ".py",
   "mimetype": "text/x-python",
   "name": "python",
   "nbconvert_exporter": "python",
   "pygments_lexer": "ipython3",
   "version": "3.8.6"
  }
 },
 "nbformat": 4,
 "nbformat_minor": 4
}
