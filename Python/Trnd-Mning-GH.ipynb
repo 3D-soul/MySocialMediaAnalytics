{
 "cells": [
  {
   "cell_type": "code",
   "execution_count": 61,
   "metadata": {},
   "outputs": [],
   "source": [
    "# pip install langdetect"
   ]
  },
  {
   "cell_type": "markdown",
   "metadata": {},
   "source": [
    "### Loading the Libraries"
   ]
  },
  {
   "cell_type": "code",
   "execution_count": 1,
   "metadata": {},
   "outputs": [],
   "source": [
    "import os\n",
    "import json\n",
    "import requests"
   ]
  },
  {
   "cell_type": "code",
   "execution_count": 2,
   "metadata": {},
   "outputs": [],
   "source": [
    "import warnings\n",
    "warnings.filterwarnings('ignore')"
   ]
  },
  {
   "cell_type": "code",
   "execution_count": 3,
   "metadata": {},
   "outputs": [],
   "source": [
    "import time"
   ]
  },
  {
   "cell_type": "code",
   "execution_count": 4,
   "metadata": {},
   "outputs": [],
   "source": [
    "import string"
   ]
  },
  {
   "cell_type": "code",
   "execution_count": 5,
   "metadata": {},
   "outputs": [],
   "source": [
    "import pandas as pd"
   ]
  },
  {
   "cell_type": "code",
   "execution_count": 6,
   "metadata": {},
   "outputs": [],
   "source": [
    "import matplotlib.pyplot as plt"
   ]
  },
  {
   "cell_type": "code",
   "execution_count": 7,
   "metadata": {},
   "outputs": [],
   "source": [
    "import bson.json_util as json_util"
   ]
  },
  {
   "cell_type": "code",
   "execution_count": 8,
   "metadata": {},
   "outputs": [],
   "source": [
    "from dotenv import load_dotenv"
   ]
  },
  {
   "cell_type": "code",
   "execution_count": 9,
   "metadata": {},
   "outputs": [],
   "source": [
    "from pandas.io.json import json_normalize"
   ]
  },
  {
   "cell_type": "code",
   "execution_count": 10,
   "metadata": {},
   "outputs": [],
   "source": [
    "from datetime import datetime"
   ]
  },
  {
   "cell_type": "code",
   "execution_count": 11,
   "metadata": {},
   "outputs": [],
   "source": [
    "from langdetect import detect"
   ]
  },
  {
   "cell_type": "markdown",
   "metadata": {},
   "source": [
    "##### nltk essentials"
   ]
  },
  {
   "cell_type": "code",
   "execution_count": 40,
   "metadata": {},
   "outputs": [],
   "source": [
    "import nltk"
   ]
  },
  {
   "cell_type": "code",
   "execution_count": 34,
   "metadata": {},
   "outputs": [],
   "source": [
    "# for text normalize\n",
    "from nltk import word_tokenize\n",
    "from nltk.corpus import stopwords"
   ]
  },
  {
   "cell_type": "code",
   "execution_count": 35,
   "metadata": {},
   "outputs": [],
   "source": [
    "# for analysis\n",
    "from nltk.collocations import *"
   ]
  },
  {
   "cell_type": "markdown",
   "metadata": {},
   "source": [
    "### Global variables"
   ]
  },
  {
   "cell_type": "code",
   "execution_count": 12,
   "metadata": {},
   "outputs": [
    {
     "data": {
      "text/plain": [
       "True"
      ]
     },
     "execution_count": 12,
     "metadata": {},
     "output_type": "execute_result"
    }
   ],
   "source": [
    "path = os.path.expanduser(\"../data/\")\n",
    "\n",
    "load_dotenv(os.path.join(path, \".env\"))"
   ]
  },
  {
   "cell_type": "code",
   "execution_count": 13,
   "metadata": {},
   "outputs": [],
   "source": [
    "# environment variables\n",
    "USER = os.getenv(\"GIT_USERNAME\")\n",
    "\n",
    "KEY = os.getenv(\"GIT_PASSWORD\")\n",
    "\n",
    "ID = os.getenv(\"GIT_CLIENT_ID\")\n",
    "\n",
    "SECRET = os.getenv(\"GIT_CLIENT_SECRET\")\n",
    "\n",
    "ACCESS = os.getenv(\"GIT_ACCESS_TOKEN\")"
   ]
  },
  {
   "cell_type": "code",
   "execution_count": 14,
   "metadata": {},
   "outputs": [],
   "source": [
    "# all url's\n",
    "SEARCH_URL = \"https://github.com/search\" \n",
    "\n",
    "note = \"my test application\"\n",
    "\n",
    "MAIN = \"https://github.com\""
   ]
  },
  {
   "cell_type": "markdown",
   "metadata": {},
   "source": [
    "## Functions"
   ]
  },
  {
   "cell_type": "code",
   "execution_count": 113,
   "metadata": {},
   "outputs": [],
   "source": [
    "## a function to paginate through github repos\n",
    "def search_repo_paging(qry):\n",
    "    url = \"https://api.github.com/search/repositories\"\n",
    "    pms = {\"q\":qry, \"sort\":\"forks\", \"order\":\"desc\", \"per_page\":100}\n",
    "    while True:\n",
    "        res = requests.get(url, params=pms)\n",
    "        result = res.json()\n",
    "        print(f\"Connection status:{res}\")\n",
    "        results.extend(result[\"items\"])\n",
    "        print(f\"Just download: {len(result['items'])}, Total:{len(results)}\")\n",
    "        params = {}\n",
    "        \n",
    "        try:\n",
    "            url = res.links[\"next\"][\"url\"]\n",
    "        except:\n",
    "            break\n",
    "            \n",
    "        time.sleep(10)"
   ]
  },
  {
   "cell_type": "code",
   "execution_count": 117,
   "metadata": {},
   "outputs": [],
   "source": [
    "# a function to normalize the data\n",
    "def df_from_data(data):\n",
    "    sanitized = json.loads(json_util.dumps(results))\n",
    "    normalized = json_normalize(sanitized)\n",
    "    return pd.DataFrame(normalized)"
   ]
  },
  {
   "cell_type": "code",
   "execution_count": 19,
   "metadata": {},
   "outputs": [],
   "source": [
    "# a func to detect language of string\n",
    "def detect_lang(st):\n",
    "    try:\n",
    "        return detect(st)\n",
    "    except:\n",
    "        return None"
   ]
  },
  {
   "cell_type": "code",
   "execution_count": 32,
   "metadata": {},
   "outputs": [],
   "source": [
    "## text normalization \n",
    "def clean_text(text=\" \", stopwords = []):\n",
    "    punc = list(string.punctuation)\n",
    "    \n",
    "    tokens = word_tokenize(text.strip())\n",
    "    clean = [wrd.lower() for wrd in tokens]\n",
    "    clean = [wrd for wrd in clean if wrd not in stopwords]\n",
    "    clean = [wrd.strip(\"\".join(punc)) for wrd in clean if wrd not in punc]\n",
    "    \n",
    "    return \" \".join(clean)"
   ]
  },
  {
   "cell_type": "code",
   "execution_count": 102,
   "metadata": {},
   "outputs": [],
   "source": [
    "# clean_text(new_df[\"description\"].to_list()[0])"
   ]
  },
  {
   "cell_type": "markdown",
   "metadata": {},
   "source": [
    "### API"
   ]
  },
  {
   "cell_type": "code",
   "execution_count": 18,
   "metadata": {},
   "outputs": [],
   "source": [
    "## requesting all available Url's\n",
    "res = requests.get(\"https://api.github.com/\")"
   ]
  },
  {
   "cell_type": "code",
   "execution_count": 19,
   "metadata": {},
   "outputs": [
    {
     "data": {
      "text/plain": [
       "'https://api.github.com/authorizations'"
      ]
     },
     "execution_count": 19,
     "metadata": {},
     "output_type": "execute_result"
    }
   ],
   "source": [
    "URL = res.json()\n",
    "AUTH_URL = URL[\"authorizations_url\"]\n",
    "AUTH_URL"
   ]
  },
  {
   "cell_type": "code",
   "execution_count": 114,
   "metadata": {},
   "outputs": [
    {
     "name": "stdout",
     "output_type": "stream",
     "text": [
      "Connection status:<Response [200]>\n",
      "Just download: 100, Total:100\n",
      "Connection status:<Response [200]>\n",
      "Just download: 100, Total:200\n",
      "Connection status:<Response [200]>\n",
      "Just download: 100, Total:300\n",
      "Connection status:<Response [200]>\n",
      "Just download: 100, Total:400\n",
      "Connection status:<Response [200]>\n",
      "Just download: 100, Total:500\n",
      "Connection status:<Response [200]>\n",
      "Just download: 100, Total:600\n",
      "Connection status:<Response [200]>\n",
      "Just download: 100, Total:700\n",
      "Connection status:<Response [200]>\n",
      "Just download: 100, Total:800\n",
      "Connection status:<Response [200]>\n",
      "Just download: 100, Total:900\n",
      "Connection status:<Response [200]>\n",
      "Just download: 100, Total:1000\n"
     ]
    }
   ],
   "source": [
    "## paginating github data\n",
    "# results of 19\n",
    "results=[]\n",
    "search_repo_paging(\"created:2019-01-01..2019-12-31\")"
   ]
  },
  {
   "cell_type": "code",
   "execution_count": 116,
   "metadata": {},
   "outputs": [
    {
     "data": {
      "text/plain": [
       "'2019-03-26T07:31:14Z'"
      ]
     },
     "execution_count": 116,
     "metadata": {},
     "output_type": "execute_result"
    }
   ],
   "source": [
    "results[0][\"created_at\"]"
   ]
  },
  {
   "cell_type": "code",
   "execution_count": 121,
   "metadata": {},
   "outputs": [
    {
     "name": "stdout",
     "output_type": "stream",
     "text": [
      "Connection status:<Response [200]>\n",
      "Just download: 100, Total:100\n",
      "Connection status:<Response [200]>\n",
      "Just download: 100, Total:200\n",
      "Connection status:<Response [200]>\n",
      "Just download: 100, Total:300\n",
      "Connection status:<Response [200]>\n",
      "Just download: 100, Total:400\n",
      "Connection status:<Response [200]>\n",
      "Just download: 100, Total:500\n",
      "Connection status:<Response [200]>\n",
      "Just download: 100, Total:600\n",
      "Connection status:<Response [200]>\n",
      "Just download: 100, Total:700\n",
      "Connection status:<Response [200]>\n",
      "Just download: 100, Total:800\n",
      "Connection status:<Response [200]>\n",
      "Just download: 100, Total:900\n",
      "Connection status:<Response [200]>\n",
      "Just download: 100, Total:1000\n"
     ]
    }
   ],
   "source": [
    "# results of year 2020\n",
    "results= []\n",
    "search_repo_paging(\"created:>2020-01-01\")"
   ]
  },
  {
   "cell_type": "markdown",
   "metadata": {},
   "source": [
    "## Data Pull"
   ]
  },
  {
   "cell_type": "code",
   "execution_count": 120,
   "metadata": {},
   "outputs": [
    {
     "data": {
      "text/html": [
       "<div>\n",
       "<style scoped>\n",
       "    .dataframe tbody tr th:only-of-type {\n",
       "        vertical-align: middle;\n",
       "    }\n",
       "\n",
       "    .dataframe tbody tr th {\n",
       "        vertical-align: top;\n",
       "    }\n",
       "\n",
       "    .dataframe thead th {\n",
       "        text-align: right;\n",
       "    }\n",
       "</style>\n",
       "<table border=\"1\" class=\"dataframe\">\n",
       "  <thead>\n",
       "    <tr style=\"text-align: right;\">\n",
       "      <th></th>\n",
       "      <th>id</th>\n",
       "      <th>node_id</th>\n",
       "      <th>name</th>\n",
       "      <th>full_name</th>\n",
       "      <th>private</th>\n",
       "      <th>html_url</th>\n",
       "      <th>description</th>\n",
       "      <th>fork</th>\n",
       "      <th>url</th>\n",
       "      <th>forks_url</th>\n",
       "      <th>...</th>\n",
       "      <th>owner.events_url</th>\n",
       "      <th>owner.received_events_url</th>\n",
       "      <th>owner.type</th>\n",
       "      <th>owner.site_admin</th>\n",
       "      <th>license.key</th>\n",
       "      <th>license.name</th>\n",
       "      <th>license.spdx_id</th>\n",
       "      <th>license.url</th>\n",
       "      <th>license.node_id</th>\n",
       "      <th>license</th>\n",
       "    </tr>\n",
       "  </thead>\n",
       "  <tbody>\n",
       "    <tr>\n",
       "      <th>0</th>\n",
       "      <td>177736533</td>\n",
       "      <td>MDEwOlJlcG9zaXRvcnkxNzc3MzY1MzM=</td>\n",
       "      <td>996.ICU</td>\n",
       "      <td>996icu/996.ICU</td>\n",
       "      <td>False</td>\n",
       "      <td>https://github.com/996icu/996.ICU</td>\n",
       "      <td>Repo for counting stars and contributing. Pres...</td>\n",
       "      <td>False</td>\n",
       "      <td>https://api.github.com/repos/996icu/996.ICU</td>\n",
       "      <td>https://api.github.com/repos/996icu/996.ICU/forks</td>\n",
       "      <td>...</td>\n",
       "      <td>https://api.github.com/users/996icu/events{/pr...</td>\n",
       "      <td>https://api.github.com/users/996icu/received_e...</td>\n",
       "      <td>User</td>\n",
       "      <td>False</td>\n",
       "      <td>other</td>\n",
       "      <td>Other</td>\n",
       "      <td>NOASSERTION</td>\n",
       "      <td>None</td>\n",
       "      <td>MDc6TGljZW5zZTA=</td>\n",
       "      <td>NaN</td>\n",
       "    </tr>\n",
       "    <tr>\n",
       "      <th>1</th>\n",
       "      <td>228683419</td>\n",
       "      <td>MDEwOlJlcG9zaXRvcnkyMjg2ODM0MTk=</td>\n",
       "      <td>it-cert-automation-practice</td>\n",
       "      <td>google/it-cert-automation-practice</td>\n",
       "      <td>False</td>\n",
       "      <td>https://github.com/google/it-cert-automation-p...</td>\n",
       "      <td>Google IT Automation with Python Professional ...</td>\n",
       "      <td>False</td>\n",
       "      <td>https://api.github.com/repos/google/it-cert-au...</td>\n",
       "      <td>https://api.github.com/repos/google/it-cert-au...</td>\n",
       "      <td>...</td>\n",
       "      <td>https://api.github.com/users/google/events{/pr...</td>\n",
       "      <td>https://api.github.com/users/google/received_e...</td>\n",
       "      <td>Organization</td>\n",
       "      <td>False</td>\n",
       "      <td>apache-2.0</td>\n",
       "      <td>Apache License 2.0</td>\n",
       "      <td>Apache-2.0</td>\n",
       "      <td>https://api.github.com/licenses/apache-2.0</td>\n",
       "      <td>MDc6TGljZW5zZTI=</td>\n",
       "      <td>NaN</td>\n",
       "    </tr>\n",
       "  </tbody>\n",
       "</table>\n",
       "<p>2 rows × 96 columns</p>\n",
       "</div>"
      ],
      "text/plain": [
       "          id                           node_id                         name  \\\n",
       "0  177736533  MDEwOlJlcG9zaXRvcnkxNzc3MzY1MzM=                      996.ICU   \n",
       "1  228683419  MDEwOlJlcG9zaXRvcnkyMjg2ODM0MTk=  it-cert-automation-practice   \n",
       "\n",
       "                            full_name  private  \\\n",
       "0                      996icu/996.ICU    False   \n",
       "1  google/it-cert-automation-practice    False   \n",
       "\n",
       "                                            html_url  \\\n",
       "0                  https://github.com/996icu/996.ICU   \n",
       "1  https://github.com/google/it-cert-automation-p...   \n",
       "\n",
       "                                         description   fork  \\\n",
       "0  Repo for counting stars and contributing. Pres...  False   \n",
       "1  Google IT Automation with Python Professional ...  False   \n",
       "\n",
       "                                                 url  \\\n",
       "0        https://api.github.com/repos/996icu/996.ICU   \n",
       "1  https://api.github.com/repos/google/it-cert-au...   \n",
       "\n",
       "                                           forks_url  ...  \\\n",
       "0  https://api.github.com/repos/996icu/996.ICU/forks  ...   \n",
       "1  https://api.github.com/repos/google/it-cert-au...  ...   \n",
       "\n",
       "                                    owner.events_url  \\\n",
       "0  https://api.github.com/users/996icu/events{/pr...   \n",
       "1  https://api.github.com/users/google/events{/pr...   \n",
       "\n",
       "                           owner.received_events_url    owner.type  \\\n",
       "0  https://api.github.com/users/996icu/received_e...          User   \n",
       "1  https://api.github.com/users/google/received_e...  Organization   \n",
       "\n",
       "  owner.site_admin license.key        license.name license.spdx_id  \\\n",
       "0            False       other               Other     NOASSERTION   \n",
       "1            False  apache-2.0  Apache License 2.0      Apache-2.0   \n",
       "\n",
       "                                  license.url   license.node_id license  \n",
       "0                                        None  MDc6TGljZW5zZTA=     NaN  \n",
       "1  https://api.github.com/licenses/apache-2.0  MDc6TGljZW5zZTI=     NaN  \n",
       "\n",
       "[2 rows x 96 columns]"
      ]
     },
     "execution_count": 120,
     "metadata": {},
     "output_type": "execute_result"
    }
   ],
   "source": [
    "# getting data frame from 2019 data\n",
    "df19 = df_from_data(results)\n",
    "df19.head(2)"
   ]
  },
  {
   "cell_type": "code",
   "execution_count": 122,
   "metadata": {},
   "outputs": [
    {
     "data": {
      "text/html": [
       "<div>\n",
       "<style scoped>\n",
       "    .dataframe tbody tr th:only-of-type {\n",
       "        vertical-align: middle;\n",
       "    }\n",
       "\n",
       "    .dataframe tbody tr th {\n",
       "        vertical-align: top;\n",
       "    }\n",
       "\n",
       "    .dataframe thead th {\n",
       "        text-align: right;\n",
       "    }\n",
       "</style>\n",
       "<table border=\"1\" class=\"dataframe\">\n",
       "  <thead>\n",
       "    <tr style=\"text-align: right;\">\n",
       "      <th></th>\n",
       "      <th>id</th>\n",
       "      <th>node_id</th>\n",
       "      <th>name</th>\n",
       "      <th>full_name</th>\n",
       "      <th>private</th>\n",
       "      <th>html_url</th>\n",
       "      <th>description</th>\n",
       "      <th>fork</th>\n",
       "      <th>url</th>\n",
       "      <th>forks_url</th>\n",
       "      <th>...</th>\n",
       "      <th>owner.events_url</th>\n",
       "      <th>owner.received_events_url</th>\n",
       "      <th>owner.type</th>\n",
       "      <th>owner.site_admin</th>\n",
       "      <th>license.key</th>\n",
       "      <th>license.name</th>\n",
       "      <th>license.spdx_id</th>\n",
       "      <th>license.url</th>\n",
       "      <th>license.node_id</th>\n",
       "      <th>license</th>\n",
       "    </tr>\n",
       "  </thead>\n",
       "  <tbody>\n",
       "    <tr>\n",
       "      <th>0</th>\n",
       "      <td>272411321</td>\n",
       "      <td>MDEwOlJlcG9zaXRvcnkyNzI0MTEzMjE=</td>\n",
       "      <td>IBMYes</td>\n",
       "      <td>CCChieh/IBMYes</td>\n",
       "      <td>False</td>\n",
       "      <td>https://github.com/CCChieh/IBMYes</td>\n",
       "      <td>None</td>\n",
       "      <td>False</td>\n",
       "      <td>https://api.github.com/repos/CCChieh/IBMYes</td>\n",
       "      <td>https://api.github.com/repos/CCChieh/IBMYes/forks</td>\n",
       "      <td>...</td>\n",
       "      <td>https://api.github.com/users/CCChieh/events{/p...</td>\n",
       "      <td>https://api.github.com/users/CCChieh/received_...</td>\n",
       "      <td>User</td>\n",
       "      <td>False</td>\n",
       "      <td>apache-2.0</td>\n",
       "      <td>Apache License 2.0</td>\n",
       "      <td>Apache-2.0</td>\n",
       "      <td>https://api.github.com/licenses/apache-2.0</td>\n",
       "      <td>MDc6TGljZW5zZTI=</td>\n",
       "      <td>NaN</td>\n",
       "    </tr>\n",
       "    <tr>\n",
       "      <th>1</th>\n",
       "      <td>261787758</td>\n",
       "      <td>MDEwOlJlcG9zaXRvcnkyNjE3ODc3NTg=</td>\n",
       "      <td>design-resources-for-developers</td>\n",
       "      <td>bradtraversy/design-resources-for-developers</td>\n",
       "      <td>False</td>\n",
       "      <td>https://github.com/bradtraversy/design-resourc...</td>\n",
       "      <td>Curated list of design and UI resources from s...</td>\n",
       "      <td>False</td>\n",
       "      <td>https://api.github.com/repos/bradtraversy/desi...</td>\n",
       "      <td>https://api.github.com/repos/bradtraversy/desi...</td>\n",
       "      <td>...</td>\n",
       "      <td>https://api.github.com/users/bradtraversy/even...</td>\n",
       "      <td>https://api.github.com/users/bradtraversy/rece...</td>\n",
       "      <td>User</td>\n",
       "      <td>False</td>\n",
       "      <td>mit</td>\n",
       "      <td>MIT License</td>\n",
       "      <td>MIT</td>\n",
       "      <td>https://api.github.com/licenses/mit</td>\n",
       "      <td>MDc6TGljZW5zZTEz</td>\n",
       "      <td>NaN</td>\n",
       "    </tr>\n",
       "  </tbody>\n",
       "</table>\n",
       "<p>2 rows × 96 columns</p>\n",
       "</div>"
      ],
      "text/plain": [
       "          id                           node_id  \\\n",
       "0  272411321  MDEwOlJlcG9zaXRvcnkyNzI0MTEzMjE=   \n",
       "1  261787758  MDEwOlJlcG9zaXRvcnkyNjE3ODc3NTg=   \n",
       "\n",
       "                              name  \\\n",
       "0                           IBMYes   \n",
       "1  design-resources-for-developers   \n",
       "\n",
       "                                      full_name  private  \\\n",
       "0                                CCChieh/IBMYes    False   \n",
       "1  bradtraversy/design-resources-for-developers    False   \n",
       "\n",
       "                                            html_url  \\\n",
       "0                  https://github.com/CCChieh/IBMYes   \n",
       "1  https://github.com/bradtraversy/design-resourc...   \n",
       "\n",
       "                                         description   fork  \\\n",
       "0                                               None  False   \n",
       "1  Curated list of design and UI resources from s...  False   \n",
       "\n",
       "                                                 url  \\\n",
       "0        https://api.github.com/repos/CCChieh/IBMYes   \n",
       "1  https://api.github.com/repos/bradtraversy/desi...   \n",
       "\n",
       "                                           forks_url  ...  \\\n",
       "0  https://api.github.com/repos/CCChieh/IBMYes/forks  ...   \n",
       "1  https://api.github.com/repos/bradtraversy/desi...  ...   \n",
       "\n",
       "                                    owner.events_url  \\\n",
       "0  https://api.github.com/users/CCChieh/events{/p...   \n",
       "1  https://api.github.com/users/bradtraversy/even...   \n",
       "\n",
       "                           owner.received_events_url owner.type  \\\n",
       "0  https://api.github.com/users/CCChieh/received_...       User   \n",
       "1  https://api.github.com/users/bradtraversy/rece...       User   \n",
       "\n",
       "  owner.site_admin license.key        license.name license.spdx_id  \\\n",
       "0            False  apache-2.0  Apache License 2.0      Apache-2.0   \n",
       "1            False         mit         MIT License             MIT   \n",
       "\n",
       "                                  license.url   license.node_id license  \n",
       "0  https://api.github.com/licenses/apache-2.0  MDc6TGljZW5zZTI=     NaN  \n",
       "1         https://api.github.com/licenses/mit  MDc6TGljZW5zZTEz     NaN  \n",
       "\n",
       "[2 rows x 96 columns]"
      ]
     },
     "execution_count": 122,
     "metadata": {},
     "output_type": "execute_result"
    }
   ],
   "source": [
    "# getting data frame from 2020 data\n",
    "df20 = df_from_data(results)\n",
    "df20.head(2)"
   ]
  },
  {
   "cell_type": "code",
   "execution_count": 182,
   "metadata": {},
   "outputs": [],
   "source": [
    "col_lst = [\"description\", \"stargazers_count\", \"watchers_count\", \"size\", \"forks\", \n",
    "           \"open_issues_count\", \"language\", \"score\", \"created_at\"]\n",
    "\n",
    "subset19 = df19[col_lst]\n",
    "subset20 = df20[col_lst]"
   ]
  },
  {
   "cell_type": "code",
   "execution_count": 183,
   "metadata": {},
   "outputs": [
    {
     "data": {
      "text/html": [
       "<div>\n",
       "<style scoped>\n",
       "    .dataframe tbody tr th:only-of-type {\n",
       "        vertical-align: middle;\n",
       "    }\n",
       "\n",
       "    .dataframe tbody tr th {\n",
       "        vertical-align: top;\n",
       "    }\n",
       "\n",
       "    .dataframe thead th {\n",
       "        text-align: right;\n",
       "    }\n",
       "</style>\n",
       "<table border=\"1\" class=\"dataframe\">\n",
       "  <thead>\n",
       "    <tr style=\"text-align: right;\">\n",
       "      <th></th>\n",
       "      <th>description</th>\n",
       "      <th>stargazers_count</th>\n",
       "      <th>watchers_count</th>\n",
       "      <th>size</th>\n",
       "      <th>forks</th>\n",
       "      <th>open_issues_count</th>\n",
       "      <th>language</th>\n",
       "      <th>score</th>\n",
       "      <th>created_at</th>\n",
       "    </tr>\n",
       "  </thead>\n",
       "  <tbody>\n",
       "    <tr>\n",
       "      <th>0</th>\n",
       "      <td>Repo for counting stars and contributing. Pres...</td>\n",
       "      <td>253118</td>\n",
       "      <td>253118</td>\n",
       "      <td>183401</td>\n",
       "      <td>21126</td>\n",
       "      <td>16789</td>\n",
       "      <td>Rust</td>\n",
       "      <td>1.0</td>\n",
       "      <td>2019-03-26T07:31:14Z</td>\n",
       "    </tr>\n",
       "    <tr>\n",
       "      <th>1</th>\n",
       "      <td>Google IT Automation with Python Professional ...</td>\n",
       "      <td>252</td>\n",
       "      <td>252</td>\n",
       "      <td>12</td>\n",
       "      <td>13273</td>\n",
       "      <td>9123</td>\n",
       "      <td>Python</td>\n",
       "      <td>1.0</td>\n",
       "      <td>2019-12-17T19:04:12Z</td>\n",
       "    </tr>\n",
       "  </tbody>\n",
       "</table>\n",
       "</div>"
      ],
      "text/plain": [
       "                                         description  stargazers_count  \\\n",
       "0  Repo for counting stars and contributing. Pres...            253118   \n",
       "1  Google IT Automation with Python Professional ...               252   \n",
       "\n",
       "   watchers_count    size  forks  open_issues_count language  score  \\\n",
       "0          253118  183401  21126              16789     Rust    1.0   \n",
       "1             252      12  13273               9123   Python    1.0   \n",
       "\n",
       "             created_at  \n",
       "0  2019-03-26T07:31:14Z  \n",
       "1  2019-12-17T19:04:12Z  "
      ]
     },
     "execution_count": 183,
     "metadata": {},
     "output_type": "execute_result"
    }
   ],
   "source": [
    "subset19.head(2)"
   ]
  },
  {
   "cell_type": "code",
   "execution_count": 184,
   "metadata": {},
   "outputs": [
    {
     "data": {
      "text/html": [
       "<div>\n",
       "<style scoped>\n",
       "    .dataframe tbody tr th:only-of-type {\n",
       "        vertical-align: middle;\n",
       "    }\n",
       "\n",
       "    .dataframe tbody tr th {\n",
       "        vertical-align: top;\n",
       "    }\n",
       "\n",
       "    .dataframe thead th {\n",
       "        text-align: right;\n",
       "    }\n",
       "</style>\n",
       "<table border=\"1\" class=\"dataframe\">\n",
       "  <thead>\n",
       "    <tr style=\"text-align: right;\">\n",
       "      <th></th>\n",
       "      <th>description</th>\n",
       "      <th>stargazers_count</th>\n",
       "      <th>watchers_count</th>\n",
       "      <th>size</th>\n",
       "      <th>forks</th>\n",
       "      <th>open_issues_count</th>\n",
       "      <th>language</th>\n",
       "      <th>score</th>\n",
       "      <th>created_at</th>\n",
       "    </tr>\n",
       "  </thead>\n",
       "  <tbody>\n",
       "    <tr>\n",
       "      <th>0</th>\n",
       "      <td>None</td>\n",
       "      <td>1773</td>\n",
       "      <td>1773</td>\n",
       "      <td>44692</td>\n",
       "      <td>13100</td>\n",
       "      <td>161</td>\n",
       "      <td>Batchfile</td>\n",
       "      <td>1.0</td>\n",
       "      <td>2020-06-15T10:40:25Z</td>\n",
       "    </tr>\n",
       "    <tr>\n",
       "      <th>1</th>\n",
       "      <td>Curated list of design and UI resources from s...</td>\n",
       "      <td>23098</td>\n",
       "      <td>23098</td>\n",
       "      <td>4260</td>\n",
       "      <td>5657</td>\n",
       "      <td>0</td>\n",
       "      <td>None</td>\n",
       "      <td>1.0</td>\n",
       "      <td>2020-05-06T14:40:35Z</td>\n",
       "    </tr>\n",
       "  </tbody>\n",
       "</table>\n",
       "</div>"
      ],
      "text/plain": [
       "                                         description  stargazers_count  \\\n",
       "0                                               None              1773   \n",
       "1  Curated list of design and UI resources from s...             23098   \n",
       "\n",
       "   watchers_count   size  forks  open_issues_count   language  score  \\\n",
       "0            1773  44692  13100                161  Batchfile    1.0   \n",
       "1           23098   4260   5657                  0       None    1.0   \n",
       "\n",
       "             created_at  \n",
       "0  2020-06-15T10:40:25Z  \n",
       "1  2020-05-06T14:40:35Z  "
      ]
     },
     "execution_count": 184,
     "metadata": {},
     "output_type": "execute_result"
    }
   ],
   "source": [
    "subset20.head(2)"
   ]
  },
  {
   "cell_type": "code",
   "execution_count": 186,
   "metadata": {},
   "outputs": [],
   "source": [
    "## saving the subset\n",
    "subset19.to_csv(\"../data/gh19-data.csv\")\n",
    "subset20.to_csv(\"../data/gh20-data.csv\")"
   ]
  },
  {
   "cell_type": "code",
   "execution_count": 12,
   "metadata": {},
   "outputs": [],
   "source": [
    "## loading the subset-data\n",
    "subset19 = pd.read_csv(\"../data/gh19-data.csv\", index_col=0)\n",
    "subset20 = pd.read_csv(\"../data/gh20-data.csv\", index_col=0)"
   ]
  },
  {
   "cell_type": "markdown",
   "metadata": {},
   "source": [
    "## Data Preprocessing"
   ]
  },
  {
   "cell_type": "markdown",
   "metadata": {},
   "source": [
    "### Textual Data\n",
    "- English represents 71% of repositories in 2019 &  76% in 2020\n",
    "-In 2020,\n",
    "    - Watchers count varies from o to 23,098. and Forks from 107 to 5,657\n",
    "    - The first quartile of repos has no open issues while top 25% have more than 32\n",
    "    - The max no of issues are 1996\n",
    "-In 2019,\n",
    "    - Watchers count varies from o to 2,53,118 and Forks from 208 to 21,126\n",
    "    - The first quartile of repos has no open issues while top 25% have more than 61\n",
    "    - The max no of issues are 16,789"
   ]
  },
  {
   "cell_type": "code",
   "execution_count": 16,
   "metadata": {},
   "outputs": [],
   "source": [
    "## dropping all na values\n",
    "new_df19 = subset19.dropna(subset=[\"description\"])\n",
    "new_df20 = subset20.dropna(subset=[\"description\"])"
   ]
  },
  {
   "cell_type": "code",
   "execution_count": 23,
   "metadata": {},
   "outputs": [],
   "source": [
    "## detecting the language \n",
    "new_df19[\"lang\"] = new_df19.apply(lambda x:detect_lang(x[\"description\"]), axis=1)\n",
    "new_df20[\"lang\"] = new_df20.apply(lambda x:detect_lang(x[\"description\"]), axis=1)"
   ]
  },
  {
   "cell_type": "code",
   "execution_count": 29,
   "metadata": {},
   "outputs": [
    {
     "name": "stdout",
     "output_type": "stream",
     "text": [
      "2020: 71\n",
      "2019: 76\n"
     ]
    }
   ],
   "source": [
    "print(f\"\"\"2020: {round((new_df20['lang'] == 'en').sum()/ len(new_df20['lang'])*100)}\n",
    "2019: {round((new_df19['lang'] == 'en').sum()/ len(new_df20['lang'])*100)}\"\"\")"
   ]
  },
  {
   "cell_type": "code",
   "execution_count": 30,
   "metadata": {},
   "outputs": [],
   "source": [
    "## selecting only english language\n",
    "new_df19 = new_df19[new_df19[\"lang\"] == 'en']\n",
    "new_df20 = new_df20[new_df20[\"lang\"] == 'en']"
   ]
  },
  {
   "cell_type": "code",
   "execution_count": 36,
   "metadata": {},
   "outputs": [],
   "source": [
    "## cleaning description\n",
    "new_df19[\"clean\"] = new_df19[\"description\"].apply(str)\n",
    "new_df19[\"clean\"] = new_df19[\"clean\"].apply(lambda x:clean_text(text=x, stopwords=stopwords.words(\"english\")))\n",
    "\n",
    "new_df20[\"clean\"] = new_df20[\"description\"].apply(str)\n",
    "new_df20[\"clean\"] = new_df20[\"clean\"].apply(lambda x:clean_text(text=x, stopwords=stopwords.words(\"english\")))"
   ]
  },
  {
   "cell_type": "markdown",
   "metadata": {},
   "source": [
    "##### Trends in Numerical Vars"
   ]
  },
  {
   "cell_type": "code",
   "execution_count": 37,
   "metadata": {},
   "outputs": [
    {
     "data": {
      "text/html": [
       "<div>\n",
       "<style scoped>\n",
       "    .dataframe tbody tr th:only-of-type {\n",
       "        vertical-align: middle;\n",
       "    }\n",
       "\n",
       "    .dataframe tbody tr th {\n",
       "        vertical-align: top;\n",
       "    }\n",
       "\n",
       "    .dataframe thead th {\n",
       "        text-align: right;\n",
       "    }\n",
       "</style>\n",
       "<table border=\"1\" class=\"dataframe\">\n",
       "  <thead>\n",
       "    <tr style=\"text-align: right;\">\n",
       "      <th></th>\n",
       "      <th>stargazers_count</th>\n",
       "      <th>watchers_count</th>\n",
       "      <th>size</th>\n",
       "      <th>forks</th>\n",
       "      <th>open_issues_count</th>\n",
       "    </tr>\n",
       "  </thead>\n",
       "  <tbody>\n",
       "    <tr>\n",
       "      <th>count</th>\n",
       "      <td>562.000000</td>\n",
       "      <td>562.000000</td>\n",
       "      <td>5.620000e+02</td>\n",
       "      <td>562.000000</td>\n",
       "      <td>562.000000</td>\n",
       "    </tr>\n",
       "    <tr>\n",
       "      <th>mean</th>\n",
       "      <td>3011.451957</td>\n",
       "      <td>3011.451957</td>\n",
       "      <td>4.814932e+04</td>\n",
       "      <td>822.019573</td>\n",
       "      <td>113.314947</td>\n",
       "    </tr>\n",
       "    <tr>\n",
       "      <th>std</th>\n",
       "      <td>11358.875337</td>\n",
       "      <td>11358.875337</td>\n",
       "      <td>2.236437e+05</td>\n",
       "      <td>1491.904407</td>\n",
       "      <td>820.674416</td>\n",
       "    </tr>\n",
       "    <tr>\n",
       "      <th>min</th>\n",
       "      <td>0.000000</td>\n",
       "      <td>0.000000</td>\n",
       "      <td>0.000000e+00</td>\n",
       "      <td>208.000000</td>\n",
       "      <td>0.000000</td>\n",
       "    </tr>\n",
       "    <tr>\n",
       "      <th>25%</th>\n",
       "      <td>391.750000</td>\n",
       "      <td>391.750000</td>\n",
       "      <td>7.870000e+02</td>\n",
       "      <td>304.250000</td>\n",
       "      <td>4.250000</td>\n",
       "    </tr>\n",
       "    <tr>\n",
       "      <th>50%</th>\n",
       "      <td>1264.500000</td>\n",
       "      <td>1264.500000</td>\n",
       "      <td>4.298000e+03</td>\n",
       "      <td>419.500000</td>\n",
       "      <td>16.000000</td>\n",
       "    </tr>\n",
       "    <tr>\n",
       "      <th>75%</th>\n",
       "      <td>2887.250000</td>\n",
       "      <td>2887.250000</td>\n",
       "      <td>2.339950e+04</td>\n",
       "      <td>705.500000</td>\n",
       "      <td>61.000000</td>\n",
       "    </tr>\n",
       "    <tr>\n",
       "      <th>max</th>\n",
       "      <td>253118.000000</td>\n",
       "      <td>253118.000000</td>\n",
       "      <td>3.909293e+06</td>\n",
       "      <td>21126.000000</td>\n",
       "      <td>16789.000000</td>\n",
       "    </tr>\n",
       "  </tbody>\n",
       "</table>\n",
       "</div>"
      ],
      "text/plain": [
       "       stargazers_count  watchers_count          size         forks  \\\n",
       "count        562.000000      562.000000  5.620000e+02    562.000000   \n",
       "mean        3011.451957     3011.451957  4.814932e+04    822.019573   \n",
       "std        11358.875337    11358.875337  2.236437e+05   1491.904407   \n",
       "min            0.000000        0.000000  0.000000e+00    208.000000   \n",
       "25%          391.750000      391.750000  7.870000e+02    304.250000   \n",
       "50%         1264.500000     1264.500000  4.298000e+03    419.500000   \n",
       "75%         2887.250000     2887.250000  2.339950e+04    705.500000   \n",
       "max       253118.000000   253118.000000  3.909293e+06  21126.000000   \n",
       "\n",
       "       open_issues_count  \n",
       "count         562.000000  \n",
       "mean          113.314947  \n",
       "std           820.674416  \n",
       "min             0.000000  \n",
       "25%             4.250000  \n",
       "50%            16.000000  \n",
       "75%            61.000000  \n",
       "max         16789.000000  "
      ]
     },
     "execution_count": 37,
     "metadata": {},
     "output_type": "execute_result"
    }
   ],
   "source": [
    "new_df19[[\"stargazers_count\", \"watchers_count\", \"size\", \"forks\", \"open_issues_count\"]].describe()"
   ]
  },
  {
   "cell_type": "code",
   "execution_count": 38,
   "metadata": {},
   "outputs": [
    {
     "data": {
      "text/html": [
       "<div>\n",
       "<style scoped>\n",
       "    .dataframe tbody tr th:only-of-type {\n",
       "        vertical-align: middle;\n",
       "    }\n",
       "\n",
       "    .dataframe tbody tr th {\n",
       "        vertical-align: top;\n",
       "    }\n",
       "\n",
       "    .dataframe thead th {\n",
       "        text-align: right;\n",
       "    }\n",
       "</style>\n",
       "<table border=\"1\" class=\"dataframe\">\n",
       "  <thead>\n",
       "    <tr style=\"text-align: right;\">\n",
       "      <th></th>\n",
       "      <th>stargazers_count</th>\n",
       "      <th>watchers_count</th>\n",
       "      <th>size</th>\n",
       "      <th>forks</th>\n",
       "      <th>open_issues_count</th>\n",
       "    </tr>\n",
       "  </thead>\n",
       "  <tbody>\n",
       "    <tr>\n",
       "      <th>count</th>\n",
       "      <td>525.000000</td>\n",
       "      <td>525.000000</td>\n",
       "      <td>5.250000e+02</td>\n",
       "      <td>525.000000</td>\n",
       "      <td>525.000000</td>\n",
       "    </tr>\n",
       "    <tr>\n",
       "      <th>mean</th>\n",
       "      <td>1181.822857</td>\n",
       "      <td>1181.822857</td>\n",
       "      <td>7.550454e+04</td>\n",
       "      <td>339.487619</td>\n",
       "      <td>43.754286</td>\n",
       "    </tr>\n",
       "    <tr>\n",
       "      <th>std</th>\n",
       "      <td>2173.900020</td>\n",
       "      <td>2173.900020</td>\n",
       "      <td>4.070703e+05</td>\n",
       "      <td>471.768548</td>\n",
       "      <td>139.131832</td>\n",
       "    </tr>\n",
       "    <tr>\n",
       "      <th>min</th>\n",
       "      <td>0.000000</td>\n",
       "      <td>0.000000</td>\n",
       "      <td>1.000000e+00</td>\n",
       "      <td>107.000000</td>\n",
       "      <td>0.000000</td>\n",
       "    </tr>\n",
       "    <tr>\n",
       "      <th>25%</th>\n",
       "      <td>82.000000</td>\n",
       "      <td>82.000000</td>\n",
       "      <td>4.980000e+02</td>\n",
       "      <td>145.000000</td>\n",
       "      <td>2.000000</td>\n",
       "    </tr>\n",
       "    <tr>\n",
       "      <th>50%</th>\n",
       "      <td>436.000000</td>\n",
       "      <td>436.000000</td>\n",
       "      <td>3.909000e+03</td>\n",
       "      <td>192.000000</td>\n",
       "      <td>8.000000</td>\n",
       "    </tr>\n",
       "    <tr>\n",
       "      <th>75%</th>\n",
       "      <td>1282.000000</td>\n",
       "      <td>1282.000000</td>\n",
       "      <td>2.424600e+04</td>\n",
       "      <td>280.000000</td>\n",
       "      <td>32.000000</td>\n",
       "    </tr>\n",
       "    <tr>\n",
       "      <th>max</th>\n",
       "      <td>23098.000000</td>\n",
       "      <td>23098.000000</td>\n",
       "      <td>7.123950e+06</td>\n",
       "      <td>5657.000000</td>\n",
       "      <td>1996.000000</td>\n",
       "    </tr>\n",
       "  </tbody>\n",
       "</table>\n",
       "</div>"
      ],
      "text/plain": [
       "       stargazers_count  watchers_count          size        forks  \\\n",
       "count        525.000000      525.000000  5.250000e+02   525.000000   \n",
       "mean        1181.822857     1181.822857  7.550454e+04   339.487619   \n",
       "std         2173.900020     2173.900020  4.070703e+05   471.768548   \n",
       "min            0.000000        0.000000  1.000000e+00   107.000000   \n",
       "25%           82.000000       82.000000  4.980000e+02   145.000000   \n",
       "50%          436.000000      436.000000  3.909000e+03   192.000000   \n",
       "75%         1282.000000     1282.000000  2.424600e+04   280.000000   \n",
       "max        23098.000000    23098.000000  7.123950e+06  5657.000000   \n",
       "\n",
       "       open_issues_count  \n",
       "count         525.000000  \n",
       "mean           43.754286  \n",
       "std           139.131832  \n",
       "min             0.000000  \n",
       "25%             2.000000  \n",
       "50%             8.000000  \n",
       "75%            32.000000  \n",
       "max          1996.000000  "
      ]
     },
     "execution_count": 38,
     "metadata": {},
     "output_type": "execute_result"
    }
   ],
   "source": [
    "new_df20[[\"stargazers_count\", \"watchers_count\", \"size\", \"forks\", \"open_issues_count\"]].describe()"
   ]
  },
  {
   "cell_type": "markdown",
   "metadata": {},
   "source": [
    "## Data Analysis"
   ]
  },
  {
   "cell_type": "markdown",
   "metadata": {},
   "source": [
    "### Questions\n",
    "- Detect the most trending topics/technologies based on descriptions\n",
    "- Identify the most popular programming languages globally\n",
    "- Find out what programming languages are used for the top technologies\n",
    "- What are the differences between technologies in terms of repository size, open\n",
    "  issues, number of forks, and watchers\n",
    "- See what are the most popular projects and top technology in 2017\n",
    "\n",
    "\n",
    "### Answers"
   ]
  },
  {
   "cell_type": "markdown",
   "metadata": {},
   "source": [
    "##### Trending topics of 2020"
   ]
  },
  {
   "cell_type": "code",
   "execution_count": 41,
   "metadata": {},
   "outputs": [
    {
     "data": {
      "text/plain": [
       "[('open', 'source'),\n",
       " ('source', 'code'),\n",
       " ('machine', 'learning'),\n",
       " ('hacktoberfest', '2020'),\n",
       " ('repository', 'contains'),\n",
       " ('data', 'science'),\n",
       " ('curated', 'list'),\n",
       " ('html', 'css'),\n",
       " ('made', 'specifically'),\n",
       " ('pull', 'request'),\n",
       " ('deep', 'learning'),\n",
       " ('science', 'hacks'),\n",
       " ('pull', 'requests'),\n",
       " ('30', 'days'),\n",
       " ('android', 'app'),\n",
       " ('android', 'ios'),\n",
       " ('app', 'source'),\n",
       " ('contributions', 'hacktoberfest'),\n",
       " ('contributions', 'made'),\n",
       " ('create', 'pull')]"
      ]
     },
     "execution_count": 41,
     "metadata": {},
     "output_type": "execute_result"
    }
   ],
   "source": [
    "# convert clean descrpitons to list of tokens\n",
    "list_doc = new_df20[\"clean\"].apply(lambda x:x.split()).to_list()\n",
    "\n",
    "## Anlaysis on docs\n",
    "bigram_measures = nltk.collocations.BigramAssocMeasures()\n",
    "bigram_finder = BigramCollocationFinder.from_documents(list_doc)\n",
    "\n",
    "bigram_finder.apply_freq_filter(3)\n",
    "\n",
    "bigrams = bigram_finder.nbest(bigram_measures.raw_freq, 20)\n",
    "bigrams"
   ]
  },
  {
   "cell_type": "code",
   "execution_count": 51,
   "metadata": {},
   "outputs": [
    {
     "data": {
      "text/plain": [
       "[(('open', 'source'), 0.005988023952095809),\n",
       " (('source', 'code'), 0.0029940119760479044),\n",
       " (('machine', 'learning'), 0.002780153977758768),\n",
       " (('hacktoberfest', '2020'), 0.00213857998289136),\n",
       " (('repository', 'contains'), 0.00213857998289136),\n",
       " (('data', 'science'), 0.001924721984602224),\n",
       " (('curated', 'list'), 0.0014970059880239522),\n",
       " (('html', 'css'), 0.0014970059880239522),\n",
       " (('made', 'specifically'), 0.0014970059880239522),\n",
       " (('pull', 'request'), 0.0014970059880239522)]"
      ]
     },
     "execution_count": 51,
     "metadata": {},
     "output_type": "execute_result"
    }
   ],
   "source": [
    "## scores by raw_freq\n",
    "scores = bigram_finder.score_ngrams(bigram_measures.raw_freq)\n",
    "scores[:10]"
   ]
  },
  {
   "cell_type": "code",
   "execution_count": 45,
   "metadata": {},
   "outputs": [
    {
     "data": {
      "text/html": [
       "<div>\n",
       "<style scoped>\n",
       "    .dataframe tbody tr th:only-of-type {\n",
       "        vertical-align: middle;\n",
       "    }\n",
       "\n",
       "    .dataframe tbody tr th {\n",
       "        vertical-align: top;\n",
       "    }\n",
       "\n",
       "    .dataframe thead th {\n",
       "        text-align: right;\n",
       "    }\n",
       "</style>\n",
       "<table border=\"1\" class=\"dataframe\">\n",
       "  <thead>\n",
       "    <tr style=\"text-align: right;\">\n",
       "      <th></th>\n",
       "      <th>1</th>\n",
       "    </tr>\n",
       "    <tr>\n",
       "      <th>0</th>\n",
       "      <th></th>\n",
       "    </tr>\n",
       "  </thead>\n",
       "  <tbody>\n",
       "    <tr>\n",
       "      <th>open source</th>\n",
       "      <td>28</td>\n",
       "    </tr>\n",
       "    <tr>\n",
       "      <th>source code</th>\n",
       "      <td>14</td>\n",
       "    </tr>\n",
       "    <tr>\n",
       "      <th>machine learning</th>\n",
       "      <td>13</td>\n",
       "    </tr>\n",
       "    <tr>\n",
       "      <th>hacktoberfest 2020</th>\n",
       "      <td>10</td>\n",
       "    </tr>\n",
       "    <tr>\n",
       "      <th>repository contains</th>\n",
       "      <td>10</td>\n",
       "    </tr>\n",
       "  </tbody>\n",
       "</table>\n",
       "</div>"
      ],
      "text/plain": [
       "                      1\n",
       "0                      \n",
       "open source          28\n",
       "source code          14\n",
       "machine learning     13\n",
       "hacktoberfest 2020   10\n",
       "repository contains  10"
      ]
     },
     "execution_count": 45,
     "metadata": {},
     "output_type": "execute_result"
    }
   ],
   "source": [
    "## Visualizing ngrams\n",
    "# calculating no of occurences\n",
    "ngram = list(bigram_finder.ngram_fd.items())\n",
    "ngram.sort(key=lambda item:item[-1], reverse=True)\n",
    "\n",
    "# creating tuples from ngram\n",
    "frequency = [(\" \".join(k), v) for k,v in ngram]\n",
    "\n",
    "df = pd.DataFrame(frequency)\n",
    "df.set_index([0], inplace=True)\n",
    "df.head()"
   ]
  },
  {
   "cell_type": "code",
   "execution_count": 52,
   "metadata": {},
   "outputs": [
    {
     "data": {
      "image/png": "[encoded data removed]",
      "text/plain": [
       "<Figure size 432x288 with 1 Axes>"
      ]
     },
     "metadata": {},
     "output_type": "display_data"
    }
   ],
   "source": [
    "## plottting the frequency\n",
    "plt.style.use(\"ggplot\")\n",
    "\n",
    "df.sort_values(by=[1], ascending=False).head(21).plot(kind=\"barh\")\n",
    "\n",
    "plt.title(\"Trending Technologies in 2020\")\n",
    "plt.ylabel(\"Technology\")\n",
    "plt.xlabel(\"Popularity\")\n",
    "plt.legend().set_visible(False)\n",
    "\n",
    "plt.axvline(x=15, color=\"b\", label=\"Average\", linestyle=\"--\", linewidth=3)\n",
    "for custom in [0, 10, 15]:\n",
    "    plt.text(15.5, custom, \"Neural Networks\", fontsize=8, va=\"center\", bbox=dict(boxstyle=\"square\", fc=\"white\", ec=\"none\"))\n",
    "    \n",
    "plt.show() "
   ]
  },
  {
   "cell_type": "markdown",
   "metadata": {},
   "source": [
    "#####  Trending Technologies in 2019"
   ]
  },
  {
   "cell_type": "code",
   "execution_count": 53,
   "metadata": {},
   "outputs": [
    {
     "data": {
      "text/plain": [
       "[('deep', 'learning'),\n",
       " ('machine', 'learning'),\n",
       " ('open', 'source'),\n",
       " ('starter', 'code'),\n",
       " ('guided', 'project'),\n",
       " ('object', 'detection'),\n",
       " ('complete', 'flutter'),\n",
       " ('data', 'science'),\n",
       " ('github', 'actions'),\n",
       " ('best', 'practices'),\n",
       " ('jekyll', 'theme'),\n",
       " ('natural', 'language'),\n",
       " ('project', 'complete'),\n",
       " ('pytorch', 'implementation'),\n",
       " ('tensorflow', '2'),\n",
       " ('azure', 'devops'),\n",
       " ('development', 'bootcamp'),\n",
       " ('react', 'native'),\n",
       " ('code', 'used'),\n",
       " ('course', 'files')]"
      ]
     },
     "execution_count": 53,
     "metadata": {},
     "output_type": "execute_result"
    }
   ],
   "source": [
    "# convert clean descrpitons to list of tokens\n",
    "list_doc = new_df19[\"clean\"].apply(lambda x:x.split()).to_list()\n",
    "\n",
    "## Anlaysis on docs\n",
    "bigram_measures = nltk.collocations.BigramAssocMeasures()\n",
    "bigram_finder = BigramCollocationFinder.from_documents(list_doc)\n",
    "\n",
    "bigram_finder.apply_freq_filter(3)\n",
    "\n",
    "bigrams = bigram_finder.nbest(bigram_measures.raw_freq, 20)\n",
    "bigrams"
   ]
  },
  {
   "cell_type": "code",
   "execution_count": 54,
   "metadata": {},
   "outputs": [
    {
     "data": {
      "text/plain": [
       "[(('deep', 'learning'), 0.0041942604856512146),\n",
       " (('machine', 'learning'), 0.003532008830022075),\n",
       " (('open', 'source'), 0.002869757174392936),\n",
       " (('starter', 'code'), 0.002869757174392936),\n",
       " (('guided', 'project'), 0.001986754966887417),\n",
       " (('object', 'detection'), 0.001986754966887417),\n",
       " (('complete', 'flutter'), 0.0017660044150110375),\n",
       " (('data', 'science'), 0.0017660044150110375),\n",
       " (('github', 'actions'), 0.0017660044150110375),\n",
       " (('best', 'practices'), 0.0013245033112582781)]"
      ]
     },
     "execution_count": 54,
     "metadata": {},
     "output_type": "execute_result"
    }
   ],
   "source": [
    "## scores by raw_freq\n",
    "scores = bigram_finder.score_ngrams(bigram_measures.raw_freq)\n",
    "scores[:10]"
   ]
  },
  {
   "cell_type": "code",
   "execution_count": 55,
   "metadata": {},
   "outputs": [
    {
     "data": {
      "text/html": [
       "<div>\n",
       "<style scoped>\n",
       "    .dataframe tbody tr th:only-of-type {\n",
       "        vertical-align: middle;\n",
       "    }\n",
       "\n",
       "    .dataframe tbody tr th {\n",
       "        vertical-align: top;\n",
       "    }\n",
       "\n",
       "    .dataframe thead th {\n",
       "        text-align: right;\n",
       "    }\n",
       "</style>\n",
       "<table border=\"1\" class=\"dataframe\">\n",
       "  <thead>\n",
       "    <tr style=\"text-align: right;\">\n",
       "      <th></th>\n",
       "      <th>1</th>\n",
       "    </tr>\n",
       "    <tr>\n",
       "      <th>0</th>\n",
       "      <th></th>\n",
       "    </tr>\n",
       "  </thead>\n",
       "  <tbody>\n",
       "    <tr>\n",
       "      <th>deep learning</th>\n",
       "      <td>19</td>\n",
       "    </tr>\n",
       "    <tr>\n",
       "      <th>machine learning</th>\n",
       "      <td>16</td>\n",
       "    </tr>\n",
       "    <tr>\n",
       "      <th>starter code</th>\n",
       "      <td>13</td>\n",
       "    </tr>\n",
       "    <tr>\n",
       "      <th>open source</th>\n",
       "      <td>13</td>\n",
       "    </tr>\n",
       "    <tr>\n",
       "      <th>guided project</th>\n",
       "      <td>9</td>\n",
       "    </tr>\n",
       "  </tbody>\n",
       "</table>\n",
       "</div>"
      ],
      "text/plain": [
       "                   1\n",
       "0                   \n",
       "deep learning     19\n",
       "machine learning  16\n",
       "starter code      13\n",
       "open source       13\n",
       "guided project     9"
      ]
     },
     "execution_count": 55,
     "metadata": {},
     "output_type": "execute_result"
    }
   ],
   "source": [
    "## Visualizing ngrams\n",
    "# calculating no of occurences\n",
    "ngram = list(bigram_finder.ngram_fd.items())\n",
    "ngram.sort(key=lambda item:item[-1], reverse=True)\n",
    "\n",
    "# creating tuples from ngram\n",
    "frequency = [(\" \".join(k), v) for k,v in ngram]\n",
    "\n",
    "df = pd.DataFrame(frequency)\n",
    "df.set_index([0], inplace=True)\n",
    "df.head()"
   ]
  },
  {
   "cell_type": "code",
   "execution_count": 56,
   "metadata": {},
   "outputs": [
    {
     "data": {
      "image/png": "[encoded data removed]",
      "text/plain": [
       "<Figure size 432x288 with 1 Axes>"
      ]
     },
     "metadata": {},
     "output_type": "display_data"
    }
   ],
   "source": [
    "## plottting the frequency\n",
    "plt.style.use(\"ggplot\")\n",
    "\n",
    "df.sort_values(by=[1], ascending=False).head(21).plot(kind=\"barh\")\n",
    "\n",
    "plt.title(\"Trending Technologies in 2019\")\n",
    "plt.ylabel(\"Technology\")\n",
    "plt.xlabel(\"Popularity\")\n",
    "plt.legend().set_visible(False)\n",
    "\n",
    "plt.axvline(x=15, color=\"b\", label=\"Average\", linestyle=\"--\", linewidth=3)\n",
    "for custom in [0, 10, 15]:\n",
    "    plt.text(15.5, custom, \"Neural Networks\", fontsize=8, va=\"center\", bbox=dict(boxstyle=\"square\", fc=\"white\", ec=\"none\"))\n",
    "    \n",
    "plt.show() "
   ]
  },
  {
   "cell_type": "code",
   "execution_count": null,
   "metadata": {},
   "outputs": [],
   "source": [
    "# --- others methods to find scores ---\n",
    "## scores by pmi\n",
    "# scores_pmi = bigram_finder.score_ngrams(bigram_measures.pmi)\n",
    "# scores_pmi[:10]\n",
    "\n",
    "## scores by student_t\n",
    "# scores_st = bigram_finder.score_ngrams(bigram_measures.student_t)\n",
    "# scores_st[:10]\n",
    "\n",
    "## scores by chi-sq\n",
    "# scores_chi_sq = bigram_finder.score_ngrams(bigram_measures.chi_sq)\n",
    "# scores_chi_sq[:10]"
   ]
  },
  {
   "cell_type": "markdown",
   "metadata": {},
   "source": [
    "## Programming languages"
   ]
  },
  {
   "cell_type": "code",
   "execution_count": null,
   "metadata": {},
   "outputs": [],
   "source": [
    "## paginating github for data\n",
    "results=[]\n",
    "qs =[\"created:>2020-01-01\", \"created:>2019-01-01\", \"created:>2018-01-01\"]\n",
    "\n",
    "for q in qs:\n",
    "    search_repo_paging(q)"
   ]
  },
  {
   "cell_type": "code",
   "execution_count": null,
   "metadata": {},
   "outputs": [],
   "source": [
    "## for mutltiple years \n",
    "# new_df[\"year\"] = new_df[\"created_at\"].apply(lambda x:x.split(\"T\")[0].split(\"-\")[0])"
   ]
  },
  {
   "cell_type": "code",
   "execution_count": null,
   "metadata": {},
   "outputs": [],
   "source": [
    "# print(f\"Data count each year\\n2020: {(new_df['year'] == '2020').sum()}\\n2019: {(new_df['year'] == '2019').sum()}\\n2018: {(new_df['year'] == '2018').sum()}\")"
   ]
  }
 ],
 "metadata": {
  "kernelspec": {
   "display_name": "Python 3",
   "language": "python",
   "name": "python3"
  },
  "language_info": {
   "codemirror_mode": {
    "name": "ipython",
    "version": 3
   },
   "file_extension": ".py",
   "mimetype": "text/x-python",
   "name": "python",
   "nbconvert_exporter": "python",
   "pygments_lexer": "ipython3",
   "version": "3.8.6"
  }
 },
 "nbformat": 4,
 "nbformat_minor": 4
}
