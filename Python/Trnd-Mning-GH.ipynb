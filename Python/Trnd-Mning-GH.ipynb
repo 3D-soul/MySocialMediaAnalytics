{
 "cells": [
  {
   "cell_type": "code",
   "execution_count": 61,
   "metadata": {},
   "outputs": [],
   "source": [
    "# pip install langdetect"
   ]
  },
  {
   "cell_type": "markdown",
   "metadata": {},
   "source": [
    "### Loading the Libraries"
   ]
  },
  {
   "cell_type": "code",
   "execution_count": 1,
   "metadata": {},
   "outputs": [],
   "source": [
    "import os\n",
    "import json\n",
    "import requests"
   ]
  },
  {
   "cell_type": "code",
   "execution_count": 2,
   "metadata": {},
   "outputs": [],
   "source": [
    "import warnings\n",
    "warnings.filterwarnings('ignore')"
   ]
  },
  {
   "cell_type": "code",
   "execution_count": 5,
   "metadata": {},
   "outputs": [],
   "source": [
    "import time\n",
    "import string"
   ]
  },
  {
   "cell_type": "code",
   "execution_count": 6,
   "metadata": {},
   "outputs": [],
   "source": [
    "import pandas as pd\n",
    "import matplotlib.pyplot as plt"
   ]
  },
  {
   "cell_type": "code",
   "execution_count": 7,
   "metadata": {},
   "outputs": [],
   "source": [
    "import bson.json_util as json_util"
   ]
  },
  {
   "cell_type": "code",
   "execution_count": 8,
   "metadata": {},
   "outputs": [],
   "source": [
    "from dotenv import load_dotenv"
   ]
  },
  {
   "cell_type": "code",
   "execution_count": 9,
   "metadata": {},
   "outputs": [],
   "source": [
    "from pandas.io.json import json_normalize"
   ]
  },
  {
   "cell_type": "code",
   "execution_count": 10,
   "metadata": {},
   "outputs": [],
   "source": [
    "from datetime import datetime"
   ]
  },
  {
   "cell_type": "code",
   "execution_count": 11,
   "metadata": {},
   "outputs": [],
   "source": [
    "from langdetect import detect"
   ]
  },
  {
   "cell_type": "markdown",
   "metadata": {},
   "source": [
    "##### nltk essentials"
   ]
  },
  {
   "cell_type": "code",
   "execution_count": 122,
   "metadata": {},
   "outputs": [],
   "source": [
    "import nltk"
   ]
  },
  {
   "cell_type": "code",
   "execution_count": 70,
   "metadata": {},
   "outputs": [],
   "source": [
    "# for text normalize\n",
    "from nltk import word_tokenize\n",
    "from nltk.corpus import stopwords"
   ]
  },
  {
   "cell_type": "code",
   "execution_count": 120,
   "metadata": {},
   "outputs": [],
   "source": [
    "# for analysis\n",
    "from nltk.collocations import *"
   ]
  },
  {
   "cell_type": "markdown",
   "metadata": {},
   "source": [
    "### Global variables"
   ]
  },
  {
   "cell_type": "code",
   "execution_count": 12,
   "metadata": {},
   "outputs": [
    {
     "data": {
      "text/plain": [
       "True"
      ]
     },
     "execution_count": 12,
     "metadata": {},
     "output_type": "execute_result"
    }
   ],
   "source": [
    "path = os.path.expanduser(\"../data/\")\n",
    "\n",
    "load_dotenv(os.path.join(path, \".env\"))"
   ]
  },
  {
   "cell_type": "code",
   "execution_count": 13,
   "metadata": {},
   "outputs": [],
   "source": [
    "# environment variables\n",
    "USER = os.getenv(\"GIT_USERNAME\")\n",
    "\n",
    "KEY = os.getenv(\"GIT_PASSWORD\")\n",
    "\n",
    "ID = os.getenv(\"GIT_CLIENT_ID\")\n",
    "\n",
    "SECRET = os.getenv(\"GIT_CLIENT_SECRET\")\n",
    "\n",
    "ACCESS = os.getenv(\"GIT_ACCESS_TOKEN\")"
   ]
  },
  {
   "cell_type": "code",
   "execution_count": 14,
   "metadata": {},
   "outputs": [],
   "source": [
    "# all url's\n",
    "SEARCH_URL = \"https://github.com/search\" \n",
    "\n",
    "note = \"my test application\"\n",
    "\n",
    "MAIN = \"https://github.com\""
   ]
  },
  {
   "cell_type": "markdown",
   "metadata": {},
   "source": [
    "## Functions"
   ]
  },
  {
   "cell_type": "code",
   "execution_count": 14,
   "metadata": {},
   "outputs": [],
   "source": [
    "## a function to paginate through github repos\n",
    "def search_repo_paging(qry):\n",
    "    url = \"https://api.github.com/search/repositories\"\n",
    "    pms = {\"q\":qry, \"sort\":\"forks\", \"order\":\"desc\", \"per_page\":100}\n",
    "    while True:\n",
    "        res = requests.get(url, params=pms)\n",
    "        result = res.json()\n",
    "        print(f\"Connection status:{res}\")\n",
    "        results.extend(result[\"items\"])\n",
    "        print(f\"Just download: {len(result['items'])}, Total:{len(results)}\")\n",
    "        params = {}\n",
    "        \n",
    "        try:\n",
    "            url = res.links[\"next\"][\"url\"]\n",
    "        except:\n",
    "            break\n",
    "            \n",
    "        time.sleep(10)"
   ]
  },
  {
   "cell_type": "code",
   "execution_count": 15,
   "metadata": {},
   "outputs": [],
   "source": [
    "# a function to normalize the data\n",
    "def df_from_data(data):\n",
    "    sanitized = json.loads(json_util.dumps(results))\n",
    "    normalized = json_normalize(sanitized)\n",
    "    return pd.DataFrame(normalized)"
   ]
  },
  {
   "cell_type": "code",
   "execution_count": 16,
   "metadata": {},
   "outputs": [],
   "source": [
    "# a func to detect language of string\n",
    "def detect_lang(st):\n",
    "    try:\n",
    "        return detect(st)\n",
    "    except:\n",
    "        return None"
   ]
  },
  {
   "cell_type": "code",
   "execution_count": 17,
   "metadata": {},
   "outputs": [],
   "source": [
    "## text normalization \n",
    "def clean_text(text=\" \", stopwords = []):\n",
    "    punc = list(string.punctuation)\n",
    "    \n",
    "    tokens = word_tokenize(text.strip())\n",
    "    clean = [wrd.lower() for wrd in tokens]\n",
    "    clean = [wrd for wrd in clean if wrd not in stopwords]\n",
    "    clean = [wrd.strip(\"\".join(punc)) for wrd in clean if wrd not in punc]\n",
    "    \n",
    "    return \" \".join(clean)"
   ]
  },
  {
   "cell_type": "code",
   "execution_count": 102,
   "metadata": {},
   "outputs": [],
   "source": [
    "# clean_text(new_df[\"description\"].to_list()[0])"
   ]
  },
  {
   "cell_type": "markdown",
   "metadata": {},
   "source": [
    "### API"
   ]
  },
  {
   "cell_type": "code",
   "execution_count": 18,
   "metadata": {},
   "outputs": [],
   "source": [
    "## requesting all available Url's\n",
    "res = requests.get(\"https://api.github.com/\")"
   ]
  },
  {
   "cell_type": "code",
   "execution_count": 19,
   "metadata": {},
   "outputs": [
    {
     "data": {
      "text/plain": [
       "'https://api.github.com/authorizations'"
      ]
     },
     "execution_count": 19,
     "metadata": {},
     "output_type": "execute_result"
    }
   ],
   "source": [
    "URL = res.json()\n",
    "AUTH_URL = URL[\"authorizations_url\"]\n",
    "AUTH_URL"
   ]
  },
  {
   "cell_type": "code",
   "execution_count": 114,
   "metadata": {},
   "outputs": [
    {
     "name": "stdout",
     "output_type": "stream",
     "text": [
      "Connection status:<Response [200]>\n",
      "Just download: 100, Total:100\n",
      "Connection status:<Response [200]>\n",
      "Just download: 100, Total:200\n",
      "Connection status:<Response [200]>\n",
      "Just download: 100, Total:300\n",
      "Connection status:<Response [200]>\n",
      "Just download: 100, Total:400\n",
      "Connection status:<Response [200]>\n",
      "Just download: 100, Total:500\n",
      "Connection status:<Response [200]>\n",
      "Just download: 100, Total:600\n",
      "Connection status:<Response [200]>\n",
      "Just download: 100, Total:700\n",
      "Connection status:<Response [200]>\n",
      "Just download: 100, Total:800\n",
      "Connection status:<Response [200]>\n",
      "Just download: 100, Total:900\n",
      "Connection status:<Response [200]>\n",
      "Just download: 100, Total:1000\n"
     ]
    }
   ],
   "source": [
    "## paginating github data\n",
    "# results of 19\n",
    "results=[]\n",
    "search_repo_paging(\"created:2019-01-01..2019-12-31\")"
   ]
  },
  {
   "cell_type": "code",
   "execution_count": 116,
   "metadata": {},
   "outputs": [
    {
     "data": {
      "text/plain": [
       "'2019-03-26T07:31:14Z'"
      ]
     },
     "execution_count": 116,
     "metadata": {},
     "output_type": "execute_result"
    }
   ],
   "source": [
    "results[0][\"created_at\"]"
   ]
  },
  {
   "cell_type": "code",
   "execution_count": 121,
   "metadata": {},
   "outputs": [
    {
     "name": "stdout",
     "output_type": "stream",
     "text": [
      "Connection status:<Response [200]>\n",
      "Just download: 100, Total:100\n",
      "Connection status:<Response [200]>\n",
      "Just download: 100, Total:200\n",
      "Connection status:<Response [200]>\n",
      "Just download: 100, Total:300\n",
      "Connection status:<Response [200]>\n",
      "Just download: 100, Total:400\n",
      "Connection status:<Response [200]>\n",
      "Just download: 100, Total:500\n",
      "Connection status:<Response [200]>\n",
      "Just download: 100, Total:600\n",
      "Connection status:<Response [200]>\n",
      "Just download: 100, Total:700\n",
      "Connection status:<Response [200]>\n",
      "Just download: 100, Total:800\n",
      "Connection status:<Response [200]>\n",
      "Just download: 100, Total:900\n",
      "Connection status:<Response [200]>\n",
      "Just download: 100, Total:1000\n"
     ]
    }
   ],
   "source": [
    "# results of year 2020\n",
    "results= []\n",
    "search_repo_paging(\"created:>2020-01-01\")"
   ]
  },
  {
   "cell_type": "markdown",
   "metadata": {},
   "source": [
    "## Data Pull"
   ]
  },
  {
   "cell_type": "code",
   "execution_count": 120,
   "metadata": {},
   "outputs": [
    {
     "data": {
      "text/html": [
       "<div>\n",
       "<style scoped>\n",
       "    .dataframe tbody tr th:only-of-type {\n",
       "        vertical-align: middle;\n",
       "    }\n",
       "\n",
       "    .dataframe tbody tr th {\n",
       "        vertical-align: top;\n",
       "    }\n",
       "\n",
       "    .dataframe thead th {\n",
       "        text-align: right;\n",
       "    }\n",
       "</style>\n",
       "<table border=\"1\" class=\"dataframe\">\n",
       "  <thead>\n",
       "    <tr style=\"text-align: right;\">\n",
       "      <th></th>\n",
       "      <th>id</th>\n",
       "      <th>node_id</th>\n",
       "      <th>name</th>\n",
       "      <th>full_name</th>\n",
       "      <th>private</th>\n",
       "      <th>html_url</th>\n",
       "      <th>description</th>\n",
       "      <th>fork</th>\n",
       "      <th>url</th>\n",
       "      <th>forks_url</th>\n",
       "      <th>...</th>\n",
       "      <th>owner.events_url</th>\n",
       "      <th>owner.received_events_url</th>\n",
       "      <th>owner.type</th>\n",
       "      <th>owner.site_admin</th>\n",
       "      <th>license.key</th>\n",
       "      <th>license.name</th>\n",
       "      <th>license.spdx_id</th>\n",
       "      <th>license.url</th>\n",
       "      <th>license.node_id</th>\n",
       "      <th>license</th>\n",
       "    </tr>\n",
       "  </thead>\n",
       "  <tbody>\n",
       "    <tr>\n",
       "      <th>0</th>\n",
       "      <td>177736533</td>\n",
       "      <td>MDEwOlJlcG9zaXRvcnkxNzc3MzY1MzM=</td>\n",
       "      <td>996.ICU</td>\n",
       "      <td>996icu/996.ICU</td>\n",
       "      <td>False</td>\n",
       "      <td>https://github.com/996icu/996.ICU</td>\n",
       "      <td>Repo for counting stars and contributing. Pres...</td>\n",
       "      <td>False</td>\n",
       "      <td>https://api.github.com/repos/996icu/996.ICU</td>\n",
       "      <td>https://api.github.com/repos/996icu/996.ICU/forks</td>\n",
       "      <td>...</td>\n",
       "      <td>https://api.github.com/users/996icu/events{/pr...</td>\n",
       "      <td>https://api.github.com/users/996icu/received_e...</td>\n",
       "      <td>User</td>\n",
       "      <td>False</td>\n",
       "      <td>other</td>\n",
       "      <td>Other</td>\n",
       "      <td>NOASSERTION</td>\n",
       "      <td>None</td>\n",
       "      <td>MDc6TGljZW5zZTA=</td>\n",
       "      <td>NaN</td>\n",
       "    </tr>\n",
       "    <tr>\n",
       "      <th>1</th>\n",
       "      <td>228683419</td>\n",
       "      <td>MDEwOlJlcG9zaXRvcnkyMjg2ODM0MTk=</td>\n",
       "      <td>it-cert-automation-practice</td>\n",
       "      <td>google/it-cert-automation-practice</td>\n",
       "      <td>False</td>\n",
       "      <td>https://github.com/google/it-cert-automation-p...</td>\n",
       "      <td>Google IT Automation with Python Professional ...</td>\n",
       "      <td>False</td>\n",
       "      <td>https://api.github.com/repos/google/it-cert-au...</td>\n",
       "      <td>https://api.github.com/repos/google/it-cert-au...</td>\n",
       "      <td>...</td>\n",
       "      <td>https://api.github.com/users/google/events{/pr...</td>\n",
       "      <td>https://api.github.com/users/google/received_e...</td>\n",
       "      <td>Organization</td>\n",
       "      <td>False</td>\n",
       "      <td>apache-2.0</td>\n",
       "      <td>Apache License 2.0</td>\n",
       "      <td>Apache-2.0</td>\n",
       "      <td>https://api.github.com/licenses/apache-2.0</td>\n",
       "      <td>MDc6TGljZW5zZTI=</td>\n",
       "      <td>NaN</td>\n",
       "    </tr>\n",
       "  </tbody>\n",
       "</table>\n",
       "<p>2 rows × 96 columns</p>\n",
       "</div>"
      ],
      "text/plain": [
       "          id                           node_id                         name  \\\n",
       "0  177736533  MDEwOlJlcG9zaXRvcnkxNzc3MzY1MzM=                      996.ICU   \n",
       "1  228683419  MDEwOlJlcG9zaXRvcnkyMjg2ODM0MTk=  it-cert-automation-practice   \n",
       "\n",
       "                            full_name  private  \\\n",
       "0                      996icu/996.ICU    False   \n",
       "1  google/it-cert-automation-practice    False   \n",
       "\n",
       "                                            html_url  \\\n",
       "0                  https://github.com/996icu/996.ICU   \n",
       "1  https://github.com/google/it-cert-automation-p...   \n",
       "\n",
       "                                         description   fork  \\\n",
       "0  Repo for counting stars and contributing. Pres...  False   \n",
       "1  Google IT Automation with Python Professional ...  False   \n",
       "\n",
       "                                                 url  \\\n",
       "0        https://api.github.com/repos/996icu/996.ICU   \n",
       "1  https://api.github.com/repos/google/it-cert-au...   \n",
       "\n",
       "                                           forks_url  ...  \\\n",
       "0  https://api.github.com/repos/996icu/996.ICU/forks  ...   \n",
       "1  https://api.github.com/repos/google/it-cert-au...  ...   \n",
       "\n",
       "                                    owner.events_url  \\\n",
       "0  https://api.github.com/users/996icu/events{/pr...   \n",
       "1  https://api.github.com/users/google/events{/pr...   \n",
       "\n",
       "                           owner.received_events_url    owner.type  \\\n",
       "0  https://api.github.com/users/996icu/received_e...          User   \n",
       "1  https://api.github.com/users/google/received_e...  Organization   \n",
       "\n",
       "  owner.site_admin license.key        license.name license.spdx_id  \\\n",
       "0            False       other               Other     NOASSERTION   \n",
       "1            False  apache-2.0  Apache License 2.0      Apache-2.0   \n",
       "\n",
       "                                  license.url   license.node_id license  \n",
       "0                                        None  MDc6TGljZW5zZTA=     NaN  \n",
       "1  https://api.github.com/licenses/apache-2.0  MDc6TGljZW5zZTI=     NaN  \n",
       "\n",
       "[2 rows x 96 columns]"
      ]
     },
     "execution_count": 120,
     "metadata": {},
     "output_type": "execute_result"
    }
   ],
   "source": [
    "# getting data frame from 2019 data\n",
    "df19 = df_from_data(results)\n",
    "df19.head(2)"
   ]
  },
  {
   "cell_type": "code",
   "execution_count": 122,
   "metadata": {},
   "outputs": [
    {
     "data": {
      "text/html": [
       "<div>\n",
       "<style scoped>\n",
       "    .dataframe tbody tr th:only-of-type {\n",
       "        vertical-align: middle;\n",
       "    }\n",
       "\n",
       "    .dataframe tbody tr th {\n",
       "        vertical-align: top;\n",
       "    }\n",
       "\n",
       "    .dataframe thead th {\n",
       "        text-align: right;\n",
       "    }\n",
       "</style>\n",
       "<table border=\"1\" class=\"dataframe\">\n",
       "  <thead>\n",
       "    <tr style=\"text-align: right;\">\n",
       "      <th></th>\n",
       "      <th>id</th>\n",
       "      <th>node_id</th>\n",
       "      <th>name</th>\n",
       "      <th>full_name</th>\n",
       "      <th>private</th>\n",
       "      <th>html_url</th>\n",
       "      <th>description</th>\n",
       "      <th>fork</th>\n",
       "      <th>url</th>\n",
       "      <th>forks_url</th>\n",
       "      <th>...</th>\n",
       "      <th>owner.events_url</th>\n",
       "      <th>owner.received_events_url</th>\n",
       "      <th>owner.type</th>\n",
       "      <th>owner.site_admin</th>\n",
       "      <th>license.key</th>\n",
       "      <th>license.name</th>\n",
       "      <th>license.spdx_id</th>\n",
       "      <th>license.url</th>\n",
       "      <th>license.node_id</th>\n",
       "      <th>license</th>\n",
       "    </tr>\n",
       "  </thead>\n",
       "  <tbody>\n",
       "    <tr>\n",
       "      <th>0</th>\n",
       "      <td>272411321</td>\n",
       "      <td>MDEwOlJlcG9zaXRvcnkyNzI0MTEzMjE=</td>\n",
       "      <td>IBMYes</td>\n",
       "      <td>CCChieh/IBMYes</td>\n",
       "      <td>False</td>\n",
       "      <td>https://github.com/CCChieh/IBMYes</td>\n",
       "      <td>None</td>\n",
       "      <td>False</td>\n",
       "      <td>https://api.github.com/repos/CCChieh/IBMYes</td>\n",
       "      <td>https://api.github.com/repos/CCChieh/IBMYes/forks</td>\n",
       "      <td>...</td>\n",
       "      <td>https://api.github.com/users/CCChieh/events{/p...</td>\n",
       "      <td>https://api.github.com/users/CCChieh/received_...</td>\n",
       "      <td>User</td>\n",
       "      <td>False</td>\n",
       "      <td>apache-2.0</td>\n",
       "      <td>Apache License 2.0</td>\n",
       "      <td>Apache-2.0</td>\n",
       "      <td>https://api.github.com/licenses/apache-2.0</td>\n",
       "      <td>MDc6TGljZW5zZTI=</td>\n",
       "      <td>NaN</td>\n",
       "    </tr>\n",
       "    <tr>\n",
       "      <th>1</th>\n",
       "      <td>261787758</td>\n",
       "      <td>MDEwOlJlcG9zaXRvcnkyNjE3ODc3NTg=</td>\n",
       "      <td>design-resources-for-developers</td>\n",
       "      <td>bradtraversy/design-resources-for-developers</td>\n",
       "      <td>False</td>\n",
       "      <td>https://github.com/bradtraversy/design-resourc...</td>\n",
       "      <td>Curated list of design and UI resources from s...</td>\n",
       "      <td>False</td>\n",
       "      <td>https://api.github.com/repos/bradtraversy/desi...</td>\n",
       "      <td>https://api.github.com/repos/bradtraversy/desi...</td>\n",
       "      <td>...</td>\n",
       "      <td>https://api.github.com/users/bradtraversy/even...</td>\n",
       "      <td>https://api.github.com/users/bradtraversy/rece...</td>\n",
       "      <td>User</td>\n",
       "      <td>False</td>\n",
       "      <td>mit</td>\n",
       "      <td>MIT License</td>\n",
       "      <td>MIT</td>\n",
       "      <td>https://api.github.com/licenses/mit</td>\n",
       "      <td>MDc6TGljZW5zZTEz</td>\n",
       "      <td>NaN</td>\n",
       "    </tr>\n",
       "  </tbody>\n",
       "</table>\n",
       "<p>2 rows × 96 columns</p>\n",
       "</div>"
      ],
      "text/plain": [
       "          id                           node_id  \\\n",
       "0  272411321  MDEwOlJlcG9zaXRvcnkyNzI0MTEzMjE=   \n",
       "1  261787758  MDEwOlJlcG9zaXRvcnkyNjE3ODc3NTg=   \n",
       "\n",
       "                              name  \\\n",
       "0                           IBMYes   \n",
       "1  design-resources-for-developers   \n",
       "\n",
       "                                      full_name  private  \\\n",
       "0                                CCChieh/IBMYes    False   \n",
       "1  bradtraversy/design-resources-for-developers    False   \n",
       "\n",
       "                                            html_url  \\\n",
       "0                  https://github.com/CCChieh/IBMYes   \n",
       "1  https://github.com/bradtraversy/design-resourc...   \n",
       "\n",
       "                                         description   fork  \\\n",
       "0                                               None  False   \n",
       "1  Curated list of design and UI resources from s...  False   \n",
       "\n",
       "                                                 url  \\\n",
       "0        https://api.github.com/repos/CCChieh/IBMYes   \n",
       "1  https://api.github.com/repos/bradtraversy/desi...   \n",
       "\n",
       "                                           forks_url  ...  \\\n",
       "0  https://api.github.com/repos/CCChieh/IBMYes/forks  ...   \n",
       "1  https://api.github.com/repos/bradtraversy/desi...  ...   \n",
       "\n",
       "                                    owner.events_url  \\\n",
       "0  https://api.github.com/users/CCChieh/events{/p...   \n",
       "1  https://api.github.com/users/bradtraversy/even...   \n",
       "\n",
       "                           owner.received_events_url owner.type  \\\n",
       "0  https://api.github.com/users/CCChieh/received_...       User   \n",
       "1  https://api.github.com/users/bradtraversy/rece...       User   \n",
       "\n",
       "  owner.site_admin license.key        license.name license.spdx_id  \\\n",
       "0            False  apache-2.0  Apache License 2.0      Apache-2.0   \n",
       "1            False         mit         MIT License             MIT   \n",
       "\n",
       "                                  license.url   license.node_id license  \n",
       "0  https://api.github.com/licenses/apache-2.0  MDc6TGljZW5zZTI=     NaN  \n",
       "1         https://api.github.com/licenses/mit  MDc6TGljZW5zZTEz     NaN  \n",
       "\n",
       "[2 rows x 96 columns]"
      ]
     },
     "execution_count": 122,
     "metadata": {},
     "output_type": "execute_result"
    }
   ],
   "source": [
    "# getting data frame from 2020 data\n",
    "df20 = df_from_data(results)\n",
    "df20.head(2)"
   ]
  },
  {
   "cell_type": "code",
   "execution_count": 182,
   "metadata": {},
   "outputs": [],
   "source": [
    "col_lst = [\"description\", \"stargazers_count\", \"watchers_count\", \"size\", \"forks\", \n",
    "           \"open_issues_count\", \"language\", \"score\", \"created_at\"]\n",
    "\n",
    "subset19 = df19[col_lst]\n",
    "subset20 = df20[col_lst]"
   ]
  },
  {
   "cell_type": "code",
   "execution_count": 183,
   "metadata": {},
   "outputs": [
    {
     "data": {
      "text/html": [
       "<div>\n",
       "<style scoped>\n",
       "    .dataframe tbody tr th:only-of-type {\n",
       "        vertical-align: middle;\n",
       "    }\n",
       "\n",
       "    .dataframe tbody tr th {\n",
       "        vertical-align: top;\n",
       "    }\n",
       "\n",
       "    .dataframe thead th {\n",
       "        text-align: right;\n",
       "    }\n",
       "</style>\n",
       "<table border=\"1\" class=\"dataframe\">\n",
       "  <thead>\n",
       "    <tr style=\"text-align: right;\">\n",
       "      <th></th>\n",
       "      <th>description</th>\n",
       "      <th>stargazers_count</th>\n",
       "      <th>watchers_count</th>\n",
       "      <th>size</th>\n",
       "      <th>forks</th>\n",
       "      <th>open_issues_count</th>\n",
       "      <th>language</th>\n",
       "      <th>score</th>\n",
       "      <th>created_at</th>\n",
       "    </tr>\n",
       "  </thead>\n",
       "  <tbody>\n",
       "    <tr>\n",
       "      <th>0</th>\n",
       "      <td>Repo for counting stars and contributing. Pres...</td>\n",
       "      <td>253118</td>\n",
       "      <td>253118</td>\n",
       "      <td>183401</td>\n",
       "      <td>21126</td>\n",
       "      <td>16789</td>\n",
       "      <td>Rust</td>\n",
       "      <td>1.0</td>\n",
       "      <td>2019-03-26T07:31:14Z</td>\n",
       "    </tr>\n",
       "    <tr>\n",
       "      <th>1</th>\n",
       "      <td>Google IT Automation with Python Professional ...</td>\n",
       "      <td>252</td>\n",
       "      <td>252</td>\n",
       "      <td>12</td>\n",
       "      <td>13273</td>\n",
       "      <td>9123</td>\n",
       "      <td>Python</td>\n",
       "      <td>1.0</td>\n",
       "      <td>2019-12-17T19:04:12Z</td>\n",
       "    </tr>\n",
       "  </tbody>\n",
       "</table>\n",
       "</div>"
      ],
      "text/plain": [
       "                                         description  stargazers_count  \\\n",
       "0  Repo for counting stars and contributing. Pres...            253118   \n",
       "1  Google IT Automation with Python Professional ...               252   \n",
       "\n",
       "   watchers_count    size  forks  open_issues_count language  score  \\\n",
       "0          253118  183401  21126              16789     Rust    1.0   \n",
       "1             252      12  13273               9123   Python    1.0   \n",
       "\n",
       "             created_at  \n",
       "0  2019-03-26T07:31:14Z  \n",
       "1  2019-12-17T19:04:12Z  "
      ]
     },
     "execution_count": 183,
     "metadata": {},
     "output_type": "execute_result"
    }
   ],
   "source": [
    "subset19.head(2)"
   ]
  },
  {
   "cell_type": "code",
   "execution_count": 184,
   "metadata": {},
   "outputs": [
    {
     "data": {
      "text/html": [
       "<div>\n",
       "<style scoped>\n",
       "    .dataframe tbody tr th:only-of-type {\n",
       "        vertical-align: middle;\n",
       "    }\n",
       "\n",
       "    .dataframe tbody tr th {\n",
       "        vertical-align: top;\n",
       "    }\n",
       "\n",
       "    .dataframe thead th {\n",
       "        text-align: right;\n",
       "    }\n",
       "</style>\n",
       "<table border=\"1\" class=\"dataframe\">\n",
       "  <thead>\n",
       "    <tr style=\"text-align: right;\">\n",
       "      <th></th>\n",
       "      <th>description</th>\n",
       "      <th>stargazers_count</th>\n",
       "      <th>watchers_count</th>\n",
       "      <th>size</th>\n",
       "      <th>forks</th>\n",
       "      <th>open_issues_count</th>\n",
       "      <th>language</th>\n",
       "      <th>score</th>\n",
       "      <th>created_at</th>\n",
       "    </tr>\n",
       "  </thead>\n",
       "  <tbody>\n",
       "    <tr>\n",
       "      <th>0</th>\n",
       "      <td>None</td>\n",
       "      <td>1773</td>\n",
       "      <td>1773</td>\n",
       "      <td>44692</td>\n",
       "      <td>13100</td>\n",
       "      <td>161</td>\n",
       "      <td>Batchfile</td>\n",
       "      <td>1.0</td>\n",
       "      <td>2020-06-15T10:40:25Z</td>\n",
       "    </tr>\n",
       "    <tr>\n",
       "      <th>1</th>\n",
       "      <td>Curated list of design and UI resources from s...</td>\n",
       "      <td>23098</td>\n",
       "      <td>23098</td>\n",
       "      <td>4260</td>\n",
       "      <td>5657</td>\n",
       "      <td>0</td>\n",
       "      <td>None</td>\n",
       "      <td>1.0</td>\n",
       "      <td>2020-05-06T14:40:35Z</td>\n",
       "    </tr>\n",
       "  </tbody>\n",
       "</table>\n",
       "</div>"
      ],
      "text/plain": [
       "                                         description  stargazers_count  \\\n",
       "0                                               None              1773   \n",
       "1  Curated list of design and UI resources from s...             23098   \n",
       "\n",
       "   watchers_count   size  forks  open_issues_count   language  score  \\\n",
       "0            1773  44692  13100                161  Batchfile    1.0   \n",
       "1           23098   4260   5657                  0       None    1.0   \n",
       "\n",
       "             created_at  \n",
       "0  2020-06-15T10:40:25Z  \n",
       "1  2020-05-06T14:40:35Z  "
      ]
     },
     "execution_count": 184,
     "metadata": {},
     "output_type": "execute_result"
    }
   ],
   "source": [
    "subset20.head(2)"
   ]
  },
  {
   "cell_type": "code",
   "execution_count": 186,
   "metadata": {},
   "outputs": [],
   "source": [
    "## saving the subset\n",
    "subset19.to_csv(\"../data/gh19-data.csv\")\n",
    "subset20.to_csv(\"../data/gh20-data.csv\")"
   ]
  },
  {
   "cell_type": "code",
   "execution_count": 12,
   "metadata": {},
   "outputs": [],
   "source": [
    "## loading the subset-data\n",
    "subset19 = pd.read_csv(\"../data/gh19-data.csv\", index_col=0)\n",
    "subset20 = pd.read_csv(\"../data/gh20-data.csv\", index_col=0)"
   ]
  },
  {
   "cell_type": "markdown",
   "metadata": {},
   "source": [
    "## Data Preprocessing"
   ]
  },
  {
   "cell_type": "markdown",
   "metadata": {},
   "source": [
    "### Textual Data\n",
    "- English represents 71% of repositories in 2019 &  76% in 2020\n",
    "-In 2020,\n",
    "    - Watchers count varies from o to 23,098. and Forks from 107 to 5,657\n",
    "    - The first quartile of repos has no open issues while top 25% have more than 32\n",
    "    - The max no of issues are 1996\n",
    "-In 2019,\n",
    "    - Watchers count varies from o to 2,53,118 and Forks from 208 to 21,126\n",
    "    - The first quartile of repos has no open issues while top 25% have more than 61\n",
    "    - The max no of issues are 16,789"
   ]
  },
  {
   "cell_type": "code",
   "execution_count": 16,
   "metadata": {},
   "outputs": [],
   "source": [
    "## dropping all na values\n",
    "new_df19 = subset19.dropna(subset=[\"description\"])\n",
    "new_df20 = subset20.dropna(subset=[\"description\"])"
   ]
  },
  {
   "cell_type": "code",
   "execution_count": 23,
   "metadata": {},
   "outputs": [],
   "source": [
    "## detecting the language \n",
    "new_df19[\"lang\"] = new_df19.apply(lambda x:detect_lang(x[\"description\"]), axis=1)\n",
    "new_df20[\"lang\"] = new_df20.apply(lambda x:detect_lang(x[\"description\"]), axis=1)"
   ]
  },
  {
   "cell_type": "code",
   "execution_count": 29,
   "metadata": {},
   "outputs": [
    {
     "name": "stdout",
     "output_type": "stream",
     "text": [
      "2020: 71\n",
      "2019: 76\n"
     ]
    }
   ],
   "source": [
    "print(f\"\"\"2020: {round((new_df20['lang'] == 'en').sum()/ len(new_df20['lang'])*100)}\n",
    "2019: {round((new_df19['lang'] == 'en').sum()/ len(new_df20['lang'])*100)}\"\"\")"
   ]
  },
  {
   "cell_type": "code",
   "execution_count": 30,
   "metadata": {},
   "outputs": [],
   "source": [
    "## selecting only english language\n",
    "new_df19 = new_df19[new_df19[\"lang\"] == 'en']\n",
    "new_df20 = new_df20[new_df20[\"lang\"] == 'en']"
   ]
  },
  {
   "cell_type": "code",
   "execution_count": 36,
   "metadata": {},
   "outputs": [],
   "source": [
    "## cleaning description\n",
    "new_df19[\"clean\"] = new_df19[\"description\"].apply(str)\n",
    "new_df19[\"clean\"] = new_df19[\"clean\"].apply(lambda x:clean_text(text=x, stopwords=stopwords.words(\"english\")))\n",
    "\n",
    "new_df20[\"clean\"] = new_df20[\"description\"].apply(str)\n",
    "new_df20[\"clean\"] = new_df20[\"clean\"].apply(lambda x:clean_text(text=x, stopwords=stopwords.words(\"english\")))"
   ]
  },
  {
   "cell_type": "markdown",
   "metadata": {},
   "source": [
    "##### Trends in Numerical Vars"
   ]
  },
  {
   "cell_type": "code",
   "execution_count": 37,
   "metadata": {},
   "outputs": [
    {
     "data": {
      "text/html": [
       "<div>\n",
       "<style scoped>\n",
       "    .dataframe tbody tr th:only-of-type {\n",
       "        vertical-align: middle;\n",
       "    }\n",
       "\n",
       "    .dataframe tbody tr th {\n",
       "        vertical-align: top;\n",
       "    }\n",
       "\n",
       "    .dataframe thead th {\n",
       "        text-align: right;\n",
       "    }\n",
       "</style>\n",
       "<table border=\"1\" class=\"dataframe\">\n",
       "  <thead>\n",
       "    <tr style=\"text-align: right;\">\n",
       "      <th></th>\n",
       "      <th>stargazers_count</th>\n",
       "      <th>watchers_count</th>\n",
       "      <th>size</th>\n",
       "      <th>forks</th>\n",
       "      <th>open_issues_count</th>\n",
       "    </tr>\n",
       "  </thead>\n",
       "  <tbody>\n",
       "    <tr>\n",
       "      <th>count</th>\n",
       "      <td>562.000000</td>\n",
       "      <td>562.000000</td>\n",
       "      <td>5.620000e+02</td>\n",
       "      <td>562.000000</td>\n",
       "      <td>562.000000</td>\n",
       "    </tr>\n",
       "    <tr>\n",
       "      <th>mean</th>\n",
       "      <td>3011.451957</td>\n",
       "      <td>3011.451957</td>\n",
       "      <td>4.814932e+04</td>\n",
       "      <td>822.019573</td>\n",
       "      <td>113.314947</td>\n",
       "    </tr>\n",
       "    <tr>\n",
       "      <th>std</th>\n",
       "      <td>11358.875337</td>\n",
       "      <td>11358.875337</td>\n",
       "      <td>2.236437e+05</td>\n",
       "      <td>1491.904407</td>\n",
       "      <td>820.674416</td>\n",
       "    </tr>\n",
       "    <tr>\n",
       "      <th>min</th>\n",
       "      <td>0.000000</td>\n",
       "      <td>0.000000</td>\n",
       "      <td>0.000000e+00</td>\n",
       "      <td>208.000000</td>\n",
       "      <td>0.000000</td>\n",
       "    </tr>\n",
       "    <tr>\n",
       "      <th>25%</th>\n",
       "      <td>391.750000</td>\n",
       "      <td>391.750000</td>\n",
       "      <td>7.870000e+02</td>\n",
       "      <td>304.250000</td>\n",
       "      <td>4.250000</td>\n",
       "    </tr>\n",
       "    <tr>\n",
       "      <th>50%</th>\n",
       "      <td>1264.500000</td>\n",
       "      <td>1264.500000</td>\n",
       "      <td>4.298000e+03</td>\n",
       "      <td>419.500000</td>\n",
       "      <td>16.000000</td>\n",
       "    </tr>\n",
       "    <tr>\n",
       "      <th>75%</th>\n",
       "      <td>2887.250000</td>\n",
       "      <td>2887.250000</td>\n",
       "      <td>2.339950e+04</td>\n",
       "      <td>705.500000</td>\n",
       "      <td>61.000000</td>\n",
       "    </tr>\n",
       "    <tr>\n",
       "      <th>max</th>\n",
       "      <td>253118.000000</td>\n",
       "      <td>253118.000000</td>\n",
       "      <td>3.909293e+06</td>\n",
       "      <td>21126.000000</td>\n",
       "      <td>16789.000000</td>\n",
       "    </tr>\n",
       "  </tbody>\n",
       "</table>\n",
       "</div>"
      ],
      "text/plain": [
       "       stargazers_count  watchers_count          size         forks  \\\n",
       "count        562.000000      562.000000  5.620000e+02    562.000000   \n",
       "mean        3011.451957     3011.451957  4.814932e+04    822.019573   \n",
       "std        11358.875337    11358.875337  2.236437e+05   1491.904407   \n",
       "min            0.000000        0.000000  0.000000e+00    208.000000   \n",
       "25%          391.750000      391.750000  7.870000e+02    304.250000   \n",
       "50%         1264.500000     1264.500000  4.298000e+03    419.500000   \n",
       "75%         2887.250000     2887.250000  2.339950e+04    705.500000   \n",
       "max       253118.000000   253118.000000  3.909293e+06  21126.000000   \n",
       "\n",
       "       open_issues_count  \n",
       "count         562.000000  \n",
       "mean          113.314947  \n",
       "std           820.674416  \n",
       "min             0.000000  \n",
       "25%             4.250000  \n",
       "50%            16.000000  \n",
       "75%            61.000000  \n",
       "max         16789.000000  "
      ]
     },
     "execution_count": 37,
     "metadata": {},
     "output_type": "execute_result"
    }
   ],
   "source": [
    "new_df19[[\"stargazers_count\", \"watchers_count\", \"size\", \"forks\", \"open_issues_count\"]].describe()"
   ]
  },
  {
   "cell_type": "code",
   "execution_count": 38,
   "metadata": {},
   "outputs": [
    {
     "data": {
      "text/html": [
       "<div>\n",
       "<style scoped>\n",
       "    .dataframe tbody tr th:only-of-type {\n",
       "        vertical-align: middle;\n",
       "    }\n",
       "\n",
       "    .dataframe tbody tr th {\n",
       "        vertical-align: top;\n",
       "    }\n",
       "\n",
       "    .dataframe thead th {\n",
       "        text-align: right;\n",
       "    }\n",
       "</style>\n",
       "<table border=\"1\" class=\"dataframe\">\n",
       "  <thead>\n",
       "    <tr style=\"text-align: right;\">\n",
       "      <th></th>\n",
       "      <th>stargazers_count</th>\n",
       "      <th>watchers_count</th>\n",
       "      <th>size</th>\n",
       "      <th>forks</th>\n",
       "      <th>open_issues_count</th>\n",
       "    </tr>\n",
       "  </thead>\n",
       "  <tbody>\n",
       "    <tr>\n",
       "      <th>count</th>\n",
       "      <td>525.000000</td>\n",
       "      <td>525.000000</td>\n",
       "      <td>5.250000e+02</td>\n",
       "      <td>525.000000</td>\n",
       "      <td>525.000000</td>\n",
       "    </tr>\n",
       "    <tr>\n",
       "      <th>mean</th>\n",
       "      <td>1181.822857</td>\n",
       "      <td>1181.822857</td>\n",
       "      <td>7.550454e+04</td>\n",
       "      <td>339.487619</td>\n",
       "      <td>43.754286</td>\n",
       "    </tr>\n",
       "    <tr>\n",
       "      <th>std</th>\n",
       "      <td>2173.900020</td>\n",
       "      <td>2173.900020</td>\n",
       "      <td>4.070703e+05</td>\n",
       "      <td>471.768548</td>\n",
       "      <td>139.131832</td>\n",
       "    </tr>\n",
       "    <tr>\n",
       "      <th>min</th>\n",
       "      <td>0.000000</td>\n",
       "      <td>0.000000</td>\n",
       "      <td>1.000000e+00</td>\n",
       "      <td>107.000000</td>\n",
       "      <td>0.000000</td>\n",
       "    </tr>\n",
       "    <tr>\n",
       "      <th>25%</th>\n",
       "      <td>82.000000</td>\n",
       "      <td>82.000000</td>\n",
       "      <td>4.980000e+02</td>\n",
       "      <td>145.000000</td>\n",
       "      <td>2.000000</td>\n",
       "    </tr>\n",
       "    <tr>\n",
       "      <th>50%</th>\n",
       "      <td>436.000000</td>\n",
       "      <td>436.000000</td>\n",
       "      <td>3.909000e+03</td>\n",
       "      <td>192.000000</td>\n",
       "      <td>8.000000</td>\n",
       "    </tr>\n",
       "    <tr>\n",
       "      <th>75%</th>\n",
       "      <td>1282.000000</td>\n",
       "      <td>1282.000000</td>\n",
       "      <td>2.424600e+04</td>\n",
       "      <td>280.000000</td>\n",
       "      <td>32.000000</td>\n",
       "    </tr>\n",
       "    <tr>\n",
       "      <th>max</th>\n",
       "      <td>23098.000000</td>\n",
       "      <td>23098.000000</td>\n",
       "      <td>7.123950e+06</td>\n",
       "      <td>5657.000000</td>\n",
       "      <td>1996.000000</td>\n",
       "    </tr>\n",
       "  </tbody>\n",
       "</table>\n",
       "</div>"
      ],
      "text/plain": [
       "       stargazers_count  watchers_count          size        forks  \\\n",
       "count        525.000000      525.000000  5.250000e+02   525.000000   \n",
       "mean        1181.822857     1181.822857  7.550454e+04   339.487619   \n",
       "std         2173.900020     2173.900020  4.070703e+05   471.768548   \n",
       "min            0.000000        0.000000  1.000000e+00   107.000000   \n",
       "25%           82.000000       82.000000  4.980000e+02   145.000000   \n",
       "50%          436.000000      436.000000  3.909000e+03   192.000000   \n",
       "75%         1282.000000     1282.000000  2.424600e+04   280.000000   \n",
       "max        23098.000000    23098.000000  7.123950e+06  5657.000000   \n",
       "\n",
       "       open_issues_count  \n",
       "count         525.000000  \n",
       "mean           43.754286  \n",
       "std           139.131832  \n",
       "min             0.000000  \n",
       "25%             2.000000  \n",
       "50%             8.000000  \n",
       "75%            32.000000  \n",
       "max          1996.000000  "
      ]
     },
     "execution_count": 38,
     "metadata": {},
     "output_type": "execute_result"
    }
   ],
   "source": [
    "new_df20[[\"stargazers_count\", \"watchers_count\", \"size\", \"forks\", \"open_issues_count\"]].describe()"
   ]
  },
  {
   "cell_type": "markdown",
   "metadata": {},
   "source": [
    "## Data Analysis"
   ]
  },
  {
   "cell_type": "markdown",
   "metadata": {},
   "source": [
    "### Questions\n",
    "- Detect the most trending topics/technologies based on descriptions\n",
    "- Identify the most popular programming languages globally\n",
    "- Find out what programming languages are used for the top technologies\n",
    "- What are the differences between technologies in terms of repository size, open\n",
    "  issues, number of forks, and watchers\n",
    "- See what are the most popular projects and top technology in 2017\n",
    "\n",
    "\n",
    "### Answers\n",
    "- Trending technology of \n",
    "        2020 => open-source \n",
    "        2019 => deep-learning & machine-learning\n",
    "- Popular programming language in the past\n",
    "        5 years => Python, JavaScript & Java\n",
    "        3 years => Python\n",
    "    - ruby has seen a downfall \n",
    "    \n",
    "##### Technology by\n",
    "- **Programming Languages**\n",
    "    - we get `nan` as one of the input as some od the technologies are built with multiple programming languages \n",
    "    - **Python** is the most common language and secondly *java* and *javascript*\n",
    "    - open source is diverse(all most every popular language} and popular\n",
    "    - people practice python, java, shell and others\n",
    "\n",
    "- **Repositories**\n",
    "    - most of the top repos are tutorials, papers and resources\n",
    "    - There are also projects equal as tutorials\n",
    "    - Open source provides mainly apps and courses\n",
    "- **Numerical Data** (fork_count, watchers_count, stargazers_count, size and open_issue_count)\n",
    "    - Deep learning is more reach on mean, min and max. Nevertheless open source is also gaining more forks\n",
    "    - **_Comparing Numericals_**\n",
    "        - watchers and stars are highly correlated (may be 1).Hence,droping stars\n",
    "        - forks VS open issues\n",
    "            - Majority of open issues has less forks even they are high in value and vice versa\n",
    "            - No correlation (since all dots concentrated at bottom left)\n",
    "        - forks VS size  \n",
    "            - In the case of deep learning, the repos with higher no of size are less in size\n",
    "            -  No correlation (since all dots concentrated at bottom left)\n",
    "        - forks VS watchers\n",
    "            - Even the no of watchers keep increasing, the no of forks remains in range of 0 to 2000\n",
    "            - Some repos has highre no of forks but with low watchers in case of deep learning\n",
    "        - open issues VS size\n",
    "            - In both deep learning and open sources, there are mix of large sized projects and small sized projects\n",
    "            - But there is  no correlation\n",
    "        - open issues VS watchers\n",
    "            - A bunch of repos are clustered at 0 -6000 watchers\n",
    "            - not correlation \n",
    "        - watchers VS size\n",
    "            - majoriy of repos doesn't go beyong 0.25\n",
    "            - no correlation again"
   ]
  },
  {
   "cell_type": "markdown",
   "metadata": {},
   "source": [
    "##### Trending topics of 2020"
   ]
  },
  {
   "cell_type": "code",
   "execution_count": 41,
   "metadata": {},
   "outputs": [
    {
     "data": {
      "text/plain": [
       "[('open', 'source'),\n",
       " ('source', 'code'),\n",
       " ('machine', 'learning'),\n",
       " ('hacktoberfest', '2020'),\n",
       " ('repository', 'contains'),\n",
       " ('data', 'science'),\n",
       " ('curated', 'list'),\n",
       " ('html', 'css'),\n",
       " ('made', 'specifically'),\n",
       " ('pull', 'request'),\n",
       " ('deep', 'learning'),\n",
       " ('science', 'hacks'),\n",
       " ('pull', 'requests'),\n",
       " ('30', 'days'),\n",
       " ('android', 'app'),\n",
       " ('android', 'ios'),\n",
       " ('app', 'source'),\n",
       " ('contributions', 'hacktoberfest'),\n",
       " ('contributions', 'made'),\n",
       " ('create', 'pull')]"
      ]
     },
     "execution_count": 41,
     "metadata": {},
     "output_type": "execute_result"
    }
   ],
   "source": [
    "# convert clean descrpitons to list of tokens\n",
    "list_doc = new_df20[\"clean\"].apply(lambda x:x.split()).to_list()\n",
    "\n",
    "## Anlaysis on docs\n",
    "bigram_measures = nltk.collocations.BigramAssocMeasures()\n",
    "bigram_finder = BigramCollocationFinder.from_documents(list_doc)\n",
    "\n",
    "bigram_finder.apply_freq_filter(3)\n",
    "\n",
    "bigrams = bigram_finder.nbest(bigram_measures.raw_freq, 20)\n",
    "bigrams"
   ]
  },
  {
   "cell_type": "code",
   "execution_count": 51,
   "metadata": {},
   "outputs": [
    {
     "data": {
      "text/plain": [
       "[(('open', 'source'), 0.005988023952095809),\n",
       " (('source', 'code'), 0.0029940119760479044),\n",
       " (('machine', 'learning'), 0.002780153977758768),\n",
       " (('hacktoberfest', '2020'), 0.00213857998289136),\n",
       " (('repository', 'contains'), 0.00213857998289136),\n",
       " (('data', 'science'), 0.001924721984602224),\n",
       " (('curated', 'list'), 0.0014970059880239522),\n",
       " (('html', 'css'), 0.0014970059880239522),\n",
       " (('made', 'specifically'), 0.0014970059880239522),\n",
       " (('pull', 'request'), 0.0014970059880239522)]"
      ]
     },
     "execution_count": 51,
     "metadata": {},
     "output_type": "execute_result"
    }
   ],
   "source": [
    "## scores by raw_freq\n",
    "scores = bigram_finder.score_ngrams(bigram_measures.raw_freq)\n",
    "scores[:10]"
   ]
  },
  {
   "cell_type": "code",
   "execution_count": 45,
   "metadata": {},
   "outputs": [
    {
     "data": {
      "text/html": [
       "<div>\n",
       "<style scoped>\n",
       "    .dataframe tbody tr th:only-of-type {\n",
       "        vertical-align: middle;\n",
       "    }\n",
       "\n",
       "    .dataframe tbody tr th {\n",
       "        vertical-align: top;\n",
       "    }\n",
       "\n",
       "    .dataframe thead th {\n",
       "        text-align: right;\n",
       "    }\n",
       "</style>\n",
       "<table border=\"1\" class=\"dataframe\">\n",
       "  <thead>\n",
       "    <tr style=\"text-align: right;\">\n",
       "      <th></th>\n",
       "      <th>1</th>\n",
       "    </tr>\n",
       "    <tr>\n",
       "      <th>0</th>\n",
       "      <th></th>\n",
       "    </tr>\n",
       "  </thead>\n",
       "  <tbody>\n",
       "    <tr>\n",
       "      <th>open source</th>\n",
       "      <td>28</td>\n",
       "    </tr>\n",
       "    <tr>\n",
       "      <th>source code</th>\n",
       "      <td>14</td>\n",
       "    </tr>\n",
       "    <tr>\n",
       "      <th>machine learning</th>\n",
       "      <td>13</td>\n",
       "    </tr>\n",
       "    <tr>\n",
       "      <th>hacktoberfest 2020</th>\n",
       "      <td>10</td>\n",
       "    </tr>\n",
       "    <tr>\n",
       "      <th>repository contains</th>\n",
       "      <td>10</td>\n",
       "    </tr>\n",
       "  </tbody>\n",
       "</table>\n",
       "</div>"
      ],
      "text/plain": [
       "                      1\n",
       "0                      \n",
       "open source          28\n",
       "source code          14\n",
       "machine learning     13\n",
       "hacktoberfest 2020   10\n",
       "repository contains  10"
      ]
     },
     "execution_count": 45,
     "metadata": {},
     "output_type": "execute_result"
    }
   ],
   "source": [
    "## Visualizing ngrams\n",
    "# calculating no of occurences\n",
    "ngram = list(bigram_finder.ngram_fd.items())\n",
    "ngram.sort(key=lambda item:item[-1], reverse=True)\n",
    "\n",
    "# creating tuples from ngram\n",
    "frequency = [(\" \".join(k), v) for k,v in ngram]\n",
    "\n",
    "df = pd.DataFrame(frequency)\n",
    "df.set_index([0], inplace=True)\n",
    "df.head()"
   ]
  },
  {
   "cell_type": "code",
   "execution_count": 52,
   "metadata": {},
   "outputs": [
    {
     "data": {
      "image/png": "[encoded data removed]",
      "text/plain": [
       "<Figure size 432x288 with 1 Axes>"
      ]
     },
     "metadata": {},
     "output_type": "display_data"
    }
   ],
   "source": [
    "## plottting the frequency\n",
    "plt.style.use(\"ggplot\")\n",
    "\n",
    "df.sort_values(by=[1], ascending=False).head(21).plot(kind=\"barh\")\n",
    "\n",
    "plt.title(\"Trending Technologies in 2020\")\n",
    "plt.ylabel(\"Technology\")\n",
    "plt.xlabel(\"Popularity\")\n",
    "plt.legend().set_visible(False)\n",
    "\n",
    "plt.axvline(x=15, color=\"b\", label=\"Average\", linestyle=\"--\", linewidth=3)\n",
    "for custom in [0, 10, 15]:\n",
    "    plt.text(15.5, custom, \"Neural Networks\", fontsize=8, va=\"center\", bbox=dict(boxstyle=\"square\", fc=\"white\", ec=\"none\"))\n",
    "    \n",
    "plt.show() "
   ]
  },
  {
   "cell_type": "markdown",
   "metadata": {},
   "source": [
    "#####  Trending Technologies in 2019"
   ]
  },
  {
   "cell_type": "code",
   "execution_count": 53,
   "metadata": {},
   "outputs": [
    {
     "data": {
      "text/plain": [
       "[('deep', 'learning'),\n",
       " ('machine', 'learning'),\n",
       " ('open', 'source'),\n",
       " ('starter', 'code'),\n",
       " ('guided', 'project'),\n",
       " ('object', 'detection'),\n",
       " ('complete', 'flutter'),\n",
       " ('data', 'science'),\n",
       " ('github', 'actions'),\n",
       " ('best', 'practices'),\n",
       " ('jekyll', 'theme'),\n",
       " ('natural', 'language'),\n",
       " ('project', 'complete'),\n",
       " ('pytorch', 'implementation'),\n",
       " ('tensorflow', '2'),\n",
       " ('azure', 'devops'),\n",
       " ('development', 'bootcamp'),\n",
       " ('react', 'native'),\n",
       " ('code', 'used'),\n",
       " ('course', 'files')]"
      ]
     },
     "execution_count": 53,
     "metadata": {},
     "output_type": "execute_result"
    }
   ],
   "source": [
    "# convert clean descrpitons to list of tokens\n",
    "list_doc = new_df19[\"clean\"].apply(lambda x:x.split()).to_list()\n",
    "\n",
    "## Anlaysis on docs\n",
    "bigram_measures = nltk.collocations.BigramAssocMeasures()\n",
    "bigram_finder = BigramCollocationFinder.from_documents(list_doc)\n",
    "\n",
    "bigram_finder.apply_freq_filter(3)\n",
    "\n",
    "bigrams = bigram_finder.nbest(bigram_measures.raw_freq, 20)\n",
    "bigrams"
   ]
  },
  {
   "cell_type": "code",
   "execution_count": 54,
   "metadata": {},
   "outputs": [
    {
     "data": {
      "text/plain": [
       "[(('deep', 'learning'), 0.0041942604856512146),\n",
       " (('machine', 'learning'), 0.003532008830022075),\n",
       " (('open', 'source'), 0.002869757174392936),\n",
       " (('starter', 'code'), 0.002869757174392936),\n",
       " (('guided', 'project'), 0.001986754966887417),\n",
       " (('object', 'detection'), 0.001986754966887417),\n",
       " (('complete', 'flutter'), 0.0017660044150110375),\n",
       " (('data', 'science'), 0.0017660044150110375),\n",
       " (('github', 'actions'), 0.0017660044150110375),\n",
       " (('best', 'practices'), 0.0013245033112582781)]"
      ]
     },
     "execution_count": 54,
     "metadata": {},
     "output_type": "execute_result"
    }
   ],
   "source": [
    "## scores by raw_freq\n",
    "scores = bigram_finder.score_ngrams(bigram_measures.raw_freq)\n",
    "scores[:10]"
   ]
  },
  {
   "cell_type": "code",
   "execution_count": 55,
   "metadata": {},
   "outputs": [
    {
     "data": {
      "text/html": [
       "<div>\n",
       "<style scoped>\n",
       "    .dataframe tbody tr th:only-of-type {\n",
       "        vertical-align: middle;\n",
       "    }\n",
       "\n",
       "    .dataframe tbody tr th {\n",
       "        vertical-align: top;\n",
       "    }\n",
       "\n",
       "    .dataframe thead th {\n",
       "        text-align: right;\n",
       "    }\n",
       "</style>\n",
       "<table border=\"1\" class=\"dataframe\">\n",
       "  <thead>\n",
       "    <tr style=\"text-align: right;\">\n",
       "      <th></th>\n",
       "      <th>1</th>\n",
       "    </tr>\n",
       "    <tr>\n",
       "      <th>0</th>\n",
       "      <th></th>\n",
       "    </tr>\n",
       "  </thead>\n",
       "  <tbody>\n",
       "    <tr>\n",
       "      <th>deep learning</th>\n",
       "      <td>19</td>\n",
       "    </tr>\n",
       "    <tr>\n",
       "      <th>machine learning</th>\n",
       "      <td>16</td>\n",
       "    </tr>\n",
       "    <tr>\n",
       "      <th>starter code</th>\n",
       "      <td>13</td>\n",
       "    </tr>\n",
       "    <tr>\n",
       "      <th>open source</th>\n",
       "      <td>13</td>\n",
       "    </tr>\n",
       "    <tr>\n",
       "      <th>guided project</th>\n",
       "      <td>9</td>\n",
       "    </tr>\n",
       "  </tbody>\n",
       "</table>\n",
       "</div>"
      ],
      "text/plain": [
       "                   1\n",
       "0                   \n",
       "deep learning     19\n",
       "machine learning  16\n",
       "starter code      13\n",
       "open source       13\n",
       "guided project     9"
      ]
     },
     "execution_count": 55,
     "metadata": {},
     "output_type": "execute_result"
    }
   ],
   "source": [
    "## Visualizing ngrams\n",
    "# calculating no of occurences\n",
    "ngram = list(bigram_finder.ngram_fd.items())\n",
    "ngram.sort(key=lambda item:item[-1], reverse=True)\n",
    "\n",
    "# creating tuples from ngram\n",
    "frequency = [(\" \".join(k), v) for k,v in ngram]\n",
    "\n",
    "df = pd.DataFrame(frequency)\n",
    "df.set_index([0], inplace=True)\n",
    "df.head()"
   ]
  },
  {
   "cell_type": "code",
   "execution_count": 56,
   "metadata": {},
   "outputs": [
    {
     "data": {
      "image/png": "[encoded data removed]",
      "text/plain": [
       "<Figure size 432x288 with 1 Axes>"
      ]
     },
     "metadata": {},
     "output_type": "display_data"
    }
   ],
   "source": [
    "## plottting the frequency\n",
    "plt.style.use(\"ggplot\")\n",
    "\n",
    "df.sort_values(by=[1], ascending=False).head(21).plot(kind=\"barh\")\n",
    "\n",
    "plt.title(\"Trending Technologies in 2019\")\n",
    "plt.ylabel(\"Technology\")\n",
    "plt.xlabel(\"Popularity\")\n",
    "plt.legend().set_visible(False)\n",
    "\n",
    "plt.axvline(x=15, color=\"b\", label=\"Average\", linestyle=\"--\", linewidth=3)\n",
    "for custom in [0, 10, 15]:\n",
    "    plt.text(15.5, custom, \"Neural Networks\", fontsize=8, va=\"center\", bbox=dict(boxstyle=\"square\", fc=\"white\", ec=\"none\"))\n",
    "    \n",
    "plt.show() "
   ]
  },
  {
   "cell_type": "code",
   "execution_count": null,
   "metadata": {},
   "outputs": [],
   "source": [
    "# --- others methods to find scores ---\n",
    "## scores by pmi\n",
    "# scores_pmi = bigram_finder.score_ngrams(bigram_measures.pmi)\n",
    "# scores_pmi[:10]\n",
    "\n",
    "## scores by student_t\n",
    "# scores_st = bigram_finder.score_ngrams(bigram_measures.student_t)\n",
    "# scores_st[:10]\n",
    "\n",
    "## scores by chi-sq\n",
    "# scores_chi_sq = bigram_finder.score_ngrams(bigram_measures.chi_sq)\n",
    "# scores_chi_sq[:10]"
   ]
  },
  {
   "cell_type": "markdown",
   "metadata": {},
   "source": [
    "#### Programming languages"
   ]
  },
  {
   "cell_type": "code",
   "execution_count": 22,
   "metadata": {},
   "outputs": [
    {
     "name": "stdout",
     "output_type": "stream",
     "text": [
      "Connection status:<Response [200]>\n",
      "Just download: 100, Total:100\n",
      "Connection status:<Response [200]>\n",
      "Just download: 100, Total:200\n",
      "Connection status:<Response [200]>\n",
      "Just download: 100, Total:300\n",
      "Connection status:<Response [200]>\n",
      "Just download: 100, Total:400\n",
      "Connection status:<Response [200]>\n",
      "Just download: 100, Total:500\n",
      "Connection status:<Response [200]>\n",
      "Just download: 100, Total:600\n",
      "Connection status:<Response [200]>\n",
      "Just download: 100, Total:700\n",
      "Connection status:<Response [200]>\n",
      "Just download: 100, Total:800\n",
      "Connection status:<Response [200]>\n",
      "Just download: 100, Total:900\n",
      "Connection status:<Response [200]>\n",
      "Just download: 100, Total:1000\n",
      "-------------\n",
      "(1000, 96)\n",
      "\n",
      "\n",
      "Connection status:<Response [200]>\n",
      "Just download: 100, Total:100\n",
      "Connection status:<Response [200]>\n",
      "Just download: 100, Total:200\n",
      "Connection status:<Response [200]>\n",
      "Just download: 100, Total:300\n",
      "Connection status:<Response [200]>\n",
      "Just download: 100, Total:400\n",
      "Connection status:<Response [200]>\n",
      "Just download: 100, Total:500\n",
      "Connection status:<Response [200]>\n",
      "Just download: 100, Total:600\n",
      "Connection status:<Response [200]>\n",
      "Just download: 100, Total:700\n",
      "Connection status:<Response [200]>\n",
      "Just download: 100, Total:800\n",
      "Connection status:<Response [200]>\n",
      "Just download: 100, Total:900\n",
      "Connection status:<Response [200]>\n",
      "Just download: 100, Total:1000\n",
      "-------------\n",
      "(2000, 96)\n",
      "\n",
      "\n",
      "Connection status:<Response [200]>\n",
      "Just download: 100, Total:100\n",
      "Connection status:<Response [200]>\n",
      "Just download: 100, Total:200\n",
      "Connection status:<Response [200]>\n",
      "Just download: 100, Total:300\n",
      "Connection status:<Response [200]>\n",
      "Just download: 100, Total:400\n",
      "Connection status:<Response [200]>\n",
      "Just download: 100, Total:500\n",
      "Connection status:<Response [200]>\n",
      "Just download: 100, Total:600\n",
      "Connection status:<Response [200]>\n",
      "Just download: 100, Total:700\n",
      "Connection status:<Response [200]>\n",
      "Just download: 100, Total:800\n",
      "Connection status:<Response [200]>\n",
      "Just download: 100, Total:900\n",
      "Connection status:<Response [200]>\n",
      "Just download: 100, Total:1000\n",
      "-------------\n",
      "(3000, 96)\n",
      "\n",
      "\n",
      "Connection status:<Response [200]>\n",
      "Just download: 100, Total:100\n",
      "Connection status:<Response [200]>\n",
      "Just download: 100, Total:200\n",
      "Connection status:<Response [200]>\n",
      "Just download: 100, Total:300\n",
      "Connection status:<Response [200]>\n",
      "Just download: 100, Total:400\n",
      "Connection status:<Response [200]>\n",
      "Just download: 100, Total:500\n",
      "Connection status:<Response [200]>\n",
      "Just download: 100, Total:600\n",
      "Connection status:<Response [200]>\n",
      "Just download: 100, Total:700\n",
      "Connection status:<Response [200]>\n",
      "Just download: 100, Total:800\n",
      "Connection status:<Response [200]>\n",
      "Just download: 100, Total:900\n",
      "Connection status:<Response [200]>\n",
      "Just download: 100, Total:1000\n",
      "-------------\n",
      "(4000, 96)\n",
      "\n",
      "\n",
      "Connection status:<Response [200]>\n",
      "Just download: 100, Total:100\n",
      "Connection status:<Response [200]>\n",
      "Just download: 100, Total:200\n",
      "Connection status:<Response [200]>\n",
      "Just download: 100, Total:300\n",
      "Connection status:<Response [200]>\n",
      "Just download: 100, Total:400\n",
      "Connection status:<Response [200]>\n",
      "Just download: 100, Total:500\n",
      "Connection status:<Response [200]>\n",
      "Just download: 100, Total:600\n",
      "Connection status:<Response [200]>\n",
      "Just download: 100, Total:700\n",
      "Connection status:<Response [200]>\n",
      "Just download: 100, Total:800\n",
      "Connection status:<Response [200]>\n",
      "Just download: 100, Total:900\n",
      "Connection status:<Response [200]>\n",
      "Just download: 100, Total:1000\n",
      "-------------\n",
      "(5000, 96)\n",
      "\n",
      "\n"
     ]
    }
   ],
   "source": [
    "## paginating github for data\n",
    "qs =[\"created:>2020-01-01\", \"created:2019-01-01..2019-12-31\", \"created:2018-01-01..2018-12-31\", \n",
    "     \"created:2017-01-01..2017-12-31\", \"created:2016-01-01..2016-12-31\"]\n",
    "\n",
    "df = pd.DataFrame()\n",
    "\n",
    "for q in qs:  \n",
    "    results=[]\n",
    "    search_repo_paging(q)\n",
    "    data = results\n",
    "    data = pd.io.json.json_normalize(data)\n",
    "    df = pd.concat([df, data])\n",
    "    print(\"-------------\")\n",
    "    print(df.shape)\n",
    "    print(\"\\n\")"
   ]
  },
  {
   "cell_type": "code",
   "execution_count": 23,
   "metadata": {},
   "outputs": [
    {
     "data": {
      "text/html": [
       "<div>\n",
       "<style scoped>\n",
       "    .dataframe tbody tr th:only-of-type {\n",
       "        vertical-align: middle;\n",
       "    }\n",
       "\n",
       "    .dataframe tbody tr th {\n",
       "        vertical-align: top;\n",
       "    }\n",
       "\n",
       "    .dataframe thead th {\n",
       "        text-align: right;\n",
       "    }\n",
       "</style>\n",
       "<table border=\"1\" class=\"dataframe\">\n",
       "  <thead>\n",
       "    <tr style=\"text-align: right;\">\n",
       "      <th></th>\n",
       "      <th>id</th>\n",
       "      <th>node_id</th>\n",
       "      <th>name</th>\n",
       "      <th>full_name</th>\n",
       "      <th>private</th>\n",
       "      <th>html_url</th>\n",
       "      <th>description</th>\n",
       "      <th>fork</th>\n",
       "      <th>url</th>\n",
       "      <th>forks_url</th>\n",
       "      <th>...</th>\n",
       "      <th>owner.events_url</th>\n",
       "      <th>owner.received_events_url</th>\n",
       "      <th>owner.type</th>\n",
       "      <th>owner.site_admin</th>\n",
       "      <th>license.key</th>\n",
       "      <th>license.name</th>\n",
       "      <th>license.spdx_id</th>\n",
       "      <th>license.url</th>\n",
       "      <th>license.node_id</th>\n",
       "      <th>license</th>\n",
       "    </tr>\n",
       "  </thead>\n",
       "  <tbody>\n",
       "    <tr>\n",
       "      <th>0</th>\n",
       "      <td>272411321</td>\n",
       "      <td>MDEwOlJlcG9zaXRvcnkyNzI0MTEzMjE=</td>\n",
       "      <td>IBMYes</td>\n",
       "      <td>CCChieh/IBMYes</td>\n",
       "      <td>False</td>\n",
       "      <td>https://github.com/CCChieh/IBMYes</td>\n",
       "      <td>None</td>\n",
       "      <td>False</td>\n",
       "      <td>https://api.github.com/repos/CCChieh/IBMYes</td>\n",
       "      <td>https://api.github.com/repos/CCChieh/IBMYes/forks</td>\n",
       "      <td>...</td>\n",
       "      <td>https://api.github.com/users/CCChieh/events{/p...</td>\n",
       "      <td>https://api.github.com/users/CCChieh/received_...</td>\n",
       "      <td>User</td>\n",
       "      <td>False</td>\n",
       "      <td>apache-2.0</td>\n",
       "      <td>Apache License 2.0</td>\n",
       "      <td>Apache-2.0</td>\n",
       "      <td>https://api.github.com/licenses/apache-2.0</td>\n",
       "      <td>MDc6TGljZW5zZTI=</td>\n",
       "      <td>NaN</td>\n",
       "    </tr>\n",
       "    <tr>\n",
       "      <th>1</th>\n",
       "      <td>261787758</td>\n",
       "      <td>MDEwOlJlcG9zaXRvcnkyNjE3ODc3NTg=</td>\n",
       "      <td>design-resources-for-developers</td>\n",
       "      <td>bradtraversy/design-resources-for-developers</td>\n",
       "      <td>False</td>\n",
       "      <td>https://github.com/bradtraversy/design-resourc...</td>\n",
       "      <td>Curated list of design and UI resources from s...</td>\n",
       "      <td>False</td>\n",
       "      <td>https://api.github.com/repos/bradtraversy/desi...</td>\n",
       "      <td>https://api.github.com/repos/bradtraversy/desi...</td>\n",
       "      <td>...</td>\n",
       "      <td>https://api.github.com/users/bradtraversy/even...</td>\n",
       "      <td>https://api.github.com/users/bradtraversy/rece...</td>\n",
       "      <td>User</td>\n",
       "      <td>False</td>\n",
       "      <td>mit</td>\n",
       "      <td>MIT License</td>\n",
       "      <td>MIT</td>\n",
       "      <td>https://api.github.com/licenses/mit</td>\n",
       "      <td>MDc6TGljZW5zZTEz</td>\n",
       "      <td>NaN</td>\n",
       "    </tr>\n",
       "    <tr>\n",
       "      <th>2</th>\n",
       "      <td>260087808</td>\n",
       "      <td>MDEwOlJlcG9zaXRvcnkyNjAwODc4MDg=</td>\n",
       "      <td>jd_sign_bot</td>\n",
       "      <td>ruicky/jd_sign_bot</td>\n",
       "      <td>False</td>\n",
       "      <td>https://github.com/ruicky/jd_sign_bot</td>\n",
       "      <td>京东签到机器人</td>\n",
       "      <td>False</td>\n",
       "      <td>https://api.github.com/repos/ruicky/jd_sign_bot</td>\n",
       "      <td>https://api.github.com/repos/ruicky/jd_sign_bo...</td>\n",
       "      <td>...</td>\n",
       "      <td>https://api.github.com/users/ruicky/events{/pr...</td>\n",
       "      <td>https://api.github.com/users/ruicky/received_e...</td>\n",
       "      <td>User</td>\n",
       "      <td>False</td>\n",
       "      <td>NaN</td>\n",
       "      <td>NaN</td>\n",
       "      <td>NaN</td>\n",
       "      <td>NaN</td>\n",
       "      <td>NaN</td>\n",
       "      <td>NaN</td>\n",
       "    </tr>\n",
       "    <tr>\n",
       "      <th>3</th>\n",
       "      <td>278296523</td>\n",
       "      <td>MDEwOlJlcG9zaXRvcnkyNzgyOTY1MjM=</td>\n",
       "      <td>Awesome-Profile-README-templates</td>\n",
       "      <td>kautukkundan/Awesome-Profile-README-templates</td>\n",
       "      <td>False</td>\n",
       "      <td>https://github.com/kautukkundan/Awesome-Profil...</td>\n",
       "      <td>A collection of awesome readme templates to di...</td>\n",
       "      <td>False</td>\n",
       "      <td>https://api.github.com/repos/kautukkundan/Awes...</td>\n",
       "      <td>https://api.github.com/repos/kautukkundan/Awes...</td>\n",
       "      <td>...</td>\n",
       "      <td>https://api.github.com/users/kautukkundan/even...</td>\n",
       "      <td>https://api.github.com/users/kautukkundan/rece...</td>\n",
       "      <td>User</td>\n",
       "      <td>False</td>\n",
       "      <td>NaN</td>\n",
       "      <td>NaN</td>\n",
       "      <td>NaN</td>\n",
       "      <td>NaN</td>\n",
       "      <td>NaN</td>\n",
       "      <td>NaN</td>\n",
       "    </tr>\n",
       "    <tr>\n",
       "      <th>4</th>\n",
       "      <td>243838973</td>\n",
       "      <td>MDEwOlJlcG9zaXRvcnkyNDM4Mzg5NzM=</td>\n",
       "      <td>fastbook</td>\n",
       "      <td>fastai/fastbook</td>\n",
       "      <td>False</td>\n",
       "      <td>https://github.com/fastai/fastbook</td>\n",
       "      <td>The fastai book, published as Jupyter Notebooks</td>\n",
       "      <td>False</td>\n",
       "      <td>https://api.github.com/repos/fastai/fastbook</td>\n",
       "      <td>https://api.github.com/repos/fastai/fastbook/f...</td>\n",
       "      <td>...</td>\n",
       "      <td>https://api.github.com/users/fastai/events{/pr...</td>\n",
       "      <td>https://api.github.com/users/fastai/received_e...</td>\n",
       "      <td>Organization</td>\n",
       "      <td>False</td>\n",
       "      <td>gpl-3.0</td>\n",
       "      <td>GNU General Public License v3.0</td>\n",
       "      <td>GPL-3.0</td>\n",
       "      <td>https://api.github.com/licenses/gpl-3.0</td>\n",
       "      <td>MDc6TGljZW5zZTk=</td>\n",
       "      <td>NaN</td>\n",
       "    </tr>\n",
       "  </tbody>\n",
       "</table>\n",
       "<p>5 rows × 96 columns</p>\n",
       "</div>"
      ],
      "text/plain": [
       "          id                           node_id  \\\n",
       "0  272411321  MDEwOlJlcG9zaXRvcnkyNzI0MTEzMjE=   \n",
       "1  261787758  MDEwOlJlcG9zaXRvcnkyNjE3ODc3NTg=   \n",
       "2  260087808  MDEwOlJlcG9zaXRvcnkyNjAwODc4MDg=   \n",
       "3  278296523  MDEwOlJlcG9zaXRvcnkyNzgyOTY1MjM=   \n",
       "4  243838973  MDEwOlJlcG9zaXRvcnkyNDM4Mzg5NzM=   \n",
       "\n",
       "                               name  \\\n",
       "0                            IBMYes   \n",
       "1   design-resources-for-developers   \n",
       "2                       jd_sign_bot   \n",
       "3  Awesome-Profile-README-templates   \n",
       "4                          fastbook   \n",
       "\n",
       "                                       full_name  private  \\\n",
       "0                                 CCChieh/IBMYes    False   \n",
       "1   bradtraversy/design-resources-for-developers    False   \n",
       "2                             ruicky/jd_sign_bot    False   \n",
       "3  kautukkundan/Awesome-Profile-README-templates    False   \n",
       "4                                fastai/fastbook    False   \n",
       "\n",
       "                                            html_url  \\\n",
       "0                  https://github.com/CCChieh/IBMYes   \n",
       "1  https://github.com/bradtraversy/design-resourc...   \n",
       "2              https://github.com/ruicky/jd_sign_bot   \n",
       "3  https://github.com/kautukkundan/Awesome-Profil...   \n",
       "4                 https://github.com/fastai/fastbook   \n",
       "\n",
       "                                         description   fork  \\\n",
       "0                                               None  False   \n",
       "1  Curated list of design and UI resources from s...  False   \n",
       "2                                            京东签到机器人  False   \n",
       "3  A collection of awesome readme templates to di...  False   \n",
       "4    The fastai book, published as Jupyter Notebooks  False   \n",
       "\n",
       "                                                 url  \\\n",
       "0        https://api.github.com/repos/CCChieh/IBMYes   \n",
       "1  https://api.github.com/repos/bradtraversy/desi...   \n",
       "2    https://api.github.com/repos/ruicky/jd_sign_bot   \n",
       "3  https://api.github.com/repos/kautukkundan/Awes...   \n",
       "4       https://api.github.com/repos/fastai/fastbook   \n",
       "\n",
       "                                           forks_url  ...  \\\n",
       "0  https://api.github.com/repos/CCChieh/IBMYes/forks  ...   \n",
       "1  https://api.github.com/repos/bradtraversy/desi...  ...   \n",
       "2  https://api.github.com/repos/ruicky/jd_sign_bo...  ...   \n",
       "3  https://api.github.com/repos/kautukkundan/Awes...  ...   \n",
       "4  https://api.github.com/repos/fastai/fastbook/f...  ...   \n",
       "\n",
       "                                    owner.events_url  \\\n",
       "0  https://api.github.com/users/CCChieh/events{/p...   \n",
       "1  https://api.github.com/users/bradtraversy/even...   \n",
       "2  https://api.github.com/users/ruicky/events{/pr...   \n",
       "3  https://api.github.com/users/kautukkundan/even...   \n",
       "4  https://api.github.com/users/fastai/events{/pr...   \n",
       "\n",
       "                           owner.received_events_url    owner.type  \\\n",
       "0  https://api.github.com/users/CCChieh/received_...          User   \n",
       "1  https://api.github.com/users/bradtraversy/rece...          User   \n",
       "2  https://api.github.com/users/ruicky/received_e...          User   \n",
       "3  https://api.github.com/users/kautukkundan/rece...          User   \n",
       "4  https://api.github.com/users/fastai/received_e...  Organization   \n",
       "\n",
       "  owner.site_admin license.key                     license.name  \\\n",
       "0            False  apache-2.0               Apache License 2.0   \n",
       "1            False         mit                      MIT License   \n",
       "2            False         NaN                              NaN   \n",
       "3            False         NaN                              NaN   \n",
       "4            False     gpl-3.0  GNU General Public License v3.0   \n",
       "\n",
       "  license.spdx_id                                 license.url  \\\n",
       "0      Apache-2.0  https://api.github.com/licenses/apache-2.0   \n",
       "1             MIT         https://api.github.com/licenses/mit   \n",
       "2             NaN                                         NaN   \n",
       "3             NaN                                         NaN   \n",
       "4         GPL-3.0     https://api.github.com/licenses/gpl-3.0   \n",
       "\n",
       "    license.node_id license  \n",
       "0  MDc6TGljZW5zZTI=     NaN  \n",
       "1  MDc6TGljZW5zZTEz     NaN  \n",
       "2               NaN     NaN  \n",
       "3               NaN     NaN  \n",
       "4  MDc6TGljZW5zZTk=     NaN  \n",
       "\n",
       "[5 rows x 96 columns]"
      ]
     },
     "execution_count": 23,
     "metadata": {},
     "output_type": "execute_result"
    }
   ],
   "source": [
    "df.head()"
   ]
  },
  {
   "cell_type": "code",
   "execution_count": 56,
   "metadata": {},
   "outputs": [],
   "source": [
    "## changing dates to datetime obj\n",
    "df[\"created_at\"] = df[\"created_at\"].apply(pd.to_datetime)\n",
    "df = df.set_index([\"created_at\"])"
   ]
  },
  {
   "cell_type": "code",
   "execution_count": 57,
   "metadata": {},
   "outputs": [
    {
     "data": {
      "text/html": [
       "<div>\n",
       "<style scoped>\n",
       "    .dataframe tbody tr th:only-of-type {\n",
       "        vertical-align: middle;\n",
       "    }\n",
       "\n",
       "    .dataframe tbody tr th {\n",
       "        vertical-align: top;\n",
       "    }\n",
       "\n",
       "    .dataframe thead th {\n",
       "        text-align: right;\n",
       "    }\n",
       "</style>\n",
       "<table border=\"1\" class=\"dataframe\">\n",
       "  <thead>\n",
       "    <tr style=\"text-align: right;\">\n",
       "      <th></th>\n",
       "      <th>id</th>\n",
       "      <th>node_id</th>\n",
       "      <th>name</th>\n",
       "      <th>full_name</th>\n",
       "      <th>private</th>\n",
       "      <th>html_url</th>\n",
       "      <th>description</th>\n",
       "      <th>fork</th>\n",
       "      <th>url</th>\n",
       "      <th>forks_url</th>\n",
       "      <th>...</th>\n",
       "      <th>owner.events_url</th>\n",
       "      <th>owner.received_events_url</th>\n",
       "      <th>owner.type</th>\n",
       "      <th>owner.site_admin</th>\n",
       "      <th>license.key</th>\n",
       "      <th>license.name</th>\n",
       "      <th>license.spdx_id</th>\n",
       "      <th>license.url</th>\n",
       "      <th>license.node_id</th>\n",
       "      <th>license</th>\n",
       "    </tr>\n",
       "    <tr>\n",
       "      <th>created_at</th>\n",
       "      <th></th>\n",
       "      <th></th>\n",
       "      <th></th>\n",
       "      <th></th>\n",
       "      <th></th>\n",
       "      <th></th>\n",
       "      <th></th>\n",
       "      <th></th>\n",
       "      <th></th>\n",
       "      <th></th>\n",
       "      <th></th>\n",
       "      <th></th>\n",
       "      <th></th>\n",
       "      <th></th>\n",
       "      <th></th>\n",
       "      <th></th>\n",
       "      <th></th>\n",
       "      <th></th>\n",
       "      <th></th>\n",
       "      <th></th>\n",
       "      <th></th>\n",
       "    </tr>\n",
       "  </thead>\n",
       "  <tbody>\n",
       "    <tr>\n",
       "      <th>2020-06-15 10:40:25+00:00</th>\n",
       "      <td>272411321</td>\n",
       "      <td>MDEwOlJlcG9zaXRvcnkyNzI0MTEzMjE=</td>\n",
       "      <td>IBMYes</td>\n",
       "      <td>CCChieh/IBMYes</td>\n",
       "      <td>False</td>\n",
       "      <td>https://github.com/CCChieh/IBMYes</td>\n",
       "      <td>NaN</td>\n",
       "      <td>False</td>\n",
       "      <td>https://api.github.com/repos/CCChieh/IBMYes</td>\n",
       "      <td>https://api.github.com/repos/CCChieh/IBMYes/forks</td>\n",
       "      <td>...</td>\n",
       "      <td>https://api.github.com/users/CCChieh/events{/p...</td>\n",
       "      <td>https://api.github.com/users/CCChieh/received_...</td>\n",
       "      <td>User</td>\n",
       "      <td>False</td>\n",
       "      <td>apache-2.0</td>\n",
       "      <td>Apache License 2.0</td>\n",
       "      <td>Apache-2.0</td>\n",
       "      <td>https://api.github.com/licenses/apache-2.0</td>\n",
       "      <td>MDc6TGljZW5zZTI=</td>\n",
       "      <td>NaN</td>\n",
       "    </tr>\n",
       "    <tr>\n",
       "      <th>2020-05-06 14:40:35+00:00</th>\n",
       "      <td>261787758</td>\n",
       "      <td>MDEwOlJlcG9zaXRvcnkyNjE3ODc3NTg=</td>\n",
       "      <td>design-resources-for-developers</td>\n",
       "      <td>bradtraversy/design-resources-for-developers</td>\n",
       "      <td>False</td>\n",
       "      <td>https://github.com/bradtraversy/design-resourc...</td>\n",
       "      <td>Curated list of design and UI resources from s...</td>\n",
       "      <td>False</td>\n",
       "      <td>https://api.github.com/repos/bradtraversy/desi...</td>\n",
       "      <td>https://api.github.com/repos/bradtraversy/desi...</td>\n",
       "      <td>...</td>\n",
       "      <td>https://api.github.com/users/bradtraversy/even...</td>\n",
       "      <td>https://api.github.com/users/bradtraversy/rece...</td>\n",
       "      <td>User</td>\n",
       "      <td>False</td>\n",
       "      <td>mit</td>\n",
       "      <td>MIT License</td>\n",
       "      <td>MIT</td>\n",
       "      <td>https://api.github.com/licenses/mit</td>\n",
       "      <td>MDc6TGljZW5zZTEz</td>\n",
       "      <td>NaN</td>\n",
       "    </tr>\n",
       "    <tr>\n",
       "      <th>2020-04-30 01:45:29+00:00</th>\n",
       "      <td>260087808</td>\n",
       "      <td>MDEwOlJlcG9zaXRvcnkyNjAwODc4MDg=</td>\n",
       "      <td>jd_sign_bot</td>\n",
       "      <td>ruicky/jd_sign_bot</td>\n",
       "      <td>False</td>\n",
       "      <td>https://github.com/ruicky/jd_sign_bot</td>\n",
       "      <td>京东签到机器人</td>\n",
       "      <td>False</td>\n",
       "      <td>https://api.github.com/repos/ruicky/jd_sign_bot</td>\n",
       "      <td>https://api.github.com/repos/ruicky/jd_sign_bo...</td>\n",
       "      <td>...</td>\n",
       "      <td>https://api.github.com/users/ruicky/events{/pr...</td>\n",
       "      <td>https://api.github.com/users/ruicky/received_e...</td>\n",
       "      <td>User</td>\n",
       "      <td>False</td>\n",
       "      <td>NaN</td>\n",
       "      <td>NaN</td>\n",
       "      <td>NaN</td>\n",
       "      <td>NaN</td>\n",
       "      <td>NaN</td>\n",
       "      <td>NaN</td>\n",
       "    </tr>\n",
       "    <tr>\n",
       "      <th>2020-07-09 07:38:21+00:00</th>\n",
       "      <td>278296523</td>\n",
       "      <td>MDEwOlJlcG9zaXRvcnkyNzgyOTY1MjM=</td>\n",
       "      <td>Awesome-Profile-README-templates</td>\n",
       "      <td>kautukkundan/Awesome-Profile-README-templates</td>\n",
       "      <td>False</td>\n",
       "      <td>https://github.com/kautukkundan/Awesome-Profil...</td>\n",
       "      <td>A collection of awesome readme templates to di...</td>\n",
       "      <td>False</td>\n",
       "      <td>https://api.github.com/repos/kautukkundan/Awes...</td>\n",
       "      <td>https://api.github.com/repos/kautukkundan/Awes...</td>\n",
       "      <td>...</td>\n",
       "      <td>https://api.github.com/users/kautukkundan/even...</td>\n",
       "      <td>https://api.github.com/users/kautukkundan/rece...</td>\n",
       "      <td>User</td>\n",
       "      <td>False</td>\n",
       "      <td>NaN</td>\n",
       "      <td>NaN</td>\n",
       "      <td>NaN</td>\n",
       "      <td>NaN</td>\n",
       "      <td>NaN</td>\n",
       "      <td>NaN</td>\n",
       "    </tr>\n",
       "    <tr>\n",
       "      <th>2020-02-28 19:26:47+00:00</th>\n",
       "      <td>243838973</td>\n",
       "      <td>MDEwOlJlcG9zaXRvcnkyNDM4Mzg5NzM=</td>\n",
       "      <td>fastbook</td>\n",
       "      <td>fastai/fastbook</td>\n",
       "      <td>False</td>\n",
       "      <td>https://github.com/fastai/fastbook</td>\n",
       "      <td>The fastai book, published as Jupyter Notebooks</td>\n",
       "      <td>False</td>\n",
       "      <td>https://api.github.com/repos/fastai/fastbook</td>\n",
       "      <td>https://api.github.com/repos/fastai/fastbook/f...</td>\n",
       "      <td>...</td>\n",
       "      <td>https://api.github.com/users/fastai/events{/pr...</td>\n",
       "      <td>https://api.github.com/users/fastai/received_e...</td>\n",
       "      <td>Organization</td>\n",
       "      <td>False</td>\n",
       "      <td>gpl-3.0</td>\n",
       "      <td>GNU General Public License v3.0</td>\n",
       "      <td>GPL-3.0</td>\n",
       "      <td>https://api.github.com/licenses/gpl-3.0</td>\n",
       "      <td>MDc6TGljZW5zZTk=</td>\n",
       "      <td>NaN</td>\n",
       "    </tr>\n",
       "  </tbody>\n",
       "</table>\n",
       "<p>5 rows × 95 columns</p>\n",
       "</div>"
      ],
      "text/plain": [
       "                                  id                           node_id  \\\n",
       "created_at                                                               \n",
       "2020-06-15 10:40:25+00:00  272411321  MDEwOlJlcG9zaXRvcnkyNzI0MTEzMjE=   \n",
       "2020-05-06 14:40:35+00:00  261787758  MDEwOlJlcG9zaXRvcnkyNjE3ODc3NTg=   \n",
       "2020-04-30 01:45:29+00:00  260087808  MDEwOlJlcG9zaXRvcnkyNjAwODc4MDg=   \n",
       "2020-07-09 07:38:21+00:00  278296523  MDEwOlJlcG9zaXRvcnkyNzgyOTY1MjM=   \n",
       "2020-02-28 19:26:47+00:00  243838973  MDEwOlJlcG9zaXRvcnkyNDM4Mzg5NzM=   \n",
       "\n",
       "                                                       name  \\\n",
       "created_at                                                    \n",
       "2020-06-15 10:40:25+00:00                            IBMYes   \n",
       "2020-05-06 14:40:35+00:00   design-resources-for-developers   \n",
       "2020-04-30 01:45:29+00:00                       jd_sign_bot   \n",
       "2020-07-09 07:38:21+00:00  Awesome-Profile-README-templates   \n",
       "2020-02-28 19:26:47+00:00                          fastbook   \n",
       "\n",
       "                                                               full_name  \\\n",
       "created_at                                                                 \n",
       "2020-06-15 10:40:25+00:00                                 CCChieh/IBMYes   \n",
       "2020-05-06 14:40:35+00:00   bradtraversy/design-resources-for-developers   \n",
       "2020-04-30 01:45:29+00:00                             ruicky/jd_sign_bot   \n",
       "2020-07-09 07:38:21+00:00  kautukkundan/Awesome-Profile-README-templates   \n",
       "2020-02-28 19:26:47+00:00                                fastai/fastbook   \n",
       "\n",
       "                           private  \\\n",
       "created_at                           \n",
       "2020-06-15 10:40:25+00:00    False   \n",
       "2020-05-06 14:40:35+00:00    False   \n",
       "2020-04-30 01:45:29+00:00    False   \n",
       "2020-07-09 07:38:21+00:00    False   \n",
       "2020-02-28 19:26:47+00:00    False   \n",
       "\n",
       "                                                                    html_url  \\\n",
       "created_at                                                                     \n",
       "2020-06-15 10:40:25+00:00                  https://github.com/CCChieh/IBMYes   \n",
       "2020-05-06 14:40:35+00:00  https://github.com/bradtraversy/design-resourc...   \n",
       "2020-04-30 01:45:29+00:00              https://github.com/ruicky/jd_sign_bot   \n",
       "2020-07-09 07:38:21+00:00  https://github.com/kautukkundan/Awesome-Profil...   \n",
       "2020-02-28 19:26:47+00:00                 https://github.com/fastai/fastbook   \n",
       "\n",
       "                                                                 description  \\\n",
       "created_at                                                                     \n",
       "2020-06-15 10:40:25+00:00                                                NaN   \n",
       "2020-05-06 14:40:35+00:00  Curated list of design and UI resources from s...   \n",
       "2020-04-30 01:45:29+00:00                                            京东签到机器人   \n",
       "2020-07-09 07:38:21+00:00  A collection of awesome readme templates to di...   \n",
       "2020-02-28 19:26:47+00:00    The fastai book, published as Jupyter Notebooks   \n",
       "\n",
       "                            fork  \\\n",
       "created_at                         \n",
       "2020-06-15 10:40:25+00:00  False   \n",
       "2020-05-06 14:40:35+00:00  False   \n",
       "2020-04-30 01:45:29+00:00  False   \n",
       "2020-07-09 07:38:21+00:00  False   \n",
       "2020-02-28 19:26:47+00:00  False   \n",
       "\n",
       "                                                                         url  \\\n",
       "created_at                                                                     \n",
       "2020-06-15 10:40:25+00:00        https://api.github.com/repos/CCChieh/IBMYes   \n",
       "2020-05-06 14:40:35+00:00  https://api.github.com/repos/bradtraversy/desi...   \n",
       "2020-04-30 01:45:29+00:00    https://api.github.com/repos/ruicky/jd_sign_bot   \n",
       "2020-07-09 07:38:21+00:00  https://api.github.com/repos/kautukkundan/Awes...   \n",
       "2020-02-28 19:26:47+00:00       https://api.github.com/repos/fastai/fastbook   \n",
       "\n",
       "                                                                   forks_url  \\\n",
       "created_at                                                                     \n",
       "2020-06-15 10:40:25+00:00  https://api.github.com/repos/CCChieh/IBMYes/forks   \n",
       "2020-05-06 14:40:35+00:00  https://api.github.com/repos/bradtraversy/desi...   \n",
       "2020-04-30 01:45:29+00:00  https://api.github.com/repos/ruicky/jd_sign_bo...   \n",
       "2020-07-09 07:38:21+00:00  https://api.github.com/repos/kautukkundan/Awes...   \n",
       "2020-02-28 19:26:47+00:00  https://api.github.com/repos/fastai/fastbook/f...   \n",
       "\n",
       "                           ...  \\\n",
       "created_at                 ...   \n",
       "2020-06-15 10:40:25+00:00  ...   \n",
       "2020-05-06 14:40:35+00:00  ...   \n",
       "2020-04-30 01:45:29+00:00  ...   \n",
       "2020-07-09 07:38:21+00:00  ...   \n",
       "2020-02-28 19:26:47+00:00  ...   \n",
       "\n",
       "                                                            owner.events_url  \\\n",
       "created_at                                                                     \n",
       "2020-06-15 10:40:25+00:00  https://api.github.com/users/CCChieh/events{/p...   \n",
       "2020-05-06 14:40:35+00:00  https://api.github.com/users/bradtraversy/even...   \n",
       "2020-04-30 01:45:29+00:00  https://api.github.com/users/ruicky/events{/pr...   \n",
       "2020-07-09 07:38:21+00:00  https://api.github.com/users/kautukkundan/even...   \n",
       "2020-02-28 19:26:47+00:00  https://api.github.com/users/fastai/events{/pr...   \n",
       "\n",
       "                                                   owner.received_events_url  \\\n",
       "created_at                                                                     \n",
       "2020-06-15 10:40:25+00:00  https://api.github.com/users/CCChieh/received_...   \n",
       "2020-05-06 14:40:35+00:00  https://api.github.com/users/bradtraversy/rece...   \n",
       "2020-04-30 01:45:29+00:00  https://api.github.com/users/ruicky/received_e...   \n",
       "2020-07-09 07:38:21+00:00  https://api.github.com/users/kautukkundan/rece...   \n",
       "2020-02-28 19:26:47+00:00  https://api.github.com/users/fastai/received_e...   \n",
       "\n",
       "                             owner.type owner.site_admin license.key  \\\n",
       "created_at                                                             \n",
       "2020-06-15 10:40:25+00:00          User            False  apache-2.0   \n",
       "2020-05-06 14:40:35+00:00          User            False         mit   \n",
       "2020-04-30 01:45:29+00:00          User            False         NaN   \n",
       "2020-07-09 07:38:21+00:00          User            False         NaN   \n",
       "2020-02-28 19:26:47+00:00  Organization            False     gpl-3.0   \n",
       "\n",
       "                                              license.name license.spdx_id  \\\n",
       "created_at                                                                   \n",
       "2020-06-15 10:40:25+00:00               Apache License 2.0      Apache-2.0   \n",
       "2020-05-06 14:40:35+00:00                      MIT License             MIT   \n",
       "2020-04-30 01:45:29+00:00                              NaN             NaN   \n",
       "2020-07-09 07:38:21+00:00                              NaN             NaN   \n",
       "2020-02-28 19:26:47+00:00  GNU General Public License v3.0         GPL-3.0   \n",
       "\n",
       "                                                          license.url  \\\n",
       "created_at                                                              \n",
       "2020-06-15 10:40:25+00:00  https://api.github.com/licenses/apache-2.0   \n",
       "2020-05-06 14:40:35+00:00         https://api.github.com/licenses/mit   \n",
       "2020-04-30 01:45:29+00:00                                         NaN   \n",
       "2020-07-09 07:38:21+00:00                                         NaN   \n",
       "2020-02-28 19:26:47+00:00     https://api.github.com/licenses/gpl-3.0   \n",
       "\n",
       "                            license.node_id license  \n",
       "created_at                                           \n",
       "2020-06-15 10:40:25+00:00  MDc6TGljZW5zZTI=     NaN  \n",
       "2020-05-06 14:40:35+00:00  MDc6TGljZW5zZTEz     NaN  \n",
       "2020-04-30 01:45:29+00:00               NaN     NaN  \n",
       "2020-07-09 07:38:21+00:00               NaN     NaN  \n",
       "2020-02-28 19:26:47+00:00  MDc6TGljZW5zZTk=     NaN  \n",
       "\n",
       "[5 rows x 95 columns]"
      ]
     },
     "execution_count": 57,
     "metadata": {},
     "output_type": "execute_result"
    }
   ],
   "source": [
    "df.head()"
   ]
  },
  {
   "cell_type": "code",
   "execution_count": 71,
   "metadata": {},
   "outputs": [],
   "source": [
    "## cleaning the df \n",
    "df[\"clean\"] = df[\"description\"].apply(str)\n",
    "df[\"clean\"] = df[\"clean\"].apply(lambda x:clean_text(text=x, stopwords=stopwords.words(\"english\")))"
   ]
  },
  {
   "cell_type": "code",
   "execution_count": 91,
   "metadata": {},
   "outputs": [],
   "source": [
    "## detecting the language \n",
    "df[\"lang\"] = df.apply(lambda x:detect_lang(x[\"description\"]), axis=1)"
   ]
  },
  {
   "cell_type": "code",
   "execution_count": 95,
   "metadata": {},
   "outputs": [],
   "source": [
    "df = df[df[\"lang\"]== \"en\"]"
   ]
  },
  {
   "cell_type": "code",
   "execution_count": 58,
   "metadata": {},
   "outputs": [],
   "source": [
    "## aggregate data by language and year, then count the no of occuurences\n",
    "dx = pd.DataFrame(df.groupby([\"language\", df.index.year])[\"language\"].count())"
   ]
  },
  {
   "cell_type": "code",
   "execution_count": 59,
   "metadata": {},
   "outputs": [
    {
     "data": {
      "text/html": [
       "<div>\n",
       "<style scoped>\n",
       "    .dataframe tbody tr th:only-of-type {\n",
       "        vertical-align: middle;\n",
       "    }\n",
       "\n",
       "    .dataframe tbody tr th {\n",
       "        vertical-align: top;\n",
       "    }\n",
       "\n",
       "    .dataframe thead th {\n",
       "        text-align: right;\n",
       "    }\n",
       "</style>\n",
       "<table border=\"1\" class=\"dataframe\">\n",
       "  <thead>\n",
       "    <tr style=\"text-align: right;\">\n",
       "      <th></th>\n",
       "      <th></th>\n",
       "      <th>language</th>\n",
       "    </tr>\n",
       "    <tr>\n",
       "      <th>language</th>\n",
       "      <th>created_at</th>\n",
       "      <th></th>\n",
       "    </tr>\n",
       "  </thead>\n",
       "  <tbody>\n",
       "    <tr>\n",
       "      <th>ASL</th>\n",
       "      <th>2020</th>\n",
       "      <td>1</td>\n",
       "    </tr>\n",
       "    <tr>\n",
       "      <th>Apex</th>\n",
       "      <th>2017</th>\n",
       "      <td>1</td>\n",
       "    </tr>\n",
       "    <tr>\n",
       "      <th>AppleScript</th>\n",
       "      <th>2020</th>\n",
       "      <td>1</td>\n",
       "    </tr>\n",
       "    <tr>\n",
       "      <th rowspan=\"2\" valign=\"top\">Assembly</th>\n",
       "      <th>2017</th>\n",
       "      <td>2</td>\n",
       "    </tr>\n",
       "    <tr>\n",
       "      <th>2018</th>\n",
       "      <td>2</td>\n",
       "    </tr>\n",
       "  </tbody>\n",
       "</table>\n",
       "</div>"
      ],
      "text/plain": [
       "                        language\n",
       "language    created_at          \n",
       "ASL         2020               1\n",
       "Apex        2017               1\n",
       "AppleScript 2020               1\n",
       "Assembly    2017               2\n",
       "            2018               2"
      ]
     },
     "execution_count": 59,
     "metadata": {},
     "output_type": "execute_result"
    }
   ],
   "source": [
    "dx.head()"
   ]
  },
  {
   "cell_type": "code",
   "execution_count": 60,
   "metadata": {},
   "outputs": [
    {
     "data": {
      "image/png": "[encoded data removed]",
      "text/plain": [
       "<Figure size 1440x360 with 1 Axes>"
      ]
     },
     "metadata": {
      "needs_background": "light"
     },
     "output_type": "display_data"
    }
   ],
   "source": [
    "## plotting\n",
    "# plt.figure(figsize=(20,50))\n",
    "\n",
    "fig, ax = plt.subplots()\n",
    "\n",
    "dx.unstack().plot(kind=\"bar\", title=\"Programming Languages per Year\", ax=ax, figsize=(20, 5))\n",
    "\n",
    "ax.legend([\"2016\", \"2017\", \"2018\", \"2019\", \"2020\"], title=\"Year\")\n",
    "\n",
    "plt.show()"
   ]
  },
  {
   "cell_type": "code",
   "execution_count": 97,
   "metadata": {},
   "outputs": [],
   "source": [
    "## filtering past three years\n",
    "my_list = [\"2018\", \"2019\", \"2020\"]\n",
    "filter_df  = df[df.index.year.isin(my_list)]"
   ]
  },
  {
   "cell_type": "code",
   "execution_count": 65,
   "metadata": {},
   "outputs": [],
   "source": [
    "## aggregate data by language and year, then count the no of occuurences\n",
    "new_dx = pd.DataFrame(filter_df.groupby([\"language\", filter_df.index.year])[\"language\"].count())"
   ]
  },
  {
   "cell_type": "code",
   "execution_count": 67,
   "metadata": {},
   "outputs": [
    {
     "data": {
      "image/png": "[encoded data removed]",
      "text/plain": [
       "<Figure size 1440x360 with 1 Axes>"
      ]
     },
     "metadata": {
      "needs_background": "light"
     },
     "output_type": "display_data"
    }
   ],
   "source": [
    "## plotting past three years data\n",
    "# plt.figure(figsize=(20,50))\n",
    "\n",
    "fig, ax = plt.subplots()\n",
    "\n",
    "new_dx.unstack().plot(kind=\"bar\", title=\"Programming Languages per Year\", ax=ax, figsize=(20, 5))\n",
    "\n",
    "ax.legend([\"2018\", \"2019\", \"2020\"], title=\"Year\")\n",
    "\n",
    "plt.show()"
   ]
  },
  {
   "cell_type": "code",
   "execution_count": 96,
   "metadata": {},
   "outputs": [
    {
     "name": "stdout",
     "output_type": "stream",
     "text": [
      "practice\n",
      "{nan, 'JavaScript', 'Python', 'CSS', 'Java', 'Jupyter Notebook', 'Kotlin', 'Dart', 'Shell', 'HTML', 'Go'}\n",
      "\n",
      "\n",
      "open source\n",
      "{nan, 'JavaScript', 'C#', 'C', 'Python', 'Ruby', 'Java', 'PHP', 'Jupyter Notebook', 'Rich Text Format', 'TypeScript', 'PowerShell', 'GDScript', 'CSS', 'Swift', 'Shell', 'HTML', 'Perl', 'Go', 'Scala', 'C++', 'Kotlin'}\n",
      "\n",
      "\n",
      "deep learning\n",
      "{nan, 'Scala', 'Python', 'C++', 'PureBasic', 'TeX', 'Java', 'Jupyter Notebook', 'HTML'}\n",
      "\n",
      "\n",
      "machine learning\n",
      "{nan, 'PowerShell', 'JavaScript', 'Python', 'Jsonnet', 'C++', 'C#', 'CSS', 'PureBasic', 'Java', 'PHP', 'Jupyter Notebook', 'HTML', 'C'}\n",
      "\n",
      "\n",
      "software\n",
      "{nan, 'JavaScript', 'V', 'Python', 'C++', 'C#', 'Lua', 'Java', 'PHP', 'Jupyter Notebook', 'Shell', 'HTML', 'C'}\n",
      "\n",
      "\n"
     ]
    }
   ],
   "source": [
    "## Programming Languages used in top technologies\n",
    "tech_lst = [\"practice\", \"open source\", \"deep learning\", \"machine learning\", \"software\"]\n",
    "\n",
    "for tech in tech_lst:\n",
    "    print(tech)\n",
    "    print(set(df[df[\"clean\"].str.contains(tech)][\"language\"]))\n",
    "    print(\"\\n\")"
   ]
  },
  {
   "cell_type": "code",
   "execution_count": 98,
   "metadata": {},
   "outputs": [
    {
     "name": "stdout",
     "output_type": "stream",
     "text": [
      "practice\n",
      "{nan, 'JavaScript', 'Python', 'Java', 'Kotlin', 'Dart', 'Shell'}\n",
      "\n",
      "\n",
      "open source\n",
      "{nan, 'PowerShell', 'JavaScript', 'Python', 'C++', 'C#', 'CSS', 'Java', 'PHP', 'Jupyter Notebook', 'Shell', 'HTML', 'C', 'Go'}\n",
      "\n",
      "\n",
      "deep learning\n",
      "{nan, 'Python', 'C++', 'PureBasic', 'TeX', 'Jupyter Notebook'}\n",
      "\n",
      "\n",
      "machine learning\n",
      "{nan, 'PowerShell', 'Python', 'C#', 'CSS', 'Java', 'Jupyter Notebook', 'HTML'}\n",
      "\n",
      "\n",
      "software\n",
      "{'JavaScript', 'V', 'Python', 'C++', 'Java', 'Jupyter Notebook', 'HTML'}\n",
      "\n",
      "\n"
     ]
    }
   ],
   "source": [
    "## Programming Languages used in top technologies\n",
    "tech_lst = [\"practice\", \"open source\", \"deep learning\", \"machine learning\", \"software\"]\n",
    "\n",
    "for tech in tech_lst:\n",
    "    print(tech)\n",
    "    print(set(filter_df[filter_df[\"clean\"].str.contains(tech)][\"language\"]))\n",
    "    print(\"\\n\")"
   ]
  },
  {
   "cell_type": "markdown",
   "metadata": {},
   "source": [
    "#### Top repo by technologies"
   ]
  },
  {
   "cell_type": "code",
   "execution_count": 99,
   "metadata": {},
   "outputs": [
    {
     "name": "stdout",
     "output_type": "stream",
     "text": [
      "practice\n",
      "nodebestpractices\n",
      ":white_check_mark:  The Node.js best practices list (December 2020)\n",
      "\n",
      "\n",
      "project-guidelines\n",
      "A set of best practices for JavaScript projects\n",
      "\n",
      "\n",
      "lighthouse\n",
      "Automated auditing, performance metrics, and best practices for the web.\n",
      "\n",
      "\n",
      "eng-practices\n",
      "Google's Engineering Practices documentation\n",
      "\n",
      "\n",
      "Paddle\n",
      "PArallel Distributed Deep LEarning: Machine Learning Framework from Industrial Practice （『飞桨』核心框架，深度学习&机器学习高性能单机、分布式训练和跨平台部署）\n",
      "\n",
      "\n",
      "open source\n",
      "freecodecamp.cn\n",
      "FCC China open source codebase and curriculum. Learn to code and help nonprofits.\n",
      "\n",
      "\n",
      "open-source-mac-os-apps\n",
      "🚀 Awesome list of open source applications for macOS. https://t.me/opensourcemacosapps\n",
      "\n",
      "\n",
      "openpilot\n",
      "openpilot is an open source driver assistance system. openpilot performs the functions of Automated Lane Centering and Adaptive Cruise Control for over 85 supported car makes and models.\n",
      "\n",
      "\n",
      "docusaurus\n",
      "Easy to maintain open source documentation websites.\n",
      "\n",
      "\n",
      "joplin\n",
      "Joplin - an open source note taking and to-do application with synchronization capabilities for Windows, macOS, Linux, Android and iOS. Forum: https://discourse.joplinapp.org/\n",
      "\n",
      "\n",
      "deep learning\n",
      "deeplearningbook-chinese\n",
      "Deep Learning Book Chinese Translation\n",
      "\n",
      "\n",
      "Deep-Learning-Papers-Reading-Roadmap\n",
      "Deep Learning papers reading roadmap for anyone who are eager to learn this amazing tech!\n",
      "\n",
      "\n",
      "awesome-deep-learning-papers\n",
      "The most cited deep learning papers\n",
      "\n",
      "\n",
      "handson-ml\n",
      "A series of Jupyter notebooks that walk you through the fundamentals of Machine Learning and Deep Learning in python using Scikit-Learn and TensorFlow.\n",
      "\n",
      "\n",
      "fastai\n",
      "The fastai deep learning library, plus lessons and tutorials\n",
      "\n",
      "\n",
      "machine learning\n",
      "machine-learning-for-software-engineers\n",
      "A complete daily plan for studying to become a machine learning engineer.\n",
      "\n",
      "\n",
      "handson-ml\n",
      "A series of Jupyter notebooks that walk you through the fundamentals of Machine Learning and Deep Learning in python using Scikit-Learn and TensorFlow.\n",
      "\n",
      "\n",
      "ML-From-Scratch\n",
      "Machine Learning From Scratch. Bare bones NumPy implementations of machine learning models and algorithms with a focus on accessibility. Aims to cover everything from linear regression to deep learning.\n",
      "\n",
      "\n",
      "Paddle\n",
      "PArallel Distributed Deep LEarning: Machine Learning Framework from Industrial Practice （『飞桨』核心框架，深度学习&机器学习高性能单机、分布式训练和跨平台部署）\n",
      "\n",
      "\n",
      "handson-ml2\n",
      "A series of Jupyter notebooks that walk you through the fundamentals of Machine Learning and Deep Learning in Python using Scikit-Learn, Keras and TensorFlow 2.\n",
      "\n",
      "\n",
      "software\n",
      "coding-interview-university\n",
      "A complete computer science study plan to become a software engineer.\n",
      "\n",
      "\n",
      "public-apis\n",
      "A collective list of free APIs for use in software and web development.\n",
      "\n",
      "\n",
      "every-programmer-should-know\n",
      "A collection of (mostly) technical things every software developer should know about\n",
      "\n",
      "\n",
      "awesome-mac\n",
      " Now we have become very big, Different from the original idea. Collect premium software in various categories.\n",
      "\n",
      "\n",
      "faceswap\n",
      "Deepfakes Software For All\n",
      "\n",
      "\n"
     ]
    }
   ],
   "source": [
    "tech_lst = [\"practice\", \"open source\", \"deep learning\", \"machine learning\", \"software\"]\n",
    "\n",
    "result = df.sort_values(by=\"watchers_count\", ascending=False)\n",
    "\n",
    "for tech in tech_lst:\n",
    "    subset = result[result[\"clean\"].str.contains(tech)].head(5)\n",
    "    print(tech)\n",
    "    for i,line in subset.iterrows():\n",
    "        print(line[\"name\"])\n",
    "        print(line[\"description\"])\n",
    "        print(\"\\n\")"
   ]
  },
  {
   "cell_type": "markdown",
   "metadata": {},
   "source": [
    "#### Compare tech by forks, watchers count, open issues and size"
   ]
  },
  {
   "cell_type": "markdown",
   "metadata": {},
   "source": [
    "##### past 5 year data "
   ]
  },
  {
   "cell_type": "code",
   "execution_count": 300,
   "metadata": {},
   "outputs": [],
   "source": [
    "## creating a suitable data frame\n",
    "tmpdf1 = df[df[\"clean\"].str.contains(\"deep learning\")][[\"stargazers_count\",\"watchers_count\", \"forks_count\", \"open_issues_count\", \"size\"]]\n",
    "tmpdf2 = df[df[\"clean\"].str.contains(\"open source\")][[\"stargazers_count\",\"watchers_count\", \"forks_count\", \"open_issues_count\", \"size\"]]\n",
    "\n",
    "tmpdf1[\"tech\"] = \"deep learning\"\n",
    "tmpdf2[\"tech\"] = \"open source\""
   ]
  },
  {
   "cell_type": "code",
   "execution_count": 301,
   "metadata": {},
   "outputs": [
    {
     "data": {
      "text/html": [
       "<div>\n",
       "<style scoped>\n",
       "    .dataframe tbody tr th:only-of-type {\n",
       "        vertical-align: middle;\n",
       "    }\n",
       "\n",
       "    .dataframe tbody tr th {\n",
       "        vertical-align: top;\n",
       "    }\n",
       "\n",
       "    .dataframe thead th {\n",
       "        text-align: right;\n",
       "    }\n",
       "</style>\n",
       "<table border=\"1\" class=\"dataframe\">\n",
       "  <thead>\n",
       "    <tr style=\"text-align: right;\">\n",
       "      <th></th>\n",
       "      <th>stargazers_count</th>\n",
       "      <th>watchers_count</th>\n",
       "      <th>forks_count</th>\n",
       "      <th>open_issues_count</th>\n",
       "      <th>size</th>\n",
       "      <th>tech</th>\n",
       "    </tr>\n",
       "    <tr>\n",
       "      <th>created_at</th>\n",
       "      <th></th>\n",
       "      <th></th>\n",
       "      <th></th>\n",
       "      <th></th>\n",
       "      <th></th>\n",
       "      <th></th>\n",
       "    </tr>\n",
       "  </thead>\n",
       "  <tbody>\n",
       "    <tr>\n",
       "      <th>2020-02-27 07:11:46+00:00</th>\n",
       "      <td>3029</td>\n",
       "      <td>3029</td>\n",
       "      <td>727</td>\n",
       "      <td>4</td>\n",
       "      <td>33326</td>\n",
       "      <td>deep learning</td>\n",
       "    </tr>\n",
       "    <tr>\n",
       "      <th>2020-05-01 07:45:20+00:00</th>\n",
       "      <td>1797</td>\n",
       "      <td>1797</td>\n",
       "      <td>616</td>\n",
       "      <td>5</td>\n",
       "      <td>60234</td>\n",
       "      <td>deep learning</td>\n",
       "    </tr>\n",
       "    <tr>\n",
       "      <th>2020-02-11 08:43:48+00:00</th>\n",
       "      <td>1780</td>\n",
       "      <td>1780</td>\n",
       "      <td>341</td>\n",
       "      <td>46</td>\n",
       "      <td>284855</td>\n",
       "      <td>deep learning</td>\n",
       "    </tr>\n",
       "    <tr>\n",
       "      <th>2020-02-24 23:59:44+00:00</th>\n",
       "      <td>1990</td>\n",
       "      <td>1990</td>\n",
       "      <td>336</td>\n",
       "      <td>2</td>\n",
       "      <td>3555</td>\n",
       "      <td>deep learning</td>\n",
       "    </tr>\n",
       "    <tr>\n",
       "      <th>2020-02-11 08:43:48+00:00</th>\n",
       "      <td>1780</td>\n",
       "      <td>1780</td>\n",
       "      <td>341</td>\n",
       "      <td>46</td>\n",
       "      <td>284855</td>\n",
       "      <td>deep learning</td>\n",
       "    </tr>\n",
       "    <tr>\n",
       "      <th>...</th>\n",
       "      <td>...</td>\n",
       "      <td>...</td>\n",
       "      <td>...</td>\n",
       "      <td>...</td>\n",
       "      <td>...</td>\n",
       "      <td>...</td>\n",
       "    </tr>\n",
       "    <tr>\n",
       "      <th>2016-11-05 04:22:54+00:00</th>\n",
       "      <td>3707</td>\n",
       "      <td>3707</td>\n",
       "      <td>987</td>\n",
       "      <td>18</td>\n",
       "      <td>119148</td>\n",
       "      <td>open source</td>\n",
       "    </tr>\n",
       "    <tr>\n",
       "      <th>2016-02-18 21:16:19+00:00</th>\n",
       "      <td>5103</td>\n",
       "      <td>5103</td>\n",
       "      <td>975</td>\n",
       "      <td>306</td>\n",
       "      <td>67402</td>\n",
       "      <td>open source</td>\n",
       "    </tr>\n",
       "    <tr>\n",
       "      <th>2016-10-06 08:46:29+00:00</th>\n",
       "      <td>3466</td>\n",
       "      <td>3466</td>\n",
       "      <td>958</td>\n",
       "      <td>209</td>\n",
       "      <td>250260</td>\n",
       "      <td>open source</td>\n",
       "    </tr>\n",
       "    <tr>\n",
       "      <th>2016-04-23 03:54:26+00:00</th>\n",
       "      <td>15241</td>\n",
       "      <td>15241</td>\n",
       "      <td>949</td>\n",
       "      <td>618</td>\n",
       "      <td>63037</td>\n",
       "      <td>open source</td>\n",
       "    </tr>\n",
       "    <tr>\n",
       "      <th>2016-02-28 14:35:23+00:00</th>\n",
       "      <td>943</td>\n",
       "      <td>943</td>\n",
       "      <td>916</td>\n",
       "      <td>101</td>\n",
       "      <td>201710</td>\n",
       "      <td>open source</td>\n",
       "    </tr>\n",
       "  </tbody>\n",
       "</table>\n",
       "<p>208 rows × 6 columns</p>\n",
       "</div>"
      ],
      "text/plain": [
       "                           stargazers_count  watchers_count  forks_count  \\\n",
       "created_at                                                                 \n",
       "2020-02-27 07:11:46+00:00              3029            3029          727   \n",
       "2020-05-01 07:45:20+00:00              1797            1797          616   \n",
       "2020-02-11 08:43:48+00:00              1780            1780          341   \n",
       "2020-02-24 23:59:44+00:00              1990            1990          336   \n",
       "2020-02-11 08:43:48+00:00              1780            1780          341   \n",
       "...                                     ...             ...          ...   \n",
       "2016-11-05 04:22:54+00:00              3707            3707          987   \n",
       "2016-02-18 21:16:19+00:00              5103            5103          975   \n",
       "2016-10-06 08:46:29+00:00              3466            3466          958   \n",
       "2016-04-23 03:54:26+00:00             15241           15241          949   \n",
       "2016-02-28 14:35:23+00:00               943             943          916   \n",
       "\n",
       "                           open_issues_count    size           tech  \n",
       "created_at                                                           \n",
       "2020-02-27 07:11:46+00:00                  4   33326  deep learning  \n",
       "2020-05-01 07:45:20+00:00                  5   60234  deep learning  \n",
       "2020-02-11 08:43:48+00:00                 46  284855  deep learning  \n",
       "2020-02-24 23:59:44+00:00                  2    3555  deep learning  \n",
       "2020-02-11 08:43:48+00:00                 46  284855  deep learning  \n",
       "...                                      ...     ...            ...  \n",
       "2016-11-05 04:22:54+00:00                 18  119148    open source  \n",
       "2016-02-18 21:16:19+00:00                306   67402    open source  \n",
       "2016-10-06 08:46:29+00:00                209  250260    open source  \n",
       "2016-04-23 03:54:26+00:00                618   63037    open source  \n",
       "2016-02-28 14:35:23+00:00                101  201710    open source  \n",
       "\n",
       "[208 rows x 6 columns]"
      ]
     },
     "execution_count": 301,
     "metadata": {},
     "output_type": "execute_result"
    }
   ],
   "source": [
    "new_df = pd.concat([tmpdf1, tmpdf2], axis=0)\n",
    "new_df"
   ]
  },
  {
   "cell_type": "code",
   "execution_count": 302,
   "metadata": {},
   "outputs": [
    {
     "data": {
      "text/html": [
       "<div>\n",
       "<style scoped>\n",
       "    .dataframe tbody tr th:only-of-type {\n",
       "        vertical-align: middle;\n",
       "    }\n",
       "\n",
       "    .dataframe tbody tr th {\n",
       "        vertical-align: top;\n",
       "    }\n",
       "\n",
       "    .dataframe thead th {\n",
       "        text-align: right;\n",
       "    }\n",
       "</style>\n",
       "<table border=\"1\" class=\"dataframe\">\n",
       "  <thead>\n",
       "    <tr style=\"text-align: right;\">\n",
       "      <th></th>\n",
       "      <th>stargazers_count</th>\n",
       "      <th>watchers_count</th>\n",
       "      <th>forks_count</th>\n",
       "      <th>open_issues_count</th>\n",
       "      <th>size</th>\n",
       "    </tr>\n",
       "    <tr>\n",
       "      <th>tech</th>\n",
       "      <th></th>\n",
       "      <th></th>\n",
       "      <th></th>\n",
       "      <th></th>\n",
       "      <th></th>\n",
       "    </tr>\n",
       "  </thead>\n",
       "  <tbody>\n",
       "    <tr>\n",
       "      <th>deep learning</th>\n",
       "      <td>5585.285714</td>\n",
       "      <td>5585.285714</td>\n",
       "      <td>1810.937500</td>\n",
       "      <td>108.553571</td>\n",
       "      <td>92191.053571</td>\n",
       "    </tr>\n",
       "    <tr>\n",
       "      <th>open source</th>\n",
       "      <td>5395.083333</td>\n",
       "      <td>5395.083333</td>\n",
       "      <td>1762.041667</td>\n",
       "      <td>295.437500</td>\n",
       "      <td>279728.770833</td>\n",
       "    </tr>\n",
       "  </tbody>\n",
       "</table>\n",
       "</div>"
      ],
      "text/plain": [
       "               stargazers_count  watchers_count  forks_count  \\\n",
       "tech                                                           \n",
       "deep learning       5585.285714     5585.285714  1810.937500   \n",
       "open source         5395.083333     5395.083333  1762.041667   \n",
       "\n",
       "               open_issues_count           size  \n",
       "tech                                             \n",
       "deep learning         108.553571   92191.053571  \n",
       "open source           295.437500  279728.770833  "
      ]
     },
     "execution_count": 302,
     "metadata": {},
     "output_type": "execute_result"
    }
   ],
   "source": [
    "## Computing statistics\n",
    "new_df.groupby(\"tech\").mean()"
   ]
  },
  {
   "cell_type": "code",
   "execution_count": 247,
   "metadata": {},
   "outputs": [
    {
     "data": {
      "text/html": [
       "<div>\n",
       "<style scoped>\n",
       "    .dataframe tbody tr th:only-of-type {\n",
       "        vertical-align: middle;\n",
       "    }\n",
       "\n",
       "    .dataframe tbody tr th {\n",
       "        vertical-align: top;\n",
       "    }\n",
       "\n",
       "    .dataframe thead th {\n",
       "        text-align: right;\n",
       "    }\n",
       "</style>\n",
       "<table border=\"1\" class=\"dataframe\">\n",
       "  <thead>\n",
       "    <tr style=\"text-align: right;\">\n",
       "      <th></th>\n",
       "      <th>stargazers_count</th>\n",
       "      <th>watchers_count</th>\n",
       "      <th>forks_count</th>\n",
       "      <th>open_issues_count</th>\n",
       "      <th>size</th>\n",
       "    </tr>\n",
       "    <tr>\n",
       "      <th>tech</th>\n",
       "      <th></th>\n",
       "      <th></th>\n",
       "      <th></th>\n",
       "      <th></th>\n",
       "      <th></th>\n",
       "    </tr>\n",
       "  </thead>\n",
       "  <tbody>\n",
       "    <tr>\n",
       "      <th>deep learning</th>\n",
       "      <td>11</td>\n",
       "      <td>11</td>\n",
       "      <td>97</td>\n",
       "      <td>0</td>\n",
       "      <td>0</td>\n",
       "    </tr>\n",
       "    <tr>\n",
       "      <th>open source</th>\n",
       "      <td>4</td>\n",
       "      <td>4</td>\n",
       "      <td>112</td>\n",
       "      <td>0</td>\n",
       "      <td>222</td>\n",
       "    </tr>\n",
       "  </tbody>\n",
       "</table>\n",
       "</div>"
      ],
      "text/plain": [
       "               stargazers_count  watchers_count  forks_count  \\\n",
       "tech                                                           \n",
       "deep learning                11              11           97   \n",
       "open source                   4               4          112   \n",
       "\n",
       "               open_issues_count  size  \n",
       "tech                                    \n",
       "deep learning                  0     0  \n",
       "open source                    0   222  "
      ]
     },
     "execution_count": 247,
     "metadata": {},
     "output_type": "execute_result"
    }
   ],
   "source": [
    "new_df.groupby(\"tech\").min()"
   ]
  },
  {
   "cell_type": "code",
   "execution_count": 303,
   "metadata": {},
   "outputs": [
    {
     "data": {
      "text/html": [
       "<div>\n",
       "<style scoped>\n",
       "    .dataframe tbody tr th:only-of-type {\n",
       "        vertical-align: middle;\n",
       "    }\n",
       "\n",
       "    .dataframe tbody tr th {\n",
       "        vertical-align: top;\n",
       "    }\n",
       "\n",
       "    .dataframe thead th {\n",
       "        text-align: right;\n",
       "    }\n",
       "</style>\n",
       "<table border=\"1\" class=\"dataframe\">\n",
       "  <thead>\n",
       "    <tr style=\"text-align: right;\">\n",
       "      <th></th>\n",
       "      <th>stargazers_count</th>\n",
       "      <th>watchers_count</th>\n",
       "      <th>forks_count</th>\n",
       "      <th>open_issues_count</th>\n",
       "      <th>size</th>\n",
       "    </tr>\n",
       "    <tr>\n",
       "      <th>tech</th>\n",
       "      <th></th>\n",
       "      <th></th>\n",
       "      <th></th>\n",
       "      <th></th>\n",
       "      <th></th>\n",
       "    </tr>\n",
       "  </thead>\n",
       "  <tbody>\n",
       "    <tr>\n",
       "      <th>deep learning</th>\n",
       "      <td>30344</td>\n",
       "      <td>30344</td>\n",
       "      <td>11779</td>\n",
       "      <td>2357</td>\n",
       "      <td>1806645</td>\n",
       "    </tr>\n",
       "    <tr>\n",
       "      <th>open source</th>\n",
       "      <td>36706</td>\n",
       "      <td>36706</td>\n",
       "      <td>33313</td>\n",
       "      <td>5867</td>\n",
       "      <td>12195805</td>\n",
       "    </tr>\n",
       "  </tbody>\n",
       "</table>\n",
       "</div>"
      ],
      "text/plain": [
       "               stargazers_count  watchers_count  forks_count  \\\n",
       "tech                                                           \n",
       "deep learning             30344           30344        11779   \n",
       "open source               36706           36706        33313   \n",
       "\n",
       "               open_issues_count      size  \n",
       "tech                                        \n",
       "deep learning               2357   1806645  \n",
       "open source                 5867  12195805  "
      ]
     },
     "execution_count": 303,
     "metadata": {},
     "output_type": "execute_result"
    }
   ],
   "source": [
    "new_df.groupby(\"tech\").max()"
   ]
  },
  {
   "cell_type": "markdown",
   "metadata": {},
   "source": [
    "###### past 3 years data"
   ]
  },
  {
   "cell_type": "code",
   "execution_count": 249,
   "metadata": {},
   "outputs": [],
   "source": [
    "## creating a suitable data frame\n",
    "tmpdf1 = filter_df[filter_df[\"clean\"].str.contains(\"deep learning\")][[\"stargazers_count\",\"watchers_count\", \"forks_count\", \"open_issues_count\", \"size\"]]\n",
    "tmpdf2 = filter_df[filter_df[\"clean\"].str.contains(\"open source\")][[\"stargazers_count\",\"watchers_count\", \"forks_count\", \"open_issues_count\", \"size\"]]\n",
    "\n",
    "tmpdf1[\"tech\"] = \"deep learning\"\n",
    "tmpdf2[\"tech\"] = \"open source\""
   ]
  },
  {
   "cell_type": "code",
   "execution_count": 291,
   "metadata": {},
   "outputs": [
    {
     "data": {
      "text/html": [
       "<div>\n",
       "<style scoped>\n",
       "    .dataframe tbody tr th:only-of-type {\n",
       "        vertical-align: middle;\n",
       "    }\n",
       "\n",
       "    .dataframe tbody tr th {\n",
       "        vertical-align: top;\n",
       "    }\n",
       "\n",
       "    .dataframe thead th {\n",
       "        text-align: right;\n",
       "    }\n",
       "</style>\n",
       "<table border=\"1\" class=\"dataframe\">\n",
       "  <thead>\n",
       "    <tr style=\"text-align: right;\">\n",
       "      <th></th>\n",
       "      <th>stargazers_count</th>\n",
       "      <th>watchers_count</th>\n",
       "      <th>forks_count</th>\n",
       "      <th>open_issues_count</th>\n",
       "      <th>size</th>\n",
       "      <th>tech</th>\n",
       "    </tr>\n",
       "    <tr>\n",
       "      <th>created_at</th>\n",
       "      <th></th>\n",
       "      <th></th>\n",
       "      <th></th>\n",
       "      <th></th>\n",
       "      <th></th>\n",
       "      <th></th>\n",
       "    </tr>\n",
       "  </thead>\n",
       "  <tbody>\n",
       "    <tr>\n",
       "      <th>2020-02-27 07:11:46+00:00</th>\n",
       "      <td>3029</td>\n",
       "      <td>3029</td>\n",
       "      <td>727</td>\n",
       "      <td>4</td>\n",
       "      <td>33326</td>\n",
       "      <td>deep learning</td>\n",
       "    </tr>\n",
       "    <tr>\n",
       "      <th>2020-05-01 07:45:20+00:00</th>\n",
       "      <td>1797</td>\n",
       "      <td>1797</td>\n",
       "      <td>616</td>\n",
       "      <td>5</td>\n",
       "      <td>60234</td>\n",
       "      <td>deep learning</td>\n",
       "    </tr>\n",
       "    <tr>\n",
       "      <th>2020-02-11 08:43:48+00:00</th>\n",
       "      <td>1780</td>\n",
       "      <td>1780</td>\n",
       "      <td>341</td>\n",
       "      <td>46</td>\n",
       "      <td>284855</td>\n",
       "      <td>deep learning</td>\n",
       "    </tr>\n",
       "    <tr>\n",
       "      <th>2020-02-24 23:59:44+00:00</th>\n",
       "      <td>1990</td>\n",
       "      <td>1990</td>\n",
       "      <td>336</td>\n",
       "      <td>2</td>\n",
       "      <td>3555</td>\n",
       "      <td>deep learning</td>\n",
       "    </tr>\n",
       "    <tr>\n",
       "      <th>2020-02-11 08:43:48+00:00</th>\n",
       "      <td>1780</td>\n",
       "      <td>1780</td>\n",
       "      <td>341</td>\n",
       "      <td>46</td>\n",
       "      <td>284855</td>\n",
       "      <td>deep learning</td>\n",
       "    </tr>\n",
       "    <tr>\n",
       "      <th>...</th>\n",
       "      <td>...</td>\n",
       "      <td>...</td>\n",
       "      <td>...</td>\n",
       "      <td>...</td>\n",
       "      <td>...</td>\n",
       "      <td>...</td>\n",
       "    </tr>\n",
       "    <tr>\n",
       "      <th>2018-05-27 13:45:02+00:00</th>\n",
       "      <td>3799</td>\n",
       "      <td>3799</td>\n",
       "      <td>626</td>\n",
       "      <td>5</td>\n",
       "      <td>29453</td>\n",
       "      <td>open source</td>\n",
       "    </tr>\n",
       "    <tr>\n",
       "      <th>2018-09-13 04:43:31+00:00</th>\n",
       "      <td>1802</td>\n",
       "      <td>1802</td>\n",
       "      <td>615</td>\n",
       "      <td>11</td>\n",
       "      <td>4544</td>\n",
       "      <td>open source</td>\n",
       "    </tr>\n",
       "    <tr>\n",
       "      <th>2018-11-22 05:19:30+00:00</th>\n",
       "      <td>8844</td>\n",
       "      <td>8844</td>\n",
       "      <td>592</td>\n",
       "      <td>75</td>\n",
       "      <td>37143</td>\n",
       "      <td>open source</td>\n",
       "    </tr>\n",
       "    <tr>\n",
       "      <th>2018-05-22 08:38:38+00:00</th>\n",
       "      <td>561</td>\n",
       "      <td>561</td>\n",
       "      <td>586</td>\n",
       "      <td>65</td>\n",
       "      <td>99869</td>\n",
       "      <td>open source</td>\n",
       "    </tr>\n",
       "    <tr>\n",
       "      <th>2018-10-01 20:19:22+00:00</th>\n",
       "      <td>222</td>\n",
       "      <td>222</td>\n",
       "      <td>571</td>\n",
       "      <td>478</td>\n",
       "      <td>285</td>\n",
       "      <td>open source</td>\n",
       "    </tr>\n",
       "  </tbody>\n",
       "</table>\n",
       "<p>112 rows × 6 columns</p>\n",
       "</div>"
      ],
      "text/plain": [
       "                           stargazers_count  watchers_count  forks_count  \\\n",
       "created_at                                                                 \n",
       "2020-02-27 07:11:46+00:00              3029            3029          727   \n",
       "2020-05-01 07:45:20+00:00              1797            1797          616   \n",
       "2020-02-11 08:43:48+00:00              1780            1780          341   \n",
       "2020-02-24 23:59:44+00:00              1990            1990          336   \n",
       "2020-02-11 08:43:48+00:00              1780            1780          341   \n",
       "...                                     ...             ...          ...   \n",
       "2018-05-27 13:45:02+00:00              3799            3799          626   \n",
       "2018-09-13 04:43:31+00:00              1802            1802          615   \n",
       "2018-11-22 05:19:30+00:00              8844            8844          592   \n",
       "2018-05-22 08:38:38+00:00               561             561          586   \n",
       "2018-10-01 20:19:22+00:00               222             222          571   \n",
       "\n",
       "                           open_issues_count    size           tech  \n",
       "created_at                                                           \n",
       "2020-02-27 07:11:46+00:00                  4   33326  deep learning  \n",
       "2020-05-01 07:45:20+00:00                  5   60234  deep learning  \n",
       "2020-02-11 08:43:48+00:00                 46  284855  deep learning  \n",
       "2020-02-24 23:59:44+00:00                  2    3555  deep learning  \n",
       "2020-02-11 08:43:48+00:00                 46  284855  deep learning  \n",
       "...                                      ...     ...            ...  \n",
       "2018-05-27 13:45:02+00:00                  5   29453    open source  \n",
       "2018-09-13 04:43:31+00:00                 11    4544    open source  \n",
       "2018-11-22 05:19:30+00:00                 75   37143    open source  \n",
       "2018-05-22 08:38:38+00:00                 65   99869    open source  \n",
       "2018-10-01 20:19:22+00:00                478     285    open source  \n",
       "\n",
       "[112 rows x 6 columns]"
      ]
     },
     "execution_count": 291,
     "metadata": {},
     "output_type": "execute_result"
    }
   ],
   "source": [
    "new_filter_df = pd.concat([tmpdf1, tmpdf2], axis=0)\n",
    "new_filter_df"
   ]
  },
  {
   "cell_type": "code",
   "execution_count": 292,
   "metadata": {},
   "outputs": [
    {
     "data": {
      "text/html": [
       "<div>\n",
       "<style scoped>\n",
       "    .dataframe tbody tr th:only-of-type {\n",
       "        vertical-align: middle;\n",
       "    }\n",
       "\n",
       "    .dataframe tbody tr th {\n",
       "        vertical-align: top;\n",
       "    }\n",
       "\n",
       "    .dataframe thead th {\n",
       "        text-align: right;\n",
       "    }\n",
       "</style>\n",
       "<table border=\"1\" class=\"dataframe\">\n",
       "  <thead>\n",
       "    <tr style=\"text-align: right;\">\n",
       "      <th></th>\n",
       "      <th>stargazers_count</th>\n",
       "      <th>watchers_count</th>\n",
       "      <th>forks_count</th>\n",
       "      <th>open_issues_count</th>\n",
       "      <th>size</th>\n",
       "    </tr>\n",
       "    <tr>\n",
       "      <th>tech</th>\n",
       "      <th></th>\n",
       "      <th></th>\n",
       "      <th></th>\n",
       "      <th></th>\n",
       "      <th></th>\n",
       "    </tr>\n",
       "  </thead>\n",
       "  <tbody>\n",
       "    <tr>\n",
       "      <th>deep learning</th>\n",
       "      <td>3532.269841</td>\n",
       "      <td>3532.269841</td>\n",
       "      <td>1175.126984</td>\n",
       "      <td>46.142857</td>\n",
       "      <td>74500.015873</td>\n",
       "    </tr>\n",
       "    <tr>\n",
       "      <th>open source</th>\n",
       "      <td>2540.000000</td>\n",
       "      <td>2540.000000</td>\n",
       "      <td>662.387755</td>\n",
       "      <td>142.061224</td>\n",
       "      <td>148103.224490</td>\n",
       "    </tr>\n",
       "  </tbody>\n",
       "</table>\n",
       "</div>"
      ],
      "text/plain": [
       "               stargazers_count  watchers_count  forks_count  \\\n",
       "tech                                                           \n",
       "deep learning       3532.269841     3532.269841  1175.126984   \n",
       "open source         2540.000000     2540.000000   662.387755   \n",
       "\n",
       "               open_issues_count           size  \n",
       "tech                                             \n",
       "deep learning          46.142857   74500.015873  \n",
       "open source           142.061224  148103.224490  "
      ]
     },
     "execution_count": 292,
     "metadata": {},
     "output_type": "execute_result"
    }
   ],
   "source": [
    "## Computing statistics\n",
    "new_filter_df.groupby(\"tech\").mean()"
   ]
  },
  {
   "cell_type": "code",
   "execution_count": 293,
   "metadata": {},
   "outputs": [
    {
     "data": {
      "text/html": [
       "<div>\n",
       "<style scoped>\n",
       "    .dataframe tbody tr th:only-of-type {\n",
       "        vertical-align: middle;\n",
       "    }\n",
       "\n",
       "    .dataframe tbody tr th {\n",
       "        vertical-align: top;\n",
       "    }\n",
       "\n",
       "    .dataframe thead th {\n",
       "        text-align: right;\n",
       "    }\n",
       "</style>\n",
       "<table border=\"1\" class=\"dataframe\">\n",
       "  <thead>\n",
       "    <tr style=\"text-align: right;\">\n",
       "      <th></th>\n",
       "      <th>stargazers_count</th>\n",
       "      <th>watchers_count</th>\n",
       "      <th>forks_count</th>\n",
       "      <th>open_issues_count</th>\n",
       "      <th>size</th>\n",
       "    </tr>\n",
       "    <tr>\n",
       "      <th>tech</th>\n",
       "      <th></th>\n",
       "      <th></th>\n",
       "      <th></th>\n",
       "      <th></th>\n",
       "      <th></th>\n",
       "    </tr>\n",
       "  </thead>\n",
       "  <tbody>\n",
       "    <tr>\n",
       "      <th>deep learning</th>\n",
       "      <td>11</td>\n",
       "      <td>11</td>\n",
       "      <td>97</td>\n",
       "      <td>0</td>\n",
       "      <td>0</td>\n",
       "    </tr>\n",
       "    <tr>\n",
       "      <th>open source</th>\n",
       "      <td>4</td>\n",
       "      <td>4</td>\n",
       "      <td>112</td>\n",
       "      <td>0</td>\n",
       "      <td>222</td>\n",
       "    </tr>\n",
       "  </tbody>\n",
       "</table>\n",
       "</div>"
      ],
      "text/plain": [
       "               stargazers_count  watchers_count  forks_count  \\\n",
       "tech                                                           \n",
       "deep learning                11              11           97   \n",
       "open source                   4               4          112   \n",
       "\n",
       "               open_issues_count  size  \n",
       "tech                                    \n",
       "deep learning                  0     0  \n",
       "open source                    0   222  "
      ]
     },
     "execution_count": 293,
     "metadata": {},
     "output_type": "execute_result"
    }
   ],
   "source": [
    "new_filter_df.groupby(\"tech\").min()"
   ]
  },
  {
   "cell_type": "code",
   "execution_count": 294,
   "metadata": {},
   "outputs": [
    {
     "data": {
      "text/html": [
       "<div>\n",
       "<style scoped>\n",
       "    .dataframe tbody tr th:only-of-type {\n",
       "        vertical-align: middle;\n",
       "    }\n",
       "\n",
       "    .dataframe tbody tr th {\n",
       "        vertical-align: top;\n",
       "    }\n",
       "\n",
       "    .dataframe thead th {\n",
       "        text-align: right;\n",
       "    }\n",
       "</style>\n",
       "<table border=\"1\" class=\"dataframe\">\n",
       "  <thead>\n",
       "    <tr style=\"text-align: right;\">\n",
       "      <th></th>\n",
       "      <th>stargazers_count</th>\n",
       "      <th>watchers_count</th>\n",
       "      <th>forks_count</th>\n",
       "      <th>open_issues_count</th>\n",
       "      <th>size</th>\n",
       "    </tr>\n",
       "    <tr>\n",
       "      <th>tech</th>\n",
       "      <th></th>\n",
       "      <th></th>\n",
       "      <th></th>\n",
       "      <th></th>\n",
       "      <th></th>\n",
       "    </tr>\n",
       "  </thead>\n",
       "  <tbody>\n",
       "    <tr>\n",
       "      <th>deep learning</th>\n",
       "      <td>12463</td>\n",
       "      <td>12463</td>\n",
       "      <td>8425</td>\n",
       "      <td>288</td>\n",
       "      <td>958326</td>\n",
       "    </tr>\n",
       "    <tr>\n",
       "      <th>open source</th>\n",
       "      <td>8844</td>\n",
       "      <td>8844</td>\n",
       "      <td>1910</td>\n",
       "      <td>1016</td>\n",
       "      <td>1896062</td>\n",
       "    </tr>\n",
       "  </tbody>\n",
       "</table>\n",
       "</div>"
      ],
      "text/plain": [
       "               stargazers_count  watchers_count  forks_count  \\\n",
       "tech                                                           \n",
       "deep learning             12463           12463         8425   \n",
       "open source                8844            8844         1910   \n",
       "\n",
       "               open_issues_count     size  \n",
       "tech                                       \n",
       "deep learning                288   958326  \n",
       "open source                 1016  1896062  "
      ]
     },
     "execution_count": 294,
     "metadata": {},
     "output_type": "execute_result"
    }
   ],
   "source": [
    "new_filter_df.groupby(\"tech\").max()"
   ]
  },
  {
   "cell_type": "markdown",
   "metadata": {},
   "source": [
    "##### Comparisions"
   ]
  },
  {
   "cell_type": "code",
   "execution_count": 282,
   "metadata": {},
   "outputs": [
    {
     "data": {
      "text/plain": [
       "{'open source': 'red', 'deep learning': 'blue'}"
      ]
     },
     "execution_count": 282,
     "metadata": {},
     "output_type": "execute_result"
    }
   ],
   "source": [
    "dict(zip(set(new_df[\"tech\"]), [\"red\", \"blue\"]))"
   ]
  },
  {
   "cell_type": "code",
   "execution_count": 306,
   "metadata": {},
   "outputs": [],
   "source": [
    "# print(new_df.shape)\n",
    "# print(new_filter_df.shape)"
   ]
  },
  {
   "cell_type": "code",
   "execution_count": 307,
   "metadata": {},
   "outputs": [
    {
     "data": {
      "image/png": "[encoded data removed]",
      "text/plain": [
       "<Figure size 432x288 with 1 Axes>"
      ]
     },
     "metadata": {
      "needs_background": "light"
     },
     "output_type": "display_data"
    }
   ],
   "source": [
    "## Forks vs Open issues\n",
    "dx = new_filter_df[\"forks_count\"]\n",
    "dy = new_filter_df[\"open_issues_count\"]\n",
    "\n",
    "fig, ax = plt.subplots()\n",
    "colors = dict(zip(set(new_filter_df[\"tech\"]), [\"red\", \"blue\"]))\n",
    "ax.scatter(x=dx, y=dy, c = new_filter_df[\"tech\"].apply(lambda x:colors[x]), s=200, alpha=0.5)\n",
    "ax.set(title=\"Deep Learning and Open Source Technologies\", xlabel=\"Number of forks\", ylabel=\"Number of open issues\")\n",
    "\n",
    "plt.show()"
   ]
  },
  {
   "cell_type": "code",
   "execution_count": 309,
   "metadata": {
    "scrolled": true
   },
   "outputs": [
    {
     "data": {
      "image/png": "[encoded data removed]",
      "text/plain": [
       "<Figure size 432x288 with 1 Axes>"
      ]
     },
     "metadata": {
      "needs_background": "light"
     },
     "output_type": "display_data"
    }
   ],
   "source": [
    "## Forks vs Size\n",
    "dx = new_filter_df[\"forks_count\"]\n",
    "dy = new_filter_df[\"size\"]\n",
    "\n",
    "fig, ax = plt.subplots()\n",
    "colors = dict(zip(set(new_filter_df[\"tech\"]), [\"red\", \"blue\"]))\n",
    "ax.scatter(x=dx, y=dy, c = new_filter_df[\"tech\"].apply(lambda x:colors[x]), s=200, alpha=0.5)\n",
    "ax.set(title=\"Deep Learning and Open Source Technologies\", xlabel=\"Number of forks\", ylabel=\"Repo size\")\n",
    "\n",
    "plt.show()"
   ]
  },
  {
   "cell_type": "code",
   "execution_count": 310,
   "metadata": {},
   "outputs": [
    {
     "data": {
      "image/png": "[encoded data removed]",
      "text/plain": [
       "<Figure size 432x288 with 1 Axes>"
      ]
     },
     "metadata": {
      "needs_background": "light"
     },
     "output_type": "display_data"
    }
   ],
   "source": [
    "## Forks vs Watchers\n",
    "dx = new_filter_df[\"forks_count\"]\n",
    "dy = new_filter_df[\"watchers_count\"]\n",
    "\n",
    "fig, ax = plt.subplots()\n",
    "colors = dict(zip(set(new_filter_df[\"tech\"]), [\"red\", \"blue\"]))\n",
    "ax.scatter(x=dx, y=dy, c = new_filter_df[\"tech\"].apply(lambda x:colors[x]), s=200, alpha=0.5)\n",
    "ax.set(title=\"Deep Learning and Open Source Technologies\", xlabel=\"Number of forks\", ylabel=\"Number of watchers\")\n",
    "\n",
    "plt.show()"
   ]
  },
  {
   "cell_type": "code",
   "execution_count": 314,
   "metadata": {},
   "outputs": [
    {
     "data": {
      "image/png": "[encoded data removed]",
      "text/plain": [
       "<Figure size 432x288 with 1 Axes>"
      ]
     },
     "metadata": {
      "needs_background": "light"
     },
     "output_type": "display_data"
    }
   ],
   "source": [
    "## Forks vs stars\n",
    "dx = new_filter_df[\"forks_count\"]\n",
    "dy = new_filter_df[\"stargazers_count\"]\n",
    "\n",
    "fig, ax = plt.subplots()\n",
    "colors = dict(zip(set(new_filter_df[\"tech\"]), [\"red\", \"blue\"]))\n",
    "ax.scatter(x=dx, y=dy, c = new_filter_df[\"tech\"].apply(lambda x:colors[x]), s=200, alpha=0.5)\n",
    "ax.set(title=\"Deep Learning and Open Source Technologies\", xlabel=\"Number of forks\", ylabel=\"Number of stars\")\n",
    "\n",
    "plt.show()"
   ]
  },
  {
   "cell_type": "code",
   "execution_count": 311,
   "metadata": {},
   "outputs": [
    {
     "data": {
      "image/png": "[encoded data removed]",
      "text/plain": [
       "<Figure size 432x288 with 1 Axes>"
      ]
     },
     "metadata": {
      "needs_background": "light"
     },
     "output_type": "display_data"
    }
   ],
   "source": [
    "## Open issuues vs Size\n",
    "dx = new_filter_df[\"open_issues_count\"]\n",
    "dy = new_filter_df[\"size\"]\n",
    "\n",
    "fig, ax = plt.subplots()\n",
    "colors = dict(zip(set(new_filter_df[\"tech\"]), [\"red\", \"blue\"]))\n",
    "ax.scatter(x=dx, y=dy, c = new_filter_df[\"tech\"].apply(lambda x:colors[x]), s=200, alpha=0.5)\n",
    "ax.set(title=\"Deep Learning and Open Source Technologies\", xlabel=\"Number of open issues\", ylabel=\"Repo size\")\n",
    "\n",
    "plt.show()"
   ]
  },
  {
   "cell_type": "code",
   "execution_count": 312,
   "metadata": {},
   "outputs": [
    {
     "data": {
      "image/png": "[encoded data removed]",
      "text/plain": [
       "<Figure size 432x288 with 1 Axes>"
      ]
     },
     "metadata": {
      "needs_background": "light"
     },
     "output_type": "display_data"
    }
   ],
   "source": [
    "## Open issuues vs Watchers\n",
    "dx = new_filter_df[\"open_issues_count\"]\n",
    "dy = new_filter_df[\"watchers_count\"]\n",
    "\n",
    "fig, ax = plt.subplots()\n",
    "colors = dict(zip(set(new_filter_df[\"tech\"]), [\"red\", \"blue\"]))\n",
    "ax.scatter(x=dx, y=dy, c = new_filter_df[\"tech\"].apply(lambda x:colors[x]), s=200, alpha=0.5)\n",
    "ax.set(title=\"Deep Learning and Open Source Technologies\", xlabel=\"Number of open issues\", ylabel=\"No of watchers\")\n",
    "\n",
    "plt.show()"
   ]
  },
  {
   "cell_type": "code",
   "execution_count": 315,
   "metadata": {},
   "outputs": [
    {
     "data": {
      "image/png": "[encoded data removed]",
      "text/plain": [
       "<Figure size 432x288 with 1 Axes>"
      ]
     },
     "metadata": {
      "needs_background": "light"
     },
     "output_type": "display_data"
    }
   ],
   "source": [
    "## Open issuues vs stars\n",
    "dx = new_filter_df[\"open_issues_count\"]\n",
    "dy = new_filter_df[\"stargazers_count\"]\n",
    "\n",
    "fig, ax = plt.subplots()\n",
    "colors = dict(zip(set(new_filter_df[\"tech\"]), [\"red\", \"blue\"]))\n",
    "ax.scatter(x=dx, y=dy, c = new_filter_df[\"tech\"].apply(lambda x:colors[x]), s=200, alpha=0.5)\n",
    "ax.set(title=\"Deep Learning and Open Source Technologies\", xlabel=\"Number of open issues\", ylabel=\"No of stars\")\n",
    "\n",
    "plt.show()"
   ]
  },
  {
   "cell_type": "code",
   "execution_count": 313,
   "metadata": {},
   "outputs": [
    {
     "data": {
      "image/png": "[encoded data removed]",
      "text/plain": [
       "<Figure size 432x288 with 1 Axes>"
      ]
     },
     "metadata": {
      "needs_background": "light"
     },
     "output_type": "display_data"
    }
   ],
   "source": [
    "## Size vs Watchers\n",
    "dx = new_filter_df[\"size\"]\n",
    "dy = new_filter_df[\"watchers_count\"]\n",
    "\n",
    "fig, ax = plt.subplots()\n",
    "colors = dict(zip(set(new_filter_df[\"tech\"]), [\"red\", \"blue\"]))\n",
    "ax.scatter(x=dx, y=dy, c = new_filter_df[\"tech\"].apply(lambda x:colors[x]), s=200, alpha=0.5)\n",
    "ax.set(title=\"Deep Learning and Open Source Technologies\", xlabel=\"Repo size\", ylabel=\"No of watchers\")\n",
    "\n",
    "plt.show()"
   ]
  },
  {
   "cell_type": "code",
   "execution_count": 316,
   "metadata": {},
   "outputs": [
    {
     "data": {
      "image/png": "[encoded data removed]",
      "text/plain": [
       "<Figure size 432x288 with 1 Axes>"
      ]
     },
     "metadata": {
      "needs_background": "light"
     },
     "output_type": "display_data"
    }
   ],
   "source": [
    "## Size vs Stars\n",
    "dx = new_filter_df[\"size\"]\n",
    "dy = new_filter_df[\"stargazers_count\"]\n",
    "\n",
    "fig, ax = plt.subplots()\n",
    "colors = dict(zip(set(new_filter_df[\"tech\"]), [\"red\", \"blue\"]))\n",
    "ax.scatter(x=dx, y=dy, c = new_filter_df[\"tech\"].apply(lambda x:colors[x]), s=200, alpha=0.5)\n",
    "ax.set(title=\"Deep Learning and Open Source Technologies\", xlabel=\"Repo size\", ylabel=\"No of stars\")\n",
    "\n",
    "plt.show()"
   ]
  },
  {
   "cell_type": "code",
   "execution_count": 317,
   "metadata": {},
   "outputs": [
    {
     "data": {
      "image/png": "[encoded data removed]",
      "text/plain": [
       "<Figure size 432x288 with 1 Axes>"
      ]
     },
     "metadata": {
      "needs_background": "light"
     },
     "output_type": "display_data"
    }
   ],
   "source": [
    "## Watchers vs Stars\n",
    "dx = new_filter_df[\"watchers_count\"]\n",
    "dy = new_filter_df[\"stargazers_count\"]\n",
    "\n",
    "fig, ax = plt.subplots()\n",
    "colors = dict(zip(set(new_filter_df[\"tech\"]), [\"red\", \"blue\"]))\n",
    "ax.scatter(x=dx, y=dy, c = new_filter_df[\"tech\"].apply(lambda x:colors[x]), s=200, alpha=0.5)\n",
    "ax.set(title=\"Deep Learning and Open Source Technologies\", xlabel=\"No of watchers\", ylabel=\"No of stars\")\n",
    "\n",
    "plt.show()"
   ]
  },
  {
   "cell_type": "markdown",
   "metadata": {},
   "source": [
    "##### trash"
   ]
  },
  {
   "cell_type": "code",
   "execution_count": 127,
   "metadata": {},
   "outputs": [],
   "source": [
    "# convert clean descrpitons to list of tokens\n",
    "list_doc = df[\"clean\"].apply(lambda x:x.split()).to_list()\n",
    "\n",
    "## Anlaysis on docs\n",
    "bigram_measures = nltk.collocations.BigramAssocMeasures()\n",
    "bigram_finder = BigramCollocationFinder.from_documents(list_doc)\n",
    "\n",
    "bigram_finder.apply_freq_filter(3)\n",
    "\n",
    "bigrams = bigram_finder.nbest(bigram_measures.raw_freq, 100)"
   ]
  },
  {
   "cell_type": "code",
   "execution_count": 131,
   "metadata": {},
   "outputs": [],
   "source": [
    "## getting all of the technologies\n",
    "technologies = []\n",
    "for tup in bigrams[:20]:\n",
    "    technologies.append(\" \".join(tup))"
   ]
  },
  {
   "cell_type": "markdown",
   "metadata": {},
   "source": [
    "#####  Saving data"
   ]
  },
  {
   "cell_type": "code",
   "execution_count": 50,
   "metadata": {},
   "outputs": [],
   "source": [
    "## saving data to csv file\n",
    "df.to_csv(\"../data/gh-data.csv\")"
   ]
  },
  {
   "cell_type": "code",
   "execution_count": 52,
   "metadata": {},
   "outputs": [],
   "source": [
    "## loading data\n",
    "df = pd.read_csv(\"../data/gh-data.csv\")"
   ]
  },
  {
   "cell_type": "code",
   "execution_count": null,
   "metadata": {},
   "outputs": [],
   "source": [
    "## for mutltiple years \n",
    "# new_df[\"year\"] = new_df[\"created_at\"].apply(lambda x:x.split(\"T\")[0].split(\"-\")[0])"
   ]
  },
  {
   "cell_type": "code",
   "execution_count": null,
   "metadata": {},
   "outputs": [],
   "source": [
    "# print(f\"Data count each year\\n2020: {(new_df['year'] == '2020').sum()}\\n2019: {(new_df['year'] == '2019').sum()}\\n2018: {(new_df['year'] == '2018').sum()}\")"
   ]
  }
 ],
 "metadata": {
  "kernelspec": {
   "display_name": "Python 3",
   "language": "python",
   "name": "python3"
  },
  "language_info": {
   "codemirror_mode": {
    "name": "ipython",
    "version": 3
   },
   "file_extension": ".py",
   "mimetype": "text/x-python",
   "name": "python",
   "nbconvert_exporter": "python",
   "pygments_lexer": "ipython3",
   "version": "3.8.6"
  }
 },
 "nbformat": 4,
 "nbformat_minor": 4
}
